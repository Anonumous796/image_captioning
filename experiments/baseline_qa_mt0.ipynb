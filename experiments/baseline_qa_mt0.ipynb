{
 "cells": [
  {
   "cell_type": "code",
   "execution_count": 1,
   "metadata": {},
   "outputs": [
    {
     "data": {
      "text/plain": [
       "12.15966796875"
      ]
     },
     "execution_count": 1,
     "metadata": {},
     "output_type": "execute_result"
    }
   ],
   "source": [
    "import torch\n",
    "torch.cuda.mem_get_info()[0] / 1024**3"
   ]
  },
  {
   "cell_type": "markdown",
   "metadata": {
    "id": "Sr02cZy9qruB",
    "jp-MarkdownHeadingCollapsed": true,
    "tags": []
   },
   "source": [
    "# Установим все что нужно"
   ]
  },
  {
   "cell_type": "code",
   "execution_count": 2,
   "metadata": {
    "id": "Lfqn0JUzp_mq"
   },
   "outputs": [],
   "source": [
    "%%capture\n",
    "!pip install wandb\n",
    "!pip install transformers==4.26.1\n",
    "# !pip install git+https://github.com/huggingface/transformers\n",
    "!pip install git+https://github.com/openai/CLIP.git\n",
    "!pip install nltk"
   ]
  },
  {
   "cell_type": "code",
   "execution_count": 3,
   "metadata": {
    "id": "qN1_9NDBgNY3"
   },
   "outputs": [
    {
     "name": "stderr",
     "output_type": "stream",
     "text": [
      "[nltk_data] Downloading package wordnet to /home/alexw/nltk_data...\n",
      "[nltk_data]   Package wordnet is already up-to-date!\n",
      "[nltk_data] Downloading package omw-1.4 to /home/alexw/nltk_data...\n",
      "[nltk_data]   Package omw-1.4 is already up-to-date!\n"
     ]
    },
    {
     "data": {
      "text/plain": [
       "True"
      ]
     },
     "execution_count": 3,
     "metadata": {},
     "output_type": "execute_result"
    }
   ],
   "source": [
    "import nltk\n",
    "\n",
    "nltk.download('wordnet')\n",
    "nltk.download('omw-1.4')"
   ]
  },
  {
   "cell_type": "code",
   "execution_count": 4,
   "metadata": {
    "colab": {
     "base_uri": "https://localhost:8080/"
    },
    "id": "ntv7bT5CuArw",
    "outputId": "6cf60016-359b-4a9a-cfc3-ea5ac2ec2ec2"
   },
   "outputs": [
    {
     "name": "stdout",
     "output_type": "stream",
     "text": [
      "Looking in indexes: https://pypi.org/simple, https://pypi.ngc.nvidia.com\n",
      "Requirement already satisfied: bitsandbytes in /home/alexw/.local/lib/python3.8/site-packages (0.34.0)\n"
     ]
    }
   ],
   "source": [
    "!pip install bitsandbytes"
   ]
  },
  {
   "cell_type": "markdown",
   "metadata": {
    "id": "9OF4wBSprQrn",
    "tags": []
   },
   "source": [
    "# setup loger"
   ]
  },
  {
   "cell_type": "code",
   "execution_count": 5,
   "metadata": {},
   "outputs": [
    {
     "name": "stderr",
     "output_type": "stream",
     "text": [
      "Failed to detect the name of this notebook, you can set it manually with the WANDB_NOTEBOOK_NAME environment variable to enable code saving.\n",
      "\u001b[34m\u001b[1mwandb\u001b[0m: Currently logged in as: \u001b[33megoluback\u001b[0m (\u001b[33mhse_image_captioning_spring_project\u001b[0m). Use \u001b[1m`wandb login --relogin`\u001b[0m to force relogin\n"
     ]
    },
    {
     "data": {
      "text/plain": [
       "True"
      ]
     },
     "execution_count": 5,
     "metadata": {},
     "output_type": "execute_result"
    }
   ],
   "source": [
    "import wandb\n",
    "wandb.login()"
   ]
  },
  {
   "cell_type": "markdown",
   "metadata": {
    "id": "cuJHJbAD5SJB",
    "jp-MarkdownHeadingCollapsed": true,
    "tags": []
   },
   "source": [
    "# Загрузим данные"
   ]
  },
  {
   "cell_type": "markdown",
   "metadata": {
    "jp-MarkdownHeadingCollapsed": true,
    "tags": []
   },
   "source": [
    "## wiki data"
   ]
  },
  {
   "cell_type": "code",
   "execution_count": 5,
   "metadata": {
    "colab": {
     "background_save": true
    },
    "id": "MDb2vpSfujFA",
    "tags": []
   },
   "outputs": [
    {
     "data": {
      "text/plain": [
       "Int64Index([    0,     5,     8,    15,    16,    22,    23,    30,    32,\n",
       "               33,\n",
       "            ...\n",
       "            27527, 27528, 27531, 27532, 27534, 27535, 27539, 27540, 27541,\n",
       "            27545],\n",
       "           dtype='int64', name='Unnamed: 0', length=9278)"
      ]
     },
     "execution_count": 5,
     "metadata": {},
     "output_type": "execute_result"
    }
   ],
   "source": [
    "import pandas as pd\n",
    "\n",
    "df = pd.read_csv('data/wiki_dataset/rus_wikitext_10k_caption_reference_description_train.csv', index_col=0)\n",
    "\n",
    "df.index"
   ]
  },
  {
   "cell_type": "markdown",
   "metadata": {
    "jp-MarkdownHeadingCollapsed": true,
    "tags": []
   },
   "source": [
    "## coco data"
   ]
  },
  {
   "cell_type": "code",
   "execution_count": null,
   "metadata": {},
   "outputs": [],
   "source": [
    "import torchvision.datasets as dset"
   ]
  },
  {
   "cell_type": "code",
   "execution_count": null,
   "metadata": {},
   "outputs": [
    {
     "name": "stdout",
     "output_type": "stream",
     "text": [
      "loading annotations into memory...\n",
      "Done (t=0.96s)\n",
      "creating index...\n",
      "index created!\n"
     ]
    }
   ],
   "source": [
    "coco_train = dset.CocoDetection(root = \"data/coco_dataset/train2017\",\n",
    "                                annFile = \"data/coco_dataset/annotations/captions_train2017.json\")"
   ]
  },
  {
   "cell_type": "code",
   "execution_count": null,
   "metadata": {},
   "outputs": [
    {
     "data": {
      "text/plain": [
       "Dataset CocoDetection\n",
       "    Number of datapoints: 118287\n",
       "    Root location: data/coco_dataset/train2017"
      ]
     },
     "execution_count": 27,
     "metadata": {},
     "output_type": "execute_result"
    }
   ],
   "source": [
    "coco_train"
   ]
  },
  {
   "cell_type": "markdown",
   "metadata": {
    "id": "3aw6fIYF5tqm",
    "tags": []
   },
   "source": [
    "# Код модели"
   ]
  },
  {
   "cell_type": "code",
   "execution_count": 6,
   "metadata": {
    "id": "HMJmWwopulkH"
   },
   "outputs": [],
   "source": [
    "import torch\n",
    "import torch.nn as nn\n",
    "from torch.nn import functional as nnf\n",
    "from torch.utils.data import Dataset, DataLoader\n",
    "from transformers import AutoModelForSeq2SeqLM, AutoTokenizer\n",
    "# from transformers import GPT2Tokenizer, GPT2LMHeadModel\n",
    "from transformers import AdamW, get_linear_schedule_with_warmup\n",
    "from tqdm import tqdm, trange\n",
    "import os\n",
    "import pickle\n",
    "import sys\n",
    "import argparse\n",
    "import json\n",
    "from typing import Tuple, Optional, Union\n",
    "from torch.cuda.amp import autocast\n",
    "\n",
    "import clip\n",
    "\n",
    "\n",
    "class MLP(nn.Module):\n",
    "    def __init__(self, sizes: Tuple[int, ...], bias=True, act=nn.Tanh):\n",
    "        super(MLP, self).__init__()\n",
    "        layers = []\n",
    "        for i in range(len(sizes) - 1):\n",
    "            layers.append(nn.Linear(sizes[i], sizes[i + 1], bias=bias))\n",
    "            if i < len(sizes) - 2:\n",
    "                layers.append(act())\n",
    "        self.model = nn.Sequential(*layers)\n",
    "    \n",
    "    #@autocast()  \n",
    "    def forward(self, x: torch.Tensor) -> torch.Tensor:\n",
    "        return self.model(x)\n",
    "\n",
    "    \n",
    "def freeze(\n",
    "    model,\n",
    "    freeze_emb=False,\n",
    "    freeze_ln=False,\n",
    "    freeze_attn=True,\n",
    "    freeze_ff=True,\n",
    "    freeze_other=False,\n",
    "):\n",
    "    \n",
    "    for name, p in model.named_parameters():\n",
    "    # freeze all parameters except the layernorm and positional embeddings\n",
    "       \n",
    "        name = name.lower()\n",
    "        if 'ln' in name or 'norm' in name:\n",
    "            p.requires_grad = not freeze_ln\n",
    "        elif 'embeddings' in name:\n",
    "            p.requires_grad = not freeze_emb\n",
    "        elif 'mlp' in name:\n",
    "            p.requires_grad = not freeze_ff\n",
    "        elif 'attn' in name:\n",
    "            p.requires_grad = not freeze_attn\n",
    "        else:\n",
    "            p.requires_grad = not freeze_other\n",
    "           \n",
    "    return model\n",
    "\n",
    "class ClipCaptionModel(nn.Module):\n",
    "    def __init__(self, prefix_length: int, start_token_id: int, prefix_size: int = 768):\n",
    "          super(ClipCaptionModel, self).__init__()\n",
    "          self.prefix_length = prefix_length\n",
    "          \"\"\"\n",
    "          ru gpts shit\n",
    "          \n",
    "          \"\"\"\n",
    "          # self.gpt = GPT2LMHeadModel.from_pretrained('sberbank-ai/rugpt3small_based_on_gpt2')\n",
    "          self.gpt = AutoModelForSeq2SeqLM.from_pretrained('bigscience/mt0-small')\n",
    "          \n",
    "          # self.gpt_embedding_size = self.gpt.transformer.wte.weight.shape[1]\n",
    "          self.gpt_embedding_size = self.gpt.get_input_embeddings().weight.shape[1]\n",
    "          self.clip_project = MLP((prefix_size, (self.gpt_embedding_size * prefix_length) // 2,\n",
    "                                  self.gpt_embedding_size * prefix_length))\n",
    "          self.start_token = torch.tensor([[0]])\n",
    "        \n",
    "    def get_dummy_token(self, batch_size: int, device: torch.device) -> torch.Tensor:\n",
    "        return torch.zeros(batch_size, self.prefix_length, dtype=torch.int64, device=device)\n",
    "    \n",
    "    #@autocast() \n",
    "    def forward(self, tokens: torch.Tensor, prefix: torch.Tensor, mask: Optional[torch.Tensor] = None,\n",
    "                labels: Optional[torch.Tensor] = None):\n",
    "        embedding_text = self.gpt.get_input_embeddings()(tokens)\n",
    "        # embedding_text = self.gpt.transformer.wte(tokens)\n",
    "        \n",
    "        prefix_projections = self.clip_project(prefix.float()).view(-1, self.prefix_length, self.gpt_embedding_size)\n",
    "\n",
    "        embedding_cat = torch.cat((prefix_projections, embedding_text), dim=1)\n",
    "        if labels is not None:\n",
    "            dummy_token = self.get_dummy_token(tokens.shape[0], tokens.device)\n",
    "            labels = torch.cat((dummy_token, tokens), dim=1)\n",
    "            decoder_inputs_embeds = self.gpt._shift_right(labels)\n",
    "        else:\n",
    "            start_token_embedding = self.gpt.get_input_embeddings()(self.start_token.to('cuda:0'))\n",
    "            decoder_inputs_embeds = start_token_embedding.expand([prefix_projections.shape[0], embedding_cat.shape[1], self.gpt_embedding_size])\n",
    "        out = self.gpt(inputs_embeds=embedding_cat, labels=labels, attention_mask=mask, decoder_inputs_embeds=decoder_inputs_embeds)\n",
    "        # out = self.gpt(inputs_embeds=embedding_cat, labels=labels, attention_mask=mask)\n",
    "        \n",
    "        return out\n",
    "\n",
    "\n",
    "class ClipCaptionPrefix(ClipCaptionModel):\n",
    "\n",
    "    def parameters(self, recurse: bool = True):\n",
    "        return self.clip_project.parameters()\n",
    "\n",
    "    def train(self, mode: bool = True):\n",
    "        super(ClipCaptionPrefix, self).train(mode)\n",
    "        self.gpt.eval()\n",
    "        return self\n",
    "#sberbank-ai/rugpt3small_based_on_gpt2"
   ]
  },
  {
   "cell_type": "markdown",
   "metadata": {
    "id": "ZJSkdN-4us_I",
    "tags": []
   },
   "source": [
    "# Подготовим данные"
   ]
  },
  {
   "cell_type": "code",
   "execution_count": 7,
   "metadata": {
    "colab": {
     "background_save": true,
     "base_uri": "https://localhost:8080/",
     "height": 178,
     "referenced_widgets": [
      "e79cd3ed7e594b878fed850889aef498",
      "2d71ebf4fab64597b0e68f66bd483612",
      "d86b19053ecf458e94eaefb05d1e7888"
     ]
    },
    "id": "3fH4sAdJuqYO",
    "outputId": "4c47d541-257c-43d2-e184-9e7c0978e786"
   },
   "outputs": [],
   "source": [
    "device = 'cuda:0'\n",
    "clip_model, preprocess = clip.load(\"ViT-L/14@336px\", device=device, jit=False)\n",
    "\n",
    "# tokenizer = GPT2Tokenizer.from_pretrained('sberbank-ai/rugpt3small_based_on_gpt2')\n",
    "tokenizer = AutoTokenizer.from_pretrained('bigscience/mt0-small')"
   ]
  },
  {
   "cell_type": "code",
   "execution_count": 8,
   "metadata": {
    "id": "naSVUN-GwYRv"
   },
   "outputs": [],
   "source": [
    "import io\n",
    "import os\n",
    "import PIL\n",
    "import random\n",
    "import numpy as np\n",
    "import torch\n",
    "import torchvision\n",
    "import transformers\n",
    "import more_itertools\n",
    "import numpy as np\n",
    "import matplotlib.pyplot as plt\n",
    "from tqdm import tqdm\n",
    "import pandas as pd\n",
    "from torch.utils.data import Dataset\n",
    "from tqdm import tqdm\n",
    "from dataclasses import dataclass, field\n",
    "import torchvision.transforms as T\n",
    "import torchvision.transforms.functional as TF\n",
    "import cv2\n",
    "from PIL import Image\n",
    "import pickle\n",
    "from tqdm.contrib import tzip\n",
    "\n",
    "def read_image(path):\n",
    "    image = cv2.imread(path)\n",
    "    \n",
    "    size = 196, 196\n",
    "    image = Image.fromarray(cv2.cvtColor(image, cv2.COLOR_BGR2RGB))\n",
    "    image.thumbnail(size, Image.Resampling.LANCZOS)\n",
    "    \n",
    "    return image"
   ]
  },
  {
   "cell_type": "code",
   "execution_count": 12,
   "metadata": {
    "colab": {
     "background_save": true
    },
    "id": "333kdN53uxt_"
   },
   "outputs": [
    {
     "data": {
      "image/png": "[encoded data removed]",
      "text/plain": [
       "<PIL.Image.Image image mode=RGB size=196x110>"
      ]
     },
     "execution_count": 12,
     "metadata": {},
     "output_type": "execute_result"
    }
   ],
   "source": [
    "read_image('data/wiki_dataset/images/image_8.jpg')"
   ]
  },
  {
   "cell_type": "code",
   "execution_count": 13,
   "metadata": {},
   "outputs": [
    {
     "data": {
      "image/png": "[encoded data removed]",
      "text/plain": [
       "<PIL.Image.Image image mode=RGB size=196x147>"
      ]
     },
     "execution_count": 13,
     "metadata": {},
     "output_type": "execute_result"
    }
   ],
   "source": [
    "read_image('data/coco_dataset/train2017/000000000009.jpg')"
   ]
  },
  {
   "cell_type": "code",
   "execution_count": 14,
   "metadata": {},
   "outputs": [],
   "source": [
    "# out_path = f\"Features_train.pkl\"\n",
    "out_path = f\"Features_train_coco_noqa.pkl\""
   ]
  },
  {
   "cell_type": "code",
   "execution_count": 16,
   "metadata": {
    "colab": {
     "background_save": true,
     "base_uri": "https://localhost:8080/",
     "height": 84,
     "referenced_widgets": [
      "654c446c626548d69142237a117a932e"
     ]
    },
    "id": "_a6h3-90wayq",
    "outputId": "dfd9c3ea-03f6-41fe-a680-3ba82fcd9282"
   },
   "outputs": [
    {
     "name": "stderr",
     "output_type": "stream",
     "text": [
      "100%|██████████| 5000/5000 [03:21<00:00, 24.86it/s]\n"
     ]
    },
    {
     "name": "stdout",
     "output_type": "stream",
     "text": [
      "Done\n",
      "25012 embeddings saved \n"
     ]
    }
   ],
   "source": [
    "all_embeddings = []\n",
    "all_captions = []\n",
    "# for image_index, caption in tzip(df.index, df.caption_reference_description):\n",
    "#     name = f'data/images/image_{image_index}.jpg'\n",
    "#     text = f\"Вопрос: что изображено на этой картинке? Ответ: {caption}\"\n",
    "#     # TODO: более аккуратный вопрос\n",
    "#     if os.path.exists(name):\n",
    "#         image = read_image(path = name)\n",
    "\n",
    "#         image = preprocess(image).unsqueeze(0).to(device)\n",
    "#         with torch.no_grad():\n",
    "#             prefix = clip_model.encode_image(image).cpu()\n",
    "#         all_embeddings.append(prefix)\n",
    "#         all_captions.append(text)\n",
    "\n",
    "for i in tqdm(range(5000)):\n",
    "    image, captions = coco_train[i]\n",
    "    name = str(captions[0]['image_id'])\n",
    "    name = \"0\" * (12 - len(name)) + name\n",
    "    name = f\"data/coco_dataset/train2017/{name}.jpg\"\n",
    "    image = read_image(path = name)\n",
    "\n",
    "    image = preprocess(image).unsqueeze(0).to(device)\n",
    "    with torch.no_grad():\n",
    "        prefix = clip_model.encode_image(image).cpu()\n",
    "    for caption in captions:\n",
    "        text = f\"Question: What is happening in this image? Answer: {caption['caption']}\"\n",
    "        # TODO: более аккуратный вопрос\n",
    "        all_captions.append(text)\n",
    "        all_embeddings.append(prefix)\n",
    "\n",
    "with open(out_path, 'wb') as f:\n",
    "    pickle.dump({\"clip_embedding\": torch.cat(all_embeddings, dim=0), \"captions\": all_captions}, f)\n",
    "\n",
    "print('Done')\n",
    "print(\"%0d embeddings saved \" % len(all_embeddings))"
   ]
  },
  {
   "cell_type": "markdown",
   "metadata": {
    "id": "8Z21qx8sE95o",
    "tags": []
   },
   "source": [
    "# Класс датасета"
   ]
  },
  {
   "cell_type": "code",
   "execution_count": 9,
   "metadata": {
    "id": "t9Kk0s6DFAIU"
   },
   "outputs": [],
   "source": [
    "class ClipCocoDataset(Dataset):\n",
    "    def __init__(self, data_path: str,  prefix_length= 50, model_type = 'bigscience/mt0-small', # sberbank-ai/rugpt3small_based_on_gpt2\n",
    "                 normalize_prefix=False):\n",
    "        # self.tokenizer = GPT2Tokenizer.from_pretrained(\"sberbank-ai/rugpt3small_based_on_gpt2\")\n",
    "        self.tokenizer = AutoTokenizer.from_pretrained(model_type)\n",
    "        self.prefix_length = prefix_length\n",
    "        self.normalize_prefix = normalize_prefix\n",
    "        with open(data_path, 'rb') as f:\n",
    "            all_data = pickle.load(f)\n",
    "        print(\"Data size is %0d\" % len(all_data[\"clip_embedding\"]))\n",
    "        sys.stdout.flush()\n",
    "        self.prefixes = all_data[\"clip_embedding\"]\n",
    "        captions_raw = all_data[\"captions\"]\n",
    "        \n",
    "        #self.image_ids = [caption[\"image_id\"] for caption in captions_raw]\n",
    "        \n",
    "        self.captions = captions_raw\n",
    "        \n",
    "        \n",
    "        self.captions_tokens = []\n",
    "        self.caption2embedding = []\n",
    "        max_seq_len = 0\n",
    "        i=0\n",
    "        for caption in tqdm(captions_raw):\n",
    "                self.captions_tokens.append(torch.tensor(self.tokenizer.encode(caption), dtype=torch.int64))\n",
    "                self.caption2embedding.append(self.prefixes[i])\n",
    "                i+=1\n",
    "                max_seq_len = max(max_seq_len, self.captions_tokens[-1].shape[0])\n",
    "            # self.max_seq_len = max_seq_len\n",
    "        #del self.captions_tokens\n",
    "        #del self.caption2embedding\n",
    "        #gc.collect()\n",
    "        #with open(f\"{data_path[:-4]}_tokens.pkl\", 'wb') as f:\n",
    "        #        pickle.dump([self.captions_tokens, self.caption2embedding, max_seq_len], f)\n",
    "       \n",
    "    \n",
    "    \n",
    "        all_len = torch.tensor([len(self.captions_tokens[i]) for i in range(len(self))]).float()\n",
    "        self.max_seq_len = min(int(all_len.mean() + all_len.std() * 10), int(all_len.max()))\n",
    "\n",
    "    def pad_tokens(self, item: int):\n",
    "        tokens = self.captions_tokens[item]\n",
    "        padding = self.max_seq_len - tokens.shape[0]\n",
    "        if padding > 0:\n",
    "            tokens = torch.cat((tokens, torch.zeros(padding, dtype=torch.int64) - 1))\n",
    "            self.captions_tokens[item] = tokens\n",
    "        elif padding < 0:\n",
    "            tokens = tokens[:self.max_seq_len]\n",
    "            self.captions_tokens[item] = tokens\n",
    "        mask = tokens.ge(0)  # mask is zero where we out of sequence\n",
    "        tokens[~mask] = 0\n",
    "        mask = mask.float()\n",
    "        mask = torch.cat((torch.ones(self.prefix_length), mask), dim=0)  # adding prefix mask\n",
    "        return tokens, mask\n",
    "    \n",
    "    def __len__(self) -> int:\n",
    "        return len(self.captions_tokens)\n",
    "\n",
    "    def __getitem__(self, item):\n",
    "        tokens, mask = self.pad_tokens(item)\n",
    "        prefix = self.prefixes[item]\n",
    "        if self.normalize_prefix:\n",
    "            prefix = prefix.float()\n",
    "            prefix = prefix / prefix.norm(2, -1)\n",
    "        return tokens, mask, prefix"
   ]
  },
  {
   "cell_type": "markdown",
   "metadata": {
    "id": "LWNbhxVbFTen",
    "tags": []
   },
   "source": [
    "# Обучение"
   ]
  },
  {
   "cell_type": "code",
   "execution_count": 10,
   "metadata": {},
   "outputs": [
    {
     "data": {
      "text/plain": [
       "'Tesla V100-SXM2-32GB'"
      ]
     },
     "execution_count": 10,
     "metadata": {},
     "output_type": "execute_result"
    }
   ],
   "source": [
    "torch.cuda.get_device_name(0)"
   ]
  },
  {
   "cell_type": "code",
   "execution_count": 11,
   "metadata": {},
   "outputs": [
    {
     "data": {
      "text/plain": [
       "29.56787109375"
      ]
     },
     "execution_count": 11,
     "metadata": {},
     "output_type": "execute_result"
    }
   ],
   "source": [
    "torch.cuda.mem_get_info()[0] / 1024**3"
   ]
  },
  {
   "cell_type": "code",
   "execution_count": 14,
   "metadata": {
    "colab": {
     "background_save": true,
     "base_uri": "https://localhost:8080/"
    },
    "id": "R9NmdW5cO86e",
    "outputId": "fb76f2d5-58b0-47bf-f693-1ba543306b8f"
   },
   "outputs": [],
   "source": [
    "import bitsandbytes as bnb\n",
    "# при первом импорте будет ошибка, дальше все будет хорошо"
   ]
  },
  {
   "cell_type": "code",
   "execution_count": 15,
   "metadata": {},
   "outputs": [
    {
     "data": {
      "text/html": [
       "Finishing last run (ID:qtx8gwcq) before initializing another..."
      ],
      "text/plain": [
       "<IPython.core.display.HTML object>"
      ]
     },
     "metadata": {},
     "output_type": "display_data"
    },
    {
     "data": {
      "text/html": [
       "Waiting for W&B process to finish... <strong style=\"color:green\">(success).</strong>"
      ],
      "text/plain": [
       "<IPython.core.display.HTML object>"
      ]
     },
     "metadata": {},
     "output_type": "display_data"
    },
    {
     "data": {
      "text/html": [
       " View run <strong style=\"color:#cdcd00\">divine-serenity-41</strong> at: <a href='https://wandb.ai/hse_image_captioning_spring_project/hse_image_captioning_spring_project/runs/qtx8gwcq' target=\"_blank\">https://wandb.ai/hse_image_captioning_spring_project/hse_image_captioning_spring_project/runs/qtx8gwcq</a><br/>Synced 4 W&B file(s), 0 media file(s), 0 artifact file(s) and 0 other file(s)"
      ],
      "text/plain": [
       "<IPython.core.display.HTML object>"
      ]
     },
     "metadata": {},
     "output_type": "display_data"
    },
    {
     "data": {
      "text/html": [
       "Find logs at: <code>./wandb/run-20230308_112154-qtx8gwcq/logs</code>"
      ],
      "text/plain": [
       "<IPython.core.display.HTML object>"
      ]
     },
     "metadata": {},
     "output_type": "display_data"
    },
    {
     "data": {
      "text/html": [
       "Successfully finished last run (ID:qtx8gwcq). Initializing new run:<br/>"
      ],
      "text/plain": [
       "<IPython.core.display.HTML object>"
      ]
     },
     "metadata": {},
     "output_type": "display_data"
    },
    {
     "data": {
      "application/vnd.jupyter.widget-view+json": {
       "model_id": "de5d3d01e5c74e93b722b8b232b27b4c",
       "version_major": 2,
       "version_minor": 0
      },
      "text/plain": [
       "VBox(children=(Label(value='Waiting for wandb.init()...\\r'), FloatProgress(value=0.01666908535019805, max=1.0)…"
      ]
     },
     "metadata": {},
     "output_type": "display_data"
    },
    {
     "data": {
      "text/html": [
       "wandb version 0.13.11 is available!  To upgrade, please run:\n",
       " $ pip install wandb --upgrade"
      ],
      "text/plain": [
       "<IPython.core.display.HTML object>"
      ]
     },
     "metadata": {},
     "output_type": "display_data"
    },
    {
     "data": {
      "text/html": [
       "Tracking run with wandb version 0.13.10"
      ],
      "text/plain": [
       "<IPython.core.display.HTML object>"
      ]
     },
     "metadata": {},
     "output_type": "display_data"
    },
    {
     "data": {
      "text/html": [
       "Run data is saved locally in <code>/mnt/opt/alexw/Project_Spring/wandb/run-20230308_112205-n0eyc3kw</code>"
      ],
      "text/plain": [
       "<IPython.core.display.HTML object>"
      ]
     },
     "metadata": {},
     "output_type": "display_data"
    },
    {
     "data": {
      "text/html": [
       "Syncing run <strong><a href='https://wandb.ai/hse_image_captioning_spring_project/hse_image_captioning_spring_project/runs/n0eyc3kw' target=\"_blank\">misty-wave-42</a></strong> to <a href='https://wandb.ai/hse_image_captioning_spring_project/hse_image_captioning_spring_project' target=\"_blank\">Weights & Biases</a> (<a href='https://wandb.me/run' target=\"_blank\">docs</a>)<br/>"
      ],
      "text/plain": [
       "<IPython.core.display.HTML object>"
      ]
     },
     "metadata": {},
     "output_type": "display_data"
    },
    {
     "data": {
      "text/html": [
       " View project at <a href='https://wandb.ai/hse_image_captioning_spring_project/hse_image_captioning_spring_project' target=\"_blank\">https://wandb.ai/hse_image_captioning_spring_project/hse_image_captioning_spring_project</a>"
      ],
      "text/plain": [
       "<IPython.core.display.HTML object>"
      ]
     },
     "metadata": {},
     "output_type": "display_data"
    },
    {
     "data": {
      "text/html": [
       " View run at <a href='https://wandb.ai/hse_image_captioning_spring_project/hse_image_captioning_spring_project/runs/n0eyc3kw' target=\"_blank\">https://wandb.ai/hse_image_captioning_spring_project/hse_image_captioning_spring_project/runs/n0eyc3kw</a>"
      ],
      "text/plain": [
       "<IPython.core.display.HTML object>"
      ]
     },
     "metadata": {},
     "output_type": "display_data"
    },
    {
     "data": {
      "text/html": [
       "<button onClick=\"this.nextSibling.style.display='block';this.style.display='none';\">Display W&B run</button><iframe src='https://wandb.ai/hse_image_captioning_spring_project/hse_image_captioning_spring_project/runs/n0eyc3kw?jupyter=true' style='border:none;width:100%;height:420px;display:none;'></iframe>"
      ],
      "text/plain": [
       "<wandb.sdk.wandb_run.Run at 0x7fb7c865a160>"
      ]
     },
     "execution_count": 15,
     "metadata": {},
     "output_type": "execute_result"
    }
   ],
   "source": [
    "import wandb\n",
    "\n",
    "wandb.init(project=\"hse_image_captioning_spring_project\")"
   ]
  },
  {
   "cell_type": "code",
   "execution_count": 16,
   "metadata": {
    "colab": {
     "base_uri": "https://localhost:8080/",
     "height": 655
    },
    "id": "HGP58tNkFCXk",
    "outputId": "b3fbd67a-7585-4150-9744-e799a412da14"
   },
   "outputs": [],
   "source": [
    "import torch\n",
    "import torch.nn as nn\n",
    "from torch.nn import functional as nnf\n",
    "from torch.utils.data import Dataset, DataLoader\n",
    "# from transformers import GPT2Tokenizer, GPT2LMHeadModel\n",
    "from transformers import AutoModelForSeq2SeqLM, AutoTokenizer\n",
    "from transformers import AdamW, get_linear_schedule_with_warmup\n",
    "from tqdm import tqdm\n",
    "import os\n",
    "import pickle\n",
    "import sys\n",
    "import argparse\n",
    "import json\n",
    "from typing import Tuple, Optional, Union\n",
    "from torch.cuda.amp import autocast\n",
    "import bitsandbytes as bnb\n",
    "\n",
    "def train(dataset: ClipCocoDataset, model: ClipCaptionModel, args,\n",
    "          warmup_steps: int = 2000, output_dir: str = \".\", output_prefix: str = \"\"):\n",
    "\n",
    "    device = torch.device('cuda:0')# xm.xla_device()\n",
    "    #\n",
    "    batch_size = args.bs\n",
    "    epochs = args.epochs\n",
    "    if not os.path.exists(output_dir):\n",
    "        os.makedirs(output_dir)\n",
    "    model = freeze(model)\n",
    "    model = model.to(device)\n",
    "\n",
    "    model.train()\n",
    "    optimizer = AdamW(model.parameters(), lr=args.lr)\n",
    "\n",
    "    # optimizer = bnb.optim.Adam8bit(model.parameters(), lr=args.lr, betas=(0.9, 0.995)) # add bnb optimizer\n",
    "\n",
    "\n",
    "    train_dataloader = DataLoader(dataset, batch_size=batch_size, shuffle=True, drop_last=True)\n",
    "    scheduler = get_linear_schedule_with_warmup(\n",
    "        optimizer, num_warmup_steps=warmup_steps, num_training_steps=epochs * len(train_dataloader)\n",
    "    )\n",
    "    #save_config(args)\n",
    "    #print\n",
    "\n",
    "    for epoch in range(epochs):\n",
    "        print(f\">>> Training epoch {epoch}\")\n",
    "        sys.stdout.flush()\n",
    "        progress = tqdm(total=len(train_dataloader), desc=output_prefix)\n",
    "        step=0\n",
    "        for idx, (tokens, mask, prefix) in enumerate(train_dataloader):\n",
    "            model.zero_grad()\n",
    "            step+=1\n",
    "            tokens, mask, prefix = tokens.to(device), mask.to(device), prefix.to(device, dtype=torch.float32)\n",
    "            \n",
    "            outputs = model(tokens, prefix, mask)\n",
    "            logits = outputs.logits[:, dataset.prefix_length - 1: -1]\n",
    "\n",
    "            loss = nnf.cross_entropy(logits.reshape(-1, logits.shape[-1]), tokens.flatten(), ignore_index=0)\n",
    "\n",
    "            loss.backward()\n",
    "            optimizer.step()\n",
    "            scheduler.step()\n",
    "            optimizer.zero_grad()\n",
    "            progress.set_postfix({\"loss\": loss.item()})\n",
    "            \n",
    "            wandb.log({\"loss\":  loss.item()})\n",
    "            progress.update()\n",
    "\n",
    "            \n",
    "            if (idx + 1) % 7000 == 0:\n",
    "                torch.save(\n",
    "                    model.state_dict(),\n",
    "                    \n",
    "                    os.path.join(output_dir, f\"{output_prefix}_latest_mt0_noqa.pt\"),\n",
    "                )\n",
    "        progress.close()\n",
    "        if epoch % args.save_every == 0:\n",
    "            torch.save(\n",
    "                model.state_dict(),\n",
    "                os.path.join(output_dir, f\"{output_prefix}-{epoch:03d}-mt0_noqa.pt\"),\n",
    "            )\n",
    "    return model\n",
    "\n",
    "class Args():\n",
    "    def __init__(self):\n",
    "        # self.backbone = 'sberbank-ai/rugpt3small_based_on_gpt2'\n",
    "        self.backbone = 'bigscience/mt0-small'\n",
    "        self.data = 'Features_train_coco_noqa.pkl'\n",
    "        self.out_dir = 'checkpoints'\n",
    "        self.prefix = 'prefix_small'\n",
    "        self.epochs = 2\n",
    "        self.save_every = 1\n",
    "        self.prefix_length = 50\n",
    "        self.bs = 1\n",
    "        self.only_prefix = False\n",
    "        self.lr = 2e-5\n",
    "\n",
    "def main():\n",
    "    args = Args()\n",
    "    wandb.config = {\n",
    "      \"learning_rate\": args.lr,\n",
    "      \"epochs\": args.epochs,\n",
    "      \"batch_size\": args.bs\n",
    "    }\n",
    "\n",
    "    prefix_length = args.prefix_length\n",
    "\n",
    "    dataset = ClipCocoDataset(args.data, prefix_length)\n",
    "    \n",
    "    model = ClipCaptionModel(prefix_length, 0)\n",
    "    \n",
    "    print(\"Train both prefix and MT0\")\n",
    "    sys.stdout.flush()\n",
    "    train(dataset, model, args, output_dir=args.out_dir, output_prefix=args.prefix)"
   ]
  },
  {
   "cell_type": "code",
   "execution_count": 17,
   "metadata": {},
   "outputs": [
    {
     "name": "stdout",
     "output_type": "stream",
     "text": [
      "Data size is 25012\n"
     ]
    },
    {
     "name": "stderr",
     "output_type": "stream",
     "text": [
      "100%|██████████| 25012/25012 [00:03<00:00, 7446.74it/s]\n"
     ]
    },
    {
     "name": "stdout",
     "output_type": "stream",
     "text": [
      "Train both prefix and MT0\n",
      ">>> Training epoch 0\n"
     ]
    },
    {
     "name": "stderr",
     "output_type": "stream",
     "text": [
      "/home/alexw/.local/lib/python3.8/site-packages/transformers/optimization.py:306: FutureWarning: This implementation of AdamW is deprecated and will be removed in a future version. Use the PyTorch implementation torch.optim.AdamW instead, or set `no_deprecation_warning=True` to disable this warning\n",
      "  warnings.warn(\n",
      "prefix_small: 100%|██████████| 25012/25012 [1:09:08<00:00,  6.03it/s, loss=3.14]\n"
     ]
    },
    {
     "name": "stdout",
     "output_type": "stream",
     "text": [
      ">>> Training epoch 1\n"
     ]
    },
    {
     "name": "stderr",
     "output_type": "stream",
     "text": [
      "prefix_small: 100%|██████████| 25012/25012 [1:10:20<00:00,  5.93it/s, loss=3.05]\n"
     ]
    }
   ],
   "source": [
    "main()"
   ]
  },
  {
   "cell_type": "markdown",
   "metadata": {
    "id": "MS7Jxgt49xs3",
    "tags": []
   },
   "source": [
    "# Inference"
   ]
  },
  {
   "cell_type": "code",
   "execution_count": null,
   "metadata": {
    "id": "spzJswyvOaGy"
   },
   "outputs": [],
   "source": [
    "import clip\n",
    "from transformers import GPT2Tokenizer\n",
    "device = 'cuda:0'\n",
    "clip_model, preprocess = clip.load(\"ViT-L/14@336px\", device=device, jit=False)\n",
    "# tokenizer = GPT2Tokenizer.from_pretrained('sberbank-ai/rugpt3small_based_on_gpt2')\n",
    "tokenizer = AutoTokenizer.from_pretrained('bigscience/mt0-small')\n",
    "prefix_length = 50\n",
    "model_path = 'checkpoints/prefix_small_latest_mt0.pt'\n",
    "model = ClipCaptionPrefix(prefix_length, tokenizer.pad_token_id)\n",
    "model.load_state_dict(torch.load(model_path, map_location='cpu')) \n",
    "model.to(device)\n",
    "model.eval()\n",
    "None"
   ]
  },
  {
   "cell_type": "code",
   "execution_count": null,
   "metadata": {
    "id": "zeoc7DDE962F"
   },
   "outputs": [],
   "source": [
    "def filter_ngrams(output_text):\n",
    "    a_pos = output_text.find(' Answer:')\n",
    "    sec_a_pos = output_text.find(' Answer:', a_pos + 1)\n",
    "    return output_text[:sec_a_pos]"
   ]
  },
  {
   "cell_type": "code",
   "execution_count": null,
   "metadata": {},
   "outputs": [],
   "source": [
    "# start_token = tokenizer.pad_token_id\n",
    "# start_token = torch.LongTensor([[start_token]]).to('cuda:0')\n",
    "\n",
    "# tokenizer.bas_token_id"
   ]
  },
  {
   "cell_type": "code",
   "execution_count": null,
   "metadata": {
    "id": "3N4JhHQI-Bhk"
   },
   "outputs": [],
   "source": [
    "def generate2(\n",
    "        model,\n",
    "        tokenizer,\n",
    "        tokens=None,\n",
    "        prompt='',\n",
    "        embed=None,\n",
    "        entry_count=1,\n",
    "        entry_length=67,  # maximum number of words\n",
    "        top_p=0.98,\n",
    "        temperature=1.,\n",
    "        stop_token = '.',\n",
    "):\n",
    "    model.eval()\n",
    "    generated_num = 0\n",
    "    generated_list = []\n",
    "    stop_token_index = tokenizer.encode(stop_token)[0]\n",
    "    filter_value = -float(\"Inf\")\n",
    "    device = next(model.parameters()).device\n",
    "\n",
    "    with torch.no_grad():\n",
    "        for entry_idx in range(entry_count):\n",
    "            if not tokens:\n",
    "                tokens = torch.tensor(tokenizer.encode(prompt))\n",
    "                #print('tokens',tokens)\n",
    "                tokens = tokens.unsqueeze(0).to(device)\n",
    "                    \n",
    "            # emb_tokens = model.gpt.transformer.wte(tokens)\n",
    "            emb_tokens = model.gpt.get_input_embeddings()(tokens)\n",
    "            \n",
    "            if embed is not None:\n",
    "                generated = torch.cat((embed, emb_tokens), dim=1)\n",
    "            else:\n",
    "                generated = emb_tokens\n",
    "            \n",
    "            start_token = torch.tensor([[0]]).to(device)\n",
    "            decoder_inputs_embeds = model.gpt.get_input_embeddings()(start_token)\n",
    "            for i in range(entry_length):\n",
    "                print(i)\n",
    "                outputs = model.gpt(inputs_embeds=generated, decoder_inputs_embeds=decoder_inputs_embeds)\n",
    "                logits = outputs.logits\n",
    "                logits = logits[:, -1, :] / (temperature if temperature > 0 else 1.0)\n",
    "                sorted_logits, sorted_indices = torch.sort(logits, descending=True)\n",
    "                cumulative_probs = torch.cumsum(nnf.softmax(sorted_logits, dim=-1), dim=-1)\n",
    "                sorted_indices_to_remove = cumulative_probs > top_p\n",
    "                sorted_indices_to_remove[..., 1:] = sorted_indices_to_remove[..., :-1].clone()\n",
    "                sorted_indices_to_remove[..., 0] = 0\n",
    "\n",
    "                indices_to_remove = sorted_indices[sorted_indices_to_remove]\n",
    "                logits[:, indices_to_remove] = filter_value\n",
    "                \n",
    "                top_k = 2000 \n",
    "                top_p = 0.98\n",
    "                #print(logits)\n",
    "                #next_token = transformers.top_k_top_p_filtering(logits.to(torch.int64).unsqueeze(0), top_k=top_k, top_p=top_p)\n",
    "                next_token = torch.argmax(logits, -1).unsqueeze(0)\n",
    "                # next_token_embed = model.gpt.transformer.wte(next_token)\n",
    "                next_token_embed = model.gpt.get_input_embeddings()(next_token)\n",
    "                if tokens is None:\n",
    "                    tokens = next_token\n",
    "                else:\n",
    "                    tokens = torch.cat((tokens, next_token), dim=1)\n",
    "                generated = torch.cat((generated, next_token_embed), dim=1)\n",
    "               \n",
    "                if stop_token_index == next_token.item():\n",
    "                    break\n",
    "                \n",
    "                decoder_inputs_embeds = next_token_embed\n",
    "                print(i, \"end\")\n",
    "            \n",
    "            output_list = list(tokens.squeeze().cpu().numpy())\n",
    "            \n",
    "            output_text = tokenizer.decode(output_list)\n",
    "            print(output_text)\n",
    "            output_text = filter_ngrams(output_text)\n",
    "            generated_list.append(output_text)\n",
    "\n",
    "    return generated_list[0]"
   ]
  },
  {
   "cell_type": "code",
   "execution_count": null,
   "metadata": {
    "id": "4CRuVdEcAPVv"
   },
   "outputs": [],
   "source": [
    "#from tqdm import tqdm, trange\n",
    "\n",
    "def _to_caption(pil_image,prompt=''):\n",
    "    \n",
    "    image = preprocess(pil_image).unsqueeze(0).to(device)\n",
    "    with torch.no_grad():\n",
    "        \n",
    "        prefix = clip_model.encode_image(image).to(device, dtype=torch.float32)\n",
    "        prefix_embed = model.clip_project(prefix).reshape(1, prefix_length, -1)\n",
    "        if prompt:\n",
    "            generated_text_prefix = generate2(model, tokenizer, prompt=prompt, embed=prefix_embed)\n",
    "        else:\n",
    "            generated_text_prefix = generate2(model, tokenizer, embed=prefix_embed)\n",
    "    return generated_text_prefix.replace('\\n',' ')\n",
    "\n"
   ]
  },
  {
   "cell_type": "markdown",
   "metadata": {
    "id": "nSsGl7QcDren",
    "tags": []
   },
   "source": [
    "# Генерируем ответы"
   ]
  },
  {
   "cell_type": "code",
   "execution_count": null,
   "metadata": {
    "id": "4ap04FvKA2gp"
   },
   "outputs": [],
   "source": [
    "import pandas as pd\n",
    "df_eval = pd.read_csv('data/wiki_dataset/rus_wikitext_10k_caption_reference_description_train.csv', index_col=0)"
   ]
  },
  {
   "cell_type": "code",
   "execution_count": null,
   "metadata": {
    "colab": {
     "background_save": true,
     "base_uri": "https://localhost:8080/"
    },
    "id": "5oop5AwrDuZM",
    "outputId": "3cb15ec6-a879-40f0-ce79-0d0b6e851a62"
   },
   "outputs": [
    {
     "name": "stderr",
     "output_type": "stream",
     "text": [
      "100%|██████████| 5/5 [00:00<00:00, 23.42it/s]\n"
     ]
    }
   ],
   "source": [
    "out_path = 'Features_val_.pkl'\n",
    "val_embeddings = []\n",
    "val_captions = []\n",
    "device = 'cuda'\n",
    "\n",
    "# for i in tqdm(df_eval.index[:5]):\n",
    "#     text = \"Question: What is happening in this image? Answer: \"\n",
    "#     path = f'data/wiki_dataset/images/image_{i}.jpg'\n",
    "#     # try:\n",
    "#     image = read_image(path)\n",
    "\n",
    "#     image = preprocess(image).unsqueeze(0).to(device)\n",
    "#     with torch.no_grad():\n",
    "#         prefix = clip_model.encode_image(image).to(device, dtype=torch.float32)\n",
    "#         prefix_embed = model.clip_project(prefix).reshape(1, prefix_length, -1)\n",
    "#     val_embeddings.append(prefix)\n",
    "#     val_captions.append(text)\n",
    "#     # except:\n",
    "#     #     pass\n",
    "\n",
    "for i in tqdm(range(5)):\n",
    "    image, captions = coco_train[i]\n",
    "    name = str(captions[0]['image_id'])\n",
    "    name = \"0\" * (12 - len(name)) + name\n",
    "    name = f\"data/coco_dataset/train2017/{name}.jpg\"\n",
    "    image = read_image(name)\n",
    "\n",
    "    image = preprocess(image).unsqueeze(0).to(device)\n",
    "    with torch.no_grad():\n",
    "        prefix = clip_model.encode_image(image).to(device, dtype=torch.float32)\n",
    "    text = f\"Question: What is happening in this image? Answer: \"\n",
    "    # TODO: более аккуратный вопрос\n",
    "    val_captions.append(text)\n",
    "    val_embeddings.append(prefix)\n",
    "    \n",
    "# with open(out_path, 'wb') as f:\n",
    "#      pickle.dump({'clip_emb': torch.cat(val_embeddings, dim=0), 'captions': val_captions}, f)\n",
    "\n",
    "# print('Done')\n",
    "# print(\"%0d embeddings saved \" % len(val_embeddings))"
   ]
  },
  {
   "cell_type": "code",
   "execution_count": null,
   "metadata": {
    "colab": {
     "background_save": true
    },
    "id": "ECDlVXUXEKGs"
   },
   "outputs": [],
   "source": [
    "#from tqdm import tqdm, trange\n",
    "\n",
    "def get_caption(prefix, prompt=''):\n",
    "    prefix = prefix.to(device)\n",
    "    with torch.no_grad():\n",
    "        \n",
    "        prefix_embed = model.clip_project(prefix).reshape(1, prefix_length, -1)\n",
    "        if prompt:\n",
    "            generated_text_prefix = generate2(model, tokenizer, prompt=prompt, embed=prefix_embed)\n",
    "        else:\n",
    "            generated_text_prefix = generate2(model, tokenizer, embed=prefix_embed)\n",
    "    return generated_text_prefix.replace('\\n',' ')"
   ]
  },
  {
   "cell_type": "code",
   "execution_count": null,
   "metadata": {
    "colab": {
     "background_save": true
    },
    "id": "RQ9mEO4FD2Cd"
   },
   "outputs": [],
   "source": [
    "def get_ans(clip_emb, prompt):\n",
    "    output = get_caption(clip_emb, prompt=prompt)\n",
    "    ans = output[len(prompt):].strip()\n",
    "    return ans"
   ]
  },
  {
   "cell_type": "code",
   "execution_count": null,
   "metadata": {},
   "outputs": [],
   "source": [
    "# with open(r'Features_val_.pkl', \"rb\") as input_file:\n",
    "# with open(r'Features_train_coco.pkl', \"rb\") as input_file:\n",
    "#     val_embeddings = pickle.load(input_file)\n",
    "#     val_captions = val_embeddings['captions']\n",
    "#     val_embeddings = val_embeddings['clip_embedding']"
   ]
  },
  {
   "cell_type": "code",
   "execution_count": null,
   "metadata": {},
   "outputs": [
    {
     "data": {
      "text/plain": [
       "''"
      ]
     },
     "execution_count": 40,
     "metadata": {},
     "output_type": "execute_result"
    }
   ],
   "source": [
    "val_captions[0]"
   ]
  },
  {
   "cell_type": "code",
   "execution_count": null,
   "metadata": {},
   "outputs": [
    {
     "name": "stdout",
     "output_type": "stream",
     "text": [
      "0\n",
      "0 end\n",
      "1\n",
      "1 end\n",
      "2\n",
      "2 end\n",
      "3\n",
      "3 end\n",
      "4\n",
      "4 end\n",
      "5\n",
      "5 end\n",
      "6\n",
      "6 end\n",
      "7\n",
      "7 end\n",
      "8\n",
      "8 end\n",
      "9\n",
      "9 end\n",
      "10\n",
      "10 end\n",
      "11\n",
      "11 end\n",
      "12\n",
      "12 end\n",
      "13\n",
      "13 end\n",
      "14\n",
      "14 end\n",
      "15\n",
      "15 end\n",
      "16\n",
      "16 end\n",
      "17\n",
      "17 end\n",
      "18\n",
      "18 end\n",
      "19\n",
      "19 end\n",
      "20\n",
      "20 end\n",
      "21\n",
      "21 end\n",
      "22\n",
      "22 end\n",
      "23\n",
      "</s> Question</s> Question</s> Question</s> Question</s> Question</s> Question</s> Question</s> Question</s> Question</s> Question</s> Question</s> Question \n"
     ]
    }
   ],
   "source": [
    "answers = []\n",
    "\n",
    "emb = val_embeddings[0]\n",
    "cap = val_captions[0]\n",
    "ans = get_ans(emb, cap)\n",
    "# answers.append(ans)"
   ]
  },
  {
   "cell_type": "code",
   "execution_count": null,
   "metadata": {},
   "outputs": [
    {
     "data": {
      "text/plain": [
       "'</s> Question</s> Question</s> Question</s> Question</s> Question</s> Question</s> Question</s> Question</s> Question</s> Question</s> Question</s> Question'"
      ]
     },
     "execution_count": 42,
     "metadata": {},
     "output_type": "execute_result"
    }
   ],
   "source": [
    "ans"
   ]
  },
  {
   "cell_type": "code",
   "execution_count": 78,
   "metadata": {
    "colab": {
     "background_save": true
    },
    "id": "-inu57X8D7kc",
    "outputId": "5545f60f-68e5-45a4-b070-db78a3c7cbd0"
   },
   "outputs": [
    {
     "name": "stderr",
     "output_type": "stream",
     "text": [
      "100%|██████████| 100/100 [00:54<00:00,  1.83it/s]\n"
     ]
    }
   ],
   "source": [
    "answers = []\n",
    "for i in tqdm(range(df_eval.shape[0])[:100]):\n",
    "    emb = val_embeddings[i]\n",
    "    cap = val_captions[i]\n",
    "    qid = df_eval.iloc[i, 2] # get image url\n",
    "    ans = get_ans(emb, cap, qid)\n",
    "    answers.append(ans)"
   ]
  },
  {
   "cell_type": "code",
   "execution_count": 79,
   "metadata": {},
   "outputs": [
    {
     "data": {
      "text/plain": [
       "[{'question_id': 'https://upload.wikimedia.org/wikipedia/commons/a/a7/MurtfaltalrDanubeChannel.JPG',\n",
       "  'answer': \"'image_id': 47695, 'id': 576942, 'caption': 'A river with a bridge over it.\"},\n",
       " {'question_id': 'https://upload.wikimedia.org/wikipedia/commons/4/4a/Nymphaea_alba_26-8-2007_15-13-19.JPG',\n",
       "  'answer': \"{'image_id': 35828, 'id': 5998, 'caption': 'Two flowers in a water vase sitting on top of a pond.\"},\n",
       " {'question_id': 'https://upload.wikimedia.org/wikipedia/commons/5/57/Archbishop_Christodoulos_crop.jpg',\n",
       "  'answer': \"{'image_id': 22660, 'id': 537962, 'caption': 'A man sitting in front of a church.\"},\n",
       " {'question_id': 'https://upload.wikimedia.org/wikipedia/commons/6/68/%D0%9C%D0%B5%D0%BB%D0%BE%D0%B2%D1%8B%D0%B5_%D0%B3%D0%BE%D1%80%D1%8B_%D0%B2%D0%B1%D0%BB%D0%B8%D0%B7%D0%B8_%D1%81%D1%82%D0%B0%D0%BD%D0%B8%D1%86%D1%8B_%D0%A1%D0%B8%D1%80%D0%BE%D1%82%D0%B8%D0%BD%D1%81%D0%BA%D0%BE%D0%B9.jpg',\n",
       "  'answer': \"'image_id': 42492, 'id': 576942, 'caption': 'A field of horses on a hillside.\"},\n",
       " {'question_id': 'https://upload.wikimedia.org/wikipedia/commons/8/8b/Bobrovsky_COA.jpeg',\n",
       "  'answer': \"'image_id': 5019, 'id': 576941, 'caption': 'A green and white image of a green and white building.\"},\n",
       " {'question_id': 'https://upload.wikimedia.org/wikipedia/commons/d/d0/Pozna%C5%84_kolegiata_detale_2008.jpg',\n",
       "  'answer': \"{'image_id': 26582, 'id': 5769, 'caption': 'A large building with a clock on it.\"},\n",
       " {'question_id': 'https://upload.wikimedia.org/wikipedia/commons/f/f8/FS_Mistral_04.jpg',\n",
       "  'answer': \"{'image_id': 31718, 'id': 7186, 'caption': 'A large yellow boat is parked in a dock.\"},\n",
       " {'question_id': 'https://upload.wikimedia.org/wikipedia/commons/d/d8/Interior_of_Santi_Giovanni_e_Paolo_%28Venice%29_-_Monument_of_the_Valier_family.jpg',\n",
       "  'answer': \"{'image_id': 28936, 'id': 388582, 'caption': 'A large church with a clock on it.\"},\n",
       " {'question_id': 'https://upload.wikimedia.org/wikipedia/commons/5/5e/JancsoMikl%C3%B3s%28athome%2922.jpg',\n",
       "  'answer': \"{'image_id': 3169, 'id': 6789, 'caption': 'A man in a black and white shirt is sitting on a table.\"},\n",
       " {'question_id': 'https://upload.wikimedia.org/wikipedia/commons/d/d1/SunTrust_footprint_2010-08.png',\n",
       "  'answer': \"{'image_id': 41717, 'id': 7399, 'caption': 'A blue and white photo of a city with a blue and white sign.\"},\n",
       " {'question_id': 'https://upload.wikimedia.org/wikipedia/commons/8/83/Egyptian_-_%22Aegis%22_with_the_head_of_Sakhmet_-_Walters_57540_-_Three_Quarter.jpg',\n",
       "  'answer': \"{'image_id': 29614, 'id': 6569, 'caption': 'A handful of glasses on a table with a sunny sun.\"},\n",
       " {'question_id': 'https://upload.wikimedia.org/wikipedia/commons/3/3d/Dubrovnik_crop.jpg',\n",
       "  'answer': \"{'image_id': 40158, 'id': 59999, 'caption': 'A large body of water surrounded by a large body of buildings.\"},\n",
       " {'question_id': 'https://upload.wikimedia.org/wikipedia/commons/8/83/Agenda_school_1.JPG',\n",
       "  'answer': \"{'image_id': 42426, 'id': 4249, 'caption': 'A brick building with a brick door and a wooden door.\"},\n",
       " {'question_id': 'https://upload.wikimedia.org/wikipedia/commons/6/6e/%D0%A0%D0%BE%D0%BB%D0%B8%D0%BA%D0%BE%D0%B2%D1%8B%D0%B9_%D0%BF%D0%B8%D1%82%D0%B0%D1%82%D0%B5%D0%BB%D1%8C_%D1%81%D1%8B%D1%80%D1%8B%D1%85_%D0%BE%D0%BA%D0%B0%D1%82%D1%8B%D1%88%D0%B5%D0%B9.jpg',\n",
       "  'answer': \"{'image_id': 43840, 'id': 538842, 'caption': 'A fire hydrant is sitting on a wall.\"},\n",
       " {'question_id': 'https://upload.wikimedia.org/wikipedia/commons/7/7d/Bornholm_Denmark_-_Roenne_harbour.jpg',\n",
       "  'answer': \"{'image_id': 30119, 'id': 5999, 'caption': 'A large body of water with a large boat.\"},\n",
       " {'question_id': 'https://upload.wikimedia.org/wikipedia/commons/1/1e/Blagoveschensk_Sobor.jpg',\n",
       "  'answer': \"'image_id': 14285, 'id': 578979, 'caption': 'A group of people walking down a street.\"},\n",
       " {'question_id': 'https://upload.wikimedia.org/wikipedia/commons/9/97/Chamber_writer%27s_house.jpg',\n",
       "  'answer': \"{'image_id': 26601, 'id': 6185, 'caption': 'A photo of a building with a window.\"},\n",
       " {'question_id': 'https://upload.wikimedia.org/wikipedia/commons/4/4b/Rene_Levesque.jpg',\n",
       "  'answer': \"'image_id': 26526, 'id': 626926, 'caption': 'A man in a blue shirt standing on a sidewalk.\"},\n",
       " {'question_id': 'https://upload.wikimedia.org/wikipedia/commons/8/82/Ayasofia.JPG',\n",
       "  'answer': \"{'image_id': 14616, 'id': 7999, 'caption': 'A clock tower with a clock tower in the background.\"},\n",
       " {'question_id': 'https://upload.wikimedia.org/wikipedia/commons/c/ca/Prince_Philip_Prospero_by_Diego_Vel%C3%A1zquez.jpg',\n",
       "  'answer': \"{'image_id': 22990, 'id': 5446, 'caption': 'A little boy sitting on a chair with a dog on his face.\"},\n",
       " {'question_id': 'http://upload.wikimedia.org/wikipedia/commons/7/77/Karte_berliner_mauer_ru.png',\n",
       "  'answer': \"{'image_id': 3538, 'id': 578952, 'caption': 'A street with a clock tower and a street with a clock tower.\"},\n",
       " {'question_id': 'https://upload.wikimedia.org/wikipedia/commons/0/01/Emile_Friant_Madame_Coquelin_Mere.jpg',\n",
       "  'answer': \"{'image_id': 47520, 'id': 5789, 'caption': 'A woman in a black and white photo sitting in a wooden cage.\"},\n",
       " {'question_id': 'https://upload.wikimedia.org/wikipedia/commons/e/ed/Charter_S_221%2C_dated_901%2C_of_%C3%86thelred_and_%C3%86thefl%C3%A6d%2C_rulers_of_the_Mercians.jpg',\n",
       "  'answer': \"{'image_id': 44678, 'id': 5789, 'caption': 'A close up of a book with a clock.\"},\n",
       " {'question_id': 'https://upload.wikimedia.org/wikipedia/commons/7/7c/Primula-glutinosa-plant.jpg',\n",
       "  'answer': \"{'image_id': 22936, 'id': 6168, 'caption': 'A flowery flowery plant with flowers in the background.\"},\n",
       " {'question_id': 'https://upload.wikimedia.org/wikipedia/commons/0/00/%D0%91%D0%B5%D0%B7%D0%B1%D0%BE%D1%80%D0%BE%D0%B4%D0%BA%D0%BE_%D0%98%D0%BB%D1%8C%D1%8F_%D0%90%D0%BD%D0%B4%D1%80%D0%B5%D0%B5%D0%B2%D0%B8%D1%87_-_%D0%BD%D0%B0%D0%B4%D0%B3%D1%80%D0%BE%D0%B1%D0%BD%D1%8B%D0%B5_%D0%BF%D0%BB%D0%B8%D1%82%D1%8B_-_%D0%9B%D0%B0%D0%B2%D1%80%D0%B0.JPG',\n",
       "  'answer': \"{'image_id': 29601, 'id': 6789, 'caption': 'Two men are laying on a wall with a picture of a woman.\"},\n",
       " {'question_id': 'https://upload.wikimedia.org/wikipedia/commons/8/84/Vienna_Battle_1683.jpg',\n",
       "  'answer': \"{'image_id': 16680, 'id': 5489, 'caption': 'A group of people standing in front of a mountain.\"},\n",
       " {'question_id': 'https://upload.wikimedia.org/wikipedia/commons/4/41/E.A.Tolstay.jpg',\n",
       "  'answer': \"{'image_id': 2638, 'id': 678974, 'caption': 'A woman holding a picture of a woman in a picture.\"},\n",
       " {'question_id': 'http://upload.wikimedia.org/wikipedia/commons/2/27/Frank_Lentini_Zusatzfu%C3%9F.jpg',\n",
       "  'answer': \"{'image_id': 46666, 'id': 7997, 'caption': 'A young boy sitting on a bed with a bed.\"},\n",
       " {'question_id': 'https://upload.wikimedia.org/wikipedia/commons/9/92/Draba_cuspidata_1.JPG',\n",
       "  'answer': \"{'image_id': 28847, 'id': 5998, 'caption': 'A yellow vase with a flower in it.\"},\n",
       " {'question_id': 'http://upload.wikimedia.org/wikipedia/commons/6/6b/%D0%9F%D1%80%D1%8F%D0%BC%D0%BE%D0%B5_%D1%81%D0%BC%D0%B5%D1%88%D0%B8%D0%B2%D0%B0%D0%BD%D0%B8%D0%B5.png',\n",
       "  'answer': \"{'image_id': 2456, 'id': 533973, 'caption': 'A clock is shown to be ready to be used.\"}]"
      ]
     },
     "execution_count": 79,
     "metadata": {},
     "output_type": "execute_result"
    }
   ],
   "source": [
    "answers[: 30]"
   ]
  },
  {
   "cell_type": "code",
   "execution_count": null,
   "metadata": {
    "id": "QoxPwiL8fhY-"
   },
   "outputs": [],
   "source": [
    "import json\n",
    "with open('results_by_pictures.json', 'w') as fp:\n",
    "    json.dump(answers, fp)"
   ]
  },
  {
   "cell_type": "code",
   "execution_count": null,
   "metadata": {
    "id": "A7PEBtu1fvqQ"
   },
   "outputs": [],
   "source": [
    "import json\n",
    "from tqdm.notebook import tqdm\n",
    "import random\n",
    "import pandas as pd\n",
    "import re\n",
    "import nltk.translate.bleu_score as bleu"
   ]
  },
  {
   "cell_type": "code",
   "execution_count": null,
   "metadata": {
    "id": "3w-OL0CsfznY"
   },
   "outputs": [],
   "source": [
    "with open('results_ru_pref10-004.json', 'r') as f:\n",
    "    en_ans = json.load(f)"
   ]
  },
  {
   "cell_type": "code",
   "execution_count": null,
   "metadata": {
    "id": "wukjNXsQf3Yh"
   },
   "outputs": [],
   "source": [
    "def lus(string):\n",
    "      \n",
    "    # Creating a set to store the last positions of occurrence\n",
    "    seen = {}\n",
    "    maximum_length = 0\n",
    "    max_end = 0\n",
    "    max_start = 0\n",
    "  \n",
    "    # starting the initial point of window to index 0\n",
    "    start = 0\n",
    "      \n",
    "    for end in range(len(string)):\n",
    "  \n",
    "        # Checking if we have already seen the element or not\n",
    "        if string[end] in seen:\n",
    " \n",
    "            # If we have seen the number, move the start pointer\n",
    "            # to position after the last occurrence\n",
    "            start = max(start, seen[string[end]] + 1)\n",
    "  \n",
    "        # Updating the last seen value of the character\n",
    "        seen[string[end]] = end\n",
    "        if end - start + 1 > maximum_length:\n",
    "            maximum_length = end - start + 1\n",
    "            max_end = end + 1\n",
    "            max_start = start\n",
    "        #maximum_length = max(maximum_length, end-start + 2)\n",
    "        \n",
    "    return maximum_length, max_start, max_end\n",
    "\n",
    "def clean_str(string):\n",
    "    maxlen, start, end = lus(string)\n",
    "    #print(maxlen, start, end)\n",
    "    substr = string[start:end]\n",
    "    #print(substr)\n",
    "    first_pos = string.find(substr)\n",
    "    sec_pos = string.find(substr, first_pos + 1)\n",
    "    ans = string[:sec_pos].strip()\n",
    "    if sec_pos == -1:\n",
    "        ans = string[:first_pos + len(substr)].strip()\n",
    "    punto = ans.find('.')\n",
    "    if punto != -1:\n",
    "        ans = ans[:punto]\n",
    "    return ans"
   ]
  },
  {
   "cell_type": "code",
   "execution_count": null,
   "metadata": {
    "id": "WlHCsWGsf5WD"
   },
   "outputs": [],
   "source": [
    "def lrs(str):\n",
    " \n",
    "    n = len(str)\n",
    "    LCSRe = [[0 for x in range(n + 1)]\n",
    "                for y in range(n + 1)]\n",
    " \n",
    "    res = \"\" # To store result\n",
    "    res_length = 0 # To store length of result\n",
    " \n",
    "    # building table in bottom-up manner\n",
    "    index = 0\n",
    "    for i in range(1, n + 1):\n",
    "        for j in range(i + 1, n + 1):\n",
    "             \n",
    "            # (j-i) > LCSRe[i-1][j-1] to remove\n",
    "            # overlapping\n",
    "            if (str[i - 1] == str[j - 1] and\n",
    "                LCSRe[i - 1][j - 1] < (j - i)):\n",
    "                LCSRe[i][j] = LCSRe[i - 1][j - 1] + 1\n",
    " \n",
    "                # updating maximum length of the\n",
    "                # substring and updating the finishing\n",
    "                # index of the suffix\n",
    "                if (LCSRe[i][j] > res_length):\n",
    "                    res_length = LCSRe[i][j]\n",
    "                    index = max(i, index)\n",
    "                 \n",
    "            else:\n",
    "                LCSRe[i][j] = 0\n",
    " \n",
    "    # If we have non-empty result, then insert\n",
    "    # all characters from first character to\n",
    "    # last character of string\n",
    "    if (res_length > 0):\n",
    "        for i in range(index - res_length + 1,\n",
    "                                    index + 1):\n",
    "            res = res + str[i - 1]\n",
    " \n",
    "    return res\n",
    "\n",
    "\n",
    "def is_b2b(full, sub):\n",
    "    first_oc = full.find(sub)\n",
    "    sec_oc = full.find(sub, first_oc + 1)\n",
    "    if sub == full or sec_oc == (first_oc + len(sub)) or sec_oc == (first_oc + len(sub) + 1):\n",
    "        return True\n",
    "    return False\n",
    "\n",
    "\n",
    "def find_sub(string):\n",
    "    #string = re.sub(' ', '', re_string)\n",
    "    new_res = string\n",
    "    results = [new_res]\n",
    "    while new_res != '':\n",
    "        new_res = lrs(new_res)\n",
    "        results.append(new_res)\n",
    "    i = len(results) - 1\n",
    "    ans = results[i]\n",
    "    while not is_b2b(string, ans) or not len(ans) > 1:\n",
    "        i -= 1\n",
    "        ans = results[i] \n",
    "    return ans\n",
    "    \n",
    "\n",
    "\n",
    "def clean_str_lrs(string):\n",
    "    if len(string) <= 1:\n",
    "        return string\n",
    "    prev_res = find_sub(string)\n",
    "    \n",
    "    pos_sub = string.find(prev_res)\n",
    "    right_pos_sub = string.rfind(prev_res)\n",
    "    \n",
    "    cand_ans_one = string[:pos_sub + len(prev_res)]\n",
    "    cand_ans_two = string[right_pos_sub:]\n",
    "    if len(set(cand_ans_one)) >= len(set(cand_ans_two)):\n",
    "        ans = cand_ans_one\n",
    "    else:\n",
    "        ans = cand_ans_two\n",
    "        \n",
    "    punto_sub = ans.find('.')\n",
    "    if punto_sub != -1:\n",
    "        ans = ans[:punto_sub]\n",
    "    return ans.strip()"
   ]
  },
  {
   "cell_type": "code",
   "execution_count": null,
   "metadata": {
    "id": "3HJWc7cmf7SA"
   },
   "outputs": [],
   "source": [
    "for i in tqdm(range(len(en_ans))):\n",
    "    ans = en_ans[i]['answer']\n",
    "    ans = clean_str_lrs(ans)\n",
    "    en_ans[i]['answer'] = ans"
   ]
  },
  {
   "cell_type": "code",
   "execution_count": null,
   "metadata": {
    "id": "4wp_Ji05f9Rn"
   },
   "outputs": [],
   "source": [
    "with open('cleaned_results_ru_pref10.json', 'w') as fp:\n",
    "    json.dump(en_ans, fp)"
   ]
  },
  {
   "cell_type": "code",
   "execution_count": null,
   "metadata": {
    "colab": {
     "base_uri": "https://localhost:8080/",
     "height": 219
    },
    "id": "mZ_oWRP_f-l_",
    "outputId": "0606d12c-1b31-491e-974c-92a620159f65"
   },
   "outputs": [],
   "source": [
    "counter = 0\n",
    "for i in range(len(en_ans)):\n",
    "    if en_ans[i]['answer'] == '':\n",
    "        counter += 1\n",
    "print(counter)"
   ]
  },
  {
   "cell_type": "code",
   "execution_count": null,
   "metadata": {
    "id": "hR2Prk4tgAdL"
   },
   "outputs": [],
   "source": [
    "import json\n",
    "from nltk.tokenize import word_tokenize\n",
    "from nltk.translate.meteor_score import single_meteor_score\n",
    "import pandas as pd\n",
    "\n",
    "def eval(preds, results):\n",
    "    corrects = {i: 0 for i in range(0, 9)}\n",
    "    meteors = {i: 0 for i in range(0, 9)}\n",
    "    \n",
    "    total_res = preds.merge(results, on='question_id')\n",
    "    \n",
    "    type_count = {}\n",
    "    for i in range(total_res.shape[0]):\n",
    "        res = total_res.iloc[i, :]\n",
    "        res_type = res['type']\n",
    "        type_count[res_type] = type_count.get(res_type, 0)+1\n",
    "    \n",
    "    for i in range(total_res.shape[0]):\n",
    "        pt = total_res.iloc[i, :]\n",
    "        pt_answer = pt['answer_x']\n",
    "        pt_question_id = pt['question_id']\n",
    "        pt_type = pt['type']\n",
    "        if pt_answer == pt['answer_y']:\n",
    "            corrects[pt_type] += 1\n",
    "        tok_pt_ans = word_tokenize(pt_answer)\n",
    "        tok_pt_result = word_tokenize(pt['answer_y'])\n",
    "        meteor = single_meteor_score(tok_pt_ans, tok_pt_result)\n",
    "        meteors[pt_type] += meteor\n",
    "        \n",
    "\n",
    "    return corrects, type_count, meteors\n",
    "\n",
    "def output(corrects, type_count, meteors):\n",
    "\n",
    "    all_type_corrects_count = sum(corrects.values())\n",
    "    free_type_corrects_count = sum(list(corrects.values())[3:])\n",
    "    \n",
    "    all_type_meteors_sum = sum(meteors.values())\n",
    "    free_type_meteors_sum = sum(list(meteors.values())[3:])\n",
    "    \n",
    "    mean_meteors = {}\n",
    "    for type_id in meteors:\n",
    "        mean_meteors[type_id] = meteors[type_id]/float(type_count[type_id])\n",
    "    \n",
    "    accuracy = {}\n",
    "    for type_id in corrects:\n",
    "        accuracy[type_id] = corrects[type_id]/float(type_count[type_id])\n",
    "\n",
    "    all_type_accuracy = all_type_corrects_count / float(sum(type_count.values()))\n",
    "    \n",
    "    all_type_meteor = all_type_meteors_sum / float(sum(type_count.values()))\n",
    "\n",
    "    free_type_accuracy = free_type_corrects_count / float(sum(list(type_count.values())[3:]))\n",
    "    \n",
    "    free_type_meteor = all_type_meteors_sum / float(sum(list(type_count.values())[3:]))\n",
    "    print ('Accuracy (per question type):')\n",
    "    print('\\tMotion: {:.04f}\\n\\tSpatial Relation: {:.04f}\\n\\tTemporal Relation: {:.04f}\\n\\tFree: {:.04f}\\n\\tAll: {:.04f}'.format(accuracy[0], accuracy[1], accuracy[2], free_type_accuracy, all_type_accuracy))\n",
    "    print ('Accuracy of the Free type questions(per answer type):')\n",
    "    print('\\tYes/No: {:.04f}\\n\\tColor: {:.04f}\\n\\tObject: {:.04f}\\n\\tLocation: {:.04f}\\n\\tNumber: {:.04f}\\n\\tOther: {:.04f}'.format(accuracy[3], accuracy[4], accuracy[5], accuracy[6], accuracy[7], accuracy[8]))\n",
    "    print ('METEOR (per question type):')\n",
    "    print('\\tMotion: {:.04f}\\n\\tSpatial Relation: {:.04f}\\n\\tTemporal Relation: {:.04f}\\n\\tFree: {:.04f}\\n\\tAll: {:.04f}'.format(mean_meteors[0], mean_meteors[1], mean_meteors[2], free_type_meteor, all_type_meteor))\n",
    "    print ('METEOR of the Free type questions(per answer type):')\n",
    "    print('\\tYes/No: {:.04f}\\n\\tColor: {:.04f}\\n\\tObject: {:.04f}\\n\\tLocation: {:.04f}\\n\\tNumber: {:.04f}\\n\\tOther: {:.04f}'.format(mean_meteors[3], mean_meteors[4], mean_meteors[5], mean_meteors[6], mean_meteors[7], mean_meteors[8]))\n",
    "    \n",
    "    "
   ]
  },
  {
   "cell_type": "code",
   "execution_count": null,
   "metadata": {
    "id": "_vMDv6cqgEpv"
   },
   "outputs": [],
   "source": [
    "gt_file = 'activitynet-qa/dataset/val_a.json'\n",
    "pred_file = 'results_ru_pref10.json'\n",
    "\n",
    "preds = pd.read_json(pred_file)\n",
    "preds = preds.dropna()\n",
    "results = pd.read_json(gt_file)\n",
    "corrects, type_count, meteors = eval(preds, results)\n",
    "output(corrects, type_count, meteors)"
   ]
  },
  {
   "cell_type": "code",
   "execution_count": null,
   "metadata": {
    "id": "jvfzuE2BgJDD"
   },
   "outputs": [],
   "source": []
  }
 ],
 "metadata": {
  "accelerator": "GPU",
  "colab": {
   "provenance": []
  },
  "kernelspec": {
   "display_name": "Python 3 (ipykernel)",
   "language": "python",
   "name": "python3"
  },
  "language_info": {
   "codemirror_mode": {
    "name": "ipython",
    "version": 3
   },
   "file_extension": ".py",
   "mimetype": "text/x-python",
   "name": "python",
   "nbconvert_exporter": "python",
   "pygments_lexer": "ipython3",
   "version": "3.8.10"
  }
 },
 "nbformat": 4,
 "nbformat_minor": 4
}
