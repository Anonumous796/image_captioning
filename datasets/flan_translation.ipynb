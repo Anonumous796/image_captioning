{
 "cells": [
  {
   "cell_type": "markdown",
   "id": "e195f1d3-c2f1-40eb-b163-3f6f736d615a",
   "metadata": {
    "tags": []
   },
   "source": [
    "# Предобработка"
   ]
  },
  {
   "cell_type": "code",
   "execution_count": null,
   "id": "219417c6-bf1b-4ac2-a12d-474acb1fb104",
   "metadata": {},
   "outputs": [],
   "source": [
    "!git lfs install\n",
    "!git clone https: // huggingface.co/facebook/nllb-200-distilled-600M"
   ]
  },
  {
   "cell_type": "code",
   "execution_count": null,
   "id": "3527164f-5caa-4455-b979-8d53512fb08a",
   "metadata": {
    "tags": []
   },
   "outputs": [],
   "source": [
    "from datasets import load_dataset\n",
    "\n",
    "train_dataset = load_dataset(\"SirNeural/flan_v2\", cache_dir=\"flan_v2\", data_files=\"cot_*_train.jsonl.gz\")"
   ]
  },
  {
   "cell_type": "code",
   "execution_count": 3,
   "id": "d27c9b55-7f31-4c98-889e-5dac71b5ea24",
   "metadata": {
    "tags": []
   },
   "outputs": [],
   "source": [
    "from transformers import AutoModelForSeq2SeqLM, AutoTokenizer\n",
    "import torch\n",
    "\n",
    "tokenizer = AutoTokenizer.from_pretrained(\"facebook/nllb-200-distilled-600M\", use_auth_token=True, src_lang=\"eng_Latn\")\n",
    "model = AutoModelForSeq2SeqLM.from_pretrained(\"facebook/nllb-200-distilled-600M\", use_auth_token=True)\n",
    "device = torch.device(\"cuda:1\") if torch.cuda.is_available() else torch.device(\"cpu\")\n",
    "model.to(device)\n",
    "None"
   ]
  },
  {
   "cell_type": "code",
   "execution_count": null,
   "id": "0e6e9b2d-bf93-4fc7-b66c-b4494aed5ed9",
   "metadata": {
    "collapsed": true,
    "jupyter": {
     "outputs_hidden": true
    },
    "tags": []
   },
   "outputs": [],
   "source": [
    "article = \"Hi cutie\"\n",
    "inputs = tokenizer(article, return_tensors=\"pt\")\n",
    "\n",
    "translated_tokens = model.generate(**inputs, forced_bos_token_id=tokenizer.lang_code_to_id[\"rus_Cyrl\"], max_length=30)\n",
    "tokenizer.batch_decode(translated_tokens, skip_special_tokens=True)[0]"
   ]
  },
  {
   "cell_type": "code",
   "execution_count": 4,
   "id": "253a46ae-e0e4-4f54-be30-4f5b982aaa9b",
   "metadata": {},
   "outputs": [],
   "source": [
    "train_dataset = train_dataset['train']"
   ]
  },
  {
   "cell_type": "code",
   "execution_count": 5,
   "id": "15c2d93e-07ac-4038-a308-607d1e32b6d2",
   "metadata": {
    "tags": []
   },
   "outputs": [
    {
     "data": {
      "text/plain": [
       "Dataset({\n",
       "    features: ['inputs', 'targets', 'task'],\n",
       "    num_rows: 373681\n",
       "})"
      ]
     },
     "execution_count": 5,
     "metadata": {},
     "output_type": "execute_result"
    }
   ],
   "source": [
    "train_dataset"
   ]
  },
  {
   "cell_type": "code",
   "execution_count": 7,
   "id": "67c05657-2b3e-45ae-ab3a-81485a87286a",
   "metadata": {
    "collapsed": true,
    "jupyter": {
     "outputs_hidden": true
    },
    "tags": []
   },
   "outputs": [
    {
     "data": {
      "application/vnd.jupyter.widget-view+json": {
       "model_id": "46c39364f3c24be18690e6ae07639418",
       "version_major": 2,
       "version_minor": 0
      },
      "text/plain": [
       "  0%|          | 0/373681 [00:00<?, ?it/s]"
      ]
     },
     "metadata": {},
     "output_type": "display_data"
    },
    {
     "data": {
      "text/plain": [
       "['Q',\n",
       " 'QUESTION',\n",
       " 'Question',\n",
       " 'Student A',\n",
       " '[Q] Premise',\n",
       " '\"Kane earned a degree in English literature at Truman State University, where he played baseball.\" Is the above claim true? Options',\n",
       " 'Next Question',\n",
       " 'Student asked',\n",
       " '[QUESTION] Premise',\n",
       " 'Is the following statement true? \"Prime Minister of Pakistan sings songs in his car at midnight each Tuesday.\" no I think the sentence is false because it is highly specific and there is no reason to think it is true without any evidence. There is no evidence of him doing this. Is the following a factual statement? \"Some animals apparently cannot die of Old age.\" Options',\n",
       " 'Jax',\n",
       " '[QUESTION] Given the sentence \"Ballerina in black dress posed in an abandon building.\" is it true that \"A ballerina in a black dress poses in a building.\"? Ballerina in an abandon building is a ballerina in a building. The answer is yes. [QUESTION] Given the sentence \"Many people are rollerblading down the street.\" is it true that \"The group of friends race to the intersection.\"? Not all people rollerblading down the street are friends nor are the racing to the intersection. The answer is it is not possible to tell. [QUESTION] Premise',\n",
       " 'Answer this question please',\n",
       " 'If \"Two dogs playing in water on the beach.\" does that mean that \"There are dogs playing on the beach.\"? Options',\n",
       " 'q',\n",
       " 'What do you do when you have lunch? Options',\n",
       " '[QUESTION] Test for natural language inference. Premise',\n",
       " 'If \"A unique couple showing affection in public next to a couple of bikes.\" does that mean that \"A couple is making love while in bed.\"? Options',\n",
       " 'Jade',\n",
       " 'Ques']"
      ]
     },
     "execution_count": 7,
     "metadata": {},
     "output_type": "execute_result"
    }
   ],
   "source": [
    "from tqdm.auto import tqdm\n",
    "\n",
    "tasks = []\n",
    "for i in tqdm(range(len(train_dataset))):\n",
    "    t = train_dataset[i]['inputs'].find(':')\n",
    "    if train_dataset[i]['inputs'][:t] not in tasks:\n",
    "        tasks.append(train_dataset[i]['inputs'][:t])\n",
    "tasks[:20]"
   ]
  },
  {
   "cell_type": "code",
   "execution_count": 8,
   "id": "ffebbc0c-1891-4502-b74d-6ca6e79d2316",
   "metadata": {},
   "outputs": [
    {
     "data": {
      "application/vnd.jupyter.widget-view+json": {
       "model_id": "a2c74d7469504d78aa5a00a522d978d1",
       "version_major": 2,
       "version_minor": 0
      },
      "text/plain": [
       "  0%|          | 0/373681 [00:00<?, ?it/s]"
      ]
     },
     "metadata": {},
     "output_type": "display_data"
    }
   ],
   "source": [
    "sentences = []\n",
    "\n",
    "for i in tqdm(range(len(train_dataset))):\n",
    "    sentences.append(train_dataset[i]['inputs'])\n",
    "    sentences.append(train_dataset[i]['targets'])"
   ]
  },
  {
   "cell_type": "markdown",
   "id": "62c95a2e-abe4-486c-8d0a-356d318d2125",
   "metadata": {},
   "source": [
    "### Перевод"
   ]
  },
  {
   "cell_type": "code",
   "execution_count": 11,
   "id": "1d029690-2437-44d3-a59d-c40bbc9e1fd4",
   "metadata": {},
   "outputs": [],
   "source": [
    "import jsonlines\n",
    "from torch.cuda.amp import autocast\n",
    "\n",
    "\n",
    "def predict(\n",
    "        model_name,\n",
    "        data_,\n",
    "        max_source_tokens_count=520,\n",
    "        max_target_tokens_count=520,\n",
    "        use_cuda=True,\n",
    "        batch_size=128\n",
    "):\n",
    "    russian_samples = []\n",
    "    inputs = data_\n",
    "\n",
    "    tokenizer = AutoTokenizer.from_pretrained(model_name, use_auth_token=True, src_lang=\"eng_Latn\")\n",
    "    device = torch.device(\"cuda:1\") if use_cuda else torch.device(\"cpu\")\n",
    "    model = AutoModelForSeq2SeqLM.from_pretrained(model_name, use_auth_token=True).to(device)\n",
    "    model.eval()\n",
    "    predictions = []\n",
    "    with autocast(dtype=torch.float16):\n",
    "        with torch.no_grad():\n",
    "            for i in tqdm(range(0, len(sentences), batch_size)):\n",
    "                batch = sentences[i:i + batch_size]\n",
    "                input_ids = tokenizer.prepare_seq2seq_batch(\n",
    "                    batch,\n",
    "                    return_tensors=\"pt\",\n",
    "                    padding=\"max_length\",\n",
    "                    truncation=True,\n",
    "                    max_length=max_source_tokens_count\n",
    "                )[\"input_ids\"].to(device)\n",
    "\n",
    "                output_ids = model.generate(\n",
    "                    input_ids=input_ids,\n",
    "                    max_length=max_target_tokens_count,\n",
    "                    forced_bos_token_id=tokenizer.lang_code_to_id[\"rus_Cyrl\"]\n",
    "                )\n",
    "                decoded_output = tokenizer.batch_decode(output_ids, skip_special_tokens=True,\n",
    "                                                        clean_up_tokenization_spaces=False)\n",
    "                russian_samples.extend(decoded_output)\n",
    "                if (i // batch_size) % 10 == 0:\n",
    "                    with jsonlines.open('flan_traslation_v2.jsonl', mode='w') as writer:\n",
    "                        writer.write(russian_samples)\n",
    "    return russian_samples"
   ]
  },
  {
   "cell_type": "code",
   "execution_count": null,
   "id": "2a59dc1e-4a61-458a-9474-722bba67e03c",
   "metadata": {},
   "outputs": [],
   "source": [
    "from transformers import AutoModelForSeq2SeqLM, AutoTokenizer\n",
    "import torch\n",
    "\n",
    "russian_samples = predict(\"facebook/nllb-200-distilled-600M\", sentences)"
   ]
  },
  {
   "cell_type": "code",
   "execution_count": null,
   "id": "e70e5040-4215-4d9e-8e1c-73a746b69e2e",
   "metadata": {
    "tags": []
   },
   "outputs": [],
   "source": [
    "with jsonlines.open('flan_traslation_v2.jsonl', mode='w') as writer:\n",
    "    writer.write(russain_samples)"
   ]
  },
  {
   "cell_type": "code",
   "execution_count": 5,
   "id": "4af456c8-f8e8-47b1-a9e5-0e26de3050ab",
   "metadata": {
    "collapsed": true,
    "jupyter": {
     "outputs_hidden": true
    },
    "tags": []
   },
   "outputs": [
    {
     "data": {
      "text/plain": [
       "['Вопрос: Это список самых продаваемых видеоигр всех времен. Самой продаваемой видеоигрой на сегодняшний день является Tetris, видеоигровая игра с тиловой пазлой, которая первоначально вышла для Electronika 60 в феврале 1984 года, а затем стала популярной после выхода на Game Boy в 1989 году. Игра была перенесена на широкий спектр платформ и продана более чем на 170 миллионов единиц, включая 100 миллионов платных загрузок на мобильных телефонах и 35 миллионов продаж для версии Game Boy. Minecraft является единственной другой видеоигрой, которая продала более 100 миллионов единиц, с 122 миллионами единиц, продаваемыми по состоянию на февраль 2017 года. Ответ, если не считать мобильных продаж, является самым продаваемым видеоигрой всех времен, продается на Wii Sports с 82,81 миллионами единиц, в то время как Tetris является четвертым с продажей 70 миллионов единиц.',\n",
       " 'Джеки Уорд (род. Джаклин Макдональд, 1941), более известный как Робин Уорд. Как объяснить ответ?',\n",
       " 'Вопрос: Салли стояла в очереди. Рецепт был очень, очень медленным. Что она чувствовала? Обязательства: - разочарование - задержки - раздражение - движение вперед - прогресс Ответ: Человек может чувствовать себя разочарованным, стоя в очереди.',\n",
       " 'Для использования телевизора необходимо \"подключить\" к кабелю.',\n",
       " 'Вопрос: кто был правителем Марокко в 1912-1927 годах? Ответ: Чтобы ответить на этот вопрос, мы должны знать, что: Он правил Марокко с 1912 года до своей смерти в 1927 году. Ответ: Вопрос: Соперничество Доджерс - Янки - это соперничество Мажорной лиги бейсбола (MLB) между Лос-Анджелесом Доджерс и Нью-Йорк Янки. Вопрос: кто был правителем Марокко в период с 1912 по 1927 год? Ответ: Чтобы ответить на этот вопрос, мы должны знать, что: Он правил Марокко с 1912 года до своей смерти в 1927 году. Ответ: Явёрный соперничество между Доджерсами и Янки - это один из самых известных соперничества между двумя командами, которые вышли в два крупных матча в серии мира.',\n",
       " 'Это соответствующая информация: \"Our House\" - песня английской ска-поп-группы Madness.',\n",
       " 'Студент А: Контекст: Новый назначенный премьер-министр, Уильям Питт младший (подразованный Саймоном Осборном как нежное подростковое), хочет объявить войну Наполеону Бонапарту; дать \"жестокие приговоры\" для своего учителя географии \"Банан-Брисс\" Скригшанкс; и, прежде всего, попел удар по идиотскому принцу Регенту из Гражданского Союза. Несмотря на это, принц все же убежден, что широкая публика его обожает, потому что вчера он услышал, как они пели \"Мы приветствуем принца Джорджа!\", только чтобы быть исправлен своим дворецким, мистером Блэкбарном, как \"Мы ненавидим принца Джорджа!\" Поскольку Палата общин равномерно разделена по этому вопросу, Блэкбарн предложил принцу Блэкбарну, что они предлагают скачать в его пользу, бросая голоса на голосовые членом Парламента (Джек Джек Блэк Барнтон) и в следующем фильме \"Сэртольд-Брисс\" (Сэртольд-Брисс) - это главный вопрос, который он выступает в качестве голосовой, хотя он должен ответить на вопрос: \"Серточный голосовой, который принц, который вышел из-Сартон, который хочет, чтобы в качестве главного героя, который вышел из-Сартон, и который вышел из-Сартон, и, и который в качестве главного героя, который вышел из-за которого он хочет, чтобы вышел из-за которого президентского голосования, в качестве голосования, в качестве главного героя, который вышел из-Сарка, в качестве голосования, который вышел из-Сарка, в качестве голосования, в качестве голосования, который он вышел из-за, в качестве голоса, который он вышел из-за, в качестве голоса, который он вышел из-за, и в качестве голоса, который вышел из-за, \"Сарка, что он вышел из-за которого президент, как президент, в качестве голоса, который вышел из-',\n",
       " 'Чтобы ответить на этот вопрос, мы должны знать, что Майкл Шоуэлтер в роли Джеральда \"Купа\" Куперберга / Алан Шемпер Майкл Шоуэлтер.',\n",
       " 'Вопрос: С учетом предложения \"Группа детей стоят на грунтовой дороге\". Можно ли сделать вывод, что \"Дети группируются на грунтовой дороге\". Обязательства: - да - невозможно сказать - нет Давайте решим это медленно: Дети, группированные на дороге, рассказывают, как стояла группа детей. Ответ да.',\n",
       " 'Женщина ждет, когда закончится обеденный перерыв.']"
      ]
     },
     "execution_count": 5,
     "metadata": {},
     "output_type": "execute_result"
    }
   ],
   "source": [
    "import jsonlines\n",
    "\n",
    "with jsonlines.open('flan_traslation_v2.jsonl') as reader:\n",
    "    f = reader.read()\n",
    "f[:10]"
   ]
  },
  {
   "cell_type": "code",
   "execution_count": 6,
   "id": "73373e28-60fe-47cb-ab46-c21068ee382d",
   "metadata": {
    "collapsed": true,
    "jupyter": {
     "outputs_hidden": true
    },
    "tags": []
   },
   "outputs": [
    {
     "name": "stderr",
     "output_type": "stream",
     "text": [
      "100%|██████████| 373184/373184 [00:00<00:00, 985082.69it/s] \n"
     ]
    },
    {
     "data": {
      "text/plain": [
       "[{'inputs': 'Вопрос: Это список самых продаваемых видеоигр всех времен. Самой продаваемой видеоигрой на сегодняшний день является Tetris, видеоигровая игра с тиловой пазлой, которая первоначально вышла для Electronika 60 в феврале 1984 года, а затем стала популярной после выхода на Game Boy в 1989 году. Игра была перенесена на широкий спектр платформ и продана более чем на 170 миллионов единиц, включая 100 миллионов платных загрузок на мобильных телефонах и 35 миллионов продаж для версии Game Boy. Minecraft является единственной другой видеоигрой, которая продала более 100 миллионов единиц, с 122 миллионами единиц, продаваемыми по состоянию на февраль 2017 года. Ответ, если не считать мобильных продаж, является самым продаваемым видеоигрой всех времен, продается на Wii Sports с 82,81 миллионами единиц, в то время как Tetris является четвертым с продажей 70 миллионов единиц.',\n",
       "  'target': 'Джеки Уорд (род. Джаклин Макдональд, 1941), более известный как Робин Уорд. Как объяснить ответ?'},\n",
       " {'inputs': 'Вопрос: Салли стояла в очереди. Рецепт был очень, очень медленным. Что она чувствовала? Обязательства: - разочарование - задержки - раздражение - движение вперед - прогресс Ответ: Человек может чувствовать себя разочарованным, стоя в очереди.',\n",
       "  'target': 'Для использования телевизора необходимо \"подключить\" к кабелю.'},\n",
       " {'inputs': 'Вопрос: кто был правителем Марокко в 1912-1927 годах? Ответ: Чтобы ответить на этот вопрос, мы должны знать, что: Он правил Марокко с 1912 года до своей смерти в 1927 году. Ответ: Вопрос: Соперничество Доджерс - Янки - это соперничество Мажорной лиги бейсбола (MLB) между Лос-Анджелесом Доджерс и Нью-Йорк Янки. Вопрос: кто был правителем Марокко в период с 1912 по 1927 год? Ответ: Чтобы ответить на этот вопрос, мы должны знать, что: Он правил Марокко с 1912 года до своей смерти в 1927 году. Ответ: Явёрный соперничество между Доджерсами и Янки - это один из самых известных соперничества между двумя командами, которые вышли в два крупных матча в серии мира.',\n",
       "  'target': 'Это соответствующая информация: \"Our House\" - песня английской ска-поп-группы Madness.'},\n",
       " {'inputs': 'Студент А: Контекст: Новый назначенный премьер-министр, Уильям Питт младший (подразованный Саймоном Осборном как нежное подростковое), хочет объявить войну Наполеону Бонапарту; дать \"жестокие приговоры\" для своего учителя географии \"Банан-Брисс\" Скригшанкс; и, прежде всего, попел удар по идиотскому принцу Регенту из Гражданского Союза. Несмотря на это, принц все же убежден, что широкая публика его обожает, потому что вчера он услышал, как они пели \"Мы приветствуем принца Джорджа!\", только чтобы быть исправлен своим дворецким, мистером Блэкбарном, как \"Мы ненавидим принца Джорджа!\" Поскольку Палата общин равномерно разделена по этому вопросу, Блэкбарн предложил принцу Блэкбарну, что они предлагают скачать в его пользу, бросая голоса на голосовые членом Парламента (Джек Джек Блэк Барнтон) и в следующем фильме \"Сэртольд-Брисс\" (Сэртольд-Брисс) - это главный вопрос, который он выступает в качестве голосовой, хотя он должен ответить на вопрос: \"Серточный голосовой, который принц, который вышел из-Сартон, который хочет, чтобы в качестве главного героя, который вышел из-Сартон, и который вышел из-Сартон, и, и который в качестве главного героя, который вышел из-за которого он хочет, чтобы вышел из-за которого президентского голосования, в качестве голосования, в качестве главного героя, который вышел из-Сарка, в качестве голосования, который вышел из-Сарка, в качестве голосования, в качестве голосования, который он вышел из-за, в качестве голоса, который он вышел из-за, в качестве голоса, который он вышел из-за, и в качестве голоса, который вышел из-за, \"Сарка, что он вышел из-за которого президент, как президент, в качестве голоса, который вышел из-',\n",
       "  'target': 'Чтобы ответить на этот вопрос, мы должны знать, что Майкл Шоуэлтер в роли Джеральда \"Купа\" Куперберга / Алан Шемпер Майкл Шоуэлтер.'},\n",
       " {'inputs': 'Вопрос: С учетом предложения \"Группа детей стоят на грунтовой дороге\". Можно ли сделать вывод, что \"Дети группируются на грунтовой дороге\". Обязательства: - да - невозможно сказать - нет Давайте решим это медленно: Дети, группированные на дороге, рассказывают, как стояла группа детей. Ответ да.',\n",
       "  'target': 'Женщина ждет, когда закончится обеденный перерыв.'},\n",
       " {'inputs': '[Q] Премиза: \"Горный велосипед, который ловит после спуска на трассе. \" Гипотеза: \"Горный велосипед находится в продуктовом магазине\". Знаем ли мы, что гипотеза, связанная с презизой? [A] Мотоциклщик не был бы в продуктовом магазине, если бы он спускался на трассе. Ответ нет. [Q] Учитывая предложение \"Много народа в плетенных шляпах, стоящих рядом с фургоном\". Правда ли это, что \"Много народа в плетенных шляпах, стоящих рядом с фургоном\"? [A] Толпа людей в плетенных шляпах, стоящих рядом с фургоном, не предполагает, что они стоят рядом с синей фургоной. Ответ заключается в том, что невозможно. [Q] Премиза: \"Человек в скале спускается с лица, пока он не спускается в скалу\".',\n",
       "  'target': '[А] Человек на улице не значит, что он спускается с скалы.'},\n",
       " {'inputs': '\"Кейн получил степень в области английской литературы в Трумэнском государственном университете, где он играл в бейсбол\". Правда ли вышеперечисленное утверждение? Обязательства: - да - нет нет Кейн получил степень в области английской литературы в Северо-Восточном штате Миссури, ныне известном как Трумэнский государственный университет, где он играл в баскетбол и футбол.',\n",
       "  'target': 'Джордж VI умер в 1952 году, Мэри Тек умерла в 1953 году.'},\n",
       " {'inputs': 'Следующий вопрос: Премиса: \"Человек держит ребенка, пока он подвешен между двумя зданиями\". На основании этой предпосылки можно сделать вывод, что гипотеза \"Два человека, подвешенные между двумя зданиями, едят немного пищи\" является истинной?',\n",
       "  'target': 'Подумайте, что для того, чтобы человек и собака могли что-то делать на травяном дворе, они должны быть на открытом воздухе.'},\n",
       " {'inputs': 'Ученик спросил: учитывая предложение \"Два футболиста были сосредоточены на игре\". можем ли мы сделать вывод, что \"Два парня в футбольной команде сосредоточены на игре, глядя на картины\"? Обязательства: - да - невозможно сказать - нет Ответа Учителя: Давайте подумаем. Не каждый футболист смотрит на картины, когда сосредоточен на игре. Ответ заключается в том, что сказать невозможно. Ученик спросил: можем ли мы сделать вывод из \"Человек с камерой, глядящей на статую\". что \"Человек убирает полиция\". Обязания: - да - нет - невозможно сказать ответ Учителя: Давайте подумаем.',\n",
       "  'target': 'Подумайте, нельзя прыгать и лгать одновременно, нельзя прыгать в воздух над океаном.'},\n",
       " {'inputs': 'Вопрос: Тест на вывод естественного языка. Премиса: \"Два старшего мужчины в сером жилете\". Гипотеза: \"Женщины носят серое. \" Гипотеза: \"Здесь две музыканты и певец выступают как струи пламени\".',\n",
       "  'target': 'Нельзя одновременно находиться дома и сидеть рядом с водой.'}]"
      ]
     },
     "execution_count": 6,
     "metadata": {},
     "output_type": "execute_result"
    }
   ],
   "source": [
    "from tqdm.auto import tqdm\n",
    "\n",
    "ds = []\n",
    "t = {}\n",
    "for i in tqdm(range(0, len(f), 2)):\n",
    "    t = {'inputs': f[i], 'target': f[i + 1]}\n",
    "    ds.append(t)\n",
    "ds[:10]"
   ]
  },
  {
   "cell_type": "code",
   "execution_count": 11,
   "id": "e7d15ac5-7766-421b-9d2a-f438cc500de1",
   "metadata": {},
   "outputs": [],
   "source": [
    "with jsonlines.open('flan_traslation_v22.jsonl', mode='w') as writer:\n",
    "    writer.write(ds)"
   ]
  },
  {
   "cell_type": "code",
   "execution_count": 8,
   "id": "0f71854e-d593-4f85-a09b-0f8db1fd89bc",
   "metadata": {},
   "outputs": [],
   "source": [
    "import json\n",
    "\n",
    "with open('flan_traslation_v22.jsonl', 'w') as f:\n",
    "    for item in ds:\n",
    "        json.dump(item, f)\n",
    "        f.write('\\n')"
   ]
  },
  {
   "cell_type": "code",
   "execution_count": 12,
   "id": "c641e600-a75c-40a6-bc56-b924f4609901",
   "metadata": {},
   "outputs": [],
   "source": [
    "def jsonl_reader(file_name):\n",
    "    with open(file_name, \"r\") as file:\n",
    "        reader = jsonlines.Reader(file)\n",
    "        for line in reader.iter():\n",
    "            print(line)"
   ]
  }
 ],
 "metadata": {
  "kernelspec": {
   "display_name": "project spring",
   "language": "python",
   "name": "project_spring"
  },
  "language_info": {
   "codemirror_mode": {
    "name": "ipython",
    "version": 3
   },
   "file_extension": ".py",
   "mimetype": "text/x-python",
   "name": "python",
   "nbconvert_exporter": "python",
   "pygments_lexer": "ipython3",
   "version": "3.8.10"
  }
 },
 "nbformat": 4,
 "nbformat_minor": 5
}
