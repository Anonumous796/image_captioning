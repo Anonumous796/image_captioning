{
 "cells": [
  {
   "cell_type": "code",
   "execution_count": 2,
   "id": "31c81457-1bcc-43a6-9846-e9b15f56abaa",
   "metadata": {},
   "outputs": [
    {
     "data": {
      "text/plain": [
       "10.89013671875"
      ]
     },
     "execution_count": 2,
     "metadata": {},
     "output_type": "execute_result"
    }
   ],
   "source": [
    "import torch\n",
    "\n",
    "torch.cuda.mem_get_info()[0] / 1024 ** 3"
   ]
  },
  {
   "cell_type": "code",
   "execution_count": 2,
   "id": "69eb051d-045f-483b-8822-71740ca0a1b5",
   "metadata": {},
   "outputs": [
    {
     "name": "stdout",
     "output_type": "stream",
     "text": [
      "MemTotal:       65856652 kB\n",
      "MemFree:        31043136 kB\n",
      "MemAvailable:   34828380 kB\n"
     ]
    }
   ],
   "source": [
    "!cat/proc/meminfo | grep Mem"
   ]
  },
  {
   "cell_type": "markdown",
   "id": "fd1fc229-d7b7-4953-8cb4-4b699f6f8cd4",
   "metadata": {
    "tags": []
   },
   "source": [
    "# Нормализация вики"
   ]
  },
  {
   "cell_type": "code",
   "execution_count": 1,
   "id": "b997604b-7d2f-4040-9cbd-13bc430e4741",
   "metadata": {
    "tags": []
   },
   "outputs": [],
   "source": [
    "import pandas as pd"
   ]
  },
  {
   "cell_type": "code",
   "execution_count": 3,
   "id": "32b4b610-89ff-46a0-abf7-0a633886a295",
   "metadata": {},
   "outputs": [],
   "source": [
    "df = pd.read_csv('wiki_dataset/rus_wikitext_50k_caption_reference_description_train.csv', index_col=0)"
   ]
  },
  {
   "cell_type": "code",
   "execution_count": 4,
   "id": "5dc4f23c-1792-47ac-a3a0-896c03e38bae",
   "metadata": {
    "tags": []
   },
   "outputs": [
    {
     "data": {
      "text/html": [
       "<div>\n",
       "<style scoped>\n",
       "    .dataframe tbody tr th:only-of-type {\n",
       "        vertical-align: middle;\n",
       "    }\n",
       "\n",
       "    .dataframe tbody tr th {\n",
       "        vertical-align: top;\n",
       "    }\n",
       "\n",
       "    .dataframe thead th {\n",
       "        text-align: right;\n",
       "    }\n",
       "</style>\n",
       "<table border=\"1\" class=\"dataframe\">\n",
       "  <thead>\n",
       "    <tr style=\"text-align: right;\">\n",
       "      <th></th>\n",
       "      <th>language</th>\n",
       "      <th>page_url</th>\n",
       "      <th>image_url</th>\n",
       "      <th>page_title</th>\n",
       "      <th>section_title</th>\n",
       "      <th>hierarchical_section_title</th>\n",
       "      <th>caption_reference_description</th>\n",
       "      <th>caption_attribution_description</th>\n",
       "      <th>caption_alt_text_description</th>\n",
       "      <th>mime_type</th>\n",
       "      <th>original_height</th>\n",
       "      <th>original_width</th>\n",
       "      <th>is_main_image</th>\n",
       "      <th>attribution_passes_lang_id</th>\n",
       "      <th>page_changed_recently</th>\n",
       "      <th>context_page_description</th>\n",
       "      <th>context_section_description</th>\n",
       "    </tr>\n",
       "  </thead>\n",
       "  <tbody>\n",
       "    <tr>\n",
       "      <th>0</th>\n",
       "      <td>ru</td>\n",
       "      <td>https://ru.wikipedia.org/wiki/%D0%A3%D0%BC%D0%...</td>\n",
       "      <td>https://upload.wikimedia.org/wikipedia/commons...</td>\n",
       "      <td>Умершие в ноябре 2013 года</td>\n",
       "      <td>16 ноября</td>\n",
       "      <td>Умершие в ноябре 2013 года / 16 ноября</td>\n",
       "      <td>Владислав Захаревич</td>\n",
       "      <td>Русский: Ректор ЮФУ В.Г. ЗахаревичEnglish: Pro...</td>\n",
       "      <td>NaN</td>\n",
       "      <td>image/jpeg</td>\n",
       "      <td>1533</td>\n",
       "      <td>1677</td>\n",
       "      <td>False</td>\n",
       "      <td>True</td>\n",
       "      <td>True</td>\n",
       "      <td>Это список известных людей, соответствующих ус...</td>\n",
       "      <td>Берберян, Арсен (75) — архиепископ Армянской а...</td>\n",
       "    </tr>\n",
       "    <tr>\n",
       "      <th>5</th>\n",
       "      <td>ru</td>\n",
       "      <td>https://ru.wikipedia.org/wiki/%D0%91%D1%83%D1%...</td>\n",
       "      <td>https://upload.wikimedia.org/wikipedia/commons...</td>\n",
       "      <td>Буш (курган)</td>\n",
       "      <td>NaN</td>\n",
       "      <td>Буш (курган)</td>\n",
       "      <td>Зарисовка крупнейшего из Золотых ромбов курган...</td>\n",
       "      <td>English: design of the the Bush Barrow Lozenge...</td>\n",
       "      <td>NaN</td>\n",
       "      <td>image/jpeg</td>\n",
       "      <td>588</td>\n",
       "      <td>625</td>\n",
       "      <td>False</td>\n",
       "      <td>False</td>\n",
       "      <td>True</td>\n",
       "      <td>Курган Буш, англ. Bush Barrow — памятник ранне...</td>\n",
       "      <td>Курган Буш, англ. Bush Barrow — памятник ранне...</td>\n",
       "    </tr>\n",
       "    <tr>\n",
       "      <th>8</th>\n",
       "      <td>ru</td>\n",
       "      <td>https://ru.wikipedia.org/wiki/%D0%A2%D1%80%D0%...</td>\n",
       "      <td>https://upload.wikimedia.org/wikipedia/commons...</td>\n",
       "      <td>Трассовый моделизм</td>\n",
       "      <td>NaN</td>\n",
       "      <td>Трассовый моделизм</td>\n",
       "      <td>Трассовый моделизм. Прохождение моделями виража</td>\n",
       "      <td>日本語: YSR race Mr.ky</td>\n",
       "      <td>NaN</td>\n",
       "      <td>image/jpeg</td>\n",
       "      <td>540</td>\n",
       "      <td>960</td>\n",
       "      <td>False</td>\n",
       "      <td>False</td>\n",
       "      <td>False</td>\n",
       "      <td>Трассовый моделизм — вид автомодельного спорта...</td>\n",
       "      <td>Трассовый моделизм (также трассовые гонки или ...</td>\n",
       "    </tr>\n",
       "    <tr>\n",
       "      <th>15</th>\n",
       "      <td>ru</td>\n",
       "      <td>https://ru.wikipedia.org/wiki/%D0%9B%D0%B8%D0%...</td>\n",
       "      <td>https://upload.wikimedia.org/wikipedia/commons...</td>\n",
       "      <td>Лилейная трещалка</td>\n",
       "      <td>NaN</td>\n",
       "      <td>Лилейная трещалка</td>\n",
       "      <td>Спаривание</td>\n",
       "      <td>Liloceris lilii (Scopoli, 1763), copula Englis...</td>\n",
       "      <td>NaN</td>\n",
       "      <td>image/jpeg</td>\n",
       "      <td>2336</td>\n",
       "      <td>3504</td>\n",
       "      <td>False</td>\n",
       "      <td>False</td>\n",
       "      <td>True</td>\n",
       "      <td>Треща́лка лиле́йная — насекомое семейства жуко...</td>\n",
       "      <td>Треща́лка лиле́йная (лат. Lilioceris lilii) — ...</td>\n",
       "    </tr>\n",
       "    <tr>\n",
       "      <th>16</th>\n",
       "      <td>ru</td>\n",
       "      <td>https://ru.wikipedia.org/wiki/%D0%91%D1%83%D1%...</td>\n",
       "      <td>https://upload.wikimedia.org/wikipedia/commons...</td>\n",
       "      <td>Бурылин, Дмитрий Геннадьевич</td>\n",
       "      <td>Коллекционная деятельность</td>\n",
       "      <td>Бурылин, Дмитрий Геннадьевич / Коллекционная д...</td>\n",
       "      <td>Музей Дмитрия Бурылина.</td>\n",
       "      <td>English: Museum of Industry and Art (Burylin M...</td>\n",
       "      <td>NaN</td>\n",
       "      <td>image/jpeg</td>\n",
       "      <td>3759</td>\n",
       "      <td>5012</td>\n",
       "      <td>False</td>\n",
       "      <td>True</td>\n",
       "      <td>False</td>\n",
       "      <td>Дми́трий Генна́дьевич Буры́лин — иваново-возне...</td>\n",
       "      <td>Всю свою жизнь Дмитрий Бурылин собирал коллекц...</td>\n",
       "    </tr>\n",
       "  </tbody>\n",
       "</table>\n",
       "</div>"
      ],
      "text/plain": [
       "   language                                           page_url  \\\n",
       "0        ru  https://ru.wikipedia.org/wiki/%D0%A3%D0%BC%D0%...   \n",
       "5        ru  https://ru.wikipedia.org/wiki/%D0%91%D1%83%D1%...   \n",
       "8        ru  https://ru.wikipedia.org/wiki/%D0%A2%D1%80%D0%...   \n",
       "15       ru  https://ru.wikipedia.org/wiki/%D0%9B%D0%B8%D0%...   \n",
       "16       ru  https://ru.wikipedia.org/wiki/%D0%91%D1%83%D1%...   \n",
       "\n",
       "                                            image_url  \\\n",
       "0   https://upload.wikimedia.org/wikipedia/commons...   \n",
       "5   https://upload.wikimedia.org/wikipedia/commons...   \n",
       "8   https://upload.wikimedia.org/wikipedia/commons...   \n",
       "15  https://upload.wikimedia.org/wikipedia/commons...   \n",
       "16  https://upload.wikimedia.org/wikipedia/commons...   \n",
       "\n",
       "                      page_title               section_title  \\\n",
       "0     Умершие в ноябре 2013 года                   16 ноября   \n",
       "5                   Буш (курган)                         NaN   \n",
       "8             Трассовый моделизм                         NaN   \n",
       "15             Лилейная трещалка                         NaN   \n",
       "16  Бурылин, Дмитрий Геннадьевич  Коллекционная деятельность   \n",
       "\n",
       "                           hierarchical_section_title  \\\n",
       "0              Умершие в ноябре 2013 года / 16 ноября   \n",
       "5                                        Буш (курган)   \n",
       "8                                  Трассовый моделизм   \n",
       "15                                  Лилейная трещалка   \n",
       "16  Бурылин, Дмитрий Геннадьевич / Коллекционная д...   \n",
       "\n",
       "                        caption_reference_description  \\\n",
       "0                                 Владислав Захаревич   \n",
       "5   Зарисовка крупнейшего из Золотых ромбов курган...   \n",
       "8     Трассовый моделизм. Прохождение моделями виража   \n",
       "15                                         Спаривание   \n",
       "16                            Музей Дмитрия Бурылина.   \n",
       "\n",
       "                      caption_attribution_description  \\\n",
       "0   Русский: Ректор ЮФУ В.Г. ЗахаревичEnglish: Pro...   \n",
       "5   English: design of the the Bush Barrow Lozenge...   \n",
       "8                                 日本語: YSR race Mr.ky   \n",
       "15  Liloceris lilii (Scopoli, 1763), copula Englis...   \n",
       "16  English: Museum of Industry and Art (Burylin M...   \n",
       "\n",
       "   caption_alt_text_description   mime_type  original_height  original_width  \\\n",
       "0                           NaN  image/jpeg             1533            1677   \n",
       "5                           NaN  image/jpeg              588             625   \n",
       "8                           NaN  image/jpeg              540             960   \n",
       "15                          NaN  image/jpeg             2336            3504   \n",
       "16                          NaN  image/jpeg             3759            5012   \n",
       "\n",
       "    is_main_image  attribution_passes_lang_id  page_changed_recently  \\\n",
       "0           False                        True                   True   \n",
       "5           False                       False                   True   \n",
       "8           False                       False                  False   \n",
       "15          False                       False                   True   \n",
       "16          False                        True                  False   \n",
       "\n",
       "                             context_page_description  \\\n",
       "0   Это список известных людей, соответствующих ус...   \n",
       "5   Курган Буш, англ. Bush Barrow — памятник ранне...   \n",
       "8   Трассовый моделизм — вид автомодельного спорта...   \n",
       "15  Треща́лка лиле́йная — насекомое семейства жуко...   \n",
       "16  Дми́трий Генна́дьевич Буры́лин — иваново-возне...   \n",
       "\n",
       "                          context_section_description  \n",
       "0   Берберян, Арсен (75) — архиепископ Армянской а...  \n",
       "5   Курган Буш, англ. Bush Barrow — памятник ранне...  \n",
       "8   Трассовый моделизм (также трассовые гонки или ...  \n",
       "15  Треща́лка лиле́йная (лат. Lilioceris lilii) — ...  \n",
       "16  Всю свою жизнь Дмитрий Бурылин собирал коллекц...  "
      ]
     },
     "execution_count": 4,
     "metadata": {},
     "output_type": "execute_result"
    }
   ],
   "source": [
    "df.head()"
   ]
  },
  {
   "cell_type": "code",
   "execution_count": 5,
   "id": "816ace75-797c-4fd4-ba72-d757cd35bfd0",
   "metadata": {},
   "outputs": [
    {
     "data": {
      "text/plain": [
       "(41851, 17)"
      ]
     },
     "execution_count": 5,
     "metadata": {},
     "output_type": "execute_result"
    }
   ],
   "source": [
    "df.shape"
   ]
  },
  {
   "cell_type": "code",
   "execution_count": 6,
   "id": "b4b1814e-e201-406a-84cf-f680a815b974",
   "metadata": {},
   "outputs": [],
   "source": [
    "df = df.drop(columns=['page_changed_recently', 'page_changed_recently', 'page_url', 'image_url', 'mime_type'])"
   ]
  },
  {
   "cell_type": "code",
   "execution_count": 7,
   "id": "4963940c-21d2-407c-ad8f-2f7ecab8d986",
   "metadata": {
    "tags": []
   },
   "outputs": [],
   "source": [
    "columns = ['page_title', 'section_title', 'hierarchical_section_title', 'caption_reference_description',\n",
    "           'caption_attribution_description', 'context_page_description', 'context_section_description']"
   ]
  },
  {
   "cell_type": "code",
   "execution_count": 8,
   "id": "e80a4ce1-75a1-4a88-b2e1-4e2f8feda8c1",
   "metadata": {},
   "outputs": [],
   "source": [
    "from tqdm import tqdm\n",
    "import re"
   ]
  },
  {
   "cell_type": "code",
   "execution_count": 9,
   "id": "b9a52518-1d2a-40f2-817e-b58213bc601b",
   "metadata": {},
   "outputs": [],
   "source": [
    "df.loc[df.caption_reference_description.isna(), 'caption_alt_text_description'] = df.caption_alt_text_description"
   ]
  },
  {
   "cell_type": "code",
   "execution_count": 10,
   "id": "4ce7b9ba-5a85-47ef-8da0-a6eb547fb369",
   "metadata": {},
   "outputs": [],
   "source": [
    "df.loc[df.caption_reference_description.isna(), 'page_title'] = df.page_title"
   ]
  },
  {
   "cell_type": "code",
   "execution_count": 11,
   "id": "3eb621a7-04cc-4be4-a6a8-633c1d5d6467",
   "metadata": {},
   "outputs": [],
   "source": [
    "df = df.loc[df.caption_reference_description.notna()]"
   ]
  },
  {
   "cell_type": "code",
   "execution_count": 11,
   "id": "aca206f5-456d-4bf5-9bfa-20225627087b",
   "metadata": {
    "collapsed": true,
    "jupyter": {
     "outputs_hidden": true
    },
    "tags": []
   },
   "outputs": [
    {
     "data": {
      "text/plain": [
       "Int64Index([    0,     5,     8,    15,    16,    22,    23,    30,    32,\n",
       "               33,\n",
       "            ...\n",
       "            49975, 49976, 49980, 49982, 49988, 49989, 49993, 49995, 49997,\n",
       "            49999],\n",
       "           dtype='int64', length=18598)"
      ]
     },
     "execution_count": 11,
     "metadata": {},
     "output_type": "execute_result"
    }
   ],
   "source": [
    "df.index[:]"
   ]
  },
  {
   "cell_type": "code",
   "execution_count": 13,
   "id": "d6853c7c-5c28-4cee-8789-6d7980e8a660",
   "metadata": {
    "collapsed": true,
    "jupyter": {
     "outputs_hidden": true
    },
    "tags": []
   },
   "outputs": [
    {
     "name": "stderr",
     "output_type": "stream",
     "text": [
      "100%|██████████| 18598/18598 [00:00<00:00, 43550.41it/s]"
     ]
    },
    {
     "name": "stdout",
     "output_type": "stream",
     "text": [
      "6665\n",
      "0\n"
     ]
    },
    {
     "name": "stderr",
     "output_type": "stream",
     "text": [
      "\n"
     ]
    }
   ],
   "source": [
    "to_drop = []\n",
    "total_count = 0\n",
    "for i in tqdm(df.index[:]):\n",
    "    text = df.caption_reference_description.loc[i]\n",
    "    count = len(re.findall(r'\\b\\d+\\b', text))\n",
    "    if count > 0:\n",
    "        total_count += 1\n",
    "    if count > (1 / 3) * len(text):\n",
    "        to_drop.append(i)\n",
    "df = df.drop(to_drop)\n",
    "print(total_count)\n",
    "print(len(to_drop))"
   ]
  },
  {
   "cell_type": "code",
   "execution_count": null,
   "id": "e7cc422c-7bf9-4506-8f5d-1ce2979de2ec",
   "metadata": {},
   "outputs": [],
   "source": [
    "#s = \"aaa7 k 77 nn\" \n",
    "#s = re.sub(\"\\S*\\d\\S*\", \"\", s).strip()\n",
    "#s = re.sub(r'(?i)[a-z]', '', s)\n",
    "#s = \" \".join(s.split())\n",
    "#s"
   ]
  },
  {
   "cell_type": "code",
   "execution_count": 12,
   "id": "fcabc7fb-e0cd-4582-b974-855d57b4697c",
   "metadata": {},
   "outputs": [
    {
     "name": "stderr",
     "output_type": "stream",
     "text": [
      "  0%|          | 0/41851 [00:00<?, ?it/s]/tmp/ipykernel_3545741/2254895937.py:5: SettingWithCopyWarning: \n",
      "A value is trying to be set on a copy of a slice from a DataFrame\n",
      "\n",
      "See the caveats in the documentation: https://pandas.pydata.org/pandas-docs/stable/user_guide/indexing.html#returning-a-view-versus-a-copy\n",
      "  df[col][i] = str(df[col][i])\n",
      "/tmp/ipykernel_3545741/2254895937.py:7: SettingWithCopyWarning: \n",
      "A value is trying to be set on a copy of a slice from a DataFrame\n",
      "\n",
      "See the caveats in the documentation: https://pandas.pydata.org/pandas-docs/stable/user_guide/indexing.html#returning-a-view-versus-a-copy\n",
      "  df[col][i] = re.sub(\"\\S*\\d\\S*\", \"\", df[col][i]).strip()\n",
      "/tmp/ipykernel_3545741/2254895937.py:8: SettingWithCopyWarning: \n",
      "A value is trying to be set on a copy of a slice from a DataFrame\n",
      "\n",
      "See the caveats in the documentation: https://pandas.pydata.org/pandas-docs/stable/user_guide/indexing.html#returning-a-view-versus-a-copy\n",
      "  df[col][i] = re.sub(r'(?i)[a-z]', '', df[col][i])\n",
      "/tmp/ipykernel_3545741/2254895937.py:9: SettingWithCopyWarning: \n",
      "A value is trying to be set on a copy of a slice from a DataFrame\n",
      "\n",
      "See the caveats in the documentation: https://pandas.pydata.org/pandas-docs/stable/user_guide/indexing.html#returning-a-view-versus-a-copy\n",
      "  df[col][i] = df[col][i].replace(\"г.\", \"\").replace(\"№\", \"\").replace(\"год\", \"\")\n",
      "/tmp/ipykernel_3545741/2254895937.py:10: SettingWithCopyWarning: \n",
      "A value is trying to be set on a copy of a slice from a DataFrame\n",
      "\n",
      "See the caveats in the documentation: https://pandas.pydata.org/pandas-docs/stable/user_guide/indexing.html#returning-a-view-versus-a-copy\n",
      "  df[col][i] = \" \".join(df[col][i].split())\n",
      "/tmp/ipykernel_3545741/2254895937.py:14: SettingWithCopyWarning: \n",
      "A value is trying to be set on a copy of a slice from a DataFrame\n",
      "\n",
      "See the caveats in the documentation: https://pandas.pydata.org/pandas-docs/stable/user_guide/indexing.html#returning-a-view-versus-a-copy\n",
      "  df[col][i] = df[col][i][:-1]\n",
      "100%|██████████| 41851/41851 [06:53<00:00, 101.11it/s]"
     ]
    },
    {
     "name": "stdout",
     "output_type": "stream",
     "text": [
      "1066\n"
     ]
    },
    {
     "name": "stderr",
     "output_type": "stream",
     "text": [
      "\n"
     ]
    }
   ],
   "source": [
    "lines_to_drop = []\n",
    "for i in tqdm(df.index):\n",
    "    for col in columns:\n",
    "        #df[col] = df[col].str.replace('\\d+', '', regex=True)\n",
    "        df[col][i] = str(df[col][i])\n",
    "        #df[col][i] = df[col][i].lower() ухудшает\n",
    "        df[col][i] = re.sub(\"\\S*\\d\\S*\", \"\", df[col][i]).strip()\n",
    "        df[col][i] = re.sub(r'(?i)[a-z]', '', df[col][i])\n",
    "        df[col][i] = df[col][i].replace(\"г.\", \"\").replace(\"№\", \"\").replace(\"год\", \"\")\n",
    "        df[col][i] = \" \".join(df[col][i].split())\n",
    "        if len(df[col][i]) > 0 and df[col][i][-1] == ' ':\n",
    "            df[col][i] = df[col][i][:-1]\n",
    "        if len(df[col][i]) > 0 and df[col][i][-1] == ',':\n",
    "            df[col][i] = df[col][i][:-1]\n",
    "        #df[col][i] = df[col][i].capitalize() ухудшает\n",
    "        if col == \"caption_reference_description\" and len(df[col][i]) == 0:\n",
    "            lines_to_drop.append(i)\n",
    "print(len(lines_to_drop))"
   ]
  },
  {
   "cell_type": "code",
   "execution_count": 13,
   "id": "14435d54-0e70-4920-9ff9-38551a1b9b0e",
   "metadata": {},
   "outputs": [],
   "source": [
    "df = df.drop(lines_to_drop)"
   ]
  },
  {
   "cell_type": "code",
   "execution_count": 14,
   "id": "dcec5e7e-9174-494d-bb90-c03c6cb5f163",
   "metadata": {
    "tags": []
   },
   "outputs": [
    {
     "data": {
      "text/plain": [
       "0.24273630011033467"
      ]
     },
     "execution_count": 14,
     "metadata": {},
     "output_type": "execute_result"
    }
   ],
   "source": [
    "len(df.loc[df.caption_reference_description == df.caption_alt_text_description]) / len(df) * 100"
   ]
  },
  {
   "cell_type": "code",
   "execution_count": 15,
   "id": "80db4da3-c2c9-4094-8e1c-1848f3f3cdaf",
   "metadata": {},
   "outputs": [],
   "source": [
    "df = df.drop(columns=['caption_alt_text_description'])"
   ]
  },
  {
   "cell_type": "code",
   "execution_count": 16,
   "id": "98c4da9b-ac87-4fb0-8a5b-f62c22b4e351",
   "metadata": {},
   "outputs": [
    {
     "data": {
      "text/plain": [
       "(40785, 12)"
      ]
     },
     "execution_count": 16,
     "metadata": {},
     "output_type": "execute_result"
    }
   ],
   "source": [
    "df.shape"
   ]
  },
  {
   "cell_type": "code",
   "execution_count": 17,
   "id": "7b8b2b88-a04f-4c99-b26c-673333a834d5",
   "metadata": {},
   "outputs": [],
   "source": [
    "df.to_csv('wiki_dataset/rus_wikitext_50k_caption_reference_description_train_norm.csv')"
   ]
  },
  {
   "cell_type": "markdown",
   "id": "ea058c60-bf04-432c-9df4-68b9e0e18cb2",
   "metadata": {
    "jp-MarkdownHeadingCollapsed": true,
    "tags": []
   },
   "source": [
    "# Тестим (неактуально)"
   ]
  },
  {
   "cell_type": "code",
   "execution_count": 11,
   "id": "d26e8e72-4532-4e90-b3b4-76dc18bda03f",
   "metadata": {},
   "outputs": [],
   "source": [
    "import torch"
   ]
  },
  {
   "cell_type": "code",
   "execution_count": 12,
   "id": "7e8e98e7-d07d-4b4b-8f3a-39459f576fdb",
   "metadata": {
    "collapsed": true,
    "jupyter": {
     "outputs_hidden": true
    },
    "tags": []
   },
   "outputs": [
    {
     "name": "stdout",
     "output_type": "stream",
     "text": [
      "Looking in indexes: https://pypi.org/simple, https://pypi.ngc.nvidia.com\n",
      "Requirement already satisfied: torchmetrics==0.11.3 in /home/alexw/.local/lib/python3.8/site-packages (0.11.3)\n",
      "Requirement already satisfied: numpy>=1.17.2 in /home/alexw/.local/lib/python3.8/site-packages (from torchmetrics==0.11.3) (1.23.2)\n",
      "Requirement already satisfied: typing-extensions; python_version < \"3.9\" in /home/alexw/.local/lib/python3.8/site-packages (from torchmetrics==0.11.3) (4.3.0)\n",
      "Requirement already satisfied: packaging in /home/alexw/.local/lib/python3.8/site-packages (from torchmetrics==0.11.3) (23.0)\n",
      "Requirement already satisfied: torch>=1.8.1 in /home/alexw/.local/lib/python3.8/site-packages (from torchmetrics==0.11.3) (1.13.1)\n",
      "Requirement already satisfied: nvidia-cublas-cu11==11.10.3.66; platform_system == \"Linux\" in /home/alexw/.local/lib/python3.8/site-packages (from torch>=1.8.1->torchmetrics==0.11.3) (11.10.3.66)\n",
      "Requirement already satisfied: nvidia-cudnn-cu11==8.5.0.96; platform_system == \"Linux\" in /home/alexw/.local/lib/python3.8/site-packages (from torch>=1.8.1->torchmetrics==0.11.3) (8.5.0.96)\n",
      "Requirement already satisfied: nvidia-cuda-runtime-cu11==11.7.99; platform_system == \"Linux\" in /home/alexw/.local/lib/python3.8/site-packages (from torch>=1.8.1->torchmetrics==0.11.3) (11.7.99)\n",
      "Requirement already satisfied: nvidia-cuda-nvrtc-cu11==11.7.99; platform_system == \"Linux\" in /home/alexw/.local/lib/python3.8/site-packages (from torch>=1.8.1->torchmetrics==0.11.3) (11.7.99)\n",
      "Requirement already satisfied: setuptools in /home/alexw/.local/lib/python3.8/site-packages (from nvidia-cublas-cu11==11.10.3.66; platform_system == \"Linux\"->torch>=1.8.1->torchmetrics==0.11.3) (59.8.0)\n",
      "Requirement already satisfied: wheel in /usr/lib/python3/dist-packages (from nvidia-cublas-cu11==11.10.3.66; platform_system == \"Linux\"->torch>=1.8.1->torchmetrics==0.11.3) (0.34.2)\n"
     ]
    }
   ],
   "source": [
    "!pip install torchmetrics == 0.11.3"
   ]
  },
  {
   "cell_type": "code",
   "execution_count": 13,
   "id": "d171d5e3-a283-42f0-874f-9ed87e5b93e3",
   "metadata": {
    "collapsed": true,
    "jupyter": {
     "outputs_hidden": true
    },
    "tags": []
   },
   "outputs": [
    {
     "name": "stdout",
     "output_type": "stream",
     "text": [
      "Looking in indexes: https://pypi.org/simple, https://pypi.ngc.nvidia.com\n",
      "Requirement already satisfied: transformers==4.26.1 in /home/alexw/.local/lib/python3.8/site-packages (4.26.1)\n",
      "Requirement already satisfied: numpy>=1.17 in /home/alexw/.local/lib/python3.8/site-packages (from transformers==4.26.1) (1.23.2)\n",
      "Requirement already satisfied: huggingface-hub<1.0,>=0.11.0 in /home/alexw/.local/lib/python3.8/site-packages (from transformers==4.26.1) (0.12.0)\n",
      "Requirement already satisfied: filelock in /home/alexw/.local/lib/python3.8/site-packages (from transformers==4.26.1) (3.8.0)\n",
      "Requirement already satisfied: pyyaml>=5.1 in /home/alexw/.local/lib/python3.8/site-packages (from transformers==4.26.1) (6.0)\n",
      "Requirement already satisfied: regex!=2019.12.17 in /home/alexw/.local/lib/python3.8/site-packages (from transformers==4.26.1) (2022.8.17)\n",
      "Requirement already satisfied: tokenizers!=0.11.3,<0.14,>=0.11.1 in /home/alexw/.local/lib/python3.8/site-packages (from transformers==4.26.1) (0.13.2)\n",
      "Requirement already satisfied: requests in /home/alexw/.local/lib/python3.8/site-packages (from transformers==4.26.1) (2.28.1)\n",
      "Requirement already satisfied: tqdm>=4.27 in /home/alexw/.local/lib/python3.8/site-packages (from transformers==4.26.1) (4.64.1)\n",
      "Requirement already satisfied: packaging>=20.0 in /home/alexw/.local/lib/python3.8/site-packages (from transformers==4.26.1) (23.0)\n",
      "Requirement already satisfied: typing-extensions>=3.7.4.3 in /home/alexw/.local/lib/python3.8/site-packages (from huggingface-hub<1.0,>=0.11.0->transformers==4.26.1) (4.3.0)\n",
      "Requirement already satisfied: certifi>=2017.4.17 in /home/alexw/.local/lib/python3.8/site-packages (from requests->transformers==4.26.1) (2022.12.7)\n",
      "Requirement already satisfied: idna<4,>=2.5 in /home/alexw/.local/lib/python3.8/site-packages (from requests->transformers==4.26.1) (2.10)\n",
      "Requirement already satisfied: urllib3<1.27,>=1.21.1 in /home/alexw/.local/lib/python3.8/site-packages (from requests->transformers==4.26.1) (1.26.12)\n",
      "Requirement already satisfied: charset-normalizer<3,>=2 in /home/alexw/.local/lib/python3.8/site-packages (from requests->transformers==4.26.1) (2.1.1)\n"
     ]
    }
   ],
   "source": [
    "!pip install transformers == 4.26.1"
   ]
  },
  {
   "cell_type": "code",
   "execution_count": 26,
   "id": "7e58b6c4-bb5b-4ff9-81d5-1aef4b87de31",
   "metadata": {
    "collapsed": true,
    "jupyter": {
     "outputs_hidden": true
    },
    "tags": []
   },
   "outputs": [
    {
     "data": {
      "application/vnd.jupyter.widget-view+json": {
       "model_id": "40a09a0ff6b44ff78badbe06f0bb21b9",
       "version_major": 2,
       "version_minor": 0
      },
      "text/plain": [
       "Downloading (…)lve/main/config.json:   0%|          | 0.00/4.10k [00:00<?, ?B/s]"
      ]
     },
     "metadata": {},
     "output_type": "display_data"
    },
    {
     "data": {
      "application/vnd.jupyter.widget-view+json": {
       "model_id": "e30f74b6766d479a898d25fa7eafa388",
       "version_major": 2,
       "version_minor": 0
      },
      "text/plain": [
       "Downloading (…)\"pytorch_model.bin\";:   0%|          | 0.00/599M [00:00<?, ?B/s]"
      ]
     },
     "metadata": {},
     "output_type": "display_data"
    },
    {
     "data": {
      "application/vnd.jupyter.widget-view+json": {
       "model_id": "53c7a7be6e07437c88e67e1ab9694b22",
       "version_major": 2,
       "version_minor": 0
      },
      "text/plain": [
       "Downloading (…)rocessor_config.json:   0%|          | 0.00/316 [00:00<?, ?B/s]"
      ]
     },
     "metadata": {},
     "output_type": "display_data"
    },
    {
     "data": {
      "application/vnd.jupyter.widget-view+json": {
       "model_id": "958ae3a3b0364fd1855f229eb83c6e09",
       "version_major": 2,
       "version_minor": 0
      },
      "text/plain": [
       "Downloading (…)okenizer_config.json:   0%|          | 0.00/905 [00:00<?, ?B/s]"
      ]
     },
     "metadata": {},
     "output_type": "display_data"
    },
    {
     "data": {
      "application/vnd.jupyter.widget-view+json": {
       "model_id": "1ee3c071cce4431f8d2f9e4f83f357fe",
       "version_major": 2,
       "version_minor": 0
      },
      "text/plain": [
       "Downloading (…)olve/main/vocab.json:   0%|          | 0.00/961k [00:00<?, ?B/s]"
      ]
     },
     "metadata": {},
     "output_type": "display_data"
    },
    {
     "data": {
      "application/vnd.jupyter.widget-view+json": {
       "model_id": "692d76dd566d4c8eb7fefcad14a254fc",
       "version_major": 2,
       "version_minor": 0
      },
      "text/plain": [
       "Downloading (…)olve/main/merges.txt:   0%|          | 0.00/525k [00:00<?, ?B/s]"
      ]
     },
     "metadata": {},
     "output_type": "display_data"
    },
    {
     "data": {
      "application/vnd.jupyter.widget-view+json": {
       "model_id": "652e2dd700284e3c819dffb42427acc6",
       "version_major": 2,
       "version_minor": 0
      },
      "text/plain": [
       "Downloading (…)/main/tokenizer.json:   0%|          | 0.00/2.22M [00:00<?, ?B/s]"
      ]
     },
     "metadata": {},
     "output_type": "display_data"
    },
    {
     "data": {
      "application/vnd.jupyter.widget-view+json": {
       "model_id": "783977c9a7474cbe826434630fc212f9",
       "version_major": 2,
       "version_minor": 0
      },
      "text/plain": [
       "Downloading (…)cial_tokens_map.json:   0%|          | 0.00/389 [00:00<?, ?B/s]"
      ]
     },
     "metadata": {},
     "output_type": "display_data"
    }
   ],
   "source": [
    "from torchmetrics.multimodal import CLIPScore\n",
    "\n",
    "metric = CLIPScore(model_name_or_path=\"openai/clip-vit-base-patch16\")"
   ]
  },
  {
   "cell_type": "code",
   "execution_count": 27,
   "id": "868acf69-d16f-4ed2-a063-e98803a67d22",
   "metadata": {},
   "outputs": [],
   "source": [
    "import torchvision.transforms as transforms\n",
    "from PIL import Image\n",
    "\n",
    "\n",
    "def read_image(path):\n",
    "    img = Image.open(path).convert('RGB')\n",
    "\n",
    "    resize = transforms.Resize([224, 224])\n",
    "    img = resize(img)\n",
    "    to_tensor = transforms.ToTensor()\n",
    "\n",
    "    tensor = to_tensor(img)\n",
    "    return tensor"
   ]
  },
  {
   "cell_type": "code",
   "execution_count": 16,
   "id": "f90f1928-ca71-4adc-abe3-3ab9c79fd2e6",
   "metadata": {},
   "outputs": [],
   "source": [
    "images = torch.load('wiki_img_tensor.pt')\n",
    "wikiScore = metric(images[0], df.caption_reference_description.loc[0])"
   ]
  },
  {
   "cell_type": "code",
   "execution_count": 17,
   "id": "f9ba7b1f-6627-48b5-896e-b32c134b0be1",
   "metadata": {},
   "outputs": [
    {
     "data": {
      "text/plain": [
       "tensor(19.9878)"
      ]
     },
     "execution_count": 17,
     "metadata": {},
     "output_type": "execute_result"
    }
   ],
   "source": [
    "wikiScore.detach()"
   ]
  },
  {
   "cell_type": "code",
   "execution_count": 19,
   "id": "2ed48111-149b-4a81-a8d1-165006165deb",
   "metadata": {},
   "outputs": [
    {
     "name": "stderr",
     "output_type": "stream",
     "text": [
      "  0%|          | 9/9278 [00:02<40:00,  3.86it/s]  Token indices sequence length is longer than the specified maximum sequence length for this model (163 > 77). Running this sequence through the model will result in indexing errors\n",
      "100%|██████████| 9278/9278 [28:53<00:00,  5.35it/s]\n"
     ]
    }
   ],
   "source": [
    "scores_wiki = []\n",
    "j = 0\n",
    "for i in tqdm(df.index[:]):\n",
    "    text = df.caption_reference_description.loc[i]\n",
    "    try:\n",
    "        #wikiScore = metric(read_image(f\"wiki_dataset/images/image_{i}.jpg\"), text)\n",
    "        wikiScore = metric(images[j], text)\n",
    "        scores_wiki.append(wikiScore.detach())\n",
    "    except KeyboardInterrupt:\n",
    "        print(\"stop\")\n",
    "        break\n",
    "    except:\n",
    "        # print(f\"exception on {i}\")\n",
    "        pass\n",
    "    j += 1\n",
    "mean_wiki = sum(scores_wiki) / len(scores_wiki)"
   ]
  },
  {
   "cell_type": "code",
   "execution_count": 20,
   "id": "d3410afd-5b90-429d-8f64-88f163b2deb7",
   "metadata": {},
   "outputs": [
    {
     "data": {
      "text/plain": [
       "tensor(21.9187)"
      ]
     },
     "execution_count": 20,
     "metadata": {},
     "output_type": "execute_result"
    }
   ],
   "source": [
    "mean_wiki  # оценка wiki"
   ]
  },
  {
   "cell_type": "code",
   "execution_count": 21,
   "id": "fbb5fa7e-4e20-4a8e-a9cd-090f80f94e64",
   "metadata": {},
   "outputs": [
    {
     "name": "stdout",
     "output_type": "stream",
     "text": [
      "loading annotations into memory...\n",
      "Done (t=0.89s)\n",
      "creating index...\n",
      "index created!\n"
     ]
    }
   ],
   "source": [
    "import torchvision.datasets as dset\n",
    "\n",
    "coco_train = dset.CocoDetection(root=\"coco_dataset/train2017\",\n",
    "                                annFile=\"coco_dataset/annotations/captions_train2017.json\")"
   ]
  },
  {
   "cell_type": "code",
   "execution_count": 27,
   "id": "8073c27e-0f01-4644-b221-f180ba66e800",
   "metadata": {},
   "outputs": [
    {
     "name": "stderr",
     "output_type": "stream",
     "text": [
      "100%|██████████| 9278/9278 [33:58<00:00,  4.55it/s]\n"
     ]
    }
   ],
   "source": [
    "scores_coco = []\n",
    "for i in tqdm(range(9278)):\n",
    "    image, captions = coco_train[i]\n",
    "    name = str(captions[0]['image_id'])\n",
    "    name = \"0\" * (12 - len(name)) + name\n",
    "    name = f\"coco_dataset/train2017/{name}.jpg\"\n",
    "    text = captions[0]['caption']\n",
    "    cocoScore = metric(read_image(name), text)\n",
    "    scores_coco.append(cocoScore.detach())\n",
    "mean_coco = sum(scores_coco) / len(scores_coco)"
   ]
  },
  {
   "cell_type": "code",
   "execution_count": 28,
   "id": "4da7f626-516e-4d7f-8c81-594e604d4649",
   "metadata": {},
   "outputs": [
    {
     "data": {
      "text/plain": [
       "tensor(30.4789)"
      ]
     },
     "execution_count": 28,
     "metadata": {},
     "output_type": "execute_result"
    }
   ],
   "source": [
    "mean_coco  # оценка coco"
   ]
  },
  {
   "cell_type": "code",
   "execution_count": 30,
   "id": "c76fa916-9690-4967-a950-3aa60e285522",
   "metadata": {
    "collapsed": true,
    "jupyter": {
     "outputs_hidden": true
    },
    "tags": []
   },
   "outputs": [
    {
     "name": "stdout",
     "output_type": "stream",
     "text": [
      "huggingface/tokenizers: The current process just got forked, after parallelism has already been used. Disabling parallelism to avoid deadlocks...\n",
      "To disable this warning, you can either:\n",
      "\t- Avoid using `tokenizers` before the fork if possible\n",
      "\t- Explicitly set the environment variable TOKENIZERS_PARALLELISM=(true | false)\n",
      "Looking in indexes: https://pypi.org/simple, https://pypi.ngc.nvidia.com\n",
      "/usr/share/python-wheels/urllib3-1.25.8-py2.py3-none-any.whl/urllib3/connectionpool.py:999: InsecureRequestWarning: Unverified HTTPS request is being made to host 'pypi.ngc.nvidia.com'. Adding certificate verification is strongly advised. See: https://urllib3.readthedocs.io/en/latest/advanced-usage.html#ssl-warnings\n",
      "Collecting googletrans==3.1.0a0\n",
      "  Downloading googletrans-3.1.0a0.tar.gz (19 kB)\n",
      "/usr/share/python-wheels/urllib3-1.25.8-py2.py3-none-any.whl/urllib3/connectionpool.py:999: InsecureRequestWarning: Unverified HTTPS request is being made to host 'pypi.ngc.nvidia.com'. Adding certificate verification is strongly advised. See: https://urllib3.readthedocs.io/en/latest/advanced-usage.html#ssl-warnings\n",
      "Collecting httpx==0.13.3\n",
      "  Downloading httpx-0.13.3-py3-none-any.whl (55 kB)\n",
      "\u001B[K     |████████████████████████████████| 55 kB 5.7 MB/s eta 0:00:011\n",
      "\u001B[?25hRequirement already satisfied: chardet==3.* in /usr/lib/python3/dist-packages (from httpx==0.13.3->googletrans==3.1.0a0) (3.0.4)\n",
      "/usr/share/python-wheels/urllib3-1.25.8-py2.py3-none-any.whl/urllib3/connectionpool.py:999: InsecureRequestWarning: Unverified HTTPS request is being made to host 'pypi.ngc.nvidia.com'. Adding certificate verification is strongly advised. See: https://urllib3.readthedocs.io/en/latest/advanced-usage.html#ssl-warnings\n",
      "Collecting httpcore==0.9.*\n",
      "  Downloading httpcore-0.9.1-py3-none-any.whl (42 kB)\n",
      "\u001B[K     |████████████████████████████████| 42 kB 30.5 MB/s eta 0:00:01\n",
      "\u001B[?25hRequirement already satisfied: certifi in /home/alexw/.local/lib/python3.8/site-packages (from httpx==0.13.3->googletrans==3.1.0a0) (2022.12.7)\n",
      "/usr/share/python-wheels/urllib3-1.25.8-py2.py3-none-any.whl/urllib3/connectionpool.py:999: InsecureRequestWarning: Unverified HTTPS request is being made to host 'pypi.ngc.nvidia.com'. Adding certificate verification is strongly advised. See: https://urllib3.readthedocs.io/en/latest/advanced-usage.html#ssl-warnings\n",
      "Collecting hstspreload\n",
      "  Downloading hstspreload-2023.1.1-py3-none-any.whl (1.5 MB)\n",
      "\u001B[K     |████████████████████████████████| 1.5 MB 8.6 MB/s eta 0:00:01\n",
      "\u001B[?25hRequirement already satisfied: rfc3986<2,>=1.3 in /home/alexw/.local/lib/python3.8/site-packages (from httpx==0.13.3->googletrans==3.1.0a0) (1.5.0)\n",
      "Requirement already satisfied: sniffio in /home/alexw/.local/lib/python3.8/site-packages (from httpx==0.13.3->googletrans==3.1.0a0) (1.3.0)\n",
      "/usr/share/python-wheels/urllib3-1.25.8-py2.py3-none-any.whl/urllib3/connectionpool.py:999: InsecureRequestWarning: Unverified HTTPS request is being made to host 'pypi.ngc.nvidia.com'. Adding certificate verification is strongly advised. See: https://urllib3.readthedocs.io/en/latest/advanced-usage.html#ssl-warnings\n",
      "Collecting idna==2.*\n",
      "  Downloading idna-2.10-py2.py3-none-any.whl (58 kB)\n",
      "\u001B[K     |████████████████████████████████| 58 kB 36.1 MB/s eta 0:00:01\n",
      "/usr/share/python-wheels/urllib3-1.25.8-py2.py3-none-any.whl/urllib3/connectionpool.py:999: InsecureRequestWarning: Unverified HTTPS request is being made to host 'pypi.ngc.nvidia.com'. Adding certificate verification is strongly advised. See: https://urllib3.readthedocs.io/en/latest/advanced-usage.html#ssl-warnings\n",
      "\u001B[?25hCollecting h2==3.*\n",
      "  Downloading h2-3.2.0-py2.py3-none-any.whl (65 kB)\n",
      "\u001B[K     |████████████████████████████████| 65 kB 72.1 MB/s eta 0:00:01\n",
      "/usr/share/python-wheels/urllib3-1.25.8-py2.py3-none-any.whl/urllib3/connectionpool.py:999: InsecureRequestWarning: Unverified HTTPS request is being made to host 'pypi.ngc.nvidia.com'. Adding certificate verification is strongly advised. See: https://urllib3.readthedocs.io/en/latest/advanced-usage.html#ssl-warnings\n",
      "\u001B[?25hCollecting h11<0.10,>=0.8\n",
      "  Downloading h11-0.9.0-py2.py3-none-any.whl (53 kB)\n",
      "\u001B[K     |████████████████████████████████| 53 kB 60.6 MB/s eta 0:00:01\n",
      "/usr/share/python-wheels/urllib3-1.25.8-py2.py3-none-any.whl/urllib3/connectionpool.py:999: InsecureRequestWarning: Unverified HTTPS request is being made to host 'pypi.ngc.nvidia.com'. Adding certificate verification is strongly advised. See: https://urllib3.readthedocs.io/en/latest/advanced-usage.html#ssl-warnings\n",
      "\u001B[?25hCollecting hpack<4,>=3.0\n",
      "  Downloading hpack-3.0.0-py2.py3-none-any.whl (38 kB)\n",
      "/usr/share/python-wheels/urllib3-1.25.8-py2.py3-none-any.whl/urllib3/connectionpool.py:999: InsecureRequestWarning: Unverified HTTPS request is being made to host 'pypi.ngc.nvidia.com'. Adding certificate verification is strongly advised. See: https://urllib3.readthedocs.io/en/latest/advanced-usage.html#ssl-warnings\n",
      "Collecting hyperframe<6,>=5.2.0\n",
      "  Downloading hyperframe-5.2.0-py2.py3-none-any.whl (12 kB)\n",
      "Building wheels for collected packages: googletrans\n",
      "  Building wheel for googletrans (setup.py) ... \u001B[?25ldone\n",
      "\u001B[?25h  Created wheel for googletrans: filename=googletrans-3.1.0a0-py3-none-any.whl size=16367 sha256=b6cd072bbd6f1292eda722f12fbdaaafb4e59daf97df0799f057666667041d2b\n",
      "  Stored in directory: /tmp/pip-ephem-wheel-cache-dc1ena6s/wheels/dd/59/af/8d6c96a719763990f1c548e36b17d9efdfb767f42f7ff39f53\n",
      "Successfully built googletrans\n",
      "\u001B[31mERROR: gradio 3.4.0 has requirement h11<0.13,>=0.11, but you'll have h11 0.9.0 which is incompatible.\u001B[0m\n",
      "\u001B[31mERROR: jupyterlab-server 2.15.1 has requirement jupyter-server<2,>=1.8, but you'll have jupyter-server 2.3.0 which is incompatible.\u001B[0m\n",
      "\u001B[31mERROR: google-api-core 2.10.1 has requirement protobuf<5.0.0dev,>=3.20.1, but you'll have protobuf 3.19.6 which is incompatible.\u001B[0m\n",
      "\u001B[31mERROR: flair 0.11.3 has requirement gdown==4.4.0, but you'll have gdown 4.6.0 which is incompatible.\u001B[0m\n",
      "\u001B[31mERROR: flair 0.11.3 has requirement sentencepiece==0.1.95, but you'll have sentencepiece 0.1.96 which is incompatible.\u001B[0m\n",
      "\u001B[31mERROR: torchtext 0.11.2 has requirement torch==1.10.2, but you'll have torch 1.13.1 which is incompatible.\u001B[0m\n",
      "\u001B[31mERROR: textattack 0.3.4 has requirement tqdm<4.50.0,>=4.27, but you'll have tqdm 4.64.1 which is incompatible.\u001B[0m\n",
      "\u001B[31mERROR: clean-fid 0.1.32 has requirement requests==2.25.1, but you'll have requests 2.28.1 which is incompatible.\u001B[0m\n",
      "\u001B[31mERROR: segmentation-models-pytorch 0.1.3 has requirement timm==0.3.2, but you'll have timm 0.4.12 which is incompatible.\u001B[0m\n",
      "\u001B[31mERROR: torchcrepe 0.0.17 has requirement librosa==0.9.1, but you'll have librosa 0.9.2 which is incompatible.\u001B[0m\n",
      "\u001B[31mERROR: ruclip 0.0.2 has requirement huggingface-hub==0.2.1, but you'll have huggingface-hub 0.12.0 which is incompatible.\u001B[0m\n",
      "\u001B[31mERROR: rutransform 0.0.1 has requirement datasets==1.10.0, but you'll have datasets 2.9.0 which is incompatible.\u001B[0m\n",
      "\u001B[31mERROR: rutransform 0.0.1 has requirement torch==1.10.2, but you'll have torch 1.13.1 which is incompatible.\u001B[0m\n",
      "\u001B[31mERROR: rutransform 0.0.1 has requirement tqdm==4.49.0, but you'll have tqdm 4.64.1 which is incompatible.\u001B[0m\n",
      "\u001B[31mERROR: rutransform 0.0.1 has requirement transformers==4.12.2, but you'll have transformers 4.26.1 which is incompatible.\u001B[0m\n",
      "\u001B[31mERROR: rudolph 0.0.1rc10 has requirement einops~=0.3.2, but you'll have einops 0.6.0 which is incompatible.\u001B[0m\n",
      "\u001B[31mERROR: rudolph 0.0.1rc10 has requirement rudalle==1.1.3, but you'll have rudalle 1.1.0 which is incompatible.\u001B[0m\n",
      "\u001B[31mERROR: rudolph 0.0.1rc10 has requirement transformers~=4.10.2, but you'll have transformers 4.26.1 which is incompatible.\u001B[0m\n",
      "Installing collected packages: hpack, hyperframe, h2, h11, httpcore, hstspreload, idna, httpx, googletrans\n",
      "  Attempting uninstall: h11\n",
      "    Found existing installation: h11 0.12.0\n",
      "    Uninstalling h11-0.12.0:\n",
      "      Successfully uninstalled h11-0.12.0\n",
      "  Attempting uninstall: httpcore\n",
      "    Found existing installation: httpcore 0.15.0\n",
      "    Uninstalling httpcore-0.15.0:\n",
      "      Successfully uninstalled httpcore-0.15.0\n",
      "  Attempting uninstall: idna\n",
      "    Found existing installation: idna 3.4\n",
      "    Uninstalling idna-3.4:\n",
      "      Successfully uninstalled idna-3.4\n",
      "  Attempting uninstall: httpx\n",
      "    Found existing installation: httpx 0.23.0\n",
      "    Uninstalling httpx-0.23.0:\n",
      "      Successfully uninstalled httpx-0.23.0\n",
      "Successfully installed googletrans-3.1.0a0 h11-0.9.0 h2-3.2.0 hpack-3.0.0 hstspreload-2023.1.1 httpcore-0.9.1 httpx-0.13.3 hyperframe-5.2.0 idna-2.10\n"
     ]
    }
   ],
   "source": [
    "!pip install googletrans == 3.1.0a0"
   ]
  },
  {
   "cell_type": "code",
   "execution_count": 74,
   "id": "01278351-0ff1-4fa6-ae8e-fc9cb81e63ae",
   "metadata": {
    "collapsed": true,
    "jupyter": {
     "outputs_hidden": true
    },
    "tags": []
   },
   "outputs": [
    {
     "name": "stderr",
     "output_type": "stream",
     "text": [
      "  1%|          | 29/5000 [00:10<29:24,  2.82it/s]\n"
     ]
    },
    {
     "ename": "KeyboardInterrupt",
     "evalue": "",
     "output_type": "error",
     "traceback": [
      "\u001B[0;31m---------------------------------------------------------------------------\u001B[0m",
      "\u001B[0;31mKeyboardInterrupt\u001B[0m                         Traceback (most recent call last)",
      "Cell \u001B[0;32mIn[74], line 8\u001B[0m\n\u001B[1;32m      6\u001B[0m image, captions \u001B[38;5;241m=\u001B[39m coco_train[i]\n\u001B[1;32m      7\u001B[0m text \u001B[38;5;241m=\u001B[39m captions[\u001B[38;5;241m0\u001B[39m][\u001B[38;5;124m'\u001B[39m\u001B[38;5;124mcaption\u001B[39m\u001B[38;5;124m'\u001B[39m]\n\u001B[0;32m----> 8\u001B[0m translated_text\u001B[38;5;241m.\u001B[39mappend(\u001B[43mtranslator\u001B[49m\u001B[38;5;241;43m.\u001B[39;49m\u001B[43mtranslate\u001B[49m\u001B[43m(\u001B[49m\u001B[43mtext\u001B[49m\u001B[43m,\u001B[49m\u001B[43m \u001B[49m\u001B[43mdest\u001B[49m\u001B[38;5;241;43m=\u001B[39;49m\u001B[38;5;124;43m\"\u001B[39;49m\u001B[38;5;124;43mru\u001B[39;49m\u001B[38;5;124;43m\"\u001B[39;49m\u001B[43m,\u001B[49m\u001B[43m \u001B[49m\u001B[43msrc\u001B[49m\u001B[38;5;241;43m=\u001B[39;49m\u001B[38;5;124;43m\"\u001B[39;49m\u001B[38;5;124;43men\u001B[39;49m\u001B[38;5;124;43m\"\u001B[39;49m\u001B[43m)\u001B[49m\u001B[38;5;241m.\u001B[39mtext)\n",
      "File \u001B[0;32m~/.local/lib/python3.8/site-packages/googletrans/client.py:210\u001B[0m, in \u001B[0;36mTranslator.translate\u001B[0;34m(self, text, dest, src, **kwargs)\u001B[0m\n\u001B[1;32m    207\u001B[0m     \u001B[38;5;28;01mreturn\u001B[39;00m result\n\u001B[1;32m    209\u001B[0m origin \u001B[38;5;241m=\u001B[39m text\n\u001B[0;32m--> 210\u001B[0m data, response \u001B[38;5;241m=\u001B[39m \u001B[38;5;28;43mself\u001B[39;49m\u001B[38;5;241;43m.\u001B[39;49m\u001B[43m_translate\u001B[49m\u001B[43m(\u001B[49m\u001B[43mtext\u001B[49m\u001B[43m,\u001B[49m\u001B[43m \u001B[49m\u001B[43mdest\u001B[49m\u001B[43m,\u001B[49m\u001B[43m \u001B[49m\u001B[43msrc\u001B[49m\u001B[43m,\u001B[49m\u001B[43m \u001B[49m\u001B[43mkwargs\u001B[49m\u001B[43m)\u001B[49m\n\u001B[1;32m    212\u001B[0m \u001B[38;5;66;03m# this code will be updated when the format is changed.\u001B[39;00m\n\u001B[1;32m    213\u001B[0m translated \u001B[38;5;241m=\u001B[39m \u001B[38;5;124m'\u001B[39m\u001B[38;5;124m'\u001B[39m\u001B[38;5;241m.\u001B[39mjoin([d[\u001B[38;5;241m0\u001B[39m] \u001B[38;5;28;01mif\u001B[39;00m d[\u001B[38;5;241m0\u001B[39m] \u001B[38;5;28;01melse\u001B[39;00m \u001B[38;5;124m'\u001B[39m\u001B[38;5;124m'\u001B[39m \u001B[38;5;28;01mfor\u001B[39;00m d \u001B[38;5;129;01min\u001B[39;00m data[\u001B[38;5;241m0\u001B[39m]])\n",
      "File \u001B[0;32m~/.local/lib/python3.8/site-packages/googletrans/client.py:108\u001B[0m, in \u001B[0;36mTranslator._translate\u001B[0;34m(self, text, dest, src, override)\u001B[0m\n\u001B[1;32m    104\u001B[0m params \u001B[38;5;241m=\u001B[39m utils\u001B[38;5;241m.\u001B[39mbuild_params(client\u001B[38;5;241m=\u001B[39m\u001B[38;5;28mself\u001B[39m\u001B[38;5;241m.\u001B[39mclient_type, query\u001B[38;5;241m=\u001B[39mtext, src\u001B[38;5;241m=\u001B[39msrc, dest\u001B[38;5;241m=\u001B[39mdest,\n\u001B[1;32m    105\u001B[0m                             token\u001B[38;5;241m=\u001B[39mtoken, override\u001B[38;5;241m=\u001B[39moverride)\n\u001B[1;32m    107\u001B[0m url \u001B[38;5;241m=\u001B[39m urls\u001B[38;5;241m.\u001B[39mTRANSLATE\u001B[38;5;241m.\u001B[39mformat(host\u001B[38;5;241m=\u001B[39m\u001B[38;5;28mself\u001B[39m\u001B[38;5;241m.\u001B[39m_pick_service_url())\n\u001B[0;32m--> 108\u001B[0m r \u001B[38;5;241m=\u001B[39m \u001B[38;5;28;43mself\u001B[39;49m\u001B[38;5;241;43m.\u001B[39;49m\u001B[43mclient\u001B[49m\u001B[38;5;241;43m.\u001B[39;49m\u001B[43mget\u001B[49m\u001B[43m(\u001B[49m\u001B[43murl\u001B[49m\u001B[43m,\u001B[49m\u001B[43m \u001B[49m\u001B[43mparams\u001B[49m\u001B[38;5;241;43m=\u001B[39;49m\u001B[43mparams\u001B[49m\u001B[43m)\u001B[49m\n\u001B[1;32m    110\u001B[0m \u001B[38;5;28;01mif\u001B[39;00m r\u001B[38;5;241m.\u001B[39mstatus_code \u001B[38;5;241m==\u001B[39m \u001B[38;5;241m200\u001B[39m:\n\u001B[1;32m    111\u001B[0m     data \u001B[38;5;241m=\u001B[39m utils\u001B[38;5;241m.\u001B[39mformat_json(r\u001B[38;5;241m.\u001B[39mtext)\n",
      "File \u001B[0;32m~/.local/lib/python3.8/site-packages/httpx/_client.py:755\u001B[0m, in \u001B[0;36mClient.get\u001B[0;34m(self, url, params, headers, cookies, auth, allow_redirects, timeout)\u001B[0m\n\u001B[1;32m    744\u001B[0m \u001B[38;5;28;01mdef\u001B[39;00m \u001B[38;5;21mget\u001B[39m(\n\u001B[1;32m    745\u001B[0m     \u001B[38;5;28mself\u001B[39m,\n\u001B[1;32m    746\u001B[0m     url: URLTypes,\n\u001B[0;32m   (...)\u001B[0m\n\u001B[1;32m    753\u001B[0m     timeout: typing\u001B[38;5;241m.\u001B[39mUnion[TimeoutTypes, UnsetType] \u001B[38;5;241m=\u001B[39m UNSET,\n\u001B[1;32m    754\u001B[0m ) \u001B[38;5;241m-\u001B[39m\u001B[38;5;241m>\u001B[39m Response:\n\u001B[0;32m--> 755\u001B[0m     \u001B[38;5;28;01mreturn\u001B[39;00m \u001B[38;5;28;43mself\u001B[39;49m\u001B[38;5;241;43m.\u001B[39;49m\u001B[43mrequest\u001B[49m\u001B[43m(\u001B[49m\n\u001B[1;32m    756\u001B[0m \u001B[43m        \u001B[49m\u001B[38;5;124;43m\"\u001B[39;49m\u001B[38;5;124;43mGET\u001B[39;49m\u001B[38;5;124;43m\"\u001B[39;49m\u001B[43m,\u001B[49m\n\u001B[1;32m    757\u001B[0m \u001B[43m        \u001B[49m\u001B[43murl\u001B[49m\u001B[43m,\u001B[49m\n\u001B[1;32m    758\u001B[0m \u001B[43m        \u001B[49m\u001B[43mparams\u001B[49m\u001B[38;5;241;43m=\u001B[39;49m\u001B[43mparams\u001B[49m\u001B[43m,\u001B[49m\n\u001B[1;32m    759\u001B[0m \u001B[43m        \u001B[49m\u001B[43mheaders\u001B[49m\u001B[38;5;241;43m=\u001B[39;49m\u001B[43mheaders\u001B[49m\u001B[43m,\u001B[49m\n\u001B[1;32m    760\u001B[0m \u001B[43m        \u001B[49m\u001B[43mcookies\u001B[49m\u001B[38;5;241;43m=\u001B[39;49m\u001B[43mcookies\u001B[49m\u001B[43m,\u001B[49m\n\u001B[1;32m    761\u001B[0m \u001B[43m        \u001B[49m\u001B[43mauth\u001B[49m\u001B[38;5;241;43m=\u001B[39;49m\u001B[43mauth\u001B[49m\u001B[43m,\u001B[49m\n\u001B[1;32m    762\u001B[0m \u001B[43m        \u001B[49m\u001B[43mallow_redirects\u001B[49m\u001B[38;5;241;43m=\u001B[39;49m\u001B[43mallow_redirects\u001B[49m\u001B[43m,\u001B[49m\n\u001B[1;32m    763\u001B[0m \u001B[43m        \u001B[49m\u001B[43mtimeout\u001B[49m\u001B[38;5;241;43m=\u001B[39;49m\u001B[43mtimeout\u001B[49m\u001B[43m,\u001B[49m\n\u001B[1;32m    764\u001B[0m \u001B[43m    \u001B[49m\u001B[43m)\u001B[49m\n",
      "File \u001B[0;32m~/.local/lib/python3.8/site-packages/httpx/_client.py:600\u001B[0m, in \u001B[0;36mClient.request\u001B[0;34m(self, method, url, data, files, json, params, headers, cookies, auth, allow_redirects, timeout)\u001B[0m\n\u001B[1;32m    575\u001B[0m \u001B[38;5;28;01mdef\u001B[39;00m \u001B[38;5;21mrequest\u001B[39m(\n\u001B[1;32m    576\u001B[0m     \u001B[38;5;28mself\u001B[39m,\n\u001B[1;32m    577\u001B[0m     method: \u001B[38;5;28mstr\u001B[39m,\n\u001B[0;32m   (...)\u001B[0m\n\u001B[1;32m    588\u001B[0m     timeout: typing\u001B[38;5;241m.\u001B[39mUnion[TimeoutTypes, UnsetType] \u001B[38;5;241m=\u001B[39m UNSET,\n\u001B[1;32m    589\u001B[0m ) \u001B[38;5;241m-\u001B[39m\u001B[38;5;241m>\u001B[39m Response:\n\u001B[1;32m    590\u001B[0m     request \u001B[38;5;241m=\u001B[39m \u001B[38;5;28mself\u001B[39m\u001B[38;5;241m.\u001B[39mbuild_request(\n\u001B[1;32m    591\u001B[0m         method\u001B[38;5;241m=\u001B[39mmethod,\n\u001B[1;32m    592\u001B[0m         url\u001B[38;5;241m=\u001B[39murl,\n\u001B[0;32m   (...)\u001B[0m\n\u001B[1;32m    598\u001B[0m         cookies\u001B[38;5;241m=\u001B[39mcookies,\n\u001B[1;32m    599\u001B[0m     )\n\u001B[0;32m--> 600\u001B[0m     \u001B[38;5;28;01mreturn\u001B[39;00m \u001B[38;5;28;43mself\u001B[39;49m\u001B[38;5;241;43m.\u001B[39;49m\u001B[43msend\u001B[49m\u001B[43m(\u001B[49m\n\u001B[1;32m    601\u001B[0m \u001B[43m        \u001B[49m\u001B[43mrequest\u001B[49m\u001B[43m,\u001B[49m\u001B[43m \u001B[49m\u001B[43mauth\u001B[49m\u001B[38;5;241;43m=\u001B[39;49m\u001B[43mauth\u001B[49m\u001B[43m,\u001B[49m\u001B[43m \u001B[49m\u001B[43mallow_redirects\u001B[49m\u001B[38;5;241;43m=\u001B[39;49m\u001B[43mallow_redirects\u001B[49m\u001B[43m,\u001B[49m\u001B[43m \u001B[49m\u001B[43mtimeout\u001B[49m\u001B[38;5;241;43m=\u001B[39;49m\u001B[43mtimeout\u001B[49m\u001B[43m,\u001B[49m\n\u001B[1;32m    602\u001B[0m \u001B[43m    \u001B[49m\u001B[43m)\u001B[49m\n",
      "File \u001B[0;32m~/.local/lib/python3.8/site-packages/httpx/_client.py:620\u001B[0m, in \u001B[0;36mClient.send\u001B[0;34m(self, request, stream, auth, allow_redirects, timeout)\u001B[0m\n\u001B[1;32m    616\u001B[0m timeout \u001B[38;5;241m=\u001B[39m \u001B[38;5;28mself\u001B[39m\u001B[38;5;241m.\u001B[39mtimeout \u001B[38;5;28;01mif\u001B[39;00m \u001B[38;5;28misinstance\u001B[39m(timeout, UnsetType) \u001B[38;5;28;01melse\u001B[39;00m Timeout(timeout)\n\u001B[1;32m    618\u001B[0m auth \u001B[38;5;241m=\u001B[39m \u001B[38;5;28mself\u001B[39m\u001B[38;5;241m.\u001B[39mbuild_auth(request, auth)\n\u001B[0;32m--> 620\u001B[0m response \u001B[38;5;241m=\u001B[39m \u001B[38;5;28;43mself\u001B[39;49m\u001B[38;5;241;43m.\u001B[39;49m\u001B[43msend_handling_redirects\u001B[49m\u001B[43m(\u001B[49m\n\u001B[1;32m    621\u001B[0m \u001B[43m    \u001B[49m\u001B[43mrequest\u001B[49m\u001B[43m,\u001B[49m\u001B[43m \u001B[49m\u001B[43mauth\u001B[49m\u001B[38;5;241;43m=\u001B[39;49m\u001B[43mauth\u001B[49m\u001B[43m,\u001B[49m\u001B[43m \u001B[49m\u001B[43mtimeout\u001B[49m\u001B[38;5;241;43m=\u001B[39;49m\u001B[43mtimeout\u001B[49m\u001B[43m,\u001B[49m\u001B[43m \u001B[49m\u001B[43mallow_redirects\u001B[49m\u001B[38;5;241;43m=\u001B[39;49m\u001B[43mallow_redirects\u001B[49m\u001B[43m,\u001B[49m\n\u001B[1;32m    622\u001B[0m \u001B[43m\u001B[49m\u001B[43m)\u001B[49m\n\u001B[1;32m    624\u001B[0m \u001B[38;5;28;01mif\u001B[39;00m \u001B[38;5;129;01mnot\u001B[39;00m stream:\n\u001B[1;32m    625\u001B[0m     \u001B[38;5;28;01mtry\u001B[39;00m:\n",
      "File \u001B[0;32m~/.local/lib/python3.8/site-packages/httpx/_client.py:647\u001B[0m, in \u001B[0;36mClient.send_handling_redirects\u001B[0;34m(self, request, auth, timeout, allow_redirects, history)\u001B[0m\n\u001B[1;32m    644\u001B[0m \u001B[38;5;28;01mif\u001B[39;00m \u001B[38;5;28mlen\u001B[39m(history) \u001B[38;5;241m>\u001B[39m \u001B[38;5;28mself\u001B[39m\u001B[38;5;241m.\u001B[39mmax_redirects:\n\u001B[1;32m    645\u001B[0m     \u001B[38;5;28;01mraise\u001B[39;00m TooManyRedirects()\n\u001B[0;32m--> 647\u001B[0m response \u001B[38;5;241m=\u001B[39m \u001B[38;5;28;43mself\u001B[39;49m\u001B[38;5;241;43m.\u001B[39;49m\u001B[43msend_handling_auth\u001B[49m\u001B[43m(\u001B[49m\n\u001B[1;32m    648\u001B[0m \u001B[43m    \u001B[49m\u001B[43mrequest\u001B[49m\u001B[43m,\u001B[49m\u001B[43m \u001B[49m\u001B[43mauth\u001B[49m\u001B[38;5;241;43m=\u001B[39;49m\u001B[43mauth\u001B[49m\u001B[43m,\u001B[49m\u001B[43m \u001B[49m\u001B[43mtimeout\u001B[49m\u001B[38;5;241;43m=\u001B[39;49m\u001B[43mtimeout\u001B[49m\u001B[43m,\u001B[49m\u001B[43m \u001B[49m\u001B[43mhistory\u001B[49m\u001B[38;5;241;43m=\u001B[39;49m\u001B[43mhistory\u001B[49m\n\u001B[1;32m    649\u001B[0m \u001B[43m\u001B[49m\u001B[43m)\u001B[49m\n\u001B[1;32m    650\u001B[0m response\u001B[38;5;241m.\u001B[39mhistory \u001B[38;5;241m=\u001B[39m \u001B[38;5;28mlist\u001B[39m(history)\n\u001B[1;32m    652\u001B[0m \u001B[38;5;28;01mif\u001B[39;00m \u001B[38;5;129;01mnot\u001B[39;00m response\u001B[38;5;241m.\u001B[39mis_redirect:\n",
      "File \u001B[0;32m~/.local/lib/python3.8/site-packages/httpx/_client.py:684\u001B[0m, in \u001B[0;36mClient.send_handling_auth\u001B[0;34m(self, request, history, auth, timeout)\u001B[0m\n\u001B[1;32m    682\u001B[0m request \u001B[38;5;241m=\u001B[39m \u001B[38;5;28mnext\u001B[39m(auth_flow)\n\u001B[1;32m    683\u001B[0m \u001B[38;5;28;01mwhile\u001B[39;00m \u001B[38;5;28;01mTrue\u001B[39;00m:\n\u001B[0;32m--> 684\u001B[0m     response \u001B[38;5;241m=\u001B[39m \u001B[38;5;28;43mself\u001B[39;49m\u001B[38;5;241;43m.\u001B[39;49m\u001B[43msend_single_request\u001B[49m\u001B[43m(\u001B[49m\u001B[43mrequest\u001B[49m\u001B[43m,\u001B[49m\u001B[43m \u001B[49m\u001B[43mtimeout\u001B[49m\u001B[43m)\u001B[49m\n\u001B[1;32m    685\u001B[0m     \u001B[38;5;28;01mif\u001B[39;00m auth\u001B[38;5;241m.\u001B[39mrequires_response_body:\n\u001B[1;32m    686\u001B[0m         response\u001B[38;5;241m.\u001B[39mread()\n",
      "File \u001B[0;32m~/.local/lib/python3.8/site-packages/httpx/_client.py:714\u001B[0m, in \u001B[0;36mClient.send_single_request\u001B[0;34m(self, request, timeout)\u001B[0m\n\u001B[1;32m    705\u001B[0m transport \u001B[38;5;241m=\u001B[39m \u001B[38;5;28mself\u001B[39m\u001B[38;5;241m.\u001B[39mtransport_for_url(request\u001B[38;5;241m.\u001B[39murl)\n\u001B[1;32m    707\u001B[0m \u001B[38;5;28;01mtry\u001B[39;00m:\n\u001B[1;32m    708\u001B[0m     (\n\u001B[1;32m    709\u001B[0m         http_version,\n\u001B[1;32m    710\u001B[0m         status_code,\n\u001B[1;32m    711\u001B[0m         reason_phrase,\n\u001B[1;32m    712\u001B[0m         headers,\n\u001B[1;32m    713\u001B[0m         stream,\n\u001B[0;32m--> 714\u001B[0m     ) \u001B[38;5;241m=\u001B[39m \u001B[43mtransport\u001B[49m\u001B[38;5;241;43m.\u001B[39;49m\u001B[43mrequest\u001B[49m\u001B[43m(\u001B[49m\n\u001B[1;32m    715\u001B[0m \u001B[43m        \u001B[49m\u001B[43mrequest\u001B[49m\u001B[38;5;241;43m.\u001B[39;49m\u001B[43mmethod\u001B[49m\u001B[38;5;241;43m.\u001B[39;49m\u001B[43mencode\u001B[49m\u001B[43m(\u001B[49m\u001B[43m)\u001B[49m\u001B[43m,\u001B[49m\n\u001B[1;32m    716\u001B[0m \u001B[43m        \u001B[49m\u001B[43mrequest\u001B[49m\u001B[38;5;241;43m.\u001B[39;49m\u001B[43murl\u001B[49m\u001B[38;5;241;43m.\u001B[39;49m\u001B[43mraw\u001B[49m\u001B[43m,\u001B[49m\n\u001B[1;32m    717\u001B[0m \u001B[43m        \u001B[49m\u001B[43mheaders\u001B[49m\u001B[38;5;241;43m=\u001B[39;49m\u001B[43mrequest\u001B[49m\u001B[38;5;241;43m.\u001B[39;49m\u001B[43mheaders\u001B[49m\u001B[38;5;241;43m.\u001B[39;49m\u001B[43mraw\u001B[49m\u001B[43m,\u001B[49m\n\u001B[1;32m    718\u001B[0m \u001B[43m        \u001B[49m\u001B[43mstream\u001B[49m\u001B[38;5;241;43m=\u001B[39;49m\u001B[43mrequest\u001B[49m\u001B[38;5;241;43m.\u001B[39;49m\u001B[43mstream\u001B[49m\u001B[43m,\u001B[49m\n\u001B[1;32m    719\u001B[0m \u001B[43m        \u001B[49m\u001B[43mtimeout\u001B[49m\u001B[38;5;241;43m=\u001B[39;49m\u001B[43mtimeout\u001B[49m\u001B[38;5;241;43m.\u001B[39;49m\u001B[43mas_dict\u001B[49m\u001B[43m(\u001B[49m\u001B[43m)\u001B[49m\u001B[43m,\u001B[49m\n\u001B[1;32m    720\u001B[0m \u001B[43m    \u001B[49m\u001B[43m)\u001B[49m\n\u001B[1;32m    721\u001B[0m \u001B[38;5;28;01mexcept\u001B[39;00m HTTPError \u001B[38;5;28;01mas\u001B[39;00m exc:\n\u001B[1;32m    722\u001B[0m     \u001B[38;5;66;03m# Add the original request to any HTTPError unless\u001B[39;00m\n\u001B[1;32m    723\u001B[0m     \u001B[38;5;66;03m# there'a already a request attached in the case of\u001B[39;00m\n\u001B[1;32m    724\u001B[0m     \u001B[38;5;66;03m# a ProxyError.\u001B[39;00m\n\u001B[1;32m    725\u001B[0m     \u001B[38;5;28;01mif\u001B[39;00m exc\u001B[38;5;241m.\u001B[39m_request \u001B[38;5;129;01mis\u001B[39;00m \u001B[38;5;28;01mNone\u001B[39;00m:\n",
      "File \u001B[0;32m~/.local/lib/python3.8/site-packages/httpcore/_sync/connection_pool.py:152\u001B[0m, in \u001B[0;36mSyncConnectionPool.request\u001B[0;34m(self, method, url, headers, stream, timeout)\u001B[0m\n\u001B[1;32m    149\u001B[0m         logger\u001B[38;5;241m.\u001B[39mtrace(\u001B[38;5;124m\"\u001B[39m\u001B[38;5;124mreuse connection=\u001B[39m\u001B[38;5;132;01m%r\u001B[39;00m\u001B[38;5;124m\"\u001B[39m, connection)\n\u001B[1;32m    151\u001B[0m \u001B[38;5;28;01mtry\u001B[39;00m:\n\u001B[0;32m--> 152\u001B[0m     response \u001B[38;5;241m=\u001B[39m \u001B[43mconnection\u001B[49m\u001B[38;5;241;43m.\u001B[39;49m\u001B[43mrequest\u001B[49m\u001B[43m(\u001B[49m\n\u001B[1;32m    153\u001B[0m \u001B[43m        \u001B[49m\u001B[43mmethod\u001B[49m\u001B[43m,\u001B[49m\u001B[43m \u001B[49m\u001B[43murl\u001B[49m\u001B[43m,\u001B[49m\u001B[43m \u001B[49m\u001B[43mheaders\u001B[49m\u001B[38;5;241;43m=\u001B[39;49m\u001B[43mheaders\u001B[49m\u001B[43m,\u001B[49m\u001B[43m \u001B[49m\u001B[43mstream\u001B[49m\u001B[38;5;241;43m=\u001B[39;49m\u001B[43mstream\u001B[49m\u001B[43m,\u001B[49m\u001B[43m \u001B[49m\u001B[43mtimeout\u001B[49m\u001B[38;5;241;43m=\u001B[39;49m\u001B[43mtimeout\u001B[49m\n\u001B[1;32m    154\u001B[0m \u001B[43m    \u001B[49m\u001B[43m)\u001B[49m\n\u001B[1;32m    155\u001B[0m \u001B[38;5;28;01mexcept\u001B[39;00m NewConnectionRequired:\n\u001B[1;32m    156\u001B[0m     connection \u001B[38;5;241m=\u001B[39m \u001B[38;5;28;01mNone\u001B[39;00m\n",
      "File \u001B[0;32m~/.local/lib/python3.8/site-packages/httpcore/_sync/connection.py:78\u001B[0m, in \u001B[0;36mSyncHTTPConnection.request\u001B[0;34m(self, method, url, headers, stream, timeout)\u001B[0m\n\u001B[1;32m     74\u001B[0m \u001B[38;5;28;01massert\u001B[39;00m \u001B[38;5;28mself\u001B[39m\u001B[38;5;241m.\u001B[39mconnection \u001B[38;5;129;01mis\u001B[39;00m \u001B[38;5;129;01mnot\u001B[39;00m \u001B[38;5;28;01mNone\u001B[39;00m\n\u001B[1;32m     75\u001B[0m logger\u001B[38;5;241m.\u001B[39mtrace(\n\u001B[1;32m     76\u001B[0m     \u001B[38;5;124m\"\u001B[39m\u001B[38;5;124mconnection.request method=\u001B[39m\u001B[38;5;132;01m%r\u001B[39;00m\u001B[38;5;124m url=\u001B[39m\u001B[38;5;132;01m%r\u001B[39;00m\u001B[38;5;124m headers=\u001B[39m\u001B[38;5;132;01m%r\u001B[39;00m\u001B[38;5;124m\"\u001B[39m, method, url, headers\n\u001B[1;32m     77\u001B[0m )\n\u001B[0;32m---> 78\u001B[0m \u001B[38;5;28;01mreturn\u001B[39;00m \u001B[38;5;28;43mself\u001B[39;49m\u001B[38;5;241;43m.\u001B[39;49m\u001B[43mconnection\u001B[49m\u001B[38;5;241;43m.\u001B[39;49m\u001B[43mrequest\u001B[49m\u001B[43m(\u001B[49m\u001B[43mmethod\u001B[49m\u001B[43m,\u001B[49m\u001B[43m \u001B[49m\u001B[43murl\u001B[49m\u001B[43m,\u001B[49m\u001B[43m \u001B[49m\u001B[43mheaders\u001B[49m\u001B[43m,\u001B[49m\u001B[43m \u001B[49m\u001B[43mstream\u001B[49m\u001B[43m,\u001B[49m\u001B[43m \u001B[49m\u001B[43mtimeout\u001B[49m\u001B[43m)\u001B[49m\n",
      "File \u001B[0;32m~/.local/lib/python3.8/site-packages/httpcore/_sync/http2.py:118\u001B[0m, in \u001B[0;36mSyncHTTP2Connection.request\u001B[0;34m(self, method, url, headers, stream, timeout)\u001B[0m\n\u001B[1;32m    116\u001B[0m     \u001B[38;5;28mself\u001B[39m\u001B[38;5;241m.\u001B[39mstreams[stream_id] \u001B[38;5;241m=\u001B[39m h2_stream\n\u001B[1;32m    117\u001B[0m     \u001B[38;5;28mself\u001B[39m\u001B[38;5;241m.\u001B[39mevents[stream_id] \u001B[38;5;241m=\u001B[39m []\n\u001B[0;32m--> 118\u001B[0m     \u001B[38;5;28;01mreturn\u001B[39;00m \u001B[43mh2_stream\u001B[49m\u001B[38;5;241;43m.\u001B[39;49m\u001B[43mrequest\u001B[49m\u001B[43m(\u001B[49m\u001B[43mmethod\u001B[49m\u001B[43m,\u001B[49m\u001B[43m \u001B[49m\u001B[43murl\u001B[49m\u001B[43m,\u001B[49m\u001B[43m \u001B[49m\u001B[43mheaders\u001B[49m\u001B[43m,\u001B[49m\u001B[43m \u001B[49m\u001B[43mstream\u001B[49m\u001B[43m,\u001B[49m\u001B[43m \u001B[49m\u001B[43mtimeout\u001B[49m\u001B[43m)\u001B[49m\n\u001B[1;32m    119\u001B[0m \u001B[38;5;28;01mexcept\u001B[39;00m \u001B[38;5;167;01mException\u001B[39;00m:\n\u001B[1;32m    120\u001B[0m     \u001B[38;5;28mself\u001B[39m\u001B[38;5;241m.\u001B[39mmax_streams_semaphore\u001B[38;5;241m.\u001B[39mrelease()\n",
      "File \u001B[0;32m~/.local/lib/python3.8/site-packages/httpcore/_sync/http2.py:292\u001B[0m, in \u001B[0;36mSyncHTTP2Stream.request\u001B[0;34m(self, method, url, headers, stream, timeout)\u001B[0m\n\u001B[1;32m    289\u001B[0m     \u001B[38;5;28mself\u001B[39m\u001B[38;5;241m.\u001B[39msend_body(stream, timeout)\n\u001B[1;32m    291\u001B[0m \u001B[38;5;66;03m# Receive the response.\u001B[39;00m\n\u001B[0;32m--> 292\u001B[0m status_code, headers \u001B[38;5;241m=\u001B[39m \u001B[38;5;28;43mself\u001B[39;49m\u001B[38;5;241;43m.\u001B[39;49m\u001B[43mreceive_response\u001B[49m\u001B[43m(\u001B[49m\u001B[43mtimeout\u001B[49m\u001B[43m)\u001B[49m\n\u001B[1;32m    293\u001B[0m reason_phrase \u001B[38;5;241m=\u001B[39m get_reason_phrase(status_code)\n\u001B[1;32m    294\u001B[0m stream \u001B[38;5;241m=\u001B[39m SyncByteStream(\n\u001B[1;32m    295\u001B[0m     iterator\u001B[38;5;241m=\u001B[39m\u001B[38;5;28mself\u001B[39m\u001B[38;5;241m.\u001B[39mbody_iter(timeout), close_func\u001B[38;5;241m=\u001B[39m\u001B[38;5;28mself\u001B[39m\u001B[38;5;241m.\u001B[39m_response_closed\n\u001B[1;32m    296\u001B[0m )\n",
      "File \u001B[0;32m~/.local/lib/python3.8/site-packages/httpcore/_sync/http2.py:344\u001B[0m, in \u001B[0;36mSyncHTTP2Stream.receive_response\u001B[0;34m(self, timeout)\u001B[0m\n\u001B[1;32m    340\u001B[0m \u001B[38;5;250m\u001B[39m\u001B[38;5;124;03m\"\"\"\u001B[39;00m\n\u001B[1;32m    341\u001B[0m \u001B[38;5;124;03mRead the response status and headers from the network.\u001B[39;00m\n\u001B[1;32m    342\u001B[0m \u001B[38;5;124;03m\"\"\"\u001B[39;00m\n\u001B[1;32m    343\u001B[0m \u001B[38;5;28;01mwhile\u001B[39;00m \u001B[38;5;28;01mTrue\u001B[39;00m:\n\u001B[0;32m--> 344\u001B[0m     event \u001B[38;5;241m=\u001B[39m \u001B[38;5;28;43mself\u001B[39;49m\u001B[38;5;241;43m.\u001B[39;49m\u001B[43mconnection\u001B[49m\u001B[38;5;241;43m.\u001B[39;49m\u001B[43mwait_for_event\u001B[49m\u001B[43m(\u001B[49m\u001B[38;5;28;43mself\u001B[39;49m\u001B[38;5;241;43m.\u001B[39;49m\u001B[43mstream_id\u001B[49m\u001B[43m,\u001B[49m\u001B[43m \u001B[49m\u001B[43mtimeout\u001B[49m\u001B[43m)\u001B[49m\n\u001B[1;32m    345\u001B[0m     \u001B[38;5;28;01mif\u001B[39;00m \u001B[38;5;28misinstance\u001B[39m(event, h2\u001B[38;5;241m.\u001B[39mevents\u001B[38;5;241m.\u001B[39mResponseReceived):\n\u001B[1;32m    346\u001B[0m         \u001B[38;5;28;01mbreak\u001B[39;00m\n",
      "File \u001B[0;32m~/.local/lib/python3.8/site-packages/httpcore/_sync/http2.py:197\u001B[0m, in \u001B[0;36mSyncHTTP2Connection.wait_for_event\u001B[0;34m(self, stream_id, timeout)\u001B[0m\n\u001B[1;32m    195\u001B[0m \u001B[38;5;28;01mwith\u001B[39;00m \u001B[38;5;28mself\u001B[39m\u001B[38;5;241m.\u001B[39mread_lock:\n\u001B[1;32m    196\u001B[0m     \u001B[38;5;28;01mwhile\u001B[39;00m \u001B[38;5;129;01mnot\u001B[39;00m \u001B[38;5;28mself\u001B[39m\u001B[38;5;241m.\u001B[39mevents[stream_id]:\n\u001B[0;32m--> 197\u001B[0m         \u001B[38;5;28;43mself\u001B[39;49m\u001B[38;5;241;43m.\u001B[39;49m\u001B[43mreceive_events\u001B[49m\u001B[43m(\u001B[49m\u001B[43mtimeout\u001B[49m\u001B[43m)\u001B[49m\n\u001B[1;32m    198\u001B[0m \u001B[38;5;28;01mreturn\u001B[39;00m \u001B[38;5;28mself\u001B[39m\u001B[38;5;241m.\u001B[39mevents[stream_id]\u001B[38;5;241m.\u001B[39mpop(\u001B[38;5;241m0\u001B[39m)\n",
      "File \u001B[0;32m~/.local/lib/python3.8/site-packages/httpcore/_sync/http2.py:204\u001B[0m, in \u001B[0;36mSyncHTTP2Connection.receive_events\u001B[0;34m(self, timeout)\u001B[0m\n\u001B[1;32m    200\u001B[0m \u001B[38;5;28;01mdef\u001B[39;00m \u001B[38;5;21mreceive_events\u001B[39m(\u001B[38;5;28mself\u001B[39m, timeout: TimeoutDict) \u001B[38;5;241m-\u001B[39m\u001B[38;5;241m>\u001B[39m \u001B[38;5;28;01mNone\u001B[39;00m:\n\u001B[1;32m    201\u001B[0m \u001B[38;5;250m    \u001B[39m\u001B[38;5;124;03m\"\"\"\u001B[39;00m\n\u001B[1;32m    202\u001B[0m \u001B[38;5;124;03m    Read some data from the network, and update the H2 state.\u001B[39;00m\n\u001B[1;32m    203\u001B[0m \u001B[38;5;124;03m    \"\"\"\u001B[39;00m\n\u001B[0;32m--> 204\u001B[0m     data \u001B[38;5;241m=\u001B[39m \u001B[38;5;28;43mself\u001B[39;49m\u001B[38;5;241;43m.\u001B[39;49m\u001B[43msocket\u001B[49m\u001B[38;5;241;43m.\u001B[39;49m\u001B[43mread\u001B[49m\u001B[43m(\u001B[49m\u001B[38;5;28;43mself\u001B[39;49m\u001B[38;5;241;43m.\u001B[39;49m\u001B[43mREAD_NUM_BYTES\u001B[49m\u001B[43m,\u001B[49m\u001B[43m \u001B[49m\u001B[43mtimeout\u001B[49m\u001B[43m)\u001B[49m\n\u001B[1;32m    205\u001B[0m     events \u001B[38;5;241m=\u001B[39m \u001B[38;5;28mself\u001B[39m\u001B[38;5;241m.\u001B[39mh2_state\u001B[38;5;241m.\u001B[39mreceive_data(data)\n\u001B[1;32m    206\u001B[0m     \u001B[38;5;28;01mfor\u001B[39;00m event \u001B[38;5;129;01min\u001B[39;00m events:\n",
      "File \u001B[0;32m~/.local/lib/python3.8/site-packages/httpcore/_backends/sync.py:62\u001B[0m, in \u001B[0;36mSyncSocketStream.read\u001B[0;34m(self, n, timeout)\u001B[0m\n\u001B[1;32m     60\u001B[0m \u001B[38;5;28;01mwith\u001B[39;00m map_exceptions(exc_map):\n\u001B[1;32m     61\u001B[0m     \u001B[38;5;28mself\u001B[39m\u001B[38;5;241m.\u001B[39msock\u001B[38;5;241m.\u001B[39msettimeout(read_timeout)\n\u001B[0;32m---> 62\u001B[0m     \u001B[38;5;28;01mreturn\u001B[39;00m \u001B[38;5;28;43mself\u001B[39;49m\u001B[38;5;241;43m.\u001B[39;49m\u001B[43msock\u001B[49m\u001B[38;5;241;43m.\u001B[39;49m\u001B[43mrecv\u001B[49m\u001B[43m(\u001B[49m\u001B[43mn\u001B[49m\u001B[43m)\u001B[49m\n",
      "File \u001B[0;32m/usr/lib/python3.8/ssl.py:1226\u001B[0m, in \u001B[0;36mSSLSocket.recv\u001B[0;34m(self, buflen, flags)\u001B[0m\n\u001B[1;32m   1222\u001B[0m     \u001B[38;5;28;01mif\u001B[39;00m flags \u001B[38;5;241m!=\u001B[39m \u001B[38;5;241m0\u001B[39m:\n\u001B[1;32m   1223\u001B[0m         \u001B[38;5;28;01mraise\u001B[39;00m \u001B[38;5;167;01mValueError\u001B[39;00m(\n\u001B[1;32m   1224\u001B[0m             \u001B[38;5;124m\"\u001B[39m\u001B[38;5;124mnon-zero flags not allowed in calls to recv() on \u001B[39m\u001B[38;5;132;01m%s\u001B[39;00m\u001B[38;5;124m\"\u001B[39m \u001B[38;5;241m%\u001B[39m\n\u001B[1;32m   1225\u001B[0m             \u001B[38;5;28mself\u001B[39m\u001B[38;5;241m.\u001B[39m\u001B[38;5;18m__class__\u001B[39m)\n\u001B[0;32m-> 1226\u001B[0m     \u001B[38;5;28;01mreturn\u001B[39;00m \u001B[38;5;28;43mself\u001B[39;49m\u001B[38;5;241;43m.\u001B[39;49m\u001B[43mread\u001B[49m\u001B[43m(\u001B[49m\u001B[43mbuflen\u001B[49m\u001B[43m)\u001B[49m\n\u001B[1;32m   1227\u001B[0m \u001B[38;5;28;01melse\u001B[39;00m:\n\u001B[1;32m   1228\u001B[0m     \u001B[38;5;28;01mreturn\u001B[39;00m \u001B[38;5;28msuper\u001B[39m()\u001B[38;5;241m.\u001B[39mrecv(buflen, flags)\n",
      "File \u001B[0;32m/usr/lib/python3.8/ssl.py:1101\u001B[0m, in \u001B[0;36mSSLSocket.read\u001B[0;34m(self, len, buffer)\u001B[0m\n\u001B[1;32m   1099\u001B[0m         \u001B[38;5;28;01mreturn\u001B[39;00m \u001B[38;5;28mself\u001B[39m\u001B[38;5;241m.\u001B[39m_sslobj\u001B[38;5;241m.\u001B[39mread(\u001B[38;5;28mlen\u001B[39m, buffer)\n\u001B[1;32m   1100\u001B[0m     \u001B[38;5;28;01melse\u001B[39;00m:\n\u001B[0;32m-> 1101\u001B[0m         \u001B[38;5;28;01mreturn\u001B[39;00m \u001B[38;5;28;43mself\u001B[39;49m\u001B[38;5;241;43m.\u001B[39;49m\u001B[43m_sslobj\u001B[49m\u001B[38;5;241;43m.\u001B[39;49m\u001B[43mread\u001B[49m\u001B[43m(\u001B[49m\u001B[38;5;28;43mlen\u001B[39;49m\u001B[43m)\u001B[49m\n\u001B[1;32m   1102\u001B[0m \u001B[38;5;28;01mexcept\u001B[39;00m SSLError \u001B[38;5;28;01mas\u001B[39;00m x:\n\u001B[1;32m   1103\u001B[0m     \u001B[38;5;28;01mif\u001B[39;00m x\u001B[38;5;241m.\u001B[39margs[\u001B[38;5;241m0\u001B[39m] \u001B[38;5;241m==\u001B[39m SSL_ERROR_EOF \u001B[38;5;129;01mand\u001B[39;00m \u001B[38;5;28mself\u001B[39m\u001B[38;5;241m.\u001B[39msuppress_ragged_eofs:\n",
      "\u001B[0;31mKeyboardInterrupt\u001B[0m: "
     ]
    }
   ],
   "source": [
    "from googletrans import Translator\n",
    "\n",
    "translator = Translator()\n",
    "translated_text = []\n",
    "for i in tqdm(range(5000)):\n",
    "    image, captions = coco_train[i]\n",
    "    text = captions[0]['caption']\n",
    "    translated_text.append(translator.translate(text, dest=\"ru\", src=\"en\").text)"
   ]
  },
  {
   "cell_type": "code",
   "execution_count": 68,
   "id": "7e285ca7-6157-4007-acd2-387e516fe7d4",
   "metadata": {},
   "outputs": [
    {
     "name": "stderr",
     "output_type": "stream",
     "text": [
      "100%|██████████| 1000/1000 [04:04<00:00,  4.09it/s]\n"
     ]
    }
   ],
   "source": [
    "scores_coco = []\n",
    "for i in tqdm(range(1000)):\n",
    "    image, captions = coco_train[i]\n",
    "    name = str(captions[0]['image_id'])\n",
    "    name = \"0\" * (12 - len(name)) + name\n",
    "    name = f\"coco_dataset/train2017/{name}.jpg\"\n",
    "    text = translated_text[i]\n",
    "    try:\n",
    "        cocoScore = metric(read_image(name), text)\n",
    "        if cocoScore.detach() > 15:\n",
    "            scores_coco.append(cocoScore.detach())\n",
    "    except:\n",
    "        #print(f\"exception on {i}\")\n",
    "        pass\n",
    "mean_coco = sum(scores_coco) / len(scores_coco)"
   ]
  },
  {
   "cell_type": "code",
   "execution_count": 69,
   "id": "9d4a7a51-53eb-4888-9222-a2f06397da11",
   "metadata": {},
   "outputs": [
    {
     "data": {
      "text/plain": [
       "0.913"
      ]
     },
     "execution_count": 69,
     "metadata": {},
     "output_type": "execute_result"
    }
   ],
   "source": [
    "len(scores_coco) / 1000  # процент норм переведенных описаний"
   ]
  },
  {
   "cell_type": "code",
   "execution_count": 21,
   "id": "aae0e291-ffb3-4abd-9ec6-38b373f08c61",
   "metadata": {},
   "outputs": [
    {
     "name": "stdout",
     "output_type": "stream",
     "text": [
      "loading annotations into memory...\n",
      "Done (t=0.63s)\n",
      "creating index...\n",
      "index created!\n"
     ]
    }
   ],
   "source": [
    "import torchvision.datasets as dset\n",
    "\n",
    "coco_train_russian = dset.CocoDetection(root=\"coco_dataset/train2014\",\n",
    "                                        annFile=\"coco_dataset/annotations/captions_train2014.json\")"
   ]
  },
  {
   "cell_type": "code",
   "execution_count": 24,
   "id": "de399abc-3413-4860-97ec-327cea462f84",
   "metadata": {},
   "outputs": [],
   "source": [
    "import json\n",
    "\n",
    "with open('coco_dataset/captions_ru_train.json', 'r') as f:\n",
    "    coco_captions_train_russian = json.load(f)"
   ]
  },
  {
   "cell_type": "code",
   "execution_count": 38,
   "id": "271051ed-84bb-4829-8e73-e3c6be7e290d",
   "metadata": {},
   "outputs": [
    {
     "name": "stderr",
     "output_type": "stream",
     "text": [
      "100%|██████████| 1000/1000 [04:13<00:00,  3.95it/s]\n"
     ]
    }
   ],
   "source": [
    "from tqdm import tqdm\n",
    "\n",
    "scores_coco_russian = []\n",
    "for i in tqdm(range(1000)):\n",
    "    image = coco_train_russian[i][0]\n",
    "    captions = coco_captions_train_russian[i]\n",
    "    name = str(coco_train_russian[i][1][0]['image_id'])\n",
    "    name = \"0\" * (12 - len(name)) + name\n",
    "    name = f\"coco_dataset/train2014/COCO_train2014_{name}.jpg\"\n",
    "    image = read_image(path=name)\n",
    "\n",
    "    text = captions[0]['caption']\n",
    "\n",
    "    try:\n",
    "        cocoScore = metric(read_image(name), text)\n",
    "        scores_coco_russian.append(cocoScore.detach())\n",
    "    except:\n",
    "        #print(f\"exception on {i}\")\n",
    "        pass\n",
    "mean_coco_russian = sum(scores_coco_russian) / len(scores_coco_russian)"
   ]
  },
  {
   "cell_type": "code",
   "execution_count": 39,
   "id": "3bf7af6b-950f-49dc-a24f-12730079943a",
   "metadata": {},
   "outputs": [
    {
     "data": {
      "text/plain": [
       "tensor(19.0822)"
      ]
     },
     "execution_count": 39,
     "metadata": {},
     "output_type": "execute_result"
    }
   ],
   "source": [
    "mean_coco_russian  # оценка rucoco"
   ]
  },
  {
   "cell_type": "markdown",
   "id": "cd14af54-e66a-482a-a058-c31a7203b88f",
   "metadata": {
    "jp-MarkdownHeadingCollapsed": true,
    "tags": []
   },
   "source": [
    "# Перевод coco"
   ]
  },
  {
   "cell_type": "code",
   "execution_count": 67,
   "id": "257d74ac-abcd-4a99-bd79-01c5438ac818",
   "metadata": {},
   "outputs": [
    {
     "data": {
      "text/plain": [
       "tensor(18.9519)"
      ]
     },
     "execution_count": 67,
     "metadata": {},
     "output_type": "execute_result"
    }
   ],
   "source": [
    "mean_coco  # оценка переведенного coco"
   ]
  },
  {
   "cell_type": "code",
   "execution_count": 19,
   "id": "82baa95d-68dc-493c-a336-f78c2d0f0311",
   "metadata": {},
   "outputs": [],
   "source": [
    "n = 20000\n",
    "coco_translation = []"
   ]
  },
  {
   "cell_type": "code",
   "execution_count": 25,
   "id": "632c243b-9f78-4446-8b87-52667eff2fbf",
   "metadata": {},
   "outputs": [
    {
     "data": {
      "text/plain": [
       "11218"
      ]
     },
     "execution_count": 25,
     "metadata": {},
     "output_type": "execute_result"
    }
   ],
   "source": [
    "len(coco_translation)"
   ]
  },
  {
   "cell_type": "code",
   "execution_count": 27,
   "id": "a9ce2937-2445-447f-a1a2-2ca3fd59e696",
   "metadata": {
    "collapsed": true,
    "jupyter": {
     "outputs_hidden": true
    },
    "tags": []
   },
   "outputs": [
    {
     "name": "stderr",
     "output_type": "stream",
     "text": [
      "\n",
      "  0%|          | 0/8781 [00:00<?, ?it/s]\u001B[A\n",
      "  0%|          | 1/8781 [00:04<12:05:57,  4.96s/it]\u001B[A\n",
      "  0%|          | 2/8781 [00:11<15:01:25,  6.16s/it]\u001B[A\n",
      "  0%|          | 3/8781 [00:17<14:41:45,  6.03s/it]\u001B[A\n",
      "  0%|          | 4/8781 [00:26<16:55:30,  6.94s/it]\u001B[A\n",
      "  0%|          | 5/8781 [00:40<23:15:59,  9.54s/it]\u001B[A\n",
      "  0%|          | 6/8781 [00:58<30:07:40, 12.36s/it]\u001B[A\n",
      "  0%|          | 7/8781 [01:06<26:37:27, 10.92s/it]\u001B[A\n",
      "  0%|          | 8/8781 [01:14<24:31:35, 10.06s/it]\u001B[A\n",
      "  0%|          | 9/8781 [01:19<20:48:35,  8.54s/it]\u001B[A\n",
      "  0%|          | 10/8781 [01:24<18:12:22,  7.47s/it]\u001B[A\n",
      "  0%|          | 11/8781 [01:31<17:29:03,  7.18s/it]\u001B[A\n",
      "  0%|          | 12/8781 [01:38<17:47:27,  7.30s/it]\u001B[A\n",
      "  0%|          | 13/8781 [01:46<18:10:13,  7.46s/it]\u001B[A\n",
      "  0%|          | 14/8781 [01:52<17:10:48,  7.05s/it]\u001B[A\n",
      "  0%|          | 15/8781 [01:58<16:00:59,  6.58s/it]\u001B[A\n",
      "  0%|          | 16/8781 [02:03<15:29:04,  6.36s/it]\u001B[A\n",
      "  0%|          | 17/8781 [02:13<17:35:20,  7.23s/it]\u001B[A\n",
      "  0%|          | 18/8781 [02:19<17:09:29,  7.05s/it]\u001B[A\n",
      "  0%|          | 19/8781 [02:25<16:08:58,  6.64s/it]\u001B[A\n",
      "  0%|          | 20/8781 [02:43<24:21:06, 10.01s/it]\u001B[A\n",
      "  0%|          | 21/8781 [02:50<22:08:06,  9.10s/it]\u001B[A\n",
      "  0%|          | 22/8781 [02:58<21:22:56,  8.79s/it]\u001B[A\n",
      "  0%|          | 23/8781 [03:05<19:51:57,  8.17s/it]\u001B[A\n",
      "  0%|          | 24/8781 [03:14<20:26:23,  8.40s/it]\u001B[A\n",
      "  0%|          | 25/8781 [03:21<19:47:55,  8.14s/it]\u001B[A\n",
      "  0%|          | 26/8781 [03:37<25:36:53, 10.53s/it]\u001B[A\n",
      "  0%|          | 27/8781 [04:01<35:13:43, 14.49s/it]\u001B[A\n",
      "  0%|          | 28/8781 [04:23<40:59:26, 16.86s/it]\u001B[A\n",
      "  0%|          | 29/8781 [04:47<24:07:34,  9.92s/it]\u001B[A\n",
      "\n",
      "KeyboardInterrupt\n",
      "\n"
     ]
    }
   ],
   "source": [
    "from googletrans import Translator\n",
    "import json\n",
    "\n",
    "translator = Translator()\n",
    "for i in tqdm(range(len(coco_translation), n)):\n",
    "    image, captions = coco_train[i]\n",
    "    name = str(captions[0]['image_id'])\n",
    "    name = \"0\" * (12 - len(name)) + name\n",
    "    name = f\"coco_dataset/train2017/{name}.jpg\"\n",
    "    translated_captions = []\n",
    "    for cur_cap in captions:\n",
    "        text = translator.translate(cur_cap['caption'], dest=\"ru\", src=\"en\").text\n",
    "        try:\n",
    "            cocoScore = metric(read_image(name), text)\n",
    "            if cocoScore.detach() > 15:\n",
    "                translated_captions.append(text)\n",
    "        except:\n",
    "            #print(f\"exception on {i}\")\n",
    "            pass\n",
    "    coco_translation.append(translated_captions)\n",
    "    if i % 1000 == 0:\n",
    "        with open('coco_dataset/coco_captions_russian.json', 'w', encoding='utf-8') as f:\n",
    "            json.dump(coco_translation, f, ensure_ascii=False, indent=4)"
   ]
  },
  {
   "cell_type": "code",
   "execution_count": 24,
   "id": "db84a3da-f865-42bc-86bc-8ed832eef8b7",
   "metadata": {},
   "outputs": [],
   "source": [
    "with open('coco_dataset/coco_captions_russian.json', 'w', encoding='utf-8') as f:\n",
    "    json.dump(coco_translation, f, ensure_ascii=False, indent=4)"
   ]
  },
  {
   "cell_type": "code",
   "execution_count": 74,
   "id": "377a682b-d48a-44fd-a29d-6e39f2edb2b3",
   "metadata": {
    "tags": []
   },
   "outputs": [],
   "source": [
    "# images = torch.load('wiki_img_tensor.pt')\n",
    "# '''images = []\n",
    "# exceptions = []\n",
    "# captions = df.caption_reference_description\n",
    "# for i in tqdm(df.index.tolist()):\n",
    "#     try:\n",
    "#         images.append(read_image(\"wiki_dataset/images/image_\" + str(i) + \".jpg\"))\n",
    "#     except KeyboardInterrupt:\n",
    "#         print(\"stop\")\n",
    "#         break\n",
    "#     except:\n",
    "#         exceptions.append(i)\n",
    "#         print(f\"exception on {i}\")\n",
    "# torch.save(images, 'wiki_img_tensor.pt')'''"
   ]
  },
  {
   "cell_type": "code",
   "execution_count": 21,
   "id": "002fa22c-7a79-4f17-9c4a-6f8d881b055d",
   "metadata": {},
   "outputs": [
    {
     "data": {
      "text/plain": [
       "9275"
      ]
     },
     "execution_count": 21,
     "metadata": {},
     "output_type": "execute_result"
    }
   ],
   "source": [
    "# captions = [captions[i] for i in captions.index if i not in [18358, 19767, 24105]]\n",
    "# len(captions)"
   ]
  },
  {
   "cell_type": "markdown",
   "id": "ca5c1085-3fd0-4575-ae74-8189f9f89e58",
   "metadata": {
    "tags": []
   },
   "source": [
    "# Тестим 2"
   ]
  },
  {
   "cell_type": "code",
   "execution_count": 1,
   "id": "42fe68bd-5edc-44cd-8867-a9bd534f628b",
   "metadata": {
    "tags": []
   },
   "outputs": [
    {
     "name": "stderr",
     "output_type": "stream",
     "text": [
      "2023-04-18 20:01:11.995258: W tensorflow/stream_executor/platform/default/dso_loader.cc:64] Could not load dynamic library 'libcudart.so.11.0'; dlerror: libcudart.so.11.0: cannot open shared object file: No such file or directory\n",
      "2023-04-18 20:01:11.995283: I tensorflow/stream_executor/cuda/cudart_stub.cc:29] Ignore above cudart dlerror if you do not have a GPU set up on your machine.\n",
      "2023-04-18 20:01:13.251073: W external/org_tensorflow/tensorflow/tsl/platform/default/dso_loader.cc:66] Could not load dynamic library 'libcudart.so.11.0'; dlerror: libcudart.so.11.0: cannot open shared object file: No such file or directory\n",
      "2023-04-18 20:01:13.281814: W external/org_tensorflow/tensorflow/tsl/platform/default/dso_loader.cc:66] Could not load dynamic library 'libcudart.so.11.0'; dlerror: libcudart.so.11.0: cannot open shared object file: No such file or directory\n",
      "2023-04-18 20:01:13.282896: W external/org_tensorflow/tensorflow/tsl/platform/default/dso_loader.cc:66] Could not load dynamic library 'libcudart.so.11.0'; dlerror: libcudart.so.11.0: cannot open shared object file: No such file or directory\n",
      "Some weights of the model checkpoint at xlm-roberta-large were not used when initializing XLMRobertaModel: ['lm_head.bias', 'lm_head.dense.weight', 'lm_head.decoder.weight', 'lm_head.layer_norm.weight', 'lm_head.dense.bias', 'lm_head.layer_norm.bias']\n",
      "- This IS expected if you are initializing XLMRobertaModel from the checkpoint of a model trained on another task or with another architecture (e.g. initializing a BertForSequenceClassification model from a BertForPreTraining model).\n",
      "- This IS NOT expected if you are initializing XLMRobertaModel from the checkpoint of a model that you expect to be exactly identical (initializing a BertForSequenceClassification model from a BertForSequenceClassification model).\n"
     ]
    }
   ],
   "source": [
    "from multilingual_clip import pt_multilingual_clip\n",
    "import transformers\n",
    "import torch\n",
    "import open_clip\n",
    "import requests\n",
    "from PIL import Image\n",
    "\n",
    "model_name = 'M-CLIP/XLM-Roberta-Large-Vit-B-16Plus'\n",
    "\n",
    "model_caption = pt_multilingual_clip.MultilingualCLIP.from_pretrained(model_name)\n",
    "tokenizer = transformers.AutoTokenizer.from_pretrained(model_name)"
   ]
  },
  {
   "cell_type": "code",
   "execution_count": 2,
   "id": "748b4184-3fd0-4768-af70-eb8167cb78d3",
   "metadata": {},
   "outputs": [],
   "source": [
    "device = \"cuda:1\" if torch.cuda.is_available() else \"cpu\"\n",
    "model_img, _, preprocess = open_clip.create_model_and_transforms('ViT-B-16-plus-240', pretrained=\"laion400m_e32\")\n",
    "model_img.to(device)\n",
    "None"
   ]
  },
  {
   "cell_type": "code",
   "execution_count": 3,
   "id": "5a834c4e-3949-4fe5-96ad-916dcd25eab1",
   "metadata": {},
   "outputs": [],
   "source": [
    "def compare_embeddings(logit_scale, img_embs, txt_embs):\n",
    "    # normalized features\n",
    "    image_features = img_embs / img_embs.norm(dim=-1, keepdim=True)\n",
    "    text_features = txt_embs / txt_embs.norm(dim=-1, keepdim=True)\n",
    "\n",
    "    # cosine similarity as logits\n",
    "    logits_per_image = logit_scale * image_features @ text_features.t()\n",
    "    logits_per_text = logit_scale * text_features @ image_features.t()\n",
    "\n",
    "    # shape = [global_batch_size, global_batch_size]\n",
    "    return logits_per_image, logits_per_text"
   ]
  },
  {
   "cell_type": "code",
   "execution_count": 4,
   "id": "740f3c2d-f7be-4c75-9f7c-c0dff502955f",
   "metadata": {},
   "outputs": [],
   "source": [
    "logit_scale = model_img.logit_scale.exp().float()"
   ]
  },
  {
   "cell_type": "markdown",
   "id": "d0b9b229-0fbd-4ce0-935d-ba9d882cbc53",
   "metadata": {
    "tags": []
   },
   "source": [
    "### ruCOCO"
   ]
  },
  {
   "cell_type": "code",
   "execution_count": 4,
   "id": "36ff89ce-4d9d-4ef1-ae4d-2c2c1858da2e",
   "metadata": {},
   "outputs": [
    {
     "name": "stdout",
     "output_type": "stream",
     "text": [
      "loading annotations into memory...\n",
      "Done (t=0.60s)\n",
      "creating index...\n",
      "index created!\n"
     ]
    }
   ],
   "source": [
    "import torchvision.datasets as dset\n",
    "\n",
    "coco_train_russian = dset.CocoDetection(root=\"coco_dataset/train2014\",\n",
    "                                        annFile=\"coco_dataset/annotations/captions_train2014.json\")"
   ]
  },
  {
   "cell_type": "code",
   "execution_count": 5,
   "id": "f8107464-52ea-4035-ad24-29c21b0e315f",
   "metadata": {},
   "outputs": [],
   "source": [
    "import json\n",
    "\n",
    "with open('coco_dataset/captions_ru_train.json', 'r') as f:\n",
    "    coco_captions_train_russian = json.load(f)"
   ]
  },
  {
   "cell_type": "code",
   "execution_count": null,
   "id": "7e15c24c-fbf8-4d7a-83c8-6a35fe8478ab",
   "metadata": {},
   "outputs": [
    {
     "data": {
      "text/plain": [
       "82783"
      ]
     },
     "execution_count": 6,
     "metadata": {},
     "output_type": "execute_result"
    }
   ],
   "source": [
    "len(coco_train_russian)"
   ]
  },
  {
   "cell_type": "code",
   "execution_count": 7,
   "id": "a0791b97-0cd5-43e4-9897-9f3bb54da432",
   "metadata": {},
   "outputs": [
    {
     "name": "stderr",
     "output_type": "stream",
     "text": [
      "100%|██████████| 82783/82783 [10:37<00:00, 129.88it/s]\n"
     ]
    }
   ],
   "source": [
    "from tqdm import tqdm\n",
    "\n",
    "russian_captions, demo_images = [], []\n",
    "for i in tqdm(range(len(coco_train_russian))):\n",
    "    image = coco_train_russian[i][0]\n",
    "    captions = coco_captions_train_russian[i]\n",
    "    text = captions[0]['caption']\n",
    "    russian_captions.append(text)\n",
    "\n",
    "    name = str(coco_train_russian[i][1][0]['image_id'])\n",
    "    name = \"0\" * (12 - len(name)) + name\n",
    "    name = f\"coco_dataset/train2014/COCO_train2014_{name}.jpg\"\n",
    "    demo_images.append(name)"
   ]
  },
  {
   "cell_type": "code",
   "execution_count": 8,
   "id": "a0c50380-7070-4c9d-866f-a85c0a2bde7b",
   "metadata": {},
   "outputs": [
    {
     "name": "stderr",
     "output_type": "stream",
     "text": [
      "100%|██████████| 828/828 [46:58<00:00,  3.40s/it]  \n"
     ]
    }
   ],
   "source": [
    "import time\n",
    "\n",
    "model_caption.eval()\n",
    "embeddings = torch.Tensor([])\n",
    "for i in tqdm(range(828)):  # something really weird\n",
    "    with torch.no_grad():\n",
    "        embeddings = torch.cat(\n",
    "            [embeddings, model_caption.forward(russian_captions[i * 100: (i + 1) * 100], tokenizer).detach().cpu()])"
   ]
  },
  {
   "cell_type": "code",
   "execution_count": 9,
   "id": "08b36d4c-ff8f-4fe1-936c-d4102e749e31",
   "metadata": {},
   "outputs": [
    {
     "data": {
      "text/plain": [
       "torch.Size([82783, 640])"
      ]
     },
     "execution_count": 9,
     "metadata": {},
     "output_type": "execute_result"
    }
   ],
   "source": [
    "embeddings.shape"
   ]
  },
  {
   "cell_type": "code",
   "execution_count": 10,
   "id": "98045ac4-90f1-4c05-ad28-2042111a1e10",
   "metadata": {},
   "outputs": [],
   "source": [
    "# пиздец памяти, не трогать\n",
    "#images = []\n",
    "#for name in tqdm(demo_images):\n",
    "#    with Image.open(name) as curimg:\n",
    "#        images.append(preprocess(curimg).unsqueeze(0))"
   ]
  },
  {
   "cell_type": "code",
   "execution_count": 16,
   "id": "300a74de-3077-4133-b19b-89099bfd754a",
   "metadata": {},
   "outputs": [
    {
     "name": "stderr",
     "output_type": "stream",
     "text": [
      "100%|██████████| 82783/82783 [23:46<00:00, 58.03it/s]\n"
     ]
    }
   ],
   "source": [
    "from multilingual_clip import pt_multilingual_clip\n",
    "import transformers\n",
    "import torch\n",
    "import numpy as np\n",
    "\n",
    "score = []\n",
    "for i, name in tqdm(enumerate(demo_images), total=len(demo_images)):\n",
    "    with torch.no_grad():\n",
    "        with Image.open(name) as curimg:\n",
    "            images = preprocess(curimg).unsqueeze(0)\n",
    "        image_features = model_img.encode_image(images.to(device)).detach().float()\n",
    "        img_logits, text_logits = compare_embeddings(logit_scale, image_features, embeddings[i].to(device))\n",
    "        score.append(img_logits)\n",
    "        #print(img_logits)"
   ]
  },
  {
   "cell_type": "code",
   "execution_count": 17,
   "id": "0bd41e83-98be-4a61-8f2a-a23e7aea3d35",
   "metadata": {},
   "outputs": [
    {
     "data": {
      "text/plain": [
       "tensor(31.1980, device='cuda:0')"
      ]
     },
     "execution_count": 17,
     "metadata": {},
     "output_type": "execute_result"
    }
   ],
   "source": [
    "torch.cat(score).mean()"
   ]
  },
  {
   "cell_type": "markdown",
   "id": "a888aa71-1c0d-405c-8398-e82bd04c8fec",
   "metadata": {},
   "source": [
    "### wiki"
   ]
  },
  {
   "cell_type": "code",
   "execution_count": 5,
   "id": "7542a1a7-10f5-4100-a5df-e6702a22a803",
   "metadata": {},
   "outputs": [],
   "source": [
    "import pandas as pd\n",
    "\n",
    "df = pd.read_csv('wiki_dataset/rus_wikitext_50k_caption_reference_description_train_norm.csv', index_col=0)"
   ]
  },
  {
   "cell_type": "code",
   "execution_count": 6,
   "id": "ea5b4e05-bc76-45f7-bc33-976ed5f236ab",
   "metadata": {},
   "outputs": [
    {
     "data": {
      "text/plain": [
       "40785"
      ]
     },
     "execution_count": 6,
     "metadata": {},
     "output_type": "execute_result"
    }
   ],
   "source": [
    "len(df)"
   ]
  },
  {
   "cell_type": "code",
   "execution_count": 7,
   "id": "c3368e90-8bca-49e9-83c6-d808f6594d39",
   "metadata": {},
   "outputs": [
    {
     "data": {
      "text/plain": [
       "0                                   Владислав Захаревич\n",
       "5     Зарисовка крупнейшего из Золотых ромбов курган...\n",
       "8       Трассовый моделизм. Прохождение моделями виража\n",
       "15                                           Спаривание\n",
       "16                              Музей Дмитрия Бурылина.\n",
       "22                        Павильон «Космос». Фотография\n",
       "23    Премудрый царь Берендей. Эскиз Виктора Васнецо...\n",
       "30                           Герб Сталь-фон-Гольштейнов\n",
       "32                            Памятник Иванову в Томске\n",
       "33    Поскольку изменение климата приводит к таянию ...\n",
       "40                            Филипп Йорк, граф Хардвик\n",
       "49           Подарок зубной фее от восьмилетней девочки\n",
       "57        Факультет медицины Сельджукского университета\n",
       "59                Пинхас Лавон, министр обороны Израиля\n",
       "61            Странноприимный дом Таранова-Белозёрова (\n",
       "Name: caption_reference_description, dtype: object"
      ]
     },
     "execution_count": 7,
     "metadata": {},
     "output_type": "execute_result"
    }
   ],
   "source": [
    "wiki_captions = df['caption_reference_description']\n",
    "wiki_captions[:15]"
   ]
  },
  {
   "cell_type": "code",
   "execution_count": null,
   "id": "b20c18c4-50b6-49bf-84c9-011740cbb0e2",
   "metadata": {
    "tags": []
   },
   "outputs": [],
   "source": [
    "model_caption.eval()\n",
    "wiki_embeddings = torch.Tensor([])\n",
    "for i, num in tqdm(enumerate(wiki_captions.keys()), total=len(wiki_captions)):\n",
    "    try:\n",
    "        with torch.no_grad():\n",
    "            #wiki_embeddings = torch.cat([embeddings, model_caption.forward(russian_captions[i * 100 : (i+1)*100], tokenizer).detach().cpu()])\n",
    "            wiki_embeddings = torch.cat(\n",
    "                [wiki_embeddings, model_caption.forward(str(wiki_captions[num]), tokenizer).detach().cpu()])\n",
    "    except:\n",
    "        wiki_embeddings = torch.cat([wiki_embeddings, torch.zeros(640)])\n",
    "        pass\n",
    "    #print(len(wiki_embeddings))"
   ]
  },
  {
   "cell_type": "code",
   "execution_count": 133,
   "id": "fa047d45-4866-4ba0-b818-ec69bbf52306",
   "metadata": {
    "collapsed": true,
    "jupyter": {
     "outputs_hidden": true
    },
    "tags": []
   },
   "outputs": [
    {
     "name": "stderr",
     "output_type": "stream",
     "text": [
      " 20%|█▉        | 3670/18598 [04:18<20:12, 12.31it/s]  /home/alexw/.local/lib/python3.8/site-packages/PIL/Image.py:959: UserWarning: Palette images with Transparency expressed in bytes should be converted to RGBA images\n",
      "  warnings.warn(\n",
      " 41%|████      | 7669/18598 [08:51<21:06,  8.63it/s]/home/alexw/.local/lib/python3.8/site-packages/PIL/Image.py:3035: DecompressionBombWarning: Image size (163328704 pixels) exceeds limit of 89478485 pixels, could be decompression bomb DOS attack.\n",
      "  warnings.warn(\n",
      " 43%|████▎     | 8021/18598 [09:17<10:23, 16.97it/s]  /home/alexw/.local/lib/python3.8/site-packages/PIL/TiffImagePlugin.py:845: UserWarning: Corrupt EXIF data.  Expecting to read 2 bytes but only got 0. \n",
      "  warnings.warn(str(msg))\n",
      " 44%|████▎     | 8116/18598 [09:24<08:22, 20.85it/s]/home/alexw/.local/lib/python3.8/site-packages/PIL/Image.py:3035: DecompressionBombWarning: Image size (148635000 pixels) exceeds limit of 89478485 pixels, could be decompression bomb DOS attack.\n",
      "  warnings.warn(\n",
      " 55%|█████▍    | 10203/18598 [11:47<07:11, 19.47it/s]/home/alexw/.local/lib/python3.8/site-packages/PIL/Image.py:3035: DecompressionBombWarning: Image size (143208000 pixels) exceeds limit of 89478485 pixels, could be decompression bomb DOS attack.\n",
      "  warnings.warn(\n",
      " 62%|██████▏   | 11453/18598 [13:15<07:25, 16.05it/s]/home/alexw/.local/lib/python3.8/site-packages/PIL/Image.py:3035: DecompressionBombWarning: Image size (100000000 pixels) exceeds limit of 89478485 pixels, could be decompression bomb DOS attack.\n",
      "  warnings.warn(\n",
      " 70%|██████▉   | 12949/18598 [15:01<06:03, 15.54it/s]/home/alexw/.local/lib/python3.8/site-packages/PIL/Image.py:3035: DecompressionBombWarning: Image size (168510648 pixels) exceeds limit of 89478485 pixels, could be decompression bomb DOS attack.\n",
      "  warnings.warn(\n",
      " 78%|███████▊  | 14539/18598 [16:58<04:41, 14.40it/s]/home/alexw/.local/lib/python3.8/site-packages/PIL/Image.py:3035: DecompressionBombWarning: Image size (99766661 pixels) exceeds limit of 89478485 pixels, could be decompression bomb DOS attack.\n",
      "  warnings.warn(\n",
      " 81%|████████▏ | 15118/18598 [17:41<04:25, 13.09it/s]/home/alexw/.local/lib/python3.8/site-packages/PIL/Image.py:3035: DecompressionBombWarning: Image size (148659509 pixels) exceeds limit of 89478485 pixels, could be decompression bomb DOS attack.\n",
      "  warnings.warn(\n",
      "100%|██████████| 18598/18598 [21:51<00:00, 14.18it/s]\n"
     ]
    }
   ],
   "source": [
    "wiki_score = []\n",
    "for i, num in tqdm(enumerate(df.index), total=len(df)):\n",
    "    try:\n",
    "        with torch.no_grad():\n",
    "            with Image.open(f\"wiki_dataset/images/image_{num}.jpg\") as curimg:\n",
    "                imgs = preprocess(curimg).unsqueeze(0)\n",
    "            image_features = model_img.encode_image(imgs.to(device)).detach().float()\n",
    "            img_logits, text_logits = compare_embeddings(logit_scale, image_features, wiki_embeddings[i].to(device))\n",
    "            wiki_score.append(img_logits)\n",
    "    except:\n",
    "        pass"
   ]
  },
  {
   "cell_type": "code",
   "execution_count": 134,
   "id": "b270b241-4c7a-4849-97c5-1308b36a2934",
   "metadata": {
    "collapsed": true,
    "jupyter": {
     "outputs_hidden": true
    },
    "tags": []
   },
   "outputs": [
    {
     "data": {
      "text/plain": [
       "tensor(24.7229, device='cuda:0')"
      ]
     },
     "execution_count": 134,
     "metadata": {},
     "output_type": "execute_result"
    }
   ],
   "source": [
    "torch.cat(wiki_score).mean()"
   ]
  },
  {
   "cell_type": "code",
   "execution_count": 139,
   "id": "26951427-2a0f-4059-8043-fe13d6d522b0",
   "metadata": {
    "tags": []
   },
   "outputs": [
    {
     "name": "stdout",
     "output_type": "stream",
     "text": [
      "(10; 15]: 1414\n",
      "(15; 20]: 2153\n",
      "(20; 25]: 3312\n",
      "(25; 100]: 9214\n"
     ]
    }
   ],
   "source": [
    "more_than_10 = 0\n",
    "more_than_15 = 0\n",
    "more_than_20 = 0\n",
    "more_than_25 = 0\n",
    "\n",
    "for i in range(len(wiki_score)):\n",
    "    if wiki_score[i] > 25:\n",
    "        more_than_25 += 1\n",
    "    elif wiki_score[i] > 20:\n",
    "        more_than_20 += 1\n",
    "    elif wiki_score[i] > 15:\n",
    "        more_than_15 += 1\n",
    "    elif wiki_score[i] > 10:\n",
    "        more_than_10 += 1\n",
    "print(\"(10; 15]:\", more_than_10)\n",
    "print(\"(15; 20]:\", more_than_15)\n",
    "print(\"(20; 25]:\", more_than_20)\n",
    "print(\"(25; 100]:\", more_than_25)"
   ]
  },
  {
   "cell_type": "code",
   "execution_count": 136,
   "id": "52e17f3d-bd30-4207-af4c-c4f4260862b7",
   "metadata": {
    "collapsed": true,
    "jupyter": {
     "outputs_hidden": true
    },
    "tags": []
   },
   "outputs": [
    {
     "data": {
      "text/plain": [
       "[tensor([17.5509], device='cuda:0'),\n",
       " tensor([16.8161], device='cuda:0'),\n",
       " tensor([22.0616], device='cuda:0'),\n",
       " tensor([7.3211], device='cuda:0'),\n",
       " tensor([39.4286], device='cuda:0'),\n",
       " tensor([18.0624], device='cuda:0'),\n",
       " tensor([34.1346], device='cuda:0'),\n",
       " tensor([35.0481], device='cuda:0'),\n",
       " tensor([25.1546], device='cuda:0'),\n",
       " tensor([36.3066], device='cuda:0'),\n",
       " tensor([13.8209], device='cuda:0'),\n",
       " tensor([15.6998], device='cuda:0'),\n",
       " tensor([16.4227], device='cuda:0'),\n",
       " tensor([22.5956], device='cuda:0'),\n",
       " tensor([14.4938], device='cuda:0')]"
      ]
     },
     "execution_count": 136,
     "metadata": {},
     "output_type": "execute_result"
    }
   ],
   "source": [
    "wiki_score[:15]"
   ]
  },
  {
   "cell_type": "code",
   "execution_count": 8,
   "id": "dcdb2fbc-3abe-47aa-a29d-87b32c3f4bd0",
   "metadata": {},
   "outputs": [],
   "source": [
    "from tqdm import tqdm\n",
    "\n",
    "img_features = {}\n",
    "for i, num in tqdm(enumerate(wiki_captions.keys()), total=len(wiki_captions)):\n",
    "    try:\n",
    "        with Image.open(f\"wiki_dataset/images/image_{num}.jpg\") as curimg:\n",
    "            imgs = preprocess(curimg).unsqueeze(0)\n",
    "        img_features[num] = model_img.encode_image(imgs.to(device)).detach().float()\n",
    "    except:\n",
    "        wiki_captions.pop(num)\n",
    "        pass\n",
    "\n",
    "torch.save(img_features, 'wiki_img_features.pt')"
   ]
  },
  {
   "cell_type": "code",
   "execution_count": 92,
   "id": "6322bf5e-cc30-425a-bb99-878c98e80272",
   "metadata": {},
   "outputs": [],
   "source": [
    "img_features = torch.load('wiki_img_features.pt')"
   ]
  },
  {
   "cell_type": "code",
   "execution_count": 86,
   "id": "3d0cb264-4418-4e85-804b-22bc2a10c1a2",
   "metadata": {},
   "outputs": [],
   "source": [
    "sentences = []\n",
    "\n",
    "\n",
    "def delete_quotes(k, i):\n",
    "    k = k[:i] + k[k[i:].find('»') + i + 1:]\n",
    "    k = \" \".join(k.split())\n",
    "    return k\n",
    "\n",
    "\n",
    "def balance(s):\n",
    "    ans = 0\n",
    "    for i in s:\n",
    "        if i == \"«\":\n",
    "            ans += 1\n",
    "        elif i == \"»\":\n",
    "            ans -= 1\n",
    "    return ans\n",
    "\n",
    "\n",
    "def fix_quotes(s):\n",
    "    st = []\n",
    "    to_del = []\n",
    "    for i in range(len(s)):\n",
    "        if s[i] == \"«\":\n",
    "            st.append([i, 0])\n",
    "        else:\n",
    "            if len(st) > 0 and st[-1][1] == 0:\n",
    "                st.pop()\n",
    "            else:\n",
    "                to_del.append(i)\n",
    "    for i in st:\n",
    "        to_del.append(i[0])\n",
    "    fixed_s = \"\"\n",
    "    for i in range(len(s)):\n",
    "        if i not in to_del:\n",
    "            fixed_s += s[i]\n",
    "    return fixed_s\n",
    "\n",
    "\n",
    "def fight_with_quotes(s):\n",
    "    sentences.append(s)\n",
    "    if balance(s) != 0:\n",
    "        fix_quotes(s)\n",
    "    for i in range(len(s)):\n",
    "        if s[i] == \"«\":\n",
    "            t = delete_quotes(s, i)\n",
    "            if t not in sentences:\n",
    "                fight_with_quotes(t)\n",
    "    return"
   ]
  },
  {
   "cell_type": "code",
   "execution_count": 99,
   "id": "05f01eb0-dc77-4d7c-808b-aa499b65ec49",
   "metadata": {},
   "outputs": [
    {
     "name": "stderr",
     "output_type": "stream",
     "text": [
      "100%|██████████| 40785/40785 [1:28:53<00:00,  7.65it/s]  \n"
     ]
    }
   ],
   "source": [
    "import regex as re\n",
    "from PIL import Image\n",
    "from tqdm import tqdm\n",
    "import json\n",
    "\n",
    "#wiki_captions_pref = wiki_captions[:100]\n",
    "\n",
    "model_caption.eval()\n",
    "wiki_score = []\n",
    "good_wiki_captions = []\n",
    "\n",
    "split_regex = re.compile(r'[.|!|?|…]')\n",
    "for i, num in tqdm(enumerate(wiki_captions.keys()), total=len(wiki_captions)):\n",
    "    try:\n",
    "        image_features = img_features[num]\n",
    "    except KeyError:\n",
    "        continue\n",
    "    sentences = []\n",
    "    splitted_text = filter(lambda t: t, [t.strip() for t in split_regex.split(str(wiki_captions[num]))])\n",
    "    for sent in splitted_text:\n",
    "        fight_with_quotes(sent)\n",
    "    cur_emb = []\n",
    "    for j, s in enumerate(sentences):\n",
    "        with torch.no_grad():\n",
    "            emb = model_caption.forward(s, tokenizer).detach().to(device)\n",
    "        img_logits, text_logits = compare_embeddings(logit_scale, image_features, emb)\n",
    "        if img_logits >= 15:\n",
    "            cur_emb.append([img_logits, j])\n",
    "    if len(cur_emb) > 0:\n",
    "        best_emb = max(cur_emb)\n",
    "        wiki_score.append(best_emb[0])\n",
    "        good_wiki_captions.append([sentences[best_emb[1]], num])\n",
    "    if i % 100 == 0:\n",
    "        torch.save(wiki_score, 'wiki_score.pt')\n",
    "        with open(\"good_wiki_captions.json\", \"w\", encoding=\"utf-8\") as file:\n",
    "            json.dump(good_wiki_captions, file)\n",
    "\n",
    "#good_wiki_captions "
   ]
  },
  {
   "cell_type": "code",
   "execution_count": 100,
   "id": "c4cb17f3-688e-4551-a2f0-71c1a7cdfc37",
   "metadata": {},
   "outputs": [
    {
     "data": {
      "text/plain": [
       "tensor(27.0535, device='cuda:1', grad_fn=<MeanBackward0>)"
      ]
     },
     "execution_count": 100,
     "metadata": {},
     "output_type": "execute_result"
    }
   ],
   "source": [
    "torch.cat(wiki_score).mean()"
   ]
  },
  {
   "cell_type": "code",
   "execution_count": 4,
   "id": "72fbb298-4703-44e8-ab59-7e071a91268a",
   "metadata": {},
   "outputs": [],
   "source": [
    "import json\n",
    "\n",
    "with open(\"good_wiki_captions.json\", \"r\", encoding=\"utf-8\") as file:\n",
    "    good_wiki_captions = json.load(file)"
   ]
  },
  {
   "cell_type": "code",
   "execution_count": 8,
   "id": "bbd49d41-9d54-489b-b88f-798a731d075d",
   "metadata": {},
   "outputs": [
    {
     "data": {
      "text/plain": [
       "35111"
      ]
     },
     "execution_count": 8,
     "metadata": {},
     "output_type": "execute_result"
    }
   ],
   "source": [
    "len(good_wiki_captions)"
   ]
  },
  {
   "cell_type": "code",
   "execution_count": 9,
   "id": "25171b1c-cfb0-497e-90e3-8e72953ad975",
   "metadata": {},
   "outputs": [
    {
     "data": {
      "text/plain": [
       "[['Зарисовка крупнейшего из Золотых ромбов кургана Буш', 5],\n",
       " ['Трассовый моделизм', 8],\n",
       " ['Музей Дмитрия Бурылина', 16],\n",
       " ['Павильон «Космос»', 22],\n",
       " ['Эскиз Виктора Васнецова к опере', 23],\n",
       " ['Герб Сталь-фон-Гольштейнов', 30],\n",
       " ['Памятник Иванову в Томске', 32],\n",
       " ['Поскольку изменение климата приводит к таянию морского льда, Геологическая служба США прогнозирует, что две трети полярных медведей исчезнут к',\n",
       "  33],\n",
       " ['Филипп Йорк, граф Хардвик', 40],\n",
       " ['Подарок зубной фее от восьмилетней девочки', 49]]"
      ]
     },
     "execution_count": 9,
     "metadata": {},
     "output_type": "execute_result"
    }
   ],
   "source": [
    "good_wiki_captions[:10]"
   ]
  },
  {
   "cell_type": "code",
   "execution_count": 109,
   "id": "0efe137c-543e-484b-bfe0-5956680a6878",
   "metadata": {},
   "outputs": [
    {
     "name": "stdout",
     "output_type": "stream",
     "text": [
      "['Зарисовка крупнейшего из Золотых ромбов кургана Буш', 5] tensor(16.5067, device='cuda:1', grad_fn=<SelectBackward0>)\n",
      "['Трассовый моделизм', 8] tensor(23.3505, device='cuda:1', grad_fn=<SelectBackward0>)\n",
      "['Музей Дмитрия Бурылина', 16] tensor(36.0324, device='cuda:1', grad_fn=<SelectBackward0>)\n",
      "['Павильон «Космос»', 22] tensor(23.6495, device='cuda:1', grad_fn=<SelectBackward0>)\n",
      "['Эскиз Виктора Васнецова к опере', 23] tensor(29.3526, device='cuda:1', grad_fn=<SelectBackward0>)\n",
      "['Герб Сталь-фон-Гольштейнов', 30] tensor(36.4239, device='cuda:1', grad_fn=<SelectBackward0>)\n",
      "['Памятник Иванову в Томске', 32] tensor(26.2568, device='cuda:1', grad_fn=<SelectBackward0>)\n",
      "['Поскольку изменение климата приводит к таянию морского льда, Геологическая служба США прогнозирует, что две трети полярных медведей исчезнут к', 33] tensor(36.0533, device='cuda:1', grad_fn=<SelectBackward0>)\n",
      "['Филипп Йорк, граф Хардвик', 40] tensor(22.2617, device='cuda:1', grad_fn=<SelectBackward0>)\n",
      "['Подарок зубной фее от восьмилетней девочки', 49] tensor(15.6998, device='cuda:1', grad_fn=<SelectBackward0>)\n",
      "['Факультет медицины Сельджукского университета', 57] tensor(17.6342, device='cuda:1', grad_fn=<SelectBackward0>)\n",
      "['Странноприимный дом Таранова-Белозёрова (', 61] tensor(22.8810, device='cuda:1', grad_fn=<SelectBackward0>)\n",
      "['Валентин Серов русский живописец и график', 62] tensor(29.5470, device='cuda:1', grad_fn=<SelectBackward0>)\n",
      "['Печать ханского вана японской страны На', 63] tensor(16.0187, device='cuda:1', grad_fn=<SelectBackward0>)\n",
      "['Голова памятника Ленину в Житомире', 65] tensor(27.1497, device='cuda:1', grad_fn=<SelectBackward0>)\n",
      "['Дин и Ден Кейтен в детстве', 66] tensor(34.8959, device='cuda:1', grad_fn=<SelectBackward0>)\n",
      "['Бывшая станция Боллпарк', 71] tensor(22.3097, device='cuda:1', grad_fn=<SelectBackward0>)\n",
      "['Сайрус исполняет \" \" на \" \"', 72] tensor(31.3289, device='cuda:1', grad_fn=<SelectBackward0>)\n",
      "['Мадонна с младенцем, последняя четверть века × см, темпера и позолота на дереве)', 75] tensor(32.9163, device='cuda:1', grad_fn=<SelectBackward0>)\n",
      "['Вид с полуострова Святой Нос', 83] tensor(23.0591, device='cuda:1', grad_fn=<SelectBackward0>)\n",
      "['Медаль Португальского нумизматического общества', 85] tensor(33.0964, device='cuda:1', grad_fn=<SelectBackward0>)\n",
      "['Печать Радослава[] с изображением Борача[]', 86] tensor(17.1929, device='cuda:1', grad_fn=<SelectBackward0>)\n",
      "['Памятник в Сыктывкаре', 89] tensor(32.1134, device='cuda:1', grad_fn=<SelectBackward0>)\n",
      "['Сысертский пруд', 90] tensor(22.1376, device='cuda:1', grad_fn=<SelectBackward0>)\n",
      "['Юрий Смагин — сыграл за клуб матч', 91] tensor(27.8410, device='cuda:1', grad_fn=<SelectBackward0>)\n",
      "['Красный тритон', 96] tensor(32.0399, device='cuda:1', grad_fn=<SelectBackward0>)\n",
      "['Небо через дымовой выход тувинской юрты', 105] tensor(24.3621, device='cuda:1', grad_fn=<SelectBackward0>)\n",
      "['Река в районе Порту-Велью', 108] tensor(25.1069, device='cuda:1', grad_fn=<SelectBackward0>)\n",
      "['Жеводанский Зверь поедает трупы жертв', 110] tensor(29.5446, device='cuda:1', grad_fn=<SelectBackward0>)\n",
      "['Река Бикин в районе автомобильного моста на трассе , Приморский край', 114] tensor(26.7822, device='cuda:1', grad_fn=<SelectBackward0>)\n",
      "['ДОТ (середина г) — образец укреплений первого поколения', 119] tensor(16.0310, device='cuda:1', grad_fn=<SelectBackward0>)\n",
      "['авиакомпании «Волга-Днепр»', 124] tensor(26.9861, device='cuda:1', grad_fn=<SelectBackward0>)\n",
      "['Совет управляющих', 125] tensor(26.9073, device='cuda:1', grad_fn=<SelectBackward0>)\n",
      "['Торпеда на пилоне вертолёта «Линкс»', 128] tensor(32.5531, device='cuda:1', grad_fn=<SelectBackward0>)\n",
      "['Размещение полезной нагрузки в грузовом отсеке шаттла «Индевор» , , сегмент ферменной конструкции Слева внизу видна сфера сменного гиродина', 133] tensor(32.9614, device='cuda:1', grad_fn=<SelectBackward0>)\n",
      "['Артиллерийский авианесущий крейсер с кормовой орудийной башней калибра мм', 134] tensor(24.9515, device='cuda:1', grad_fn=<SelectBackward0>)\n",
      "['Для игры на симлише исполняли свои композиции группа', 138] tensor(21.0865, device='cuda:1', grad_fn=<SelectBackward0>)\n",
      "['Мозаика в торце зала', 139] tensor(28.4882, device='cuda:1', grad_fn=<SelectBackward0>)\n",
      "['Композитор Тигран Чухаджян', 140] tensor(19.8722, device='cuda:1', grad_fn=<SelectBackward0>)\n",
      "['авиакомпании на рулёжке в лондонском аэропорту Лутон', 144] tensor(23.9849, device='cuda:1', grad_fn=<SelectBackward0>)\n",
      "['Родители Георга', 146] tensor(24.2642, device='cuda:1', grad_fn=<SelectBackward0>)\n",
      "['Панорама стадиона изнутри', 153] tensor(30.9066, device='cuda:1', grad_fn=<SelectBackward0>)\n",
      "['Каталог изданий Саллюстия до , стр', 154] tensor(25.7972, device='cuda:1', grad_fn=<SelectBackward0>)\n",
      "['Банковский сертификат, выданный одним из американских банков', 158] tensor(36.4594, device='cuda:1', grad_fn=<SelectBackward0>)\n",
      "['Карта коммуны', 160] tensor(25.5727, device='cuda:1', grad_fn=<SelectBackward0>)\n",
      "['Ареал гронингенского диалекта на карте нижнесаксонских диалектов Нидерландов', 161] tensor(37.5807, device='cuda:1', grad_fn=<SelectBackward0>)\n",
      "['«Боудикка и её армия»', 162] tensor(31.1924, device='cuda:1', grad_fn=<SelectBackward0>)\n",
      "['Штаты финалистки конкурса красоты Юная Мисс США', 168] tensor(20.0857, device='cuda:1', grad_fn=<SelectBackward0>)\n",
      "['Британская команда, выигравшая турнир по поло', 169] tensor(35.0861, device='cuda:1', grad_fn=<SelectBackward0>)\n",
      "['Фрагмент карты', 171] tensor(19.0343, device='cuda:1', grad_fn=<SelectBackward0>)\n",
      "['Гравюры из книг изданных в Кутеинской типографии', 174] tensor(27.2357, device='cuda:1', grad_fn=<SelectBackward0>)\n",
      "['Пример древнеегипетской надписи с изображением пчелы', 177] tensor(30.2112, device='cuda:1', grad_fn=<SelectBackward0>)\n",
      "['Храм солнца в Мачу-Пикчу', 184] tensor(31.3701, device='cuda:1', grad_fn=<SelectBackward0>)\n",
      "['Мемориальная табличка у входа в музей', 186] tensor(32.6814, device='cuda:1', grad_fn=<SelectBackward0>)\n",
      "['Поезд прибывает на', 194] tensor(25.2675, device='cuda:1', grad_fn=<SelectBackward0>)\n",
      "['Маккарти на церемонии «Оскар» в у', 195] tensor(23.3841, device='cuda:1', grad_fn=<SelectBackward0>)\n",
      "['Мемориальная доска на здании Томского политехнического университета (бывший Томский технологический институт, который окончил Н', 203] tensor(29.6540, device='cuda:1', grad_fn=<SelectBackward0>)\n",
      "['Торговец дондурмой в Киото', 204] tensor(26.6128, device='cuda:1', grad_fn=<SelectBackward0>)\n",
      "[', спуск на воду , АПЛ класса (слева), три первых лодки нового класса в высокой степени готовности: справа , которая будет введена в строй в этом же у, левее , выступающая из цеха —', 205] tensor(28.5341, device='cuda:1', grad_fn=<SelectBackward0>)\n",
      "['Суперформула , воссозданная на надгробии композитора', 206] tensor(22.6092, device='cuda:1', grad_fn=<SelectBackward0>)\n",
      "['В гербе Уфимской губернии', 207] tensor(31.9140, device='cuda:1', grad_fn=<SelectBackward0>)\n",
      "['Одна из камер Соловецкой тюрьмы', 209] tensor(29.7122, device='cuda:1', grad_fn=<SelectBackward0>)\n",
      "['Склеп Бринеров в Безверхове', 212] tensor(28.9378, device='cuda:1', grad_fn=<SelectBackward0>)\n",
      "['Ресторан \"Евразия\" в Приозерске', 216] tensor(27.3476, device='cuda:1', grad_fn=<SelectBackward0>)\n",
      "['Подкова-Лесьна', 220] tensor(17.1689, device='cuda:1', grad_fn=<SelectBackward0>)\n",
      "['Наксосский Сфинкс был установлен рядом с храмом Аполлона в Дельфах, религиозном центре Древней Греции', 223] tensor(23.1522, device='cuda:1', grad_fn=<SelectBackward0>)\n",
      "['Тела погибших', 229] tensor(29.9524, device='cuda:1', grad_fn=<SelectBackward0>)\n",
      "['Дом почётного гражданина Головизина в Алма-Ате, в котором жил Л', 233] tensor(18.6597, device='cuda:1', grad_fn=<SelectBackward0>)\n",
      "['Страница каталога «Михель» с описанием стандартного выпуска СССР а', 236] tensor(34.7157, device='cuda:1', grad_fn=<SelectBackward0>)\n",
      "['Собор Непорочного Зачатия Пресвятой Девы Марии (Кингстон, Канада)', 237] tensor(28.1628, device='cuda:1', grad_fn=<SelectBackward0>)\n",
      "['Скульптор Антониос Сохос', 241] tensor(27.9091, device='cuda:1', grad_fn=<SelectBackward0>)\n",
      "['Миранда Ламберт', 242] tensor(18.6317, device='cuda:1', grad_fn=<SelectBackward0>)\n",
      "['Дочь инфанта Альфонсо де Молины, внучка короля Леона Альфонсо , супруга короля Кастилии Санчо и мать короля Кастилии Фернандо', 243] tensor(35.5973, device='cuda:1', grad_fn=<SelectBackward0>)\n",
      "['Палицкое озеро', 244] tensor(25.2717, device='cuda:1', grad_fn=<SelectBackward0>)\n",
      "['Стадион в Луизиане', 245] tensor(32.5240, device='cuda:1', grad_fn=<SelectBackward0>)\n",
      "['Причал Южной военно-морской базы Украины', 251] tensor(34.2959, device='cuda:1', grad_fn=<SelectBackward0>)\n",
      "['Смерть Иоанна Дмитриевича Переяслаского', 255] tensor(30.2839, device='cuda:1', grad_fn=<SelectBackward0>)\n",
      "['Фрагмент карты', 259] tensor(17.3780, device='cuda:1', grad_fn=<SelectBackward0>)\n",
      "['Хэмилтон управляет болидом на Гран-при Малайзии а', 262] tensor(29.0735, device='cuda:1', grad_fn=<SelectBackward0>)\n",
      "['Гермес с молодым воином', 263] tensor(30.4348, device='cuda:1', grad_fn=<SelectBackward0>)\n",
      "['Джэз Коулман в у', 267] tensor(23.6714, device='cuda:1', grad_fn=<SelectBackward0>)\n",
      "['Юго-западная оконечность бухты Ванина в у, видны лавмастерская (списана и затонула при попытке буксировки) и портовый ледокол «Фёдор Литке»', 272] tensor(27.2528, device='cuda:1', grad_fn=<SelectBackward0>)\n",
      "['Пилон моста Флее', 275] tensor(29.4943, device='cuda:1', grad_fn=<SelectBackward0>)\n",
      "['Японо-маньчжурский протокол, сентября', 279] tensor(34.8887, device='cuda:1', grad_fn=<SelectBackward0>)\n",
      "['Верещагинский виадук (Светланинский виадук), микрорайона Светлана города Сочи', 285] tensor(29.0806, device='cuda:1', grad_fn=<SelectBackward0>)\n",
      "['Оболочники: асцидии', 286] tensor(15.4134, device='cuda:1', grad_fn=<SelectBackward0>)\n",
      "['Карта Древнего Египта из энциклопедии Брокгауза и Эфрона, г', 287] tensor(31.8215, device='cuda:1', grad_fn=<SelectBackward0>)\n",
      "['Фонтан Треви', 291] tensor(34.9689, device='cuda:1', grad_fn=<SelectBackward0>)\n",
      "['Автодорога в Смоленской области у поворота на д', 293] tensor(29.0630, device='cuda:1', grad_fn=<SelectBackward0>)\n",
      "['Сертификат Премии Всемирной научной ассоциации по птицеводству', 296] tensor(38.0589, device='cuda:1', grad_fn=<SelectBackward0>)\n",
      "['Побережье в Танжере', 299] tensor(15.4070, device='cuda:1', grad_fn=<SelectBackward0>)\n",
      "['Семена', 309] tensor(24.2563, device='cuda:1', grad_fn=<SelectBackward0>)\n",
      "['Церковь Успения', 311] tensor(26.3107, device='cuda:1', grad_fn=<SelectBackward0>)\n",
      "['Общий вид эстрады кафе «Питтореск»', 315] tensor(25.6419, device='cuda:1', grad_fn=<SelectBackward0>)\n",
      "['Дистанционное (командное) наведение зенитных ракет', 322] tensor(19.8403, device='cuda:1', grad_fn=<SelectBackward0>)\n",
      "['Стая гиеновых собак в Национальном парке Крюгера (Южная Африка)', 329] tensor(37.2607, device='cuda:1', grad_fn=<SelectBackward0>)\n",
      "['Ипподром (справа)', 330] tensor(15.0791, device='cuda:1', grad_fn=<SelectBackward0>)\n",
      "['В настоящее время здесь работают администрация Псковской области и областное Собрание', 336] tensor(32.9631, device='cuda:1', grad_fn=<SelectBackward0>)\n",
      "['Большая мечеть в Кютахье (начало века)', 337] tensor(15.9199, device='cuda:1', grad_fn=<SelectBackward0>)\n",
      "['Страница Ньютона с аксиомами механики', 341] tensor(29.4413, device='cuda:1', grad_fn=<SelectBackward0>)\n"
     ]
    }
   ],
   "source": [
    "for i, j in zip(good_wiki_captions[:100], wiki_score[:100]):\n",
    "    print(i, j[0][0])"
   ]
  }
 ],
 "metadata": {
  "kernelspec": {
   "display_name": "Python 3 (ipykernel)",
   "language": "python",
   "name": "python3"
  },
  "language_info": {
   "codemirror_mode": {
    "name": "ipython",
    "version": 3
   },
   "file_extension": ".py",
   "mimetype": "text/x-python",
   "name": "python",
   "nbconvert_exporter": "python",
   "pygments_lexer": "ipython3",
   "version": "3.8.10"
  }
 },
 "nbformat": 4,
 "nbformat_minor": 5
}
