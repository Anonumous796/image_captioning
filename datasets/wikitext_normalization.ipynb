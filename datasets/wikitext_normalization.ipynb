{
 "cells": [
  {
   "cell_type": "markdown",
   "id": "fd1fc229-d7b7-4953-8cb4-4b699f6f8cd4",
   "metadata": {
    "tags": []
   },
   "source": [
    "# Нормализация вики"
   ]
  },
  {
   "cell_type": "code",
   "execution_count": 1,
   "id": "b997604b-7d2f-4040-9cbd-13bc430e4741",
   "metadata": {
    "tags": []
   },
   "outputs": [],
   "source": [
    "import pandas as pd"
   ]
  },
  {
   "cell_type": "code",
   "execution_count": 3,
   "id": "32b4b610-89ff-46a0-abf7-0a633886a295",
   "metadata": {},
   "outputs": [],
   "source": [
    "df = pd.read_csv('wiki_dataset/rus_wikitext_50k_caption_reference_description_train.csv', index_col=0)"
   ]
  },
  {
   "cell_type": "code",
   "execution_count": 4,
   "id": "5dc4f23c-1792-47ac-a3a0-896c03e38bae",
   "metadata": {
    "tags": []
   },
   "outputs": [
    {
     "data": {
      "text/html": [
       "<div>\n",
       "<style scoped>\n",
       "    .dataframe tbody tr th:only-of-type {\n",
       "        vertical-align: middle;\n",
       "    }\n",
       "\n",
       "    .dataframe tbody tr th {\n",
       "        vertical-align: top;\n",
       "    }\n",
       "\n",
       "    .dataframe thead th {\n",
       "        text-align: right;\n",
       "    }\n",
       "</style>\n",
       "<table border=\"1\" class=\"dataframe\">\n",
       "  <thead>\n",
       "    <tr style=\"text-align: right;\">\n",
       "      <th></th>\n",
       "      <th>language</th>\n",
       "      <th>page_url</th>\n",
       "      <th>image_url</th>\n",
       "      <th>page_title</th>\n",
       "      <th>section_title</th>\n",
       "      <th>hierarchical_section_title</th>\n",
       "      <th>caption_reference_description</th>\n",
       "      <th>caption_attribution_description</th>\n",
       "      <th>caption_alt_text_description</th>\n",
       "      <th>mime_type</th>\n",
       "      <th>original_height</th>\n",
       "      <th>original_width</th>\n",
       "      <th>is_main_image</th>\n",
       "      <th>attribution_passes_lang_id</th>\n",
       "      <th>page_changed_recently</th>\n",
       "      <th>context_page_description</th>\n",
       "      <th>context_section_description</th>\n",
       "    </tr>\n",
       "  </thead>\n",
       "  <tbody>\n",
       "    <tr>\n",
       "      <th>0</th>\n",
       "      <td>ru</td>\n",
       "      <td>https://ru.wikipedia.org/wiki/%D0%A3%D0%BC%D0%...</td>\n",
       "      <td>https://upload.wikimedia.org/wikipedia/commons...</td>\n",
       "      <td>Умершие в ноябре 2013 года</td>\n",
       "      <td>16 ноября</td>\n",
       "      <td>Умершие в ноябре 2013 года / 16 ноября</td>\n",
       "      <td>Владислав Захаревич</td>\n",
       "      <td>Русский: Ректор ЮФУ В.Г. ЗахаревичEnglish: Pro...</td>\n",
       "      <td>NaN</td>\n",
       "      <td>image/jpeg</td>\n",
       "      <td>1533</td>\n",
       "      <td>1677</td>\n",
       "      <td>False</td>\n",
       "      <td>True</td>\n",
       "      <td>True</td>\n",
       "      <td>Это список известных людей, соответствующих ус...</td>\n",
       "      <td>Берберян, Арсен (75) — архиепископ Армянской а...</td>\n",
       "    </tr>\n",
       "    <tr>\n",
       "      <th>5</th>\n",
       "      <td>ru</td>\n",
       "      <td>https://ru.wikipedia.org/wiki/%D0%91%D1%83%D1%...</td>\n",
       "      <td>https://upload.wikimedia.org/wikipedia/commons...</td>\n",
       "      <td>Буш (курган)</td>\n",
       "      <td>NaN</td>\n",
       "      <td>Буш (курган)</td>\n",
       "      <td>Зарисовка крупнейшего из Золотых ромбов курган...</td>\n",
       "      <td>English: design of the the Bush Barrow Lozenge...</td>\n",
       "      <td>NaN</td>\n",
       "      <td>image/jpeg</td>\n",
       "      <td>588</td>\n",
       "      <td>625</td>\n",
       "      <td>False</td>\n",
       "      <td>False</td>\n",
       "      <td>True</td>\n",
       "      <td>Курган Буш, англ. Bush Barrow — памятник ранне...</td>\n",
       "      <td>Курган Буш, англ. Bush Barrow — памятник ранне...</td>\n",
       "    </tr>\n",
       "    <tr>\n",
       "      <th>8</th>\n",
       "      <td>ru</td>\n",
       "      <td>https://ru.wikipedia.org/wiki/%D0%A2%D1%80%D0%...</td>\n",
       "      <td>https://upload.wikimedia.org/wikipedia/commons...</td>\n",
       "      <td>Трассовый моделизм</td>\n",
       "      <td>NaN</td>\n",
       "      <td>Трассовый моделизм</td>\n",
       "      <td>Трассовый моделизм. Прохождение моделями виража</td>\n",
       "      <td>日本語: YSR race Mr.ky</td>\n",
       "      <td>NaN</td>\n",
       "      <td>image/jpeg</td>\n",
       "      <td>540</td>\n",
       "      <td>960</td>\n",
       "      <td>False</td>\n",
       "      <td>False</td>\n",
       "      <td>False</td>\n",
       "      <td>Трассовый моделизм — вид автомодельного спорта...</td>\n",
       "      <td>Трассовый моделизм (также трассовые гонки или ...</td>\n",
       "    </tr>\n",
       "    <tr>\n",
       "      <th>15</th>\n",
       "      <td>ru</td>\n",
       "      <td>https://ru.wikipedia.org/wiki/%D0%9B%D0%B8%D0%...</td>\n",
       "      <td>https://upload.wikimedia.org/wikipedia/commons...</td>\n",
       "      <td>Лилейная трещалка</td>\n",
       "      <td>NaN</td>\n",
       "      <td>Лилейная трещалка</td>\n",
       "      <td>Спаривание</td>\n",
       "      <td>Liloceris lilii (Scopoli, 1763), copula Englis...</td>\n",
       "      <td>NaN</td>\n",
       "      <td>image/jpeg</td>\n",
       "      <td>2336</td>\n",
       "      <td>3504</td>\n",
       "      <td>False</td>\n",
       "      <td>False</td>\n",
       "      <td>True</td>\n",
       "      <td>Треща́лка лиле́йная — насекомое семейства жуко...</td>\n",
       "      <td>Треща́лка лиле́йная (лат. Lilioceris lilii) — ...</td>\n",
       "    </tr>\n",
       "    <tr>\n",
       "      <th>16</th>\n",
       "      <td>ru</td>\n",
       "      <td>https://ru.wikipedia.org/wiki/%D0%91%D1%83%D1%...</td>\n",
       "      <td>https://upload.wikimedia.org/wikipedia/commons...</td>\n",
       "      <td>Бурылин, Дмитрий Геннадьевич</td>\n",
       "      <td>Коллекционная деятельность</td>\n",
       "      <td>Бурылин, Дмитрий Геннадьевич / Коллекционная д...</td>\n",
       "      <td>Музей Дмитрия Бурылина.</td>\n",
       "      <td>English: Museum of Industry and Art (Burylin M...</td>\n",
       "      <td>NaN</td>\n",
       "      <td>image/jpeg</td>\n",
       "      <td>3759</td>\n",
       "      <td>5012</td>\n",
       "      <td>False</td>\n",
       "      <td>True</td>\n",
       "      <td>False</td>\n",
       "      <td>Дми́трий Генна́дьевич Буры́лин — иваново-возне...</td>\n",
       "      <td>Всю свою жизнь Дмитрий Бурылин собирал коллекц...</td>\n",
       "    </tr>\n",
       "  </tbody>\n",
       "</table>\n",
       "</div>"
      ],
      "text/plain": [
       "   language                                           page_url  \\\n",
       "0        ru  https://ru.wikipedia.org/wiki/%D0%A3%D0%BC%D0%...   \n",
       "5        ru  https://ru.wikipedia.org/wiki/%D0%91%D1%83%D1%...   \n",
       "8        ru  https://ru.wikipedia.org/wiki/%D0%A2%D1%80%D0%...   \n",
       "15       ru  https://ru.wikipedia.org/wiki/%D0%9B%D0%B8%D0%...   \n",
       "16       ru  https://ru.wikipedia.org/wiki/%D0%91%D1%83%D1%...   \n",
       "\n",
       "                                            image_url  \\\n",
       "0   https://upload.wikimedia.org/wikipedia/commons...   \n",
       "5   https://upload.wikimedia.org/wikipedia/commons...   \n",
       "8   https://upload.wikimedia.org/wikipedia/commons...   \n",
       "15  https://upload.wikimedia.org/wikipedia/commons...   \n",
       "16  https://upload.wikimedia.org/wikipedia/commons...   \n",
       "\n",
       "                      page_title               section_title  \\\n",
       "0     Умершие в ноябре 2013 года                   16 ноября   \n",
       "5                   Буш (курган)                         NaN   \n",
       "8             Трассовый моделизм                         NaN   \n",
       "15             Лилейная трещалка                         NaN   \n",
       "16  Бурылин, Дмитрий Геннадьевич  Коллекционная деятельность   \n",
       "\n",
       "                           hierarchical_section_title  \\\n",
       "0              Умершие в ноябре 2013 года / 16 ноября   \n",
       "5                                        Буш (курган)   \n",
       "8                                  Трассовый моделизм   \n",
       "15                                  Лилейная трещалка   \n",
       "16  Бурылин, Дмитрий Геннадьевич / Коллекционная д...   \n",
       "\n",
       "                        caption_reference_description  \\\n",
       "0                                 Владислав Захаревич   \n",
       "5   Зарисовка крупнейшего из Золотых ромбов курган...   \n",
       "8     Трассовый моделизм. Прохождение моделями виража   \n",
       "15                                         Спаривание   \n",
       "16                            Музей Дмитрия Бурылина.   \n",
       "\n",
       "                      caption_attribution_description  \\\n",
       "0   Русский: Ректор ЮФУ В.Г. ЗахаревичEnglish: Pro...   \n",
       "5   English: design of the the Bush Barrow Lozenge...   \n",
       "8                                 日本語: YSR race Mr.ky   \n",
       "15  Liloceris lilii (Scopoli, 1763), copula Englis...   \n",
       "16  English: Museum of Industry and Art (Burylin M...   \n",
       "\n",
       "   caption_alt_text_description   mime_type  original_height  original_width  \\\n",
       "0                           NaN  image/jpeg             1533            1677   \n",
       "5                           NaN  image/jpeg              588             625   \n",
       "8                           NaN  image/jpeg              540             960   \n",
       "15                          NaN  image/jpeg             2336            3504   \n",
       "16                          NaN  image/jpeg             3759            5012   \n",
       "\n",
       "    is_main_image  attribution_passes_lang_id  page_changed_recently  \\\n",
       "0           False                        True                   True   \n",
       "5           False                       False                   True   \n",
       "8           False                       False                  False   \n",
       "15          False                       False                   True   \n",
       "16          False                        True                  False   \n",
       "\n",
       "                             context_page_description  \\\n",
       "0   Это список известных людей, соответствующих ус...   \n",
       "5   Курган Буш, англ. Bush Barrow — памятник ранне...   \n",
       "8   Трассовый моделизм — вид автомодельного спорта...   \n",
       "15  Треща́лка лиле́йная — насекомое семейства жуко...   \n",
       "16  Дми́трий Генна́дьевич Буры́лин — иваново-возне...   \n",
       "\n",
       "                          context_section_description  \n",
       "0   Берберян, Арсен (75) — архиепископ Армянской а...  \n",
       "5   Курган Буш, англ. Bush Barrow — памятник ранне...  \n",
       "8   Трассовый моделизм (также трассовые гонки или ...  \n",
       "15  Треща́лка лиле́йная (лат. Lilioceris lilii) — ...  \n",
       "16  Всю свою жизнь Дмитрий Бурылин собирал коллекц...  "
      ]
     },
     "execution_count": 4,
     "metadata": {},
     "output_type": "execute_result"
    }
   ],
   "source": [
    "df.head()"
   ]
  },
  {
   "cell_type": "code",
   "execution_count": 5,
   "id": "816ace75-797c-4fd4-ba72-d757cd35bfd0",
   "metadata": {},
   "outputs": [
    {
     "data": {
      "text/plain": [
       "(41851, 17)"
      ]
     },
     "execution_count": 5,
     "metadata": {},
     "output_type": "execute_result"
    }
   ],
   "source": [
    "df.shape"
   ]
  },
  {
   "cell_type": "code",
   "execution_count": 6,
   "id": "b4b1814e-e201-406a-84cf-f680a815b974",
   "metadata": {},
   "outputs": [],
   "source": [
    "df = df.drop(columns=['page_changed_recently', 'page_changed_recently', 'page_url', 'image_url', 'mime_type'])"
   ]
  },
  {
   "cell_type": "code",
   "execution_count": 7,
   "id": "4963940c-21d2-407c-ad8f-2f7ecab8d986",
   "metadata": {
    "tags": []
   },
   "outputs": [],
   "source": [
    "columns = ['page_title', 'section_title', 'hierarchical_section_title', 'caption_reference_description',\n",
    "           'caption_attribution_description', 'context_page_description', 'context_section_description']"
   ]
  },
  {
   "cell_type": "code",
   "execution_count": 8,
   "id": "e80a4ce1-75a1-4a88-b2e1-4e2f8feda8c1",
   "metadata": {},
   "outputs": [],
   "source": [
    "from tqdm.auto import tqdm\n",
    "import re"
   ]
  },
  {
   "cell_type": "code",
   "execution_count": 9,
   "id": "b9a52518-1d2a-40f2-817e-b58213bc601b",
   "metadata": {},
   "outputs": [],
   "source": [
    "df.loc[df.caption_reference_description.isna(), 'caption_alt_text_description'] = df.caption_alt_text_description"
   ]
  },
  {
   "cell_type": "code",
   "execution_count": 10,
   "id": "4ce7b9ba-5a85-47ef-8da0-a6eb547fb369",
   "metadata": {},
   "outputs": [],
   "source": [
    "df.loc[df.caption_reference_description.isna(), 'page_title'] = df.page_title"
   ]
  },
  {
   "cell_type": "code",
   "execution_count": 11,
   "id": "3eb621a7-04cc-4be4-a6a8-633c1d5d6467",
   "metadata": {},
   "outputs": [],
   "source": [
    "df = df.loc[df.caption_reference_description.notna()]"
   ]
  },
  {
   "cell_type": "code",
   "execution_count": 11,
   "id": "aca206f5-456d-4bf5-9bfa-20225627087b",
   "metadata": {
    "collapsed": true,
    "jupyter": {
     "outputs_hidden": true
    },
    "tags": []
   },
   "outputs": [
    {
     "data": {
      "text/plain": [
       "Int64Index([    0,     5,     8,    15,    16,    22,    23,    30,    32,\n",
       "               33,\n",
       "            ...\n",
       "            49975, 49976, 49980, 49982, 49988, 49989, 49993, 49995, 49997,\n",
       "            49999],\n",
       "           dtype='int64', length=18598)"
      ]
     },
     "execution_count": 11,
     "metadata": {},
     "output_type": "execute_result"
    }
   ],
   "source": [
    "df.index[:]"
   ]
  },
  {
   "cell_type": "code",
   "execution_count": 13,
   "id": "d6853c7c-5c28-4cee-8789-6d7980e8a660",
   "metadata": {
    "collapsed": true,
    "jupyter": {
     "outputs_hidden": true
    },
    "tags": []
   },
   "outputs": [
    {
     "name": "stderr",
     "output_type": "stream",
     "text": [
      "100%|██████████| 18598/18598 [00:00<00:00, 43550.41it/s]"
     ]
    },
    {
     "name": "stdout",
     "output_type": "stream",
     "text": [
      "6665\n",
      "0\n"
     ]
    },
    {
     "name": "stderr",
     "output_type": "stream",
     "text": [
      "\n"
     ]
    }
   ],
   "source": [
    "to_drop = []\n",
    "total_count = 0\n",
    "for i in tqdm(df.index[:]):\n",
    "    text = df.caption_reference_description.loc[i]\n",
    "    count = len(re.findall(r'\\b\\d+\\b', text))\n",
    "    if count > 0:\n",
    "        total_count += 1\n",
    "    if count > (1 / 3) * len(text):\n",
    "        to_drop.append(i)\n",
    "df = df.drop(to_drop)\n",
    "print(total_count)\n",
    "print(len(to_drop))"
   ]
  },
  {
   "cell_type": "code",
   "execution_count": null,
   "id": "fcabc7fb-e0cd-4582-b974-855d57b4697c",
   "metadata": {},
   "outputs": [],
   "source": [
    "lines_to_drop = []\n",
    "for i in tqdm(df.index):\n",
    "    for col in columns:\n",
    "        df[col][i] = str(df[col][i])\n",
    "        df[col][i] = re.sub(\"\\S*\\d\\S*\", \"\", df[col][i]).strip()\n",
    "        df[col][i] = re.sub(r'(?i)[a-z]', '', df[col][i])\n",
    "        df[col][i] = df[col][i].replace(\"г.\", \"\").replace(\"№\", \"\").replace(\"год\", \"\")\n",
    "        df[col][i] = \" \".join(df[col][i].split())\n",
    "        if len(df[col][i]) > 0 and df[col][i][-1] == ' ':\n",
    "            df[col][i] = df[col][i][:-1]\n",
    "        if len(df[col][i]) > 0 and df[col][i][-1] == ',':\n",
    "            df[col][i] = df[col][i][:-1]\n",
    "        if col == \"caption_reference_description\" and len(df[col][i]) == 0:\n",
    "            lines_to_drop.append(i)\n",
    "print(len(lines_to_drop))"
   ]
  },
  {
   "cell_type": "code",
   "execution_count": 13,
   "id": "14435d54-0e70-4920-9ff9-38551a1b9b0e",
   "metadata": {},
   "outputs": [],
   "source": [
    "df = df.drop(lines_to_drop)"
   ]
  },
  {
   "cell_type": "code",
   "execution_count": 14,
   "id": "dcec5e7e-9174-494d-bb90-c03c6cb5f163",
   "metadata": {
    "tags": []
   },
   "outputs": [
    {
     "data": {
      "text/plain": [
       "0.24273630011033467"
      ]
     },
     "execution_count": 14,
     "metadata": {},
     "output_type": "execute_result"
    }
   ],
   "source": [
    "len(df.loc[df.caption_reference_description == df.caption_alt_text_description]) / len(df) * 100"
   ]
  },
  {
   "cell_type": "code",
   "execution_count": 15,
   "id": "80db4da3-c2c9-4094-8e1c-1848f3f3cdaf",
   "metadata": {},
   "outputs": [],
   "source": [
    "df = df.drop(columns=['caption_alt_text_description'])"
   ]
  },
  {
   "cell_type": "code",
   "execution_count": 16,
   "id": "98c4da9b-ac87-4fb0-8a5b-f62c22b4e351",
   "metadata": {},
   "outputs": [
    {
     "data": {
      "text/plain": [
       "(40785, 12)"
      ]
     },
     "execution_count": 16,
     "metadata": {},
     "output_type": "execute_result"
    }
   ],
   "source": [
    "df.shape"
   ]
  },
  {
   "cell_type": "code",
   "execution_count": 17,
   "id": "7b8b2b88-a04f-4c99-b26c-673333a834d5",
   "metadata": {},
   "outputs": [],
   "source": [
    "df.to_csv('wiki_dataset/rus_wikitext_50k_caption_reference_description_train_norm.csv')"
   ]
  },
  {
   "cell_type": "markdown",
   "id": "ea058c60-bf04-432c-9df4-68b9e0e18cb2",
   "metadata": {
    "jp-MarkdownHeadingCollapsed": true,
    "tags": []
   },
   "source": [
    "# Тестим (неактуально)"
   ]
  },
  {
   "cell_type": "code",
   "execution_count": 11,
   "id": "d26e8e72-4532-4e90-b3b4-76dc18bda03f",
   "metadata": {},
   "outputs": [],
   "source": [
    "import torch"
   ]
  },
  {
   "cell_type": "code",
   "execution_count": null,
   "id": "7e8e98e7-d07d-4b4b-8f3a-39459f576fdb",
   "metadata": {
    "collapsed": true,
    "jupyter": {
     "outputs_hidden": true
    },
    "tags": []
   },
   "outputs": [],
   "source": [
    "!pip install torchmetrics == 0.11.3"
   ]
  },
  {
   "cell_type": "code",
   "execution_count": null,
   "id": "d171d5e3-a283-42f0-874f-9ed87e5b93e3",
   "metadata": {
    "collapsed": true,
    "jupyter": {
     "outputs_hidden": true
    },
    "tags": []
   },
   "outputs": [],
   "source": [
    "!pip install transformers == 4.26.1"
   ]
  },
  {
   "cell_type": "code",
   "execution_count": null,
   "id": "7e58b6c4-bb5b-4ff9-81d5-1aef4b87de31",
   "metadata": {
    "collapsed": true,
    "jupyter": {
     "outputs_hidden": true
    },
    "tags": []
   },
   "outputs": [],
   "source": [
    "from torchmetrics.multimodal import CLIPScore\n",
    "\n",
    "metric = CLIPScore(model_name_or_path=\"openai/clip-vit-base-patch16\")"
   ]
  },
  {
   "cell_type": "code",
   "execution_count": 27,
   "id": "868acf69-d16f-4ed2-a063-e98803a67d22",
   "metadata": {},
   "outputs": [],
   "source": [
    "import torchvision.transforms as transforms\n",
    "from PIL import Image\n",
    "\n",
    "\n",
    "def read_image(path):\n",
    "    img = Image.open(path).convert('RGB')\n",
    "\n",
    "    resize = transforms.Resize([224, 224])\n",
    "    img = resize(img)\n",
    "    to_tensor = transforms.ToTensor()\n",
    "\n",
    "    tensor = to_tensor(img)\n",
    "    return tensor"
   ]
  },
  {
   "cell_type": "code",
   "execution_count": 16,
   "id": "f90f1928-ca71-4adc-abe3-3ab9c79fd2e6",
   "metadata": {},
   "outputs": [],
   "source": [
    "images = torch.load('wiki_img_tensor.pt')\n",
    "wikiScore = metric(images[0], df.caption_reference_description.loc[0])"
   ]
  },
  {
   "cell_type": "code",
   "execution_count": 17,
   "id": "f9ba7b1f-6627-48b5-896e-b32c134b0be1",
   "metadata": {},
   "outputs": [
    {
     "data": {
      "text/plain": [
       "tensor(19.9878)"
      ]
     },
     "execution_count": 17,
     "metadata": {},
     "output_type": "execute_result"
    }
   ],
   "source": [
    "wikiScore.detach()"
   ]
  },
  {
   "cell_type": "code",
   "execution_count": null,
   "id": "2ed48111-149b-4a81-a8d1-165006165deb",
   "metadata": {},
   "outputs": [],
   "source": [
    "scores_wiki = []\n",
    "j = 0\n",
    "for i in tqdm(df.index[:]):\n",
    "    text = df.caption_reference_description.loc[i]\n",
    "    try:\n",
    "        wikiScore = metric(images[j], text)\n",
    "        scores_wiki.append(wikiScore.detach())\n",
    "    except KeyboardInterrupt:\n",
    "        print(\"stop\")\n",
    "        break\n",
    "    except:\n",
    "        pass\n",
    "    j += 1\n",
    "mean_wiki = sum(scores_wiki) / len(scores_wiki)"
   ]
  },
  {
   "cell_type": "code",
   "execution_count": 20,
   "id": "d3410afd-5b90-429d-8f64-88f163b2deb7",
   "metadata": {},
   "outputs": [
    {
     "data": {
      "text/plain": [
       "tensor(21.9187)"
      ]
     },
     "execution_count": 20,
     "metadata": {},
     "output_type": "execute_result"
    }
   ],
   "source": [
    "mean_wiki  # оценка wiki"
   ]
  },
  {
   "cell_type": "code",
   "execution_count": null,
   "id": "fbb5fa7e-4e20-4a8e-a9cd-090f80f94e64",
   "metadata": {},
   "outputs": [],
   "source": [
    "import torchvision.datasets as dset\n",
    "\n",
    "coco_train = dset.CocoDetection(root=\"coco_dataset/train2017\",\n",
    "                                annFile=\"coco_dataset/annotations/captions_train2017.json\")"
   ]
  },
  {
   "cell_type": "code",
   "execution_count": 27,
   "id": "8073c27e-0f01-4644-b221-f180ba66e800",
   "metadata": {},
   "outputs": [
    {
     "name": "stderr",
     "output_type": "stream",
     "text": [
      "100%|██████████| 9278/9278 [33:58<00:00,  4.55it/s]\n"
     ]
    }
   ],
   "source": [
    "scores_coco = []\n",
    "for i in tqdm(range(9278)):\n",
    "    image, captions = coco_train[i]\n",
    "    name = str(captions[0]['image_id'])\n",
    "    name = \"0\" * (12 - len(name)) + name\n",
    "    name = f\"coco_dataset/train2017/{name}.jpg\"\n",
    "    text = captions[0]['caption']\n",
    "    cocoScore = metric(read_image(name), text)\n",
    "    scores_coco.append(cocoScore.detach())\n",
    "mean_coco = sum(scores_coco) / len(scores_coco)"
   ]
  },
  {
   "cell_type": "code",
   "execution_count": 28,
   "id": "4da7f626-516e-4d7f-8c81-594e604d4649",
   "metadata": {},
   "outputs": [
    {
     "data": {
      "text/plain": [
       "tensor(30.4789)"
      ]
     },
     "execution_count": 28,
     "metadata": {},
     "output_type": "execute_result"
    }
   ],
   "source": [
    "mean_coco  # оценка coco"
   ]
  },
  {
   "cell_type": "code",
   "execution_count": null,
   "id": "c76fa916-9690-4967-a950-3aa60e285522",
   "metadata": {
    "collapsed": true,
    "jupyter": {
     "outputs_hidden": true
    },
    "tags": []
   },
   "outputs": [],
   "source": [
    "!pip install googletrans == 3.1.0a0"
   ]
  },
  {
   "cell_type": "code",
   "execution_count": null,
   "id": "01278351-0ff1-4fa6-ae8e-fc9cb81e63ae",
   "metadata": {
    "collapsed": true,
    "jupyter": {
     "outputs_hidden": true
    },
    "tags": []
   },
   "outputs": [],
   "source": [
    "from googletrans import Translator\n",
    "\n",
    "translator = Translator()\n",
    "translated_text = []\n",
    "for i in tqdm(range(5000)):\n",
    "    image, captions = coco_train[i]\n",
    "    text = captions[0]['caption']\n",
    "    translated_text.append(translator.translate(text, dest=\"ru\", src=\"en\").text)"
   ]
  },
  {
   "cell_type": "code",
   "execution_count": 68,
   "id": "7e285ca7-6157-4007-acd2-387e516fe7d4",
   "metadata": {},
   "outputs": [
    {
     "name": "stderr",
     "output_type": "stream",
     "text": [
      "100%|██████████| 1000/1000 [04:04<00:00,  4.09it/s]\n"
     ]
    }
   ],
   "source": [
    "scores_coco = []\n",
    "for i in tqdm(range(1000)):\n",
    "    image, captions = coco_train[i]\n",
    "    name = str(captions[0]['image_id'])\n",
    "    name = \"0\" * (12 - len(name)) + name\n",
    "    name = f\"coco_dataset/train2017/{name}.jpg\"\n",
    "    text = translated_text[i]\n",
    "    try:\n",
    "        cocoScore = metric(read_image(name), text)\n",
    "        if cocoScore.detach() > 15:\n",
    "            scores_coco.append(cocoScore.detach())\n",
    "    except:\n",
    "        pass\n",
    "mean_coco = sum(scores_coco) / len(scores_coco)"
   ]
  },
  {
   "cell_type": "code",
   "execution_count": 69,
   "id": "9d4a7a51-53eb-4888-9222-a2f06397da11",
   "metadata": {},
   "outputs": [
    {
     "data": {
      "text/plain": [
       "0.913"
      ]
     },
     "execution_count": 69,
     "metadata": {},
     "output_type": "execute_result"
    }
   ],
   "source": [
    "len(scores_coco) / 1000  # процент норм переведенных описаний"
   ]
  },
  {
   "cell_type": "code",
   "execution_count": null,
   "id": "aae0e291-ffb3-4abd-9ec6-38b373f08c61",
   "metadata": {},
   "outputs": [],
   "source": [
    "import torchvision.datasets as dset\n",
    "\n",
    "coco_train_russian = dset.CocoDetection(root=\"coco_dataset/train2014\",\n",
    "                                        annFile=\"coco_dataset/annotations/captions_train2014.json\")"
   ]
  },
  {
   "cell_type": "code",
   "execution_count": 24,
   "id": "de399abc-3413-4860-97ec-327cea462f84",
   "metadata": {},
   "outputs": [],
   "source": [
    "import json\n",
    "\n",
    "with open('coco_dataset/captions_ru_train.json', 'r') as f:\n",
    "    coco_captions_train_russian = json.load(f)"
   ]
  },
  {
   "cell_type": "code",
   "execution_count": 38,
   "id": "271051ed-84bb-4829-8e73-e3c6be7e290d",
   "metadata": {},
   "outputs": [
    {
     "name": "stderr",
     "output_type": "stream",
     "text": [
      "100%|██████████| 1000/1000 [04:13<00:00,  3.95it/s]\n"
     ]
    }
   ],
   "source": [
    "from tqdm.auto import tqdm\n",
    "\n",
    "scores_coco_russian = []\n",
    "for i in tqdm(range(1000)):\n",
    "    image = coco_train_russian[i][0]\n",
    "    captions = coco_captions_train_russian[i]\n",
    "    name = str(coco_train_russian[i][1][0]['image_id'])\n",
    "    name = \"0\" * (12 - len(name)) + name\n",
    "    name = f\"coco_dataset/train2014/COCO_train2014_{name}.jpg\"\n",
    "    image = read_image(path=name)\n",
    "\n",
    "    text = captions[0]['caption']\n",
    "\n",
    "    try:\n",
    "        cocoScore = metric(read_image(name), text)\n",
    "        scores_coco_russian.append(cocoScore.detach())\n",
    "    except:\n",
    "        pass\n",
    "mean_coco_russian = sum(scores_coco_russian) / len(scores_coco_russian)"
   ]
  },
  {
   "cell_type": "code",
   "execution_count": 39,
   "id": "3bf7af6b-950f-49dc-a24f-12730079943a",
   "metadata": {},
   "outputs": [
    {
     "data": {
      "text/plain": [
       "tensor(19.0822)"
      ]
     },
     "execution_count": 39,
     "metadata": {},
     "output_type": "execute_result"
    }
   ],
   "source": [
    "mean_coco_russian  # оценка rucoco"
   ]
  },
  {
   "cell_type": "markdown",
   "id": "cd14af54-e66a-482a-a058-c31a7203b88f",
   "metadata": {
    "jp-MarkdownHeadingCollapsed": true,
    "tags": []
   },
   "source": [
    "# Перевод coco"
   ]
  },
  {
   "cell_type": "code",
   "execution_count": 67,
   "id": "257d74ac-abcd-4a99-bd79-01c5438ac818",
   "metadata": {},
   "outputs": [
    {
     "data": {
      "text/plain": [
       "tensor(18.9519)"
      ]
     },
     "execution_count": 67,
     "metadata": {},
     "output_type": "execute_result"
    }
   ],
   "source": [
    "mean_coco  # оценка переведенного coco"
   ]
  },
  {
   "cell_type": "code",
   "execution_count": 19,
   "id": "82baa95d-68dc-493c-a336-f78c2d0f0311",
   "metadata": {},
   "outputs": [],
   "source": [
    "n = 20000\n",
    "coco_translation = []"
   ]
  },
  {
   "cell_type": "code",
   "execution_count": 25,
   "id": "632c243b-9f78-4446-8b87-52667eff2fbf",
   "metadata": {},
   "outputs": [
    {
     "data": {
      "text/plain": [
       "11218"
      ]
     },
     "execution_count": 25,
     "metadata": {},
     "output_type": "execute_result"
    }
   ],
   "source": [
    "len(coco_translation)"
   ]
  },
  {
   "cell_type": "code",
   "execution_count": null,
   "id": "a9ce2937-2445-447f-a1a2-2ca3fd59e696",
   "metadata": {
    "collapsed": true,
    "jupyter": {
     "outputs_hidden": true
    },
    "tags": []
   },
   "outputs": [],
   "source": [
    "from googletrans import Translator\n",
    "import json\n",
    "\n",
    "translator = Translator()\n",
    "for i in tqdm(range(len(coco_translation), n)):\n",
    "    image, captions = coco_train[i]\n",
    "    name = str(captions[0]['image_id'])\n",
    "    name = \"0\" * (12 - len(name)) + name\n",
    "    name = f\"coco_dataset/train2017/{name}.jpg\"\n",
    "    translated_captions = []\n",
    "    for cur_cap in captions:\n",
    "        text = translator.translate(cur_cap['caption'], dest=\"ru\", src=\"en\").text\n",
    "        try:\n",
    "            cocoScore = metric(read_image(name), text)\n",
    "            if cocoScore.detach() > 15:\n",
    "                translated_captions.append(text)\n",
    "        except:\n",
    "            pass\n",
    "    coco_translation.append(translated_captions)\n",
    "    if i % 1000 == 0:\n",
    "        with open('coco_dataset/coco_captions_russian.json', 'w', encoding='utf-8') as f:\n",
    "            json.dump(coco_translation, f, ensure_ascii=False, indent=4)"
   ]
  },
  {
   "cell_type": "code",
   "execution_count": 24,
   "id": "db84a3da-f865-42bc-86bc-8ed832eef8b7",
   "metadata": {},
   "outputs": [],
   "source": [
    "with open('coco_dataset/coco_captions_russian.json', 'w', encoding='utf-8') as f:\n",
    "    json.dump(coco_translation, f, ensure_ascii=False, indent=4)"
   ]
  },
  {
   "cell_type": "markdown",
   "id": "ca5c1085-3fd0-4575-ae74-8189f9f89e58",
   "metadata": {
    "tags": []
   },
   "source": [
    "# Тестим 2"
   ]
  },
  {
   "cell_type": "code",
   "execution_count": null,
   "id": "42fe68bd-5edc-44cd-8867-a9bd534f628b",
   "metadata": {
    "tags": []
   },
   "outputs": [],
   "source": [
    "from multilingual_clip import pt_multilingual_clip\n",
    "import transformers\n",
    "import torch\n",
    "import open_clip\n",
    "import requests\n",
    "from PIL import Image\n",
    "\n",
    "model_name = 'M-CLIP/XLM-Roberta-Large-Vit-B-16Plus'\n",
    "\n",
    "model_caption = pt_multilingual_clip.MultilingualCLIP.from_pretrained(model_name)\n",
    "tokenizer = transformers.AutoTokenizer.from_pretrained(model_name)"
   ]
  },
  {
   "cell_type": "code",
   "execution_count": 2,
   "id": "748b4184-3fd0-4768-af70-eb8167cb78d3",
   "metadata": {},
   "outputs": [],
   "source": [
    "device = \"cuda:1\" if torch.cuda.is_available() else \"cpu\"\n",
    "model_img, _, preprocess = open_clip.create_model_and_transforms('ViT-B-16-plus-240', pretrained=\"laion400m_e32\")\n",
    "model_img.to(device)\n",
    "None"
   ]
  },
  {
   "cell_type": "code",
   "execution_count": 3,
   "id": "5a834c4e-3949-4fe5-96ad-916dcd25eab1",
   "metadata": {},
   "outputs": [],
   "source": [
    "def compare_embeddings(logit_scale, img_embs, txt_embs):\n",
    "    # normalized features\n",
    "    image_features = img_embs / img_embs.norm(dim=-1, keepdim=True)\n",
    "    text_features = txt_embs / txt_embs.norm(dim=-1, keepdim=True)\n",
    "\n",
    "    # cosine similarity as logits\n",
    "    logits_per_image = logit_scale * image_features @ text_features.t()\n",
    "    logits_per_text = logit_scale * text_features @ image_features.t()\n",
    "\n",
    "    # shape = [global_batch_size, global_batch_size]\n",
    "    return logits_per_image, logits_per_text"
   ]
  },
  {
   "cell_type": "code",
   "execution_count": 4,
   "id": "740f3c2d-f7be-4c75-9f7c-c0dff502955f",
   "metadata": {},
   "outputs": [],
   "source": [
    "logit_scale = model_img.logit_scale.exp().float()"
   ]
  },
  {
   "cell_type": "markdown",
   "id": "d0b9b229-0fbd-4ce0-935d-ba9d882cbc53",
   "metadata": {
    "tags": []
   },
   "source": [
    "# ruCOCO"
   ]
  },
  {
   "cell_type": "code",
   "execution_count": null,
   "id": "36ff89ce-4d9d-4ef1-ae4d-2c2c1858da2e",
   "metadata": {},
   "outputs": [],
   "source": [
    "import torchvision.datasets as dset\n",
    "\n",
    "coco_train_russian = dset.CocoDetection(root=\"coco_dataset/train2014\",\n",
    "                                        annFile=\"coco_dataset/annotations/captions_train2014.json\")"
   ]
  },
  {
   "cell_type": "code",
   "execution_count": 5,
   "id": "f8107464-52ea-4035-ad24-29c21b0e315f",
   "metadata": {},
   "outputs": [],
   "source": [
    "import json\n",
    "\n",
    "with open('coco_dataset/captions_ru_train.json', 'r') as f:\n",
    "    coco_captions_train_russian = json.load(f)"
   ]
  },
  {
   "cell_type": "code",
   "execution_count": null,
   "id": "7e15c24c-fbf8-4d7a-83c8-6a35fe8478ab",
   "metadata": {},
   "outputs": [
    {
     "data": {
      "text/plain": [
       "82783"
      ]
     },
     "execution_count": 6,
     "metadata": {},
     "output_type": "execute_result"
    }
   ],
   "source": [
    "len(coco_train_russian)"
   ]
  },
  {
   "cell_type": "code",
   "execution_count": 7,
   "id": "a0791b97-0cd5-43e4-9897-9f3bb54da432",
   "metadata": {},
   "outputs": [
    {
     "name": "stderr",
     "output_type": "stream",
     "text": [
      "100%|██████████| 82783/82783 [10:37<00:00, 129.88it/s]\n"
     ]
    }
   ],
   "source": [
    "from tqdm.auto import tqdm\n",
    "\n",
    "russian_captions, demo_images = [], []\n",
    "for i in tqdm(range(len(coco_train_russian))):\n",
    "    image = coco_train_russian[i][0]\n",
    "    captions = coco_captions_train_russian[i]\n",
    "    text = captions[0]['caption']\n",
    "    russian_captions.append(text)\n",
    "\n",
    "    name = str(coco_train_russian[i][1][0]['image_id'])\n",
    "    name = \"0\" * (12 - len(name)) + name\n",
    "    name = f\"coco_dataset/train2014/COCO_train2014_{name}.jpg\"\n",
    "    demo_images.append(name)"
   ]
  },
  {
   "cell_type": "code",
   "execution_count": 8,
   "id": "a0c50380-7070-4c9d-866f-a85c0a2bde7b",
   "metadata": {},
   "outputs": [
    {
     "name": "stderr",
     "output_type": "stream",
     "text": [
      "100%|██████████| 828/828 [46:58<00:00,  3.40s/it]  \n"
     ]
    }
   ],
   "source": [
    "import time\n",
    "\n",
    "model_caption.eval()\n",
    "embeddings = torch.Tensor([])\n",
    "for i in tqdm(range(828)):\n",
    "    with torch.no_grad():\n",
    "        embeddings = torch.cat(\n",
    "            [embeddings, model_caption.forward(russian_captions[i * 100: (i + 1) * 100], tokenizer).detach().cpu()])"
   ]
  },
  {
   "cell_type": "code",
   "execution_count": 9,
   "id": "08b36d4c-ff8f-4fe1-936c-d4102e749e31",
   "metadata": {},
   "outputs": [
    {
     "data": {
      "text/plain": [
       "torch.Size([82783, 640])"
      ]
     },
     "execution_count": 9,
     "metadata": {},
     "output_type": "execute_result"
    }
   ],
   "source": [
    "embeddings.shape"
   ]
  },
  {
   "cell_type": "code",
   "execution_count": 16,
   "id": "300a74de-3077-4133-b19b-89099bfd754a",
   "metadata": {},
   "outputs": [
    {
     "name": "stderr",
     "output_type": "stream",
     "text": [
      "100%|██████████| 82783/82783 [23:46<00:00, 58.03it/s]\n"
     ]
    }
   ],
   "source": [
    "from multilingual_clip import pt_multilingual_clip\n",
    "import transformers\n",
    "import torch\n",
    "import numpy as np\n",
    "\n",
    "score = []\n",
    "for i, name in tqdm(enumerate(demo_images), total=len(demo_images)):\n",
    "    with torch.no_grad():\n",
    "        with Image.open(name) as curimg:\n",
    "            images = preprocess(curimg).unsqueeze(0)\n",
    "        image_features = model_img.encode_image(images.to(device)).detach().float()\n",
    "        img_logits, text_logits = compare_embeddings(logit_scale, image_features, embeddings[i].to(device))\n",
    "        score.append(img_logits)\n",
    "        #print(img_logits)"
   ]
  },
  {
   "cell_type": "code",
   "execution_count": 17,
   "id": "0bd41e83-98be-4a61-8f2a-a23e7aea3d35",
   "metadata": {},
   "outputs": [
    {
     "data": {
      "text/plain": [
       "tensor(31.1980, device='cuda:0')"
      ]
     },
     "execution_count": 17,
     "metadata": {},
     "output_type": "execute_result"
    }
   ],
   "source": [
    "torch.cat(score).mean()"
   ]
  },
  {
   "cell_type": "markdown",
   "id": "a888aa71-1c0d-405c-8398-e82bd04c8fec",
   "metadata": {},
   "source": [
    "# Wiki"
   ]
  },
  {
   "cell_type": "code",
   "execution_count": 5,
   "id": "7542a1a7-10f5-4100-a5df-e6702a22a803",
   "metadata": {},
   "outputs": [],
   "source": [
    "import pandas as pd\n",
    "\n",
    "df = pd.read_csv('wiki_dataset/rus_wikitext_50k_caption_reference_description_train_norm.csv', index_col=0)"
   ]
  },
  {
   "cell_type": "code",
   "execution_count": 6,
   "id": "ea5b4e05-bc76-45f7-bc33-976ed5f236ab",
   "metadata": {},
   "outputs": [
    {
     "data": {
      "text/plain": [
       "40785"
      ]
     },
     "execution_count": 6,
     "metadata": {},
     "output_type": "execute_result"
    }
   ],
   "source": [
    "len(df)"
   ]
  },
  {
   "cell_type": "code",
   "execution_count": 7,
   "id": "c3368e90-8bca-49e9-83c6-d808f6594d39",
   "metadata": {},
   "outputs": [
    {
     "data": {
      "text/plain": [
       "0                                   Владислав Захаревич\n",
       "5     Зарисовка крупнейшего из Золотых ромбов курган...\n",
       "8       Трассовый моделизм. Прохождение моделями виража\n",
       "15                                           Спаривание\n",
       "16                              Музей Дмитрия Бурылина.\n",
       "22                        Павильон «Космос». Фотография\n",
       "23    Премудрый царь Берендей. Эскиз Виктора Васнецо...\n",
       "30                           Герб Сталь-фон-Гольштейнов\n",
       "32                            Памятник Иванову в Томске\n",
       "33    Поскольку изменение климата приводит к таянию ...\n",
       "40                            Филипп Йорк, граф Хардвик\n",
       "49           Подарок зубной фее от восьмилетней девочки\n",
       "57        Факультет медицины Сельджукского университета\n",
       "59                Пинхас Лавон, министр обороны Израиля\n",
       "61            Странноприимный дом Таранова-Белозёрова (\n",
       "Name: caption_reference_description, dtype: object"
      ]
     },
     "execution_count": 7,
     "metadata": {},
     "output_type": "execute_result"
    }
   ],
   "source": [
    "wiki_captions = df['caption_reference_description']\n",
    "wiki_captions[:15]"
   ]
  },
  {
   "cell_type": "code",
   "execution_count": null,
   "id": "b20c18c4-50b6-49bf-84c9-011740cbb0e2",
   "metadata": {
    "tags": []
   },
   "outputs": [],
   "source": [
    "model_caption.eval()\n",
    "wiki_embeddings = torch.Tensor([])\n",
    "for i, num in tqdm(enumerate(wiki_captions.keys()), total=len(wiki_captions)):\n",
    "    try:\n",
    "        with torch.no_grad():\n",
    "            wiki_embeddings = torch.cat(\n",
    "                [wiki_embeddings, model_caption.forward(str(wiki_captions[num]), tokenizer).detach().cpu()])\n",
    "    except:\n",
    "        wiki_embeddings = torch.cat([wiki_embeddings, torch.zeros(640)])\n",
    "        pass"
   ]
  },
  {
   "cell_type": "code",
   "execution_count": null,
   "id": "fa047d45-4866-4ba0-b818-ec69bbf52306",
   "metadata": {
    "collapsed": true,
    "jupyter": {
     "outputs_hidden": true
    },
    "tags": []
   },
   "outputs": [],
   "source": [
    "wiki_score = []\n",
    "for i, num in tqdm(enumerate(df.index), total=len(df)):\n",
    "    try:\n",
    "        with torch.no_grad():\n",
    "            with Image.open(f\"wiki_dataset/images/image_{num}.jpg\") as curimg:\n",
    "                imgs = preprocess(curimg).unsqueeze(0)\n",
    "            image_features = model_img.encode_image(imgs.to(device)).detach().float()\n",
    "            img_logits, text_logits = compare_embeddings(logit_scale, image_features, wiki_embeddings[i].to(device))\n",
    "            wiki_score.append(img_logits)\n",
    "    except:\n",
    "        pass"
   ]
  },
  {
   "cell_type": "code",
   "execution_count": 134,
   "id": "b270b241-4c7a-4849-97c5-1308b36a2934",
   "metadata": {
    "collapsed": true,
    "jupyter": {
     "outputs_hidden": true
    },
    "tags": []
   },
   "outputs": [
    {
     "data": {
      "text/plain": [
       "tensor(24.7229, device='cuda:0')"
      ]
     },
     "execution_count": 134,
     "metadata": {},
     "output_type": "execute_result"
    }
   ],
   "source": [
    "torch.cat(wiki_score).mean()"
   ]
  },
  {
   "cell_type": "code",
   "execution_count": 139,
   "id": "26951427-2a0f-4059-8043-fe13d6d522b0",
   "metadata": {
    "tags": []
   },
   "outputs": [
    {
     "name": "stdout",
     "output_type": "stream",
     "text": [
      "(10; 15]: 1414\n",
      "(15; 20]: 2153\n",
      "(20; 25]: 3312\n",
      "(25; 100]: 9214\n"
     ]
    }
   ],
   "source": [
    "more_than_10 = 0\n",
    "more_than_15 = 0\n",
    "more_than_20 = 0\n",
    "more_than_25 = 0\n",
    "\n",
    "for i in range(len(wiki_score)):\n",
    "    if wiki_score[i] > 25:\n",
    "        more_than_25 += 1\n",
    "    elif wiki_score[i] > 20:\n",
    "        more_than_20 += 1\n",
    "    elif wiki_score[i] > 15:\n",
    "        more_than_15 += 1\n",
    "    elif wiki_score[i] > 10:\n",
    "        more_than_10 += 1\n",
    "print(\"(10; 15]:\", more_than_10)\n",
    "print(\"(15; 20]:\", more_than_15)\n",
    "print(\"(20; 25]:\", more_than_20)\n",
    "print(\"(25; 100]:\", more_than_25)"
   ]
  },
  {
   "cell_type": "code",
   "execution_count": 136,
   "id": "52e17f3d-bd30-4207-af4c-c4f4260862b7",
   "metadata": {
    "collapsed": true,
    "jupyter": {
     "outputs_hidden": true
    },
    "tags": []
   },
   "outputs": [
    {
     "data": {
      "text/plain": [
       "[tensor([17.5509], device='cuda:0'),\n",
       " tensor([16.8161], device='cuda:0'),\n",
       " tensor([22.0616], device='cuda:0'),\n",
       " tensor([7.3211], device='cuda:0'),\n",
       " tensor([39.4286], device='cuda:0'),\n",
       " tensor([18.0624], device='cuda:0'),\n",
       " tensor([34.1346], device='cuda:0'),\n",
       " tensor([35.0481], device='cuda:0'),\n",
       " tensor([25.1546], device='cuda:0'),\n",
       " tensor([36.3066], device='cuda:0'),\n",
       " tensor([13.8209], device='cuda:0'),\n",
       " tensor([15.6998], device='cuda:0'),\n",
       " tensor([16.4227], device='cuda:0'),\n",
       " tensor([22.5956], device='cuda:0'),\n",
       " tensor([14.4938], device='cuda:0')]"
      ]
     },
     "execution_count": 136,
     "metadata": {},
     "output_type": "execute_result"
    }
   ],
   "source": [
    "wiki_score[:15]"
   ]
  },
  {
   "cell_type": "code",
   "execution_count": 8,
   "id": "dcdb2fbc-3abe-47aa-a29d-87b32c3f4bd0",
   "metadata": {},
   "outputs": [],
   "source": [
    "from tqdm.auto import tqdm\n",
    "\n",
    "img_features = {}\n",
    "for i, num in tqdm(enumerate(wiki_captions.keys()), total=len(wiki_captions)):\n",
    "    try:\n",
    "        with Image.open(f\"wiki_dataset/images/image_{num}.jpg\") as curimg:\n",
    "            imgs = preprocess(curimg).unsqueeze(0)\n",
    "        img_features[num] = model_img.encode_image(imgs.to(device)).detach().float()\n",
    "    except:\n",
    "        wiki_captions.pop(num)\n",
    "        pass\n",
    "\n",
    "torch.save(img_features, 'wiki_img_features.pt')"
   ]
  },
  {
   "cell_type": "code",
   "execution_count": 92,
   "id": "6322bf5e-cc30-425a-bb99-878c98e80272",
   "metadata": {},
   "outputs": [],
   "source": [
    "img_features = torch.load('wiki_img_features.pt')"
   ]
  },
  {
   "cell_type": "code",
   "execution_count": 86,
   "id": "3d0cb264-4418-4e85-804b-22bc2a10c1a2",
   "metadata": {},
   "outputs": [],
   "source": [
    "sentences = []\n",
    "\n",
    "\n",
    "def delete_quotes(k, i):\n",
    "    k = k[:i] + k[k[i:].find('»') + i + 1:]\n",
    "    k = \" \".join(k.split())\n",
    "    return k\n",
    "\n",
    "\n",
    "def balance(s):\n",
    "    ans = 0\n",
    "    for i in s:\n",
    "        if i == \"«\":\n",
    "            ans += 1\n",
    "        elif i == \"»\":\n",
    "            ans -= 1\n",
    "    return ans\n",
    "\n",
    "\n",
    "def fix_quotes(s):\n",
    "    st = []\n",
    "    to_del = []\n",
    "    for i in range(len(s)):\n",
    "        if s[i] == \"«\":\n",
    "            st.append([i, 0])\n",
    "        else:\n",
    "            if len(st) > 0 and st[-1][1] == 0:\n",
    "                st.pop()\n",
    "            else:\n",
    "                to_del.append(i)\n",
    "    for i in st:\n",
    "        to_del.append(i[0])\n",
    "    fixed_s = \"\"\n",
    "    for i in range(len(s)):\n",
    "        if i not in to_del:\n",
    "            fixed_s += s[i]\n",
    "    return fixed_s\n",
    "\n",
    "\n",
    "def fight_with_quotes(s):\n",
    "    sentences.append(s)\n",
    "    if balance(s) != 0:\n",
    "        fix_quotes(s)\n",
    "    for i in range(len(s)):\n",
    "        if s[i] == \"«\":\n",
    "            t = delete_quotes(s, i)\n",
    "            if t not in sentences:\n",
    "                fight_with_quotes(t)\n",
    "    return"
   ]
  },
  {
   "cell_type": "code",
   "execution_count": 99,
   "id": "05f01eb0-dc77-4d7c-808b-aa499b65ec49",
   "metadata": {},
   "outputs": [
    {
     "name": "stderr",
     "output_type": "stream",
     "text": [
      "100%|██████████| 40785/40785 [1:28:53<00:00,  7.65it/s]  \n"
     ]
    }
   ],
   "source": [
    "import regex as re\n",
    "from PIL import Image\n",
    "from tqdm.auto import tqdm\n",
    "import json\n",
    "\n",
    "model_caption.eval()\n",
    "wiki_score = []\n",
    "good_wiki_captions = []\n",
    "\n",
    "split_regex = re.compile(r'[.|!|?|…]')\n",
    "for i, num in tqdm(enumerate(wiki_captions.keys()), total=len(wiki_captions)):\n",
    "    try:\n",
    "        image_features = img_features[num]\n",
    "    except KeyError:\n",
    "        continue\n",
    "    sentences = []\n",
    "    splitted_text = filter(lambda t: t, [t.strip() for t in split_regex.split(str(wiki_captions[num]))])\n",
    "    for sent in splitted_text:\n",
    "        fight_with_quotes(sent)\n",
    "    cur_emb = []\n",
    "    for j, s in enumerate(sentences):\n",
    "        with torch.no_grad():\n",
    "            emb = model_caption.forward(s, tokenizer).detach().to(device)\n",
    "        img_logits, text_logits = compare_embeddings(logit_scale, image_features, emb)\n",
    "        if img_logits >= 15:\n",
    "            cur_emb.append([img_logits, j])\n",
    "    if len(cur_emb) > 0:\n",
    "        best_emb = max(cur_emb)\n",
    "        wiki_score.append(best_emb[0])\n",
    "        good_wiki_captions.append([sentences[best_emb[1]], num])\n",
    "    if i % 100 == 0:\n",
    "        torch.save(wiki_score, 'wiki_score.pt')\n",
    "        with open(\"good_wiki_captions.json\", \"w\", encoding=\"utf-8\") as file:\n",
    "            json.dump(good_wiki_captions, file)"
   ]
  },
  {
   "cell_type": "code",
   "execution_count": 100,
   "id": "c4cb17f3-688e-4551-a2f0-71c1a7cdfc37",
   "metadata": {},
   "outputs": [
    {
     "data": {
      "text/plain": [
       "tensor(27.0535, device='cuda:1', grad_fn=<MeanBackward0>)"
      ]
     },
     "execution_count": 100,
     "metadata": {},
     "output_type": "execute_result"
    }
   ],
   "source": [
    "torch.cat(wiki_score).mean()"
   ]
  },
  {
   "cell_type": "code",
   "execution_count": 4,
   "id": "72fbb298-4703-44e8-ab59-7e071a91268a",
   "metadata": {},
   "outputs": [],
   "source": [
    "import json\n",
    "\n",
    "with open(\"good_wiki_captions.json\", \"r\", encoding=\"utf-8\") as file:\n",
    "    good_wiki_captions = json.load(file)"
   ]
  },
  {
   "cell_type": "code",
   "execution_count": 8,
   "id": "bbd49d41-9d54-489b-b88f-798a731d075d",
   "metadata": {},
   "outputs": [
    {
     "data": {
      "text/plain": [
       "35111"
      ]
     },
     "execution_count": 8,
     "metadata": {},
     "output_type": "execute_result"
    }
   ],
   "source": [
    "len(good_wiki_captions)"
   ]
  },
  {
   "cell_type": "code",
   "execution_count": 9,
   "id": "25171b1c-cfb0-497e-90e3-8e72953ad975",
   "metadata": {},
   "outputs": [
    {
     "data": {
      "text/plain": [
       "[['Зарисовка крупнейшего из Золотых ромбов кургана Буш', 5],\n",
       " ['Трассовый моделизм', 8],\n",
       " ['Музей Дмитрия Бурылина', 16],\n",
       " ['Павильон «Космос»', 22],\n",
       " ['Эскиз Виктора Васнецова к опере', 23],\n",
       " ['Герб Сталь-фон-Гольштейнов', 30],\n",
       " ['Памятник Иванову в Томске', 32],\n",
       " ['Поскольку изменение климата приводит к таянию морского льда, Геологическая служба США прогнозирует, что две трети полярных медведей исчезнут к',\n",
       "  33],\n",
       " ['Филипп Йорк, граф Хардвик', 40],\n",
       " ['Подарок зубной фее от восьмилетней девочки', 49]]"
      ]
     },
     "execution_count": 9,
     "metadata": {},
     "output_type": "execute_result"
    }
   ],
   "source": [
    "good_wiki_captions[:10]"
   ]
  },
  {
   "cell_type": "code",
   "execution_count": 109,
   "id": "0efe137c-543e-484b-bfe0-5956680a6878",
   "metadata": {},
   "outputs": [
    {
     "name": "stdout",
     "output_type": "stream",
     "text": [
      "['Зарисовка крупнейшего из Золотых ромбов кургана Буш', 5] tensor(16.5067, device='cuda:1', grad_fn=<SelectBackward0>)\n",
      "['Трассовый моделизм', 8] tensor(23.3505, device='cuda:1', grad_fn=<SelectBackward0>)\n",
      "['Музей Дмитрия Бурылина', 16] tensor(36.0324, device='cuda:1', grad_fn=<SelectBackward0>)\n",
      "['Павильон «Космос»', 22] tensor(23.6495, device='cuda:1', grad_fn=<SelectBackward0>)\n",
      "['Эскиз Виктора Васнецова к опере', 23] tensor(29.3526, device='cuda:1', grad_fn=<SelectBackward0>)\n",
      "['Герб Сталь-фон-Гольштейнов', 30] tensor(36.4239, device='cuda:1', grad_fn=<SelectBackward0>)\n",
      "['Памятник Иванову в Томске', 32] tensor(26.2568, device='cuda:1', grad_fn=<SelectBackward0>)\n",
      "['Поскольку изменение климата приводит к таянию морского льда, Геологическая служба США прогнозирует, что две трети полярных медведей исчезнут к', 33] tensor(36.0533, device='cuda:1', grad_fn=<SelectBackward0>)\n",
      "['Филипп Йорк, граф Хардвик', 40] tensor(22.2617, device='cuda:1', grad_fn=<SelectBackward0>)\n",
      "['Подарок зубной фее от восьмилетней девочки', 49] tensor(15.6998, device='cuda:1', grad_fn=<SelectBackward0>)\n",
      "['Факультет медицины Сельджукского университета', 57] tensor(17.6342, device='cuda:1', grad_fn=<SelectBackward0>)\n",
      "['Странноприимный дом Таранова-Белозёрова (', 61] tensor(22.8810, device='cuda:1', grad_fn=<SelectBackward0>)\n",
      "['Валентин Серов русский живописец и график', 62] tensor(29.5470, device='cuda:1', grad_fn=<SelectBackward0>)\n",
      "['Печать ханского вана японской страны На', 63] tensor(16.0187, device='cuda:1', grad_fn=<SelectBackward0>)\n",
      "['Голова памятника Ленину в Житомире', 65] tensor(27.1497, device='cuda:1', grad_fn=<SelectBackward0>)\n",
      "['Дин и Ден Кейтен в детстве', 66] tensor(34.8959, device='cuda:1', grad_fn=<SelectBackward0>)\n",
      "['Бывшая станция Боллпарк', 71] tensor(22.3097, device='cuda:1', grad_fn=<SelectBackward0>)\n",
      "['Сайрус исполняет \" \" на \" \"', 72] tensor(31.3289, device='cuda:1', grad_fn=<SelectBackward0>)\n",
      "['Мадонна с младенцем, последняя четверть века × см, темпера и позолота на дереве)', 75] tensor(32.9163, device='cuda:1', grad_fn=<SelectBackward0>)\n",
      "['Вид с полуострова Святой Нос', 83] tensor(23.0591, device='cuda:1', grad_fn=<SelectBackward0>)\n",
      "['Медаль Португальского нумизматического общества', 85] tensor(33.0964, device='cuda:1', grad_fn=<SelectBackward0>)\n",
      "['Печать Радослава[] с изображением Борача[]', 86] tensor(17.1929, device='cuda:1', grad_fn=<SelectBackward0>)\n",
      "['Памятник в Сыктывкаре', 89] tensor(32.1134, device='cuda:1', grad_fn=<SelectBackward0>)\n",
      "['Сысертский пруд', 90] tensor(22.1376, device='cuda:1', grad_fn=<SelectBackward0>)\n",
      "['Юрий Смагин — сыграл за клуб матч', 91] tensor(27.8410, device='cuda:1', grad_fn=<SelectBackward0>)\n",
      "['Красный тритон', 96] tensor(32.0399, device='cuda:1', grad_fn=<SelectBackward0>)\n",
      "['Небо через дымовой выход тувинской юрты', 105] tensor(24.3621, device='cuda:1', grad_fn=<SelectBackward0>)\n",
      "['Река в районе Порту-Велью', 108] tensor(25.1069, device='cuda:1', grad_fn=<SelectBackward0>)\n",
      "['Жеводанский Зверь поедает трупы жертв', 110] tensor(29.5446, device='cuda:1', grad_fn=<SelectBackward0>)\n",
      "['Река Бикин в районе автомобильного моста на трассе , Приморский край', 114] tensor(26.7822, device='cuda:1', grad_fn=<SelectBackward0>)\n",
      "['ДОТ (середина г) — образец укреплений первого поколения', 119] tensor(16.0310, device='cuda:1', grad_fn=<SelectBackward0>)\n",
      "['авиакомпании «Волга-Днепр»', 124] tensor(26.9861, device='cuda:1', grad_fn=<SelectBackward0>)\n",
      "['Совет управляющих', 125] tensor(26.9073, device='cuda:1', grad_fn=<SelectBackward0>)\n",
      "['Торпеда на пилоне вертолёта «Линкс»', 128] tensor(32.5531, device='cuda:1', grad_fn=<SelectBackward0>)\n",
      "['Размещение полезной нагрузки в грузовом отсеке шаттла «Индевор» , , сегмент ферменной конструкции Слева внизу видна сфера сменного гиродина', 133] tensor(32.9614, device='cuda:1', grad_fn=<SelectBackward0>)\n",
      "['Артиллерийский авианесущий крейсер с кормовой орудийной башней калибра мм', 134] tensor(24.9515, device='cuda:1', grad_fn=<SelectBackward0>)\n",
      "['Для игры на симлише исполняли свои композиции группа', 138] tensor(21.0865, device='cuda:1', grad_fn=<SelectBackward0>)\n",
      "['Мозаика в торце зала', 139] tensor(28.4882, device='cuda:1', grad_fn=<SelectBackward0>)\n",
      "['Композитор Тигран Чухаджян', 140] tensor(19.8722, device='cuda:1', grad_fn=<SelectBackward0>)\n",
      "['авиакомпании на рулёжке в лондонском аэропорту Лутон', 144] tensor(23.9849, device='cuda:1', grad_fn=<SelectBackward0>)\n",
      "['Родители Георга', 146] tensor(24.2642, device='cuda:1', grad_fn=<SelectBackward0>)\n",
      "['Панорама стадиона изнутри', 153] tensor(30.9066, device='cuda:1', grad_fn=<SelectBackward0>)\n",
      "['Каталог изданий Саллюстия до , стр', 154] tensor(25.7972, device='cuda:1', grad_fn=<SelectBackward0>)\n",
      "['Банковский сертификат, выданный одним из американских банков', 158] tensor(36.4594, device='cuda:1', grad_fn=<SelectBackward0>)\n",
      "['Карта коммуны', 160] tensor(25.5727, device='cuda:1', grad_fn=<SelectBackward0>)\n",
      "['Ареал гронингенского диалекта на карте нижнесаксонских диалектов Нидерландов', 161] tensor(37.5807, device='cuda:1', grad_fn=<SelectBackward0>)\n",
      "['«Боудикка и её армия»', 162] tensor(31.1924, device='cuda:1', grad_fn=<SelectBackward0>)\n",
      "['Штаты финалистки конкурса красоты Юная Мисс США', 168] tensor(20.0857, device='cuda:1', grad_fn=<SelectBackward0>)\n",
      "['Британская команда, выигравшая турнир по поло', 169] tensor(35.0861, device='cuda:1', grad_fn=<SelectBackward0>)\n",
      "['Фрагмент карты', 171] tensor(19.0343, device='cuda:1', grad_fn=<SelectBackward0>)\n",
      "['Гравюры из книг изданных в Кутеинской типографии', 174] tensor(27.2357, device='cuda:1', grad_fn=<SelectBackward0>)\n",
      "['Пример древнеегипетской надписи с изображением пчелы', 177] tensor(30.2112, device='cuda:1', grad_fn=<SelectBackward0>)\n",
      "['Храм солнца в Мачу-Пикчу', 184] tensor(31.3701, device='cuda:1', grad_fn=<SelectBackward0>)\n",
      "['Мемориальная табличка у входа в музей', 186] tensor(32.6814, device='cuda:1', grad_fn=<SelectBackward0>)\n",
      "['Поезд прибывает на', 194] tensor(25.2675, device='cuda:1', grad_fn=<SelectBackward0>)\n",
      "['Маккарти на церемонии «Оскар» в у', 195] tensor(23.3841, device='cuda:1', grad_fn=<SelectBackward0>)\n",
      "['Мемориальная доска на здании Томского политехнического университета (бывший Томский технологический институт, который окончил Н', 203] tensor(29.6540, device='cuda:1', grad_fn=<SelectBackward0>)\n",
      "['Торговец дондурмой в Киото', 204] tensor(26.6128, device='cuda:1', grad_fn=<SelectBackward0>)\n",
      "[', спуск на воду , АПЛ класса (слева), три первых лодки нового класса в высокой степени готовности: справа , которая будет введена в строй в этом же у, левее , выступающая из цеха —', 205] tensor(28.5341, device='cuda:1', grad_fn=<SelectBackward0>)\n",
      "['Суперформула , воссозданная на надгробии композитора', 206] tensor(22.6092, device='cuda:1', grad_fn=<SelectBackward0>)\n",
      "['В гербе Уфимской губернии', 207] tensor(31.9140, device='cuda:1', grad_fn=<SelectBackward0>)\n",
      "['Одна из камер Соловецкой тюрьмы', 209] tensor(29.7122, device='cuda:1', grad_fn=<SelectBackward0>)\n",
      "['Склеп Бринеров в Безверхове', 212] tensor(28.9378, device='cuda:1', grad_fn=<SelectBackward0>)\n",
      "['Ресторан \"Евразия\" в Приозерске', 216] tensor(27.3476, device='cuda:1', grad_fn=<SelectBackward0>)\n",
      "['Подкова-Лесьна', 220] tensor(17.1689, device='cuda:1', grad_fn=<SelectBackward0>)\n",
      "['Наксосский Сфинкс был установлен рядом с храмом Аполлона в Дельфах, религиозном центре Древней Греции', 223] tensor(23.1522, device='cuda:1', grad_fn=<SelectBackward0>)\n",
      "['Тела погибших', 229] tensor(29.9524, device='cuda:1', grad_fn=<SelectBackward0>)\n",
      "['Дом почётного гражданина Головизина в Алма-Ате, в котором жил Л', 233] tensor(18.6597, device='cuda:1', grad_fn=<SelectBackward0>)\n",
      "['Страница каталога «Михель» с описанием стандартного выпуска СССР а', 236] tensor(34.7157, device='cuda:1', grad_fn=<SelectBackward0>)\n",
      "['Собор Непорочного Зачатия Пресвятой Девы Марии (Кингстон, Канада)', 237] tensor(28.1628, device='cuda:1', grad_fn=<SelectBackward0>)\n",
      "['Скульптор Антониос Сохос', 241] tensor(27.9091, device='cuda:1', grad_fn=<SelectBackward0>)\n",
      "['Миранда Ламберт', 242] tensor(18.6317, device='cuda:1', grad_fn=<SelectBackward0>)\n",
      "['Дочь инфанта Альфонсо де Молины, внучка короля Леона Альфонсо , супруга короля Кастилии Санчо и мать короля Кастилии Фернандо', 243] tensor(35.5973, device='cuda:1', grad_fn=<SelectBackward0>)\n",
      "['Палицкое озеро', 244] tensor(25.2717, device='cuda:1', grad_fn=<SelectBackward0>)\n",
      "['Стадион в Луизиане', 245] tensor(32.5240, device='cuda:1', grad_fn=<SelectBackward0>)\n",
      "['Причал Южной военно-морской базы Украины', 251] tensor(34.2959, device='cuda:1', grad_fn=<SelectBackward0>)\n",
      "['Смерть Иоанна Дмитриевича Переяслаского', 255] tensor(30.2839, device='cuda:1', grad_fn=<SelectBackward0>)\n",
      "['Фрагмент карты', 259] tensor(17.3780, device='cuda:1', grad_fn=<SelectBackward0>)\n",
      "['Хэмилтон управляет болидом на Гран-при Малайзии а', 262] tensor(29.0735, device='cuda:1', grad_fn=<SelectBackward0>)\n",
      "['Гермес с молодым воином', 263] tensor(30.4348, device='cuda:1', grad_fn=<SelectBackward0>)\n",
      "['Джэз Коулман в у', 267] tensor(23.6714, device='cuda:1', grad_fn=<SelectBackward0>)\n",
      "['Юго-западная оконечность бухты Ванина в у, видны лавмастерская (списана и затонула при попытке буксировки) и портовый ледокол «Фёдор Литке»', 272] tensor(27.2528, device='cuda:1', grad_fn=<SelectBackward0>)\n",
      "['Пилон моста Флее', 275] tensor(29.4943, device='cuda:1', grad_fn=<SelectBackward0>)\n",
      "['Японо-маньчжурский протокол, сентября', 279] tensor(34.8887, device='cuda:1', grad_fn=<SelectBackward0>)\n",
      "['Верещагинский виадук (Светланинский виадук), микрорайона Светлана города Сочи', 285] tensor(29.0806, device='cuda:1', grad_fn=<SelectBackward0>)\n",
      "['Оболочники: асцидии', 286] tensor(15.4134, device='cuda:1', grad_fn=<SelectBackward0>)\n",
      "['Карта Древнего Египта из энциклопедии Брокгауза и Эфрона, г', 287] tensor(31.8215, device='cuda:1', grad_fn=<SelectBackward0>)\n",
      "['Фонтан Треви', 291] tensor(34.9689, device='cuda:1', grad_fn=<SelectBackward0>)\n",
      "['Автодорога в Смоленской области у поворота на д', 293] tensor(29.0630, device='cuda:1', grad_fn=<SelectBackward0>)\n",
      "['Сертификат Премии Всемирной научной ассоциации по птицеводству', 296] tensor(38.0589, device='cuda:1', grad_fn=<SelectBackward0>)\n",
      "['Побережье в Танжере', 299] tensor(15.4070, device='cuda:1', grad_fn=<SelectBackward0>)\n",
      "['Семена', 309] tensor(24.2563, device='cuda:1', grad_fn=<SelectBackward0>)\n",
      "['Церковь Успения', 311] tensor(26.3107, device='cuda:1', grad_fn=<SelectBackward0>)\n",
      "['Общий вид эстрады кафе «Питтореск»', 315] tensor(25.6419, device='cuda:1', grad_fn=<SelectBackward0>)\n",
      "['Дистанционное (командное) наведение зенитных ракет', 322] tensor(19.8403, device='cuda:1', grad_fn=<SelectBackward0>)\n",
      "['Стая гиеновых собак в Национальном парке Крюгера (Южная Африка)', 329] tensor(37.2607, device='cuda:1', grad_fn=<SelectBackward0>)\n",
      "['Ипподром (справа)', 330] tensor(15.0791, device='cuda:1', grad_fn=<SelectBackward0>)\n",
      "['В настоящее время здесь работают администрация Псковской области и областное Собрание', 336] tensor(32.9631, device='cuda:1', grad_fn=<SelectBackward0>)\n",
      "['Большая мечеть в Кютахье (начало века)', 337] tensor(15.9199, device='cuda:1', grad_fn=<SelectBackward0>)\n",
      "['Страница Ньютона с аксиомами механики', 341] tensor(29.4413, device='cuda:1', grad_fn=<SelectBackward0>)\n"
     ]
    }
   ],
   "source": [
    "for i, j in zip(good_wiki_captions[:100], wiki_score[:100]):\n",
    "    print(i, j[0][0])"
   ]
  }
 ],
 "metadata": {
  "kernelspec": {
   "display_name": "Python 3 (ipykernel)",
   "language": "python",
   "name": "python3"
  },
  "language_info": {
   "codemirror_mode": {
    "name": "ipython",
    "version": 3
   },
   "file_extension": ".py",
   "mimetype": "text/x-python",
   "name": "python",
   "nbconvert_exporter": "python",
   "pygments_lexer": "ipython3",
   "version": "3.8.10"
  }
 },
 "nbformat": 4,
 "nbformat_minor": 5
}
