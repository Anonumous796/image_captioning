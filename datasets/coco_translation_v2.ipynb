{
 "cells": [
  {
   "cell_type": "code",
   "execution_count": null,
   "id": "7239d15b-244a-4bca-ba01-bea97c4ae4fe",
   "metadata": {},
   "outputs": [],
   "source": [
    "import jsonlines\n",
    "\n",
    "with jsonlines.open(\"coco_val_translation.jsonl\") as reader:\n",
    "    f = reader.read()\n",
    "len(f)"
   ]
  },
  {
   "cell_type": "code",
   "execution_count": null,
   "id": "df58fd24-7db6-4cf9-994f-0140d52a10d4",
   "metadata": {},
   "outputs": [],
   "source": [
    "import json\n",
    "\n",
    "with open('coco_dataset/captions_ru_train.json', 'r') as f:\n",
    "    coco_captions = json.load(f)\n",
    "coco_captions[:10]"
   ]
  },
  {
   "cell_type": "code",
   "execution_count": null,
   "id": "1ee4c7ff-3d8c-428e-a2ac-9a8baff59622",
   "metadata": {},
   "outputs": [],
   "source": [
    "from pycocotools.coco import COCO\n",
    "\n",
    "\n",
    "def get_coco_captions(coco_annotations_file):\n",
    "    # Initialize COCO instance\n",
    "    coco = COCO(coco_annotations_file)\n",
    "\n",
    "    # Load captions\n",
    "    coco_captions = {}\n",
    "\n",
    "    # Get image IDs\n",
    "    image_ids = coco.getImgIds()\n",
    "\n",
    "    for image_id in image_ids:\n",
    "        # Get image info\n",
    "        image_info = coco.loadImgs(image_id)[0]\n",
    "\n",
    "        # Get file name and image captions\n",
    "        file_name = image_info['file_name']\n",
    "        captions = []\n",
    "\n",
    "        # Get annotation IDs for the image\n",
    "        annotation_ids = coco.getAnnIds(imgIds=image_id)\n",
    "\n",
    "        # Get annotations and their captions\n",
    "        annotations = coco.loadAnns(annotation_ids)\n",
    "        for annotation in annotations:\n",
    "            caption = annotation['caption']\n",
    "            captions.append(caption)\n",
    "\n",
    "        # Add captions to the dictionary\n",
    "        coco_captions[file_name] = captions\n",
    "    return coco_captions"
   ]
  },
  {
   "cell_type": "code",
   "execution_count": null,
   "id": "b381f535-41f1-48a4-a1aa-4b9033e10689",
   "metadata": {
    "collapsed": true,
    "jupyter": {
     "outputs_hidden": true
    },
    "tags": []
   },
   "outputs": [],
   "source": [
    "coco_captions_train = get_coco_captions('coco_dataset/annotations/captions_train2017.json')\n",
    "coco_captions_train"
   ]
  },
  {
   "cell_type": "code",
   "execution_count": null,
   "id": "1147f961-b3c7-480e-8735-04ff93a066e0",
   "metadata": {},
   "outputs": [],
   "source": [
    "coco_captions_train['000000000072.jpg']"
   ]
  },
  {
   "cell_type": "code",
   "execution_count": null,
   "id": "245ebb6b-f8a0-46bf-b821-be8ff7c039b8",
   "metadata": {},
   "outputs": [],
   "source": [
    "from mtranslate import translate\n",
    "from tqdm import tqdm\n",
    "import jsonlines\n",
    "\n",
    "\n",
    "def translation(captions):\n",
    "    cur_image = []\n",
    "    for caption in captions:\n",
    "        cur_image.append(translate(caption, 'ru'))\n",
    "    return cur_image"
   ]
  },
  {
   "cell_type": "code",
   "execution_count": null,
   "id": "4427c056-b0fc-4ef4-b9f3-c0fd7bd9658d",
   "metadata": {},
   "outputs": [],
   "source": [
    "print(translation(coco_captions_train['000000000072.jpg']))"
   ]
  },
  {
   "cell_type": "code",
   "execution_count": null,
   "id": "c4ebef02-e53e-4196-bb5e-0a7adaa26fdf",
   "metadata": {},
   "outputs": [],
   "source": [
    "coco_captions_train14 = get_coco_captions('coco_dataset/annotations/captions_train2014.json')"
   ]
  },
  {
   "cell_type": "code",
   "execution_count": null,
   "id": "28ee322b-154c-4fb3-840f-50c271958ab5",
   "metadata": {},
   "outputs": [],
   "source": [
    "from tqdm import tqdm\n",
    "\n",
    "coco_captions_rightversion = []\n",
    "t = {}\n",
    "for image_id, captions in tqdm(coco_captions_train14.items()):\n",
    "    t = {'id': image_id, 'captions': captions}\n",
    "    coco_captions_rightversion.append(t)\n",
    "coco_captions_rightversion[:10]"
   ]
  },
  {
   "cell_type": "code",
   "execution_count": null,
   "id": "cf769dbc-4168-4773-9df6-888a94a06e58",
   "metadata": {},
   "outputs": [],
   "source": [
    "import jsonlines\n",
    "\n",
    "with jsonlines.open(\"coco_dataset/captions_train_rightversion.jsonl\", mode='w') as writer:\n",
    "    writer.write(coco_captions_rightversion[500:])"
   ]
  },
  {
   "cell_type": "code",
   "execution_count": null,
   "id": "ba55b617-dc07-4b4d-a163-ab42db070d91",
   "metadata": {
    "tags": []
   },
   "outputs": [],
   "source": [
    "for i in range(520, 520 + 300):\n",
    "    for s in coco_captions_rightversion[i]['captions']:\n",
    "        print(s)\n",
    "    print()"
   ]
  },
  {
   "cell_type": "code",
   "execution_count": null,
   "id": "516c46d3-3ac1-4933-a1db-0c499e0032d5",
   "metadata": {},
   "outputs": [],
   "source": []
  }
 ],
 "metadata": {
  "kernelspec": {
   "display_name": "Python 3 (ipykernel)",
   "language": "python",
   "name": "python3"
  },
  "language_info": {
   "codemirror_mode": {
    "name": "ipython",
    "version": 3
   },
   "file_extension": ".py",
   "mimetype": "text/x-python",
   "name": "python",
   "nbconvert_exporter": "python",
   "pygments_lexer": "ipython3",
   "version": "3.8.10"
  }
 },
 "nbformat": 4,
 "nbformat_minor": 5
}
