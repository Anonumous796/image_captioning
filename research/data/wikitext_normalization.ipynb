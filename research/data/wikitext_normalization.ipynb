{
 "cells": [
  {
   "cell_type": "code",
   "execution_count": 1,
   "id": "31c81457-1bcc-43a6-9846-e9b15f56abaa",
   "metadata": {},
   "outputs": [
    {
     "data": {
      "text/plain": [
       "26.88134765625"
      ]
     },
     "execution_count": 1,
     "metadata": {},
     "output_type": "execute_result"
    }
   ],
   "source": [
    "import torch\n",
    "torch.cuda.mem_get_info()[0] / 1024**3"
   ]
  },
  {
   "cell_type": "code",
   "execution_count": 2,
   "id": "b997604b-7d2f-4040-9cbd-13bc430e4741",
   "metadata": {},
   "outputs": [],
   "source": [
    "import pandas as pd"
   ]
  },
  {
   "cell_type": "code",
   "execution_count": 3,
   "id": "32b4b610-89ff-46a0-abf7-0a633886a295",
   "metadata": {},
   "outputs": [],
   "source": [
    "df = pd.read_csv('wiki_dataset/rus_wikitext_10k_caption_reference_description_train.csv', index_col=0)"
   ]
  },
  {
   "cell_type": "code",
   "execution_count": 4,
   "id": "5dc4f23c-1792-47ac-a3a0-896c03e38bae",
   "metadata": {
    "tags": []
   },
   "outputs": [
    {
     "data": {
      "text/html": [
       "<div>\n",
       "<style scoped>\n",
       "    .dataframe tbody tr th:only-of-type {\n",
       "        vertical-align: middle;\n",
       "    }\n",
       "\n",
       "    .dataframe tbody tr th {\n",
       "        vertical-align: top;\n",
       "    }\n",
       "\n",
       "    .dataframe thead th {\n",
       "        text-align: right;\n",
       "    }\n",
       "</style>\n",
       "<table border=\"1\" class=\"dataframe\">\n",
       "  <thead>\n",
       "    <tr style=\"text-align: right;\">\n",
       "      <th></th>\n",
       "      <th>language</th>\n",
       "      <th>page_url</th>\n",
       "      <th>image_url</th>\n",
       "      <th>page_title</th>\n",
       "      <th>section_title</th>\n",
       "      <th>hierarchical_section_title</th>\n",
       "      <th>caption_reference_description</th>\n",
       "      <th>caption_attribution_description</th>\n",
       "      <th>caption_alt_text_description</th>\n",
       "      <th>mime_type</th>\n",
       "      <th>original_height</th>\n",
       "      <th>original_width</th>\n",
       "      <th>is_main_image</th>\n",
       "      <th>attribution_passes_lang_id</th>\n",
       "      <th>page_changed_recently</th>\n",
       "      <th>context_page_description</th>\n",
       "      <th>context_section_description</th>\n",
       "    </tr>\n",
       "    <tr>\n",
       "      <th>Unnamed: 0</th>\n",
       "      <th></th>\n",
       "      <th></th>\n",
       "      <th></th>\n",
       "      <th></th>\n",
       "      <th></th>\n",
       "      <th></th>\n",
       "      <th></th>\n",
       "      <th></th>\n",
       "      <th></th>\n",
       "      <th></th>\n",
       "      <th></th>\n",
       "      <th></th>\n",
       "      <th></th>\n",
       "      <th></th>\n",
       "      <th></th>\n",
       "      <th></th>\n",
       "      <th></th>\n",
       "    </tr>\n",
       "  </thead>\n",
       "  <tbody>\n",
       "    <tr>\n",
       "      <th>0</th>\n",
       "      <td>ru</td>\n",
       "      <td>https://ru.wikipedia.org/wiki/%D0%A3%D0%BC%D0%...</td>\n",
       "      <td>https://upload.wikimedia.org/wikipedia/commons...</td>\n",
       "      <td>Умершие в ноябре 2013 года</td>\n",
       "      <td>16 ноября</td>\n",
       "      <td>Умершие в ноябре 2013 года / 16 ноября</td>\n",
       "      <td>Владислав Захаревич</td>\n",
       "      <td>Русский: Ректор ЮФУ В.Г. ЗахаревичEnglish: Pro...</td>\n",
       "      <td>NaN</td>\n",
       "      <td>image/jpeg</td>\n",
       "      <td>1533</td>\n",
       "      <td>1677</td>\n",
       "      <td>False</td>\n",
       "      <td>True</td>\n",
       "      <td>True</td>\n",
       "      <td>Это список известных людей, соответствующих ус...</td>\n",
       "      <td>Берберян, Арсен (75) — архиепископ Армянской а...</td>\n",
       "    </tr>\n",
       "    <tr>\n",
       "      <th>5</th>\n",
       "      <td>ru</td>\n",
       "      <td>https://ru.wikipedia.org/wiki/%D0%91%D1%83%D1%...</td>\n",
       "      <td>https://upload.wikimedia.org/wikipedia/commons...</td>\n",
       "      <td>Буш (курган)</td>\n",
       "      <td>NaN</td>\n",
       "      <td>Буш (курган)</td>\n",
       "      <td>Зарисовка крупнейшего из Золотых ромбов курган...</td>\n",
       "      <td>English: design of the the Bush Barrow Lozenge...</td>\n",
       "      <td>NaN</td>\n",
       "      <td>image/jpeg</td>\n",
       "      <td>588</td>\n",
       "      <td>625</td>\n",
       "      <td>False</td>\n",
       "      <td>False</td>\n",
       "      <td>True</td>\n",
       "      <td>Курган Буш, англ. Bush Barrow — памятник ранне...</td>\n",
       "      <td>Курган Буш, англ. Bush Barrow — памятник ранне...</td>\n",
       "    </tr>\n",
       "    <tr>\n",
       "      <th>8</th>\n",
       "      <td>ru</td>\n",
       "      <td>https://ru.wikipedia.org/wiki/%D0%A2%D1%80%D0%...</td>\n",
       "      <td>https://upload.wikimedia.org/wikipedia/commons...</td>\n",
       "      <td>Трассовый моделизм</td>\n",
       "      <td>NaN</td>\n",
       "      <td>Трассовый моделизм</td>\n",
       "      <td>Трассовый моделизм. Прохождение моделями виража</td>\n",
       "      <td>日本語: YSR race Mr.ky</td>\n",
       "      <td>NaN</td>\n",
       "      <td>image/jpeg</td>\n",
       "      <td>540</td>\n",
       "      <td>960</td>\n",
       "      <td>False</td>\n",
       "      <td>False</td>\n",
       "      <td>False</td>\n",
       "      <td>Трассовый моделизм — вид автомодельного спорта...</td>\n",
       "      <td>Трассовый моделизм (также трассовые гонки или ...</td>\n",
       "    </tr>\n",
       "    <tr>\n",
       "      <th>15</th>\n",
       "      <td>ru</td>\n",
       "      <td>https://ru.wikipedia.org/wiki/%D0%9B%D0%B8%D0%...</td>\n",
       "      <td>https://upload.wikimedia.org/wikipedia/commons...</td>\n",
       "      <td>Лилейная трещалка</td>\n",
       "      <td>NaN</td>\n",
       "      <td>Лилейная трещалка</td>\n",
       "      <td>Спаривание</td>\n",
       "      <td>Liloceris lilii (Scopoli, 1763), copula Englis...</td>\n",
       "      <td>NaN</td>\n",
       "      <td>image/jpeg</td>\n",
       "      <td>2336</td>\n",
       "      <td>3504</td>\n",
       "      <td>False</td>\n",
       "      <td>False</td>\n",
       "      <td>True</td>\n",
       "      <td>Треща́лка лиле́йная — насекомое семейства жуко...</td>\n",
       "      <td>Треща́лка лиле́йная (лат. Lilioceris lilii) — ...</td>\n",
       "    </tr>\n",
       "    <tr>\n",
       "      <th>16</th>\n",
       "      <td>ru</td>\n",
       "      <td>https://ru.wikipedia.org/wiki/%D0%91%D1%83%D1%...</td>\n",
       "      <td>https://upload.wikimedia.org/wikipedia/commons...</td>\n",
       "      <td>Бурылин, Дмитрий Геннадьевич</td>\n",
       "      <td>Коллекционная деятельность</td>\n",
       "      <td>Бурылин, Дмитрий Геннадьевич / Коллекционная д...</td>\n",
       "      <td>Музей Дмитрия Бурылина.</td>\n",
       "      <td>English: Museum of Industry and Art (Burylin M...</td>\n",
       "      <td>NaN</td>\n",
       "      <td>image/jpeg</td>\n",
       "      <td>3759</td>\n",
       "      <td>5012</td>\n",
       "      <td>False</td>\n",
       "      <td>True</td>\n",
       "      <td>False</td>\n",
       "      <td>Дми́трий Генна́дьевич Буры́лин — иваново-возне...</td>\n",
       "      <td>Всю свою жизнь Дмитрий Бурылин собирал коллекц...</td>\n",
       "    </tr>\n",
       "  </tbody>\n",
       "</table>\n",
       "</div>"
      ],
      "text/plain": [
       "           language                                           page_url  \\\n",
       "Unnamed: 0                                                               \n",
       "0                ru  https://ru.wikipedia.org/wiki/%D0%A3%D0%BC%D0%...   \n",
       "5                ru  https://ru.wikipedia.org/wiki/%D0%91%D1%83%D1%...   \n",
       "8                ru  https://ru.wikipedia.org/wiki/%D0%A2%D1%80%D0%...   \n",
       "15               ru  https://ru.wikipedia.org/wiki/%D0%9B%D0%B8%D0%...   \n",
       "16               ru  https://ru.wikipedia.org/wiki/%D0%91%D1%83%D1%...   \n",
       "\n",
       "                                                    image_url  \\\n",
       "Unnamed: 0                                                      \n",
       "0           https://upload.wikimedia.org/wikipedia/commons...   \n",
       "5           https://upload.wikimedia.org/wikipedia/commons...   \n",
       "8           https://upload.wikimedia.org/wikipedia/commons...   \n",
       "15          https://upload.wikimedia.org/wikipedia/commons...   \n",
       "16          https://upload.wikimedia.org/wikipedia/commons...   \n",
       "\n",
       "                              page_title               section_title  \\\n",
       "Unnamed: 0                                                             \n",
       "0             Умершие в ноябре 2013 года                   16 ноября   \n",
       "5                           Буш (курган)                         NaN   \n",
       "8                     Трассовый моделизм                         NaN   \n",
       "15                     Лилейная трещалка                         NaN   \n",
       "16          Бурылин, Дмитрий Геннадьевич  Коллекционная деятельность   \n",
       "\n",
       "                                   hierarchical_section_title  \\\n",
       "Unnamed: 0                                                      \n",
       "0                      Умершие в ноябре 2013 года / 16 ноября   \n",
       "5                                                Буш (курган)   \n",
       "8                                          Трассовый моделизм   \n",
       "15                                          Лилейная трещалка   \n",
       "16          Бурылин, Дмитрий Геннадьевич / Коллекционная д...   \n",
       "\n",
       "                                caption_reference_description  \\\n",
       "Unnamed: 0                                                      \n",
       "0                                         Владислав Захаревич   \n",
       "5           Зарисовка крупнейшего из Золотых ромбов курган...   \n",
       "8             Трассовый моделизм. Прохождение моделями виража   \n",
       "15                                                 Спаривание   \n",
       "16                                    Музей Дмитрия Бурылина.   \n",
       "\n",
       "                              caption_attribution_description  \\\n",
       "Unnamed: 0                                                      \n",
       "0           Русский: Ректор ЮФУ В.Г. ЗахаревичEnglish: Pro...   \n",
       "5           English: design of the the Bush Barrow Lozenge...   \n",
       "8                                         日本語: YSR race Mr.ky   \n",
       "15          Liloceris lilii (Scopoli, 1763), copula Englis...   \n",
       "16          English: Museum of Industry and Art (Burylin M...   \n",
       "\n",
       "           caption_alt_text_description   mime_type  original_height  \\\n",
       "Unnamed: 0                                                             \n",
       "0                                   NaN  image/jpeg             1533   \n",
       "5                                   NaN  image/jpeg              588   \n",
       "8                                   NaN  image/jpeg              540   \n",
       "15                                  NaN  image/jpeg             2336   \n",
       "16                                  NaN  image/jpeg             3759   \n",
       "\n",
       "            original_width  is_main_image  attribution_passes_lang_id  \\\n",
       "Unnamed: 0                                                              \n",
       "0                     1677          False                        True   \n",
       "5                      625          False                       False   \n",
       "8                      960          False                       False   \n",
       "15                    3504          False                       False   \n",
       "16                    5012          False                        True   \n",
       "\n",
       "            page_changed_recently  \\\n",
       "Unnamed: 0                          \n",
       "0                            True   \n",
       "5                            True   \n",
       "8                           False   \n",
       "15                           True   \n",
       "16                          False   \n",
       "\n",
       "                                     context_page_description  \\\n",
       "Unnamed: 0                                                      \n",
       "0           Это список известных людей, соответствующих ус...   \n",
       "5           Курган Буш, англ. Bush Barrow — памятник ранне...   \n",
       "8           Трассовый моделизм — вид автомодельного спорта...   \n",
       "15          Треща́лка лиле́йная — насекомое семейства жуко...   \n",
       "16          Дми́трий Генна́дьевич Буры́лин — иваново-возне...   \n",
       "\n",
       "                                  context_section_description  \n",
       "Unnamed: 0                                                     \n",
       "0           Берберян, Арсен (75) — архиепископ Армянской а...  \n",
       "5           Курган Буш, англ. Bush Barrow — памятник ранне...  \n",
       "8           Трассовый моделизм (также трассовые гонки или ...  \n",
       "15          Треща́лка лиле́йная (лат. Lilioceris lilii) — ...  \n",
       "16          Всю свою жизнь Дмитрий Бурылин собирал коллекц...  "
      ]
     },
     "execution_count": 4,
     "metadata": {},
     "output_type": "execute_result"
    }
   ],
   "source": [
    "df.head()"
   ]
  },
  {
   "cell_type": "code",
   "execution_count": 5,
   "id": "b4b1814e-e201-406a-84cf-f680a815b974",
   "metadata": {},
   "outputs": [],
   "source": [
    "df = df.drop(columns=['page_changed_recently', 'page_changed_recently', 'language', 'page_url', 'image_url', 'mime_type'])"
   ]
  },
  {
   "cell_type": "code",
   "execution_count": 6,
   "id": "4963940c-21d2-407c-ad8f-2f7ecab8d986",
   "metadata": {},
   "outputs": [],
   "source": [
    "columns = ['page_title', 'section_title', 'hierarchical_section_title', 'caption_reference_description', \n",
    "           'caption_attribution_description', 'context_page_description', 'context_section_description']"
   ]
  },
  {
   "cell_type": "code",
   "execution_count": 7,
   "id": "fcabc7fb-e0cd-4582-b974-855d57b4697c",
   "metadata": {},
   "outputs": [
    {
     "name": "stderr",
     "output_type": "stream",
     "text": [
      "100%|██████████| 7/7 [00:00<00:00,  7.63it/s]\n"
     ]
    }
   ],
   "source": [
    "from tqdm import tqdm\n",
    "df.loc[df.caption_reference_description.isna(), 'caption_alt_text_description'] = df.caption_alt_text_description\n",
    "df = df.loc[df.caption_reference_description.notna()]\n",
    "for col in tqdm(columns):\n",
    "    df[col] = df[col].str.replace('\\d+', '', regex=True)\n",
    "    df[col] = df[col].str.lower()\n",
    "    df[col] = df[col].str.capitalize()\n",
    "    df[col] = df[col].apply(lambda x: str(x)+'.')"
   ]
  },
  {
   "cell_type": "code",
   "execution_count": 8,
   "id": "dcec5e7e-9174-494d-bb90-c03c6cb5f163",
   "metadata": {},
   "outputs": [
    {
     "data": {
      "text/plain": [
       "0.010778184953653805"
      ]
     },
     "execution_count": 8,
     "metadata": {},
     "output_type": "execute_result"
    }
   ],
   "source": [
    "len(df.loc[df.caption_reference_description == df.caption_alt_text_description]) / len(df) * 100"
   ]
  },
  {
   "cell_type": "code",
   "execution_count": 9,
   "id": "80db4da3-c2c9-4094-8e1c-1848f3f3cdaf",
   "metadata": {},
   "outputs": [],
   "source": [
    "df = df.drop(columns=['caption_alt_text_description'])"
   ]
  },
  {
   "cell_type": "code",
   "execution_count": 10,
   "id": "7b8b2b88-a04f-4c99-b26c-673333a834d5",
   "metadata": {},
   "outputs": [],
   "source": [
    "df.to_csv('wiki_dataset/rus_wikitext_10k_train_normalized.csv')"
   ]
  },
  {
   "cell_type": "markdown",
   "id": "9b13181c-3d17-4472-a98f-52aa41fc9c38",
   "metadata": {},
   "source": [
    "# Тестим"
   ]
  },
  {
   "cell_type": "code",
   "execution_count": 11,
   "id": "d26e8e72-4532-4e90-b3b4-76dc18bda03f",
   "metadata": {},
   "outputs": [],
   "source": [
    "import torch"
   ]
  },
  {
   "cell_type": "code",
   "execution_count": 12,
   "id": "7e8e98e7-d07d-4b4b-8f3a-39459f576fdb",
   "metadata": {
    "tags": []
   },
   "outputs": [
    {
     "name": "stdout",
     "output_type": "stream",
     "text": [
      "Looking in indexes: https://pypi.org/simple, https://pypi.ngc.nvidia.com\n",
      "Requirement already satisfied: torchmetrics==0.11.3 in /home/alexw/.local/lib/python3.8/site-packages (0.11.3)\n",
      "Requirement already satisfied: numpy>=1.17.2 in /home/alexw/.local/lib/python3.8/site-packages (from torchmetrics==0.11.3) (1.23.2)\n",
      "Requirement already satisfied: typing-extensions; python_version < \"3.9\" in /home/alexw/.local/lib/python3.8/site-packages (from torchmetrics==0.11.3) (4.3.0)\n",
      "Requirement already satisfied: packaging in /home/alexw/.local/lib/python3.8/site-packages (from torchmetrics==0.11.3) (23.0)\n",
      "Requirement already satisfied: torch>=1.8.1 in /home/alexw/.local/lib/python3.8/site-packages (from torchmetrics==0.11.3) (1.13.1)\n",
      "Requirement already satisfied: nvidia-cublas-cu11==11.10.3.66; platform_system == \"Linux\" in /home/alexw/.local/lib/python3.8/site-packages (from torch>=1.8.1->torchmetrics==0.11.3) (11.10.3.66)\n",
      "Requirement already satisfied: nvidia-cudnn-cu11==8.5.0.96; platform_system == \"Linux\" in /home/alexw/.local/lib/python3.8/site-packages (from torch>=1.8.1->torchmetrics==0.11.3) (8.5.0.96)\n",
      "Requirement already satisfied: nvidia-cuda-runtime-cu11==11.7.99; platform_system == \"Linux\" in /home/alexw/.local/lib/python3.8/site-packages (from torch>=1.8.1->torchmetrics==0.11.3) (11.7.99)\n",
      "Requirement already satisfied: nvidia-cuda-nvrtc-cu11==11.7.99; platform_system == \"Linux\" in /home/alexw/.local/lib/python3.8/site-packages (from torch>=1.8.1->torchmetrics==0.11.3) (11.7.99)\n",
      "Requirement already satisfied: setuptools in /home/alexw/.local/lib/python3.8/site-packages (from nvidia-cublas-cu11==11.10.3.66; platform_system == \"Linux\"->torch>=1.8.1->torchmetrics==0.11.3) (59.8.0)\n",
      "Requirement already satisfied: wheel in /usr/lib/python3/dist-packages (from nvidia-cublas-cu11==11.10.3.66; platform_system == \"Linux\"->torch>=1.8.1->torchmetrics==0.11.3) (0.34.2)\n"
     ]
    }
   ],
   "source": [
    "!pip install torchmetrics==0.11.3"
   ]
  },
  {
   "cell_type": "code",
   "execution_count": 13,
   "id": "d171d5e3-a283-42f0-874f-9ed87e5b93e3",
   "metadata": {
    "tags": []
   },
   "outputs": [
    {
     "name": "stdout",
     "output_type": "stream",
     "text": [
      "Looking in indexes: https://pypi.org/simple, https://pypi.ngc.nvidia.com\n",
      "Requirement already satisfied: transformers==4.26.1 in /home/alexw/.local/lib/python3.8/site-packages (4.26.1)\n",
      "Requirement already satisfied: numpy>=1.17 in /home/alexw/.local/lib/python3.8/site-packages (from transformers==4.26.1) (1.23.2)\n",
      "Requirement already satisfied: huggingface-hub<1.0,>=0.11.0 in /home/alexw/.local/lib/python3.8/site-packages (from transformers==4.26.1) (0.12.0)\n",
      "Requirement already satisfied: filelock in /home/alexw/.local/lib/python3.8/site-packages (from transformers==4.26.1) (3.8.0)\n",
      "Requirement already satisfied: pyyaml>=5.1 in /home/alexw/.local/lib/python3.8/site-packages (from transformers==4.26.1) (6.0)\n",
      "Requirement already satisfied: regex!=2019.12.17 in /home/alexw/.local/lib/python3.8/site-packages (from transformers==4.26.1) (2022.8.17)\n",
      "Requirement already satisfied: tokenizers!=0.11.3,<0.14,>=0.11.1 in /home/alexw/.local/lib/python3.8/site-packages (from transformers==4.26.1) (0.13.2)\n",
      "Requirement already satisfied: requests in /home/alexw/.local/lib/python3.8/site-packages (from transformers==4.26.1) (2.28.1)\n",
      "Requirement already satisfied: tqdm>=4.27 in /home/alexw/.local/lib/python3.8/site-packages (from transformers==4.26.1) (4.64.1)\n",
      "Requirement already satisfied: packaging>=20.0 in /home/alexw/.local/lib/python3.8/site-packages (from transformers==4.26.1) (23.0)\n",
      "Requirement already satisfied: typing-extensions>=3.7.4.3 in /home/alexw/.local/lib/python3.8/site-packages (from huggingface-hub<1.0,>=0.11.0->transformers==4.26.1) (4.3.0)\n",
      "Requirement already satisfied: certifi>=2017.4.17 in /home/alexw/.local/lib/python3.8/site-packages (from requests->transformers==4.26.1) (2022.12.7)\n",
      "Requirement already satisfied: idna<4,>=2.5 in /home/alexw/.local/lib/python3.8/site-packages (from requests->transformers==4.26.1) (2.10)\n",
      "Requirement already satisfied: urllib3<1.27,>=1.21.1 in /home/alexw/.local/lib/python3.8/site-packages (from requests->transformers==4.26.1) (1.26.12)\n",
      "Requirement already satisfied: charset-normalizer<3,>=2 in /home/alexw/.local/lib/python3.8/site-packages (from requests->transformers==4.26.1) (2.1.1)\n"
     ]
    }
   ],
   "source": [
    "!pip install transformers==4.26.1"
   ]
  },
  {
   "cell_type": "code",
   "execution_count": 14,
   "id": "7e58b6c4-bb5b-4ff9-81d5-1aef4b87de31",
   "metadata": {},
   "outputs": [],
   "source": [
    "from torchmetrics.multimodal import CLIPScore\n",
    "\n",
    "metric = CLIPScore(model_name_or_path=\"openai/clip-vit-base-patch16\")"
   ]
  },
  {
   "cell_type": "code",
   "execution_count": 15,
   "id": "868acf69-d16f-4ed2-a063-e98803a67d22",
   "metadata": {},
   "outputs": [],
   "source": [
    "import torchvision.transforms as transforms\n",
    "from PIL import Image\n",
    "def read_image(path):\n",
    "    img = Image.open(path).convert('RGB')\n",
    "\n",
    "    resize = transforms.Resize([224, 224])\n",
    "    img = resize(img)\n",
    "    to_tensor = transforms.ToTensor()\n",
    "\n",
    "    tensor = to_tensor(img)\n",
    "    return tensor"
   ]
  },
  {
   "cell_type": "code",
   "execution_count": 16,
   "id": "f90f1928-ca71-4adc-abe3-3ab9c79fd2e6",
   "metadata": {},
   "outputs": [],
   "source": [
    "images = torch.load('wiki_img_tensor.pt')\n",
    "wikiScore = metric(images[0], df.caption_reference_description.loc[0])"
   ]
  },
  {
   "cell_type": "code",
   "execution_count": 17,
   "id": "f9ba7b1f-6627-48b5-896e-b32c134b0be1",
   "metadata": {},
   "outputs": [
    {
     "data": {
      "text/plain": [
       "tensor(19.9878)"
      ]
     },
     "execution_count": 17,
     "metadata": {},
     "output_type": "execute_result"
    }
   ],
   "source": [
    "wikiScore.detach()"
   ]
  },
  {
   "cell_type": "code",
   "execution_count": 19,
   "id": "2ed48111-149b-4a81-a8d1-165006165deb",
   "metadata": {},
   "outputs": [
    {
     "name": "stderr",
     "output_type": "stream",
     "text": [
      "  0%|          | 9/9278 [00:02<40:00,  3.86it/s]  Token indices sequence length is longer than the specified maximum sequence length for this model (163 > 77). Running this sequence through the model will result in indexing errors\n",
      "100%|██████████| 9278/9278 [28:53<00:00,  5.35it/s]\n"
     ]
    }
   ],
   "source": [
    "scores_wiki = []\n",
    "j = 0\n",
    "for i in tqdm(df.index[:]):\n",
    "    text = df.caption_reference_description.loc[i]\n",
    "    try:\n",
    "        #wikiScore = metric(read_image(f\"wiki_dataset/images/image_{i}.jpg\"), text)\n",
    "        wikiScore = metric(images[j], text)\n",
    "        scores_wiki.append(wikiScore.detach())\n",
    "    except KeyboardInterrupt:\n",
    "        print(\"stop\")\n",
    "        break\n",
    "    except:\n",
    "        # print(f\"exception on {i}\")\n",
    "        pass\n",
    "    j += 1\n",
    "mean_wiki = sum(scores_wiki) / len(scores_wiki)"
   ]
  },
  {
   "cell_type": "code",
   "execution_count": 20,
   "id": "d3410afd-5b90-429d-8f64-88f163b2deb7",
   "metadata": {},
   "outputs": [
    {
     "data": {
      "text/plain": [
       "tensor(21.9187)"
      ]
     },
     "execution_count": 20,
     "metadata": {},
     "output_type": "execute_result"
    }
   ],
   "source": [
    "mean_wiki # оценка wiki"
   ]
  },
  {
   "cell_type": "code",
   "execution_count": 21,
   "id": "fbb5fa7e-4e20-4a8e-a9cd-090f80f94e64",
   "metadata": {},
   "outputs": [
    {
     "name": "stdout",
     "output_type": "stream",
     "text": [
      "loading annotations into memory...\n",
      "Done (t=0.89s)\n",
      "creating index...\n",
      "index created!\n"
     ]
    }
   ],
   "source": [
    "import torchvision.datasets as dset\n",
    "coco_train = dset.CocoDetection(root = \"coco_dataset/train2017\",\n",
    "                                annFile = \"coco_dataset/annotations/captions_train2017.json\")"
   ]
  },
  {
   "cell_type": "code",
   "execution_count": 27,
   "id": "8073c27e-0f01-4644-b221-f180ba66e800",
   "metadata": {},
   "outputs": [
    {
     "name": "stderr",
     "output_type": "stream",
     "text": [
      "100%|██████████| 9278/9278 [33:58<00:00,  4.55it/s]\n"
     ]
    }
   ],
   "source": [
    "scores_coco = []\n",
    "for i in tqdm(range(9278)):\n",
    "    image, captions = coco_train[i]\n",
    "    name = str(captions[0]['image_id'])\n",
    "    name = \"0\" * (12 - len(name)) + name\n",
    "    name = f\"coco_dataset/train2017/{name}.jpg\"\n",
    "    text = captions[0]['caption']\n",
    "    cocoScore = metric(read_image(name), text)\n",
    "    scores_coco.append(cocoScore.detach())\n",
    "mean_coco = sum(scores_coco) / len(scores_coco)"
   ]
  },
  {
   "cell_type": "code",
   "execution_count": 28,
   "id": "4da7f626-516e-4d7f-8c81-594e604d4649",
   "metadata": {},
   "outputs": [
    {
     "data": {
      "text/plain": [
       "tensor(30.4789)"
      ]
     },
     "execution_count": 28,
     "metadata": {},
     "output_type": "execute_result"
    }
   ],
   "source": [
    "mean_coco # оценка coco"
   ]
  },
  {
   "cell_type": "code",
   "execution_count": 30,
   "id": "c76fa916-9690-4967-a950-3aa60e285522",
   "metadata": {
    "collapsed": true,
    "jupyter": {
     "outputs_hidden": true
    },
    "tags": []
   },
   "outputs": [
    {
     "name": "stdout",
     "output_type": "stream",
     "text": [
      "huggingface/tokenizers: The current process just got forked, after parallelism has already been used. Disabling parallelism to avoid deadlocks...\n",
      "To disable this warning, you can either:\n",
      "\t- Avoid using `tokenizers` before the fork if possible\n",
      "\t- Explicitly set the environment variable TOKENIZERS_PARALLELISM=(true | false)\n",
      "Looking in indexes: https://pypi.org/simple, https://pypi.ngc.nvidia.com\n",
      "/usr/share/python-wheels/urllib3-1.25.8-py2.py3-none-any.whl/urllib3/connectionpool.py:999: InsecureRequestWarning: Unverified HTTPS request is being made to host 'pypi.ngc.nvidia.com'. Adding certificate verification is strongly advised. See: https://urllib3.readthedocs.io/en/latest/advanced-usage.html#ssl-warnings\n",
      "Collecting googletrans==3.1.0a0\n",
      "  Downloading googletrans-3.1.0a0.tar.gz (19 kB)\n",
      "/usr/share/python-wheels/urllib3-1.25.8-py2.py3-none-any.whl/urllib3/connectionpool.py:999: InsecureRequestWarning: Unverified HTTPS request is being made to host 'pypi.ngc.nvidia.com'. Adding certificate verification is strongly advised. See: https://urllib3.readthedocs.io/en/latest/advanced-usage.html#ssl-warnings\n",
      "Collecting httpx==0.13.3\n",
      "  Downloading httpx-0.13.3-py3-none-any.whl (55 kB)\n",
      "\u001b[K     |████████████████████████████████| 55 kB 5.7 MB/s eta 0:00:011\n",
      "\u001b[?25hRequirement already satisfied: chardet==3.* in /usr/lib/python3/dist-packages (from httpx==0.13.3->googletrans==3.1.0a0) (3.0.4)\n",
      "/usr/share/python-wheels/urllib3-1.25.8-py2.py3-none-any.whl/urllib3/connectionpool.py:999: InsecureRequestWarning: Unverified HTTPS request is being made to host 'pypi.ngc.nvidia.com'. Adding certificate verification is strongly advised. See: https://urllib3.readthedocs.io/en/latest/advanced-usage.html#ssl-warnings\n",
      "Collecting httpcore==0.9.*\n",
      "  Downloading httpcore-0.9.1-py3-none-any.whl (42 kB)\n",
      "\u001b[K     |████████████████████████████████| 42 kB 30.5 MB/s eta 0:00:01\n",
      "\u001b[?25hRequirement already satisfied: certifi in /home/alexw/.local/lib/python3.8/site-packages (from httpx==0.13.3->googletrans==3.1.0a0) (2022.12.7)\n",
      "/usr/share/python-wheels/urllib3-1.25.8-py2.py3-none-any.whl/urllib3/connectionpool.py:999: InsecureRequestWarning: Unverified HTTPS request is being made to host 'pypi.ngc.nvidia.com'. Adding certificate verification is strongly advised. See: https://urllib3.readthedocs.io/en/latest/advanced-usage.html#ssl-warnings\n",
      "Collecting hstspreload\n",
      "  Downloading hstspreload-2023.1.1-py3-none-any.whl (1.5 MB)\n",
      "\u001b[K     |████████████████████████████████| 1.5 MB 8.6 MB/s eta 0:00:01\n",
      "\u001b[?25hRequirement already satisfied: rfc3986<2,>=1.3 in /home/alexw/.local/lib/python3.8/site-packages (from httpx==0.13.3->googletrans==3.1.0a0) (1.5.0)\n",
      "Requirement already satisfied: sniffio in /home/alexw/.local/lib/python3.8/site-packages (from httpx==0.13.3->googletrans==3.1.0a0) (1.3.0)\n",
      "/usr/share/python-wheels/urllib3-1.25.8-py2.py3-none-any.whl/urllib3/connectionpool.py:999: InsecureRequestWarning: Unverified HTTPS request is being made to host 'pypi.ngc.nvidia.com'. Adding certificate verification is strongly advised. See: https://urllib3.readthedocs.io/en/latest/advanced-usage.html#ssl-warnings\n",
      "Collecting idna==2.*\n",
      "  Downloading idna-2.10-py2.py3-none-any.whl (58 kB)\n",
      "\u001b[K     |████████████████████████████████| 58 kB 36.1 MB/s eta 0:00:01\n",
      "/usr/share/python-wheels/urllib3-1.25.8-py2.py3-none-any.whl/urllib3/connectionpool.py:999: InsecureRequestWarning: Unverified HTTPS request is being made to host 'pypi.ngc.nvidia.com'. Adding certificate verification is strongly advised. See: https://urllib3.readthedocs.io/en/latest/advanced-usage.html#ssl-warnings\n",
      "\u001b[?25hCollecting h2==3.*\n",
      "  Downloading h2-3.2.0-py2.py3-none-any.whl (65 kB)\n",
      "\u001b[K     |████████████████████████████████| 65 kB 72.1 MB/s eta 0:00:01\n",
      "/usr/share/python-wheels/urllib3-1.25.8-py2.py3-none-any.whl/urllib3/connectionpool.py:999: InsecureRequestWarning: Unverified HTTPS request is being made to host 'pypi.ngc.nvidia.com'. Adding certificate verification is strongly advised. See: https://urllib3.readthedocs.io/en/latest/advanced-usage.html#ssl-warnings\n",
      "\u001b[?25hCollecting h11<0.10,>=0.8\n",
      "  Downloading h11-0.9.0-py2.py3-none-any.whl (53 kB)\n",
      "\u001b[K     |████████████████████████████████| 53 kB 60.6 MB/s eta 0:00:01\n",
      "/usr/share/python-wheels/urllib3-1.25.8-py2.py3-none-any.whl/urllib3/connectionpool.py:999: InsecureRequestWarning: Unverified HTTPS request is being made to host 'pypi.ngc.nvidia.com'. Adding certificate verification is strongly advised. See: https://urllib3.readthedocs.io/en/latest/advanced-usage.html#ssl-warnings\n",
      "\u001b[?25hCollecting hpack<4,>=3.0\n",
      "  Downloading hpack-3.0.0-py2.py3-none-any.whl (38 kB)\n",
      "/usr/share/python-wheels/urllib3-1.25.8-py2.py3-none-any.whl/urllib3/connectionpool.py:999: InsecureRequestWarning: Unverified HTTPS request is being made to host 'pypi.ngc.nvidia.com'. Adding certificate verification is strongly advised. See: https://urllib3.readthedocs.io/en/latest/advanced-usage.html#ssl-warnings\n",
      "Collecting hyperframe<6,>=5.2.0\n",
      "  Downloading hyperframe-5.2.0-py2.py3-none-any.whl (12 kB)\n",
      "Building wheels for collected packages: googletrans\n",
      "  Building wheel for googletrans (setup.py) ... \u001b[?25ldone\n",
      "\u001b[?25h  Created wheel for googletrans: filename=googletrans-3.1.0a0-py3-none-any.whl size=16367 sha256=b6cd072bbd6f1292eda722f12fbdaaafb4e59daf97df0799f057666667041d2b\n",
      "  Stored in directory: /tmp/pip-ephem-wheel-cache-dc1ena6s/wheels/dd/59/af/8d6c96a719763990f1c548e36b17d9efdfb767f42f7ff39f53\n",
      "Successfully built googletrans\n",
      "\u001b[31mERROR: gradio 3.4.0 has requirement h11<0.13,>=0.11, but you'll have h11 0.9.0 which is incompatible.\u001b[0m\n",
      "\u001b[31mERROR: jupyterlab-server 2.15.1 has requirement jupyter-server<2,>=1.8, but you'll have jupyter-server 2.3.0 which is incompatible.\u001b[0m\n",
      "\u001b[31mERROR: google-api-core 2.10.1 has requirement protobuf<5.0.0dev,>=3.20.1, but you'll have protobuf 3.19.6 which is incompatible.\u001b[0m\n",
      "\u001b[31mERROR: flair 0.11.3 has requirement gdown==4.4.0, but you'll have gdown 4.6.0 which is incompatible.\u001b[0m\n",
      "\u001b[31mERROR: flair 0.11.3 has requirement sentencepiece==0.1.95, but you'll have sentencepiece 0.1.96 which is incompatible.\u001b[0m\n",
      "\u001b[31mERROR: torchtext 0.11.2 has requirement torch==1.10.2, but you'll have torch 1.13.1 which is incompatible.\u001b[0m\n",
      "\u001b[31mERROR: textattack 0.3.4 has requirement tqdm<4.50.0,>=4.27, but you'll have tqdm 4.64.1 which is incompatible.\u001b[0m\n",
      "\u001b[31mERROR: clean-fid 0.1.32 has requirement requests==2.25.1, but you'll have requests 2.28.1 which is incompatible.\u001b[0m\n",
      "\u001b[31mERROR: segmentation-models-pytorch 0.1.3 has requirement timm==0.3.2, but you'll have timm 0.4.12 which is incompatible.\u001b[0m\n",
      "\u001b[31mERROR: torchcrepe 0.0.17 has requirement librosa==0.9.1, but you'll have librosa 0.9.2 which is incompatible.\u001b[0m\n",
      "\u001b[31mERROR: ruclip 0.0.2 has requirement huggingface-hub==0.2.1, but you'll have huggingface-hub 0.12.0 which is incompatible.\u001b[0m\n",
      "\u001b[31mERROR: rutransform 0.0.1 has requirement datasets==1.10.0, but you'll have datasets 2.9.0 which is incompatible.\u001b[0m\n",
      "\u001b[31mERROR: rutransform 0.0.1 has requirement torch==1.10.2, but you'll have torch 1.13.1 which is incompatible.\u001b[0m\n",
      "\u001b[31mERROR: rutransform 0.0.1 has requirement tqdm==4.49.0, but you'll have tqdm 4.64.1 which is incompatible.\u001b[0m\n",
      "\u001b[31mERROR: rutransform 0.0.1 has requirement transformers==4.12.2, but you'll have transformers 4.26.1 which is incompatible.\u001b[0m\n",
      "\u001b[31mERROR: rudolph 0.0.1rc10 has requirement einops~=0.3.2, but you'll have einops 0.6.0 which is incompatible.\u001b[0m\n",
      "\u001b[31mERROR: rudolph 0.0.1rc10 has requirement rudalle==1.1.3, but you'll have rudalle 1.1.0 which is incompatible.\u001b[0m\n",
      "\u001b[31mERROR: rudolph 0.0.1rc10 has requirement transformers~=4.10.2, but you'll have transformers 4.26.1 which is incompatible.\u001b[0m\n",
      "Installing collected packages: hpack, hyperframe, h2, h11, httpcore, hstspreload, idna, httpx, googletrans\n",
      "  Attempting uninstall: h11\n",
      "    Found existing installation: h11 0.12.0\n",
      "    Uninstalling h11-0.12.0:\n",
      "      Successfully uninstalled h11-0.12.0\n",
      "  Attempting uninstall: httpcore\n",
      "    Found existing installation: httpcore 0.15.0\n",
      "    Uninstalling httpcore-0.15.0:\n",
      "      Successfully uninstalled httpcore-0.15.0\n",
      "  Attempting uninstall: idna\n",
      "    Found existing installation: idna 3.4\n",
      "    Uninstalling idna-3.4:\n",
      "      Successfully uninstalled idna-3.4\n",
      "  Attempting uninstall: httpx\n",
      "    Found existing installation: httpx 0.23.0\n",
      "    Uninstalling httpx-0.23.0:\n",
      "      Successfully uninstalled httpx-0.23.0\n",
      "Successfully installed googletrans-3.1.0a0 h11-0.9.0 h2-3.2.0 hpack-3.0.0 hstspreload-2023.1.1 httpcore-0.9.1 httpx-0.13.3 hyperframe-5.2.0 idna-2.10\n"
     ]
    }
   ],
   "source": [
    "!pip install googletrans==3.1.0a0"
   ]
  },
  {
   "cell_type": "code",
   "execution_count": 74,
   "id": "01278351-0ff1-4fa6-ae8e-fc9cb81e63ae",
   "metadata": {
    "collapsed": true,
    "jupyter": {
     "outputs_hidden": true
    },
    "tags": []
   },
   "outputs": [
    {
     "name": "stderr",
     "output_type": "stream",
     "text": [
      "  1%|          | 29/5000 [00:10<29:24,  2.82it/s]\n"
     ]
    },
    {
     "ename": "KeyboardInterrupt",
     "evalue": "",
     "output_type": "error",
     "traceback": [
      "\u001b[0;31m---------------------------------------------------------------------------\u001b[0m",
      "\u001b[0;31mKeyboardInterrupt\u001b[0m                         Traceback (most recent call last)",
      "Cell \u001b[0;32mIn[74], line 8\u001b[0m\n\u001b[1;32m      6\u001b[0m image, captions \u001b[38;5;241m=\u001b[39m coco_train[i]\n\u001b[1;32m      7\u001b[0m text \u001b[38;5;241m=\u001b[39m captions[\u001b[38;5;241m0\u001b[39m][\u001b[38;5;124m'\u001b[39m\u001b[38;5;124mcaption\u001b[39m\u001b[38;5;124m'\u001b[39m]\n\u001b[0;32m----> 8\u001b[0m translated_text\u001b[38;5;241m.\u001b[39mappend(\u001b[43mtranslator\u001b[49m\u001b[38;5;241;43m.\u001b[39;49m\u001b[43mtranslate\u001b[49m\u001b[43m(\u001b[49m\u001b[43mtext\u001b[49m\u001b[43m,\u001b[49m\u001b[43m \u001b[49m\u001b[43mdest\u001b[49m\u001b[38;5;241;43m=\u001b[39;49m\u001b[38;5;124;43m\"\u001b[39;49m\u001b[38;5;124;43mru\u001b[39;49m\u001b[38;5;124;43m\"\u001b[39;49m\u001b[43m,\u001b[49m\u001b[43m \u001b[49m\u001b[43msrc\u001b[49m\u001b[38;5;241;43m=\u001b[39;49m\u001b[38;5;124;43m\"\u001b[39;49m\u001b[38;5;124;43men\u001b[39;49m\u001b[38;5;124;43m\"\u001b[39;49m\u001b[43m)\u001b[49m\u001b[38;5;241m.\u001b[39mtext)\n",
      "File \u001b[0;32m~/.local/lib/python3.8/site-packages/googletrans/client.py:210\u001b[0m, in \u001b[0;36mTranslator.translate\u001b[0;34m(self, text, dest, src, **kwargs)\u001b[0m\n\u001b[1;32m    207\u001b[0m     \u001b[38;5;28;01mreturn\u001b[39;00m result\n\u001b[1;32m    209\u001b[0m origin \u001b[38;5;241m=\u001b[39m text\n\u001b[0;32m--> 210\u001b[0m data, response \u001b[38;5;241m=\u001b[39m \u001b[38;5;28;43mself\u001b[39;49m\u001b[38;5;241;43m.\u001b[39;49m\u001b[43m_translate\u001b[49m\u001b[43m(\u001b[49m\u001b[43mtext\u001b[49m\u001b[43m,\u001b[49m\u001b[43m \u001b[49m\u001b[43mdest\u001b[49m\u001b[43m,\u001b[49m\u001b[43m \u001b[49m\u001b[43msrc\u001b[49m\u001b[43m,\u001b[49m\u001b[43m \u001b[49m\u001b[43mkwargs\u001b[49m\u001b[43m)\u001b[49m\n\u001b[1;32m    212\u001b[0m \u001b[38;5;66;03m# this code will be updated when the format is changed.\u001b[39;00m\n\u001b[1;32m    213\u001b[0m translated \u001b[38;5;241m=\u001b[39m \u001b[38;5;124m'\u001b[39m\u001b[38;5;124m'\u001b[39m\u001b[38;5;241m.\u001b[39mjoin([d[\u001b[38;5;241m0\u001b[39m] \u001b[38;5;28;01mif\u001b[39;00m d[\u001b[38;5;241m0\u001b[39m] \u001b[38;5;28;01melse\u001b[39;00m \u001b[38;5;124m'\u001b[39m\u001b[38;5;124m'\u001b[39m \u001b[38;5;28;01mfor\u001b[39;00m d \u001b[38;5;129;01min\u001b[39;00m data[\u001b[38;5;241m0\u001b[39m]])\n",
      "File \u001b[0;32m~/.local/lib/python3.8/site-packages/googletrans/client.py:108\u001b[0m, in \u001b[0;36mTranslator._translate\u001b[0;34m(self, text, dest, src, override)\u001b[0m\n\u001b[1;32m    104\u001b[0m params \u001b[38;5;241m=\u001b[39m utils\u001b[38;5;241m.\u001b[39mbuild_params(client\u001b[38;5;241m=\u001b[39m\u001b[38;5;28mself\u001b[39m\u001b[38;5;241m.\u001b[39mclient_type, query\u001b[38;5;241m=\u001b[39mtext, src\u001b[38;5;241m=\u001b[39msrc, dest\u001b[38;5;241m=\u001b[39mdest,\n\u001b[1;32m    105\u001b[0m                             token\u001b[38;5;241m=\u001b[39mtoken, override\u001b[38;5;241m=\u001b[39moverride)\n\u001b[1;32m    107\u001b[0m url \u001b[38;5;241m=\u001b[39m urls\u001b[38;5;241m.\u001b[39mTRANSLATE\u001b[38;5;241m.\u001b[39mformat(host\u001b[38;5;241m=\u001b[39m\u001b[38;5;28mself\u001b[39m\u001b[38;5;241m.\u001b[39m_pick_service_url())\n\u001b[0;32m--> 108\u001b[0m r \u001b[38;5;241m=\u001b[39m \u001b[38;5;28;43mself\u001b[39;49m\u001b[38;5;241;43m.\u001b[39;49m\u001b[43mclient\u001b[49m\u001b[38;5;241;43m.\u001b[39;49m\u001b[43mget\u001b[49m\u001b[43m(\u001b[49m\u001b[43murl\u001b[49m\u001b[43m,\u001b[49m\u001b[43m \u001b[49m\u001b[43mparams\u001b[49m\u001b[38;5;241;43m=\u001b[39;49m\u001b[43mparams\u001b[49m\u001b[43m)\u001b[49m\n\u001b[1;32m    110\u001b[0m \u001b[38;5;28;01mif\u001b[39;00m r\u001b[38;5;241m.\u001b[39mstatus_code \u001b[38;5;241m==\u001b[39m \u001b[38;5;241m200\u001b[39m:\n\u001b[1;32m    111\u001b[0m     data \u001b[38;5;241m=\u001b[39m utils\u001b[38;5;241m.\u001b[39mformat_json(r\u001b[38;5;241m.\u001b[39mtext)\n",
      "File \u001b[0;32m~/.local/lib/python3.8/site-packages/httpx/_client.py:755\u001b[0m, in \u001b[0;36mClient.get\u001b[0;34m(self, url, params, headers, cookies, auth, allow_redirects, timeout)\u001b[0m\n\u001b[1;32m    744\u001b[0m \u001b[38;5;28;01mdef\u001b[39;00m \u001b[38;5;21mget\u001b[39m(\n\u001b[1;32m    745\u001b[0m     \u001b[38;5;28mself\u001b[39m,\n\u001b[1;32m    746\u001b[0m     url: URLTypes,\n\u001b[0;32m   (...)\u001b[0m\n\u001b[1;32m    753\u001b[0m     timeout: typing\u001b[38;5;241m.\u001b[39mUnion[TimeoutTypes, UnsetType] \u001b[38;5;241m=\u001b[39m UNSET,\n\u001b[1;32m    754\u001b[0m ) \u001b[38;5;241m-\u001b[39m\u001b[38;5;241m>\u001b[39m Response:\n\u001b[0;32m--> 755\u001b[0m     \u001b[38;5;28;01mreturn\u001b[39;00m \u001b[38;5;28;43mself\u001b[39;49m\u001b[38;5;241;43m.\u001b[39;49m\u001b[43mrequest\u001b[49m\u001b[43m(\u001b[49m\n\u001b[1;32m    756\u001b[0m \u001b[43m        \u001b[49m\u001b[38;5;124;43m\"\u001b[39;49m\u001b[38;5;124;43mGET\u001b[39;49m\u001b[38;5;124;43m\"\u001b[39;49m\u001b[43m,\u001b[49m\n\u001b[1;32m    757\u001b[0m \u001b[43m        \u001b[49m\u001b[43murl\u001b[49m\u001b[43m,\u001b[49m\n\u001b[1;32m    758\u001b[0m \u001b[43m        \u001b[49m\u001b[43mparams\u001b[49m\u001b[38;5;241;43m=\u001b[39;49m\u001b[43mparams\u001b[49m\u001b[43m,\u001b[49m\n\u001b[1;32m    759\u001b[0m \u001b[43m        \u001b[49m\u001b[43mheaders\u001b[49m\u001b[38;5;241;43m=\u001b[39;49m\u001b[43mheaders\u001b[49m\u001b[43m,\u001b[49m\n\u001b[1;32m    760\u001b[0m \u001b[43m        \u001b[49m\u001b[43mcookies\u001b[49m\u001b[38;5;241;43m=\u001b[39;49m\u001b[43mcookies\u001b[49m\u001b[43m,\u001b[49m\n\u001b[1;32m    761\u001b[0m \u001b[43m        \u001b[49m\u001b[43mauth\u001b[49m\u001b[38;5;241;43m=\u001b[39;49m\u001b[43mauth\u001b[49m\u001b[43m,\u001b[49m\n\u001b[1;32m    762\u001b[0m \u001b[43m        \u001b[49m\u001b[43mallow_redirects\u001b[49m\u001b[38;5;241;43m=\u001b[39;49m\u001b[43mallow_redirects\u001b[49m\u001b[43m,\u001b[49m\n\u001b[1;32m    763\u001b[0m \u001b[43m        \u001b[49m\u001b[43mtimeout\u001b[49m\u001b[38;5;241;43m=\u001b[39;49m\u001b[43mtimeout\u001b[49m\u001b[43m,\u001b[49m\n\u001b[1;32m    764\u001b[0m \u001b[43m    \u001b[49m\u001b[43m)\u001b[49m\n",
      "File \u001b[0;32m~/.local/lib/python3.8/site-packages/httpx/_client.py:600\u001b[0m, in \u001b[0;36mClient.request\u001b[0;34m(self, method, url, data, files, json, params, headers, cookies, auth, allow_redirects, timeout)\u001b[0m\n\u001b[1;32m    575\u001b[0m \u001b[38;5;28;01mdef\u001b[39;00m \u001b[38;5;21mrequest\u001b[39m(\n\u001b[1;32m    576\u001b[0m     \u001b[38;5;28mself\u001b[39m,\n\u001b[1;32m    577\u001b[0m     method: \u001b[38;5;28mstr\u001b[39m,\n\u001b[0;32m   (...)\u001b[0m\n\u001b[1;32m    588\u001b[0m     timeout: typing\u001b[38;5;241m.\u001b[39mUnion[TimeoutTypes, UnsetType] \u001b[38;5;241m=\u001b[39m UNSET,\n\u001b[1;32m    589\u001b[0m ) \u001b[38;5;241m-\u001b[39m\u001b[38;5;241m>\u001b[39m Response:\n\u001b[1;32m    590\u001b[0m     request \u001b[38;5;241m=\u001b[39m \u001b[38;5;28mself\u001b[39m\u001b[38;5;241m.\u001b[39mbuild_request(\n\u001b[1;32m    591\u001b[0m         method\u001b[38;5;241m=\u001b[39mmethod,\n\u001b[1;32m    592\u001b[0m         url\u001b[38;5;241m=\u001b[39murl,\n\u001b[0;32m   (...)\u001b[0m\n\u001b[1;32m    598\u001b[0m         cookies\u001b[38;5;241m=\u001b[39mcookies,\n\u001b[1;32m    599\u001b[0m     )\n\u001b[0;32m--> 600\u001b[0m     \u001b[38;5;28;01mreturn\u001b[39;00m \u001b[38;5;28;43mself\u001b[39;49m\u001b[38;5;241;43m.\u001b[39;49m\u001b[43msend\u001b[49m\u001b[43m(\u001b[49m\n\u001b[1;32m    601\u001b[0m \u001b[43m        \u001b[49m\u001b[43mrequest\u001b[49m\u001b[43m,\u001b[49m\u001b[43m \u001b[49m\u001b[43mauth\u001b[49m\u001b[38;5;241;43m=\u001b[39;49m\u001b[43mauth\u001b[49m\u001b[43m,\u001b[49m\u001b[43m \u001b[49m\u001b[43mallow_redirects\u001b[49m\u001b[38;5;241;43m=\u001b[39;49m\u001b[43mallow_redirects\u001b[49m\u001b[43m,\u001b[49m\u001b[43m \u001b[49m\u001b[43mtimeout\u001b[49m\u001b[38;5;241;43m=\u001b[39;49m\u001b[43mtimeout\u001b[49m\u001b[43m,\u001b[49m\n\u001b[1;32m    602\u001b[0m \u001b[43m    \u001b[49m\u001b[43m)\u001b[49m\n",
      "File \u001b[0;32m~/.local/lib/python3.8/site-packages/httpx/_client.py:620\u001b[0m, in \u001b[0;36mClient.send\u001b[0;34m(self, request, stream, auth, allow_redirects, timeout)\u001b[0m\n\u001b[1;32m    616\u001b[0m timeout \u001b[38;5;241m=\u001b[39m \u001b[38;5;28mself\u001b[39m\u001b[38;5;241m.\u001b[39mtimeout \u001b[38;5;28;01mif\u001b[39;00m \u001b[38;5;28misinstance\u001b[39m(timeout, UnsetType) \u001b[38;5;28;01melse\u001b[39;00m Timeout(timeout)\n\u001b[1;32m    618\u001b[0m auth \u001b[38;5;241m=\u001b[39m \u001b[38;5;28mself\u001b[39m\u001b[38;5;241m.\u001b[39mbuild_auth(request, auth)\n\u001b[0;32m--> 620\u001b[0m response \u001b[38;5;241m=\u001b[39m \u001b[38;5;28;43mself\u001b[39;49m\u001b[38;5;241;43m.\u001b[39;49m\u001b[43msend_handling_redirects\u001b[49m\u001b[43m(\u001b[49m\n\u001b[1;32m    621\u001b[0m \u001b[43m    \u001b[49m\u001b[43mrequest\u001b[49m\u001b[43m,\u001b[49m\u001b[43m \u001b[49m\u001b[43mauth\u001b[49m\u001b[38;5;241;43m=\u001b[39;49m\u001b[43mauth\u001b[49m\u001b[43m,\u001b[49m\u001b[43m \u001b[49m\u001b[43mtimeout\u001b[49m\u001b[38;5;241;43m=\u001b[39;49m\u001b[43mtimeout\u001b[49m\u001b[43m,\u001b[49m\u001b[43m \u001b[49m\u001b[43mallow_redirects\u001b[49m\u001b[38;5;241;43m=\u001b[39;49m\u001b[43mallow_redirects\u001b[49m\u001b[43m,\u001b[49m\n\u001b[1;32m    622\u001b[0m \u001b[43m\u001b[49m\u001b[43m)\u001b[49m\n\u001b[1;32m    624\u001b[0m \u001b[38;5;28;01mif\u001b[39;00m \u001b[38;5;129;01mnot\u001b[39;00m stream:\n\u001b[1;32m    625\u001b[0m     \u001b[38;5;28;01mtry\u001b[39;00m:\n",
      "File \u001b[0;32m~/.local/lib/python3.8/site-packages/httpx/_client.py:647\u001b[0m, in \u001b[0;36mClient.send_handling_redirects\u001b[0;34m(self, request, auth, timeout, allow_redirects, history)\u001b[0m\n\u001b[1;32m    644\u001b[0m \u001b[38;5;28;01mif\u001b[39;00m \u001b[38;5;28mlen\u001b[39m(history) \u001b[38;5;241m>\u001b[39m \u001b[38;5;28mself\u001b[39m\u001b[38;5;241m.\u001b[39mmax_redirects:\n\u001b[1;32m    645\u001b[0m     \u001b[38;5;28;01mraise\u001b[39;00m TooManyRedirects()\n\u001b[0;32m--> 647\u001b[0m response \u001b[38;5;241m=\u001b[39m \u001b[38;5;28;43mself\u001b[39;49m\u001b[38;5;241;43m.\u001b[39;49m\u001b[43msend_handling_auth\u001b[49m\u001b[43m(\u001b[49m\n\u001b[1;32m    648\u001b[0m \u001b[43m    \u001b[49m\u001b[43mrequest\u001b[49m\u001b[43m,\u001b[49m\u001b[43m \u001b[49m\u001b[43mauth\u001b[49m\u001b[38;5;241;43m=\u001b[39;49m\u001b[43mauth\u001b[49m\u001b[43m,\u001b[49m\u001b[43m \u001b[49m\u001b[43mtimeout\u001b[49m\u001b[38;5;241;43m=\u001b[39;49m\u001b[43mtimeout\u001b[49m\u001b[43m,\u001b[49m\u001b[43m \u001b[49m\u001b[43mhistory\u001b[49m\u001b[38;5;241;43m=\u001b[39;49m\u001b[43mhistory\u001b[49m\n\u001b[1;32m    649\u001b[0m \u001b[43m\u001b[49m\u001b[43m)\u001b[49m\n\u001b[1;32m    650\u001b[0m response\u001b[38;5;241m.\u001b[39mhistory \u001b[38;5;241m=\u001b[39m \u001b[38;5;28mlist\u001b[39m(history)\n\u001b[1;32m    652\u001b[0m \u001b[38;5;28;01mif\u001b[39;00m \u001b[38;5;129;01mnot\u001b[39;00m response\u001b[38;5;241m.\u001b[39mis_redirect:\n",
      "File \u001b[0;32m~/.local/lib/python3.8/site-packages/httpx/_client.py:684\u001b[0m, in \u001b[0;36mClient.send_handling_auth\u001b[0;34m(self, request, history, auth, timeout)\u001b[0m\n\u001b[1;32m    682\u001b[0m request \u001b[38;5;241m=\u001b[39m \u001b[38;5;28mnext\u001b[39m(auth_flow)\n\u001b[1;32m    683\u001b[0m \u001b[38;5;28;01mwhile\u001b[39;00m \u001b[38;5;28;01mTrue\u001b[39;00m:\n\u001b[0;32m--> 684\u001b[0m     response \u001b[38;5;241m=\u001b[39m \u001b[38;5;28;43mself\u001b[39;49m\u001b[38;5;241;43m.\u001b[39;49m\u001b[43msend_single_request\u001b[49m\u001b[43m(\u001b[49m\u001b[43mrequest\u001b[49m\u001b[43m,\u001b[49m\u001b[43m \u001b[49m\u001b[43mtimeout\u001b[49m\u001b[43m)\u001b[49m\n\u001b[1;32m    685\u001b[0m     \u001b[38;5;28;01mif\u001b[39;00m auth\u001b[38;5;241m.\u001b[39mrequires_response_body:\n\u001b[1;32m    686\u001b[0m         response\u001b[38;5;241m.\u001b[39mread()\n",
      "File \u001b[0;32m~/.local/lib/python3.8/site-packages/httpx/_client.py:714\u001b[0m, in \u001b[0;36mClient.send_single_request\u001b[0;34m(self, request, timeout)\u001b[0m\n\u001b[1;32m    705\u001b[0m transport \u001b[38;5;241m=\u001b[39m \u001b[38;5;28mself\u001b[39m\u001b[38;5;241m.\u001b[39mtransport_for_url(request\u001b[38;5;241m.\u001b[39murl)\n\u001b[1;32m    707\u001b[0m \u001b[38;5;28;01mtry\u001b[39;00m:\n\u001b[1;32m    708\u001b[0m     (\n\u001b[1;32m    709\u001b[0m         http_version,\n\u001b[1;32m    710\u001b[0m         status_code,\n\u001b[1;32m    711\u001b[0m         reason_phrase,\n\u001b[1;32m    712\u001b[0m         headers,\n\u001b[1;32m    713\u001b[0m         stream,\n\u001b[0;32m--> 714\u001b[0m     ) \u001b[38;5;241m=\u001b[39m \u001b[43mtransport\u001b[49m\u001b[38;5;241;43m.\u001b[39;49m\u001b[43mrequest\u001b[49m\u001b[43m(\u001b[49m\n\u001b[1;32m    715\u001b[0m \u001b[43m        \u001b[49m\u001b[43mrequest\u001b[49m\u001b[38;5;241;43m.\u001b[39;49m\u001b[43mmethod\u001b[49m\u001b[38;5;241;43m.\u001b[39;49m\u001b[43mencode\u001b[49m\u001b[43m(\u001b[49m\u001b[43m)\u001b[49m\u001b[43m,\u001b[49m\n\u001b[1;32m    716\u001b[0m \u001b[43m        \u001b[49m\u001b[43mrequest\u001b[49m\u001b[38;5;241;43m.\u001b[39;49m\u001b[43murl\u001b[49m\u001b[38;5;241;43m.\u001b[39;49m\u001b[43mraw\u001b[49m\u001b[43m,\u001b[49m\n\u001b[1;32m    717\u001b[0m \u001b[43m        \u001b[49m\u001b[43mheaders\u001b[49m\u001b[38;5;241;43m=\u001b[39;49m\u001b[43mrequest\u001b[49m\u001b[38;5;241;43m.\u001b[39;49m\u001b[43mheaders\u001b[49m\u001b[38;5;241;43m.\u001b[39;49m\u001b[43mraw\u001b[49m\u001b[43m,\u001b[49m\n\u001b[1;32m    718\u001b[0m \u001b[43m        \u001b[49m\u001b[43mstream\u001b[49m\u001b[38;5;241;43m=\u001b[39;49m\u001b[43mrequest\u001b[49m\u001b[38;5;241;43m.\u001b[39;49m\u001b[43mstream\u001b[49m\u001b[43m,\u001b[49m\n\u001b[1;32m    719\u001b[0m \u001b[43m        \u001b[49m\u001b[43mtimeout\u001b[49m\u001b[38;5;241;43m=\u001b[39;49m\u001b[43mtimeout\u001b[49m\u001b[38;5;241;43m.\u001b[39;49m\u001b[43mas_dict\u001b[49m\u001b[43m(\u001b[49m\u001b[43m)\u001b[49m\u001b[43m,\u001b[49m\n\u001b[1;32m    720\u001b[0m \u001b[43m    \u001b[49m\u001b[43m)\u001b[49m\n\u001b[1;32m    721\u001b[0m \u001b[38;5;28;01mexcept\u001b[39;00m HTTPError \u001b[38;5;28;01mas\u001b[39;00m exc:\n\u001b[1;32m    722\u001b[0m     \u001b[38;5;66;03m# Add the original request to any HTTPError unless\u001b[39;00m\n\u001b[1;32m    723\u001b[0m     \u001b[38;5;66;03m# there'a already a request attached in the case of\u001b[39;00m\n\u001b[1;32m    724\u001b[0m     \u001b[38;5;66;03m# a ProxyError.\u001b[39;00m\n\u001b[1;32m    725\u001b[0m     \u001b[38;5;28;01mif\u001b[39;00m exc\u001b[38;5;241m.\u001b[39m_request \u001b[38;5;129;01mis\u001b[39;00m \u001b[38;5;28;01mNone\u001b[39;00m:\n",
      "File \u001b[0;32m~/.local/lib/python3.8/site-packages/httpcore/_sync/connection_pool.py:152\u001b[0m, in \u001b[0;36mSyncConnectionPool.request\u001b[0;34m(self, method, url, headers, stream, timeout)\u001b[0m\n\u001b[1;32m    149\u001b[0m         logger\u001b[38;5;241m.\u001b[39mtrace(\u001b[38;5;124m\"\u001b[39m\u001b[38;5;124mreuse connection=\u001b[39m\u001b[38;5;132;01m%r\u001b[39;00m\u001b[38;5;124m\"\u001b[39m, connection)\n\u001b[1;32m    151\u001b[0m \u001b[38;5;28;01mtry\u001b[39;00m:\n\u001b[0;32m--> 152\u001b[0m     response \u001b[38;5;241m=\u001b[39m \u001b[43mconnection\u001b[49m\u001b[38;5;241;43m.\u001b[39;49m\u001b[43mrequest\u001b[49m\u001b[43m(\u001b[49m\n\u001b[1;32m    153\u001b[0m \u001b[43m        \u001b[49m\u001b[43mmethod\u001b[49m\u001b[43m,\u001b[49m\u001b[43m \u001b[49m\u001b[43murl\u001b[49m\u001b[43m,\u001b[49m\u001b[43m \u001b[49m\u001b[43mheaders\u001b[49m\u001b[38;5;241;43m=\u001b[39;49m\u001b[43mheaders\u001b[49m\u001b[43m,\u001b[49m\u001b[43m \u001b[49m\u001b[43mstream\u001b[49m\u001b[38;5;241;43m=\u001b[39;49m\u001b[43mstream\u001b[49m\u001b[43m,\u001b[49m\u001b[43m \u001b[49m\u001b[43mtimeout\u001b[49m\u001b[38;5;241;43m=\u001b[39;49m\u001b[43mtimeout\u001b[49m\n\u001b[1;32m    154\u001b[0m \u001b[43m    \u001b[49m\u001b[43m)\u001b[49m\n\u001b[1;32m    155\u001b[0m \u001b[38;5;28;01mexcept\u001b[39;00m NewConnectionRequired:\n\u001b[1;32m    156\u001b[0m     connection \u001b[38;5;241m=\u001b[39m \u001b[38;5;28;01mNone\u001b[39;00m\n",
      "File \u001b[0;32m~/.local/lib/python3.8/site-packages/httpcore/_sync/connection.py:78\u001b[0m, in \u001b[0;36mSyncHTTPConnection.request\u001b[0;34m(self, method, url, headers, stream, timeout)\u001b[0m\n\u001b[1;32m     74\u001b[0m \u001b[38;5;28;01massert\u001b[39;00m \u001b[38;5;28mself\u001b[39m\u001b[38;5;241m.\u001b[39mconnection \u001b[38;5;129;01mis\u001b[39;00m \u001b[38;5;129;01mnot\u001b[39;00m \u001b[38;5;28;01mNone\u001b[39;00m\n\u001b[1;32m     75\u001b[0m logger\u001b[38;5;241m.\u001b[39mtrace(\n\u001b[1;32m     76\u001b[0m     \u001b[38;5;124m\"\u001b[39m\u001b[38;5;124mconnection.request method=\u001b[39m\u001b[38;5;132;01m%r\u001b[39;00m\u001b[38;5;124m url=\u001b[39m\u001b[38;5;132;01m%r\u001b[39;00m\u001b[38;5;124m headers=\u001b[39m\u001b[38;5;132;01m%r\u001b[39;00m\u001b[38;5;124m\"\u001b[39m, method, url, headers\n\u001b[1;32m     77\u001b[0m )\n\u001b[0;32m---> 78\u001b[0m \u001b[38;5;28;01mreturn\u001b[39;00m \u001b[38;5;28;43mself\u001b[39;49m\u001b[38;5;241;43m.\u001b[39;49m\u001b[43mconnection\u001b[49m\u001b[38;5;241;43m.\u001b[39;49m\u001b[43mrequest\u001b[49m\u001b[43m(\u001b[49m\u001b[43mmethod\u001b[49m\u001b[43m,\u001b[49m\u001b[43m \u001b[49m\u001b[43murl\u001b[49m\u001b[43m,\u001b[49m\u001b[43m \u001b[49m\u001b[43mheaders\u001b[49m\u001b[43m,\u001b[49m\u001b[43m \u001b[49m\u001b[43mstream\u001b[49m\u001b[43m,\u001b[49m\u001b[43m \u001b[49m\u001b[43mtimeout\u001b[49m\u001b[43m)\u001b[49m\n",
      "File \u001b[0;32m~/.local/lib/python3.8/site-packages/httpcore/_sync/http2.py:118\u001b[0m, in \u001b[0;36mSyncHTTP2Connection.request\u001b[0;34m(self, method, url, headers, stream, timeout)\u001b[0m\n\u001b[1;32m    116\u001b[0m     \u001b[38;5;28mself\u001b[39m\u001b[38;5;241m.\u001b[39mstreams[stream_id] \u001b[38;5;241m=\u001b[39m h2_stream\n\u001b[1;32m    117\u001b[0m     \u001b[38;5;28mself\u001b[39m\u001b[38;5;241m.\u001b[39mevents[stream_id] \u001b[38;5;241m=\u001b[39m []\n\u001b[0;32m--> 118\u001b[0m     \u001b[38;5;28;01mreturn\u001b[39;00m \u001b[43mh2_stream\u001b[49m\u001b[38;5;241;43m.\u001b[39;49m\u001b[43mrequest\u001b[49m\u001b[43m(\u001b[49m\u001b[43mmethod\u001b[49m\u001b[43m,\u001b[49m\u001b[43m \u001b[49m\u001b[43murl\u001b[49m\u001b[43m,\u001b[49m\u001b[43m \u001b[49m\u001b[43mheaders\u001b[49m\u001b[43m,\u001b[49m\u001b[43m \u001b[49m\u001b[43mstream\u001b[49m\u001b[43m,\u001b[49m\u001b[43m \u001b[49m\u001b[43mtimeout\u001b[49m\u001b[43m)\u001b[49m\n\u001b[1;32m    119\u001b[0m \u001b[38;5;28;01mexcept\u001b[39;00m \u001b[38;5;167;01mException\u001b[39;00m:\n\u001b[1;32m    120\u001b[0m     \u001b[38;5;28mself\u001b[39m\u001b[38;5;241m.\u001b[39mmax_streams_semaphore\u001b[38;5;241m.\u001b[39mrelease()\n",
      "File \u001b[0;32m~/.local/lib/python3.8/site-packages/httpcore/_sync/http2.py:292\u001b[0m, in \u001b[0;36mSyncHTTP2Stream.request\u001b[0;34m(self, method, url, headers, stream, timeout)\u001b[0m\n\u001b[1;32m    289\u001b[0m     \u001b[38;5;28mself\u001b[39m\u001b[38;5;241m.\u001b[39msend_body(stream, timeout)\n\u001b[1;32m    291\u001b[0m \u001b[38;5;66;03m# Receive the response.\u001b[39;00m\n\u001b[0;32m--> 292\u001b[0m status_code, headers \u001b[38;5;241m=\u001b[39m \u001b[38;5;28;43mself\u001b[39;49m\u001b[38;5;241;43m.\u001b[39;49m\u001b[43mreceive_response\u001b[49m\u001b[43m(\u001b[49m\u001b[43mtimeout\u001b[49m\u001b[43m)\u001b[49m\n\u001b[1;32m    293\u001b[0m reason_phrase \u001b[38;5;241m=\u001b[39m get_reason_phrase(status_code)\n\u001b[1;32m    294\u001b[0m stream \u001b[38;5;241m=\u001b[39m SyncByteStream(\n\u001b[1;32m    295\u001b[0m     iterator\u001b[38;5;241m=\u001b[39m\u001b[38;5;28mself\u001b[39m\u001b[38;5;241m.\u001b[39mbody_iter(timeout), close_func\u001b[38;5;241m=\u001b[39m\u001b[38;5;28mself\u001b[39m\u001b[38;5;241m.\u001b[39m_response_closed\n\u001b[1;32m    296\u001b[0m )\n",
      "File \u001b[0;32m~/.local/lib/python3.8/site-packages/httpcore/_sync/http2.py:344\u001b[0m, in \u001b[0;36mSyncHTTP2Stream.receive_response\u001b[0;34m(self, timeout)\u001b[0m\n\u001b[1;32m    340\u001b[0m \u001b[38;5;250m\u001b[39m\u001b[38;5;124;03m\"\"\"\u001b[39;00m\n\u001b[1;32m    341\u001b[0m \u001b[38;5;124;03mRead the response status and headers from the network.\u001b[39;00m\n\u001b[1;32m    342\u001b[0m \u001b[38;5;124;03m\"\"\"\u001b[39;00m\n\u001b[1;32m    343\u001b[0m \u001b[38;5;28;01mwhile\u001b[39;00m \u001b[38;5;28;01mTrue\u001b[39;00m:\n\u001b[0;32m--> 344\u001b[0m     event \u001b[38;5;241m=\u001b[39m \u001b[38;5;28;43mself\u001b[39;49m\u001b[38;5;241;43m.\u001b[39;49m\u001b[43mconnection\u001b[49m\u001b[38;5;241;43m.\u001b[39;49m\u001b[43mwait_for_event\u001b[49m\u001b[43m(\u001b[49m\u001b[38;5;28;43mself\u001b[39;49m\u001b[38;5;241;43m.\u001b[39;49m\u001b[43mstream_id\u001b[49m\u001b[43m,\u001b[49m\u001b[43m \u001b[49m\u001b[43mtimeout\u001b[49m\u001b[43m)\u001b[49m\n\u001b[1;32m    345\u001b[0m     \u001b[38;5;28;01mif\u001b[39;00m \u001b[38;5;28misinstance\u001b[39m(event, h2\u001b[38;5;241m.\u001b[39mevents\u001b[38;5;241m.\u001b[39mResponseReceived):\n\u001b[1;32m    346\u001b[0m         \u001b[38;5;28;01mbreak\u001b[39;00m\n",
      "File \u001b[0;32m~/.local/lib/python3.8/site-packages/httpcore/_sync/http2.py:197\u001b[0m, in \u001b[0;36mSyncHTTP2Connection.wait_for_event\u001b[0;34m(self, stream_id, timeout)\u001b[0m\n\u001b[1;32m    195\u001b[0m \u001b[38;5;28;01mwith\u001b[39;00m \u001b[38;5;28mself\u001b[39m\u001b[38;5;241m.\u001b[39mread_lock:\n\u001b[1;32m    196\u001b[0m     \u001b[38;5;28;01mwhile\u001b[39;00m \u001b[38;5;129;01mnot\u001b[39;00m \u001b[38;5;28mself\u001b[39m\u001b[38;5;241m.\u001b[39mevents[stream_id]:\n\u001b[0;32m--> 197\u001b[0m         \u001b[38;5;28;43mself\u001b[39;49m\u001b[38;5;241;43m.\u001b[39;49m\u001b[43mreceive_events\u001b[49m\u001b[43m(\u001b[49m\u001b[43mtimeout\u001b[49m\u001b[43m)\u001b[49m\n\u001b[1;32m    198\u001b[0m \u001b[38;5;28;01mreturn\u001b[39;00m \u001b[38;5;28mself\u001b[39m\u001b[38;5;241m.\u001b[39mevents[stream_id]\u001b[38;5;241m.\u001b[39mpop(\u001b[38;5;241m0\u001b[39m)\n",
      "File \u001b[0;32m~/.local/lib/python3.8/site-packages/httpcore/_sync/http2.py:204\u001b[0m, in \u001b[0;36mSyncHTTP2Connection.receive_events\u001b[0;34m(self, timeout)\u001b[0m\n\u001b[1;32m    200\u001b[0m \u001b[38;5;28;01mdef\u001b[39;00m \u001b[38;5;21mreceive_events\u001b[39m(\u001b[38;5;28mself\u001b[39m, timeout: TimeoutDict) \u001b[38;5;241m-\u001b[39m\u001b[38;5;241m>\u001b[39m \u001b[38;5;28;01mNone\u001b[39;00m:\n\u001b[1;32m    201\u001b[0m \u001b[38;5;250m    \u001b[39m\u001b[38;5;124;03m\"\"\"\u001b[39;00m\n\u001b[1;32m    202\u001b[0m \u001b[38;5;124;03m    Read some data from the network, and update the H2 state.\u001b[39;00m\n\u001b[1;32m    203\u001b[0m \u001b[38;5;124;03m    \"\"\"\u001b[39;00m\n\u001b[0;32m--> 204\u001b[0m     data \u001b[38;5;241m=\u001b[39m \u001b[38;5;28;43mself\u001b[39;49m\u001b[38;5;241;43m.\u001b[39;49m\u001b[43msocket\u001b[49m\u001b[38;5;241;43m.\u001b[39;49m\u001b[43mread\u001b[49m\u001b[43m(\u001b[49m\u001b[38;5;28;43mself\u001b[39;49m\u001b[38;5;241;43m.\u001b[39;49m\u001b[43mREAD_NUM_BYTES\u001b[49m\u001b[43m,\u001b[49m\u001b[43m \u001b[49m\u001b[43mtimeout\u001b[49m\u001b[43m)\u001b[49m\n\u001b[1;32m    205\u001b[0m     events \u001b[38;5;241m=\u001b[39m \u001b[38;5;28mself\u001b[39m\u001b[38;5;241m.\u001b[39mh2_state\u001b[38;5;241m.\u001b[39mreceive_data(data)\n\u001b[1;32m    206\u001b[0m     \u001b[38;5;28;01mfor\u001b[39;00m event \u001b[38;5;129;01min\u001b[39;00m events:\n",
      "File \u001b[0;32m~/.local/lib/python3.8/site-packages/httpcore/_backends/sync.py:62\u001b[0m, in \u001b[0;36mSyncSocketStream.read\u001b[0;34m(self, n, timeout)\u001b[0m\n\u001b[1;32m     60\u001b[0m \u001b[38;5;28;01mwith\u001b[39;00m map_exceptions(exc_map):\n\u001b[1;32m     61\u001b[0m     \u001b[38;5;28mself\u001b[39m\u001b[38;5;241m.\u001b[39msock\u001b[38;5;241m.\u001b[39msettimeout(read_timeout)\n\u001b[0;32m---> 62\u001b[0m     \u001b[38;5;28;01mreturn\u001b[39;00m \u001b[38;5;28;43mself\u001b[39;49m\u001b[38;5;241;43m.\u001b[39;49m\u001b[43msock\u001b[49m\u001b[38;5;241;43m.\u001b[39;49m\u001b[43mrecv\u001b[49m\u001b[43m(\u001b[49m\u001b[43mn\u001b[49m\u001b[43m)\u001b[49m\n",
      "File \u001b[0;32m/usr/lib/python3.8/ssl.py:1226\u001b[0m, in \u001b[0;36mSSLSocket.recv\u001b[0;34m(self, buflen, flags)\u001b[0m\n\u001b[1;32m   1222\u001b[0m     \u001b[38;5;28;01mif\u001b[39;00m flags \u001b[38;5;241m!=\u001b[39m \u001b[38;5;241m0\u001b[39m:\n\u001b[1;32m   1223\u001b[0m         \u001b[38;5;28;01mraise\u001b[39;00m \u001b[38;5;167;01mValueError\u001b[39;00m(\n\u001b[1;32m   1224\u001b[0m             \u001b[38;5;124m\"\u001b[39m\u001b[38;5;124mnon-zero flags not allowed in calls to recv() on \u001b[39m\u001b[38;5;132;01m%s\u001b[39;00m\u001b[38;5;124m\"\u001b[39m \u001b[38;5;241m%\u001b[39m\n\u001b[1;32m   1225\u001b[0m             \u001b[38;5;28mself\u001b[39m\u001b[38;5;241m.\u001b[39m\u001b[38;5;18m__class__\u001b[39m)\n\u001b[0;32m-> 1226\u001b[0m     \u001b[38;5;28;01mreturn\u001b[39;00m \u001b[38;5;28;43mself\u001b[39;49m\u001b[38;5;241;43m.\u001b[39;49m\u001b[43mread\u001b[49m\u001b[43m(\u001b[49m\u001b[43mbuflen\u001b[49m\u001b[43m)\u001b[49m\n\u001b[1;32m   1227\u001b[0m \u001b[38;5;28;01melse\u001b[39;00m:\n\u001b[1;32m   1228\u001b[0m     \u001b[38;5;28;01mreturn\u001b[39;00m \u001b[38;5;28msuper\u001b[39m()\u001b[38;5;241m.\u001b[39mrecv(buflen, flags)\n",
      "File \u001b[0;32m/usr/lib/python3.8/ssl.py:1101\u001b[0m, in \u001b[0;36mSSLSocket.read\u001b[0;34m(self, len, buffer)\u001b[0m\n\u001b[1;32m   1099\u001b[0m         \u001b[38;5;28;01mreturn\u001b[39;00m \u001b[38;5;28mself\u001b[39m\u001b[38;5;241m.\u001b[39m_sslobj\u001b[38;5;241m.\u001b[39mread(\u001b[38;5;28mlen\u001b[39m, buffer)\n\u001b[1;32m   1100\u001b[0m     \u001b[38;5;28;01melse\u001b[39;00m:\n\u001b[0;32m-> 1101\u001b[0m         \u001b[38;5;28;01mreturn\u001b[39;00m \u001b[38;5;28;43mself\u001b[39;49m\u001b[38;5;241;43m.\u001b[39;49m\u001b[43m_sslobj\u001b[49m\u001b[38;5;241;43m.\u001b[39;49m\u001b[43mread\u001b[49m\u001b[43m(\u001b[49m\u001b[38;5;28;43mlen\u001b[39;49m\u001b[43m)\u001b[49m\n\u001b[1;32m   1102\u001b[0m \u001b[38;5;28;01mexcept\u001b[39;00m SSLError \u001b[38;5;28;01mas\u001b[39;00m x:\n\u001b[1;32m   1103\u001b[0m     \u001b[38;5;28;01mif\u001b[39;00m x\u001b[38;5;241m.\u001b[39margs[\u001b[38;5;241m0\u001b[39m] \u001b[38;5;241m==\u001b[39m SSL_ERROR_EOF \u001b[38;5;129;01mand\u001b[39;00m \u001b[38;5;28mself\u001b[39m\u001b[38;5;241m.\u001b[39msuppress_ragged_eofs:\n",
      "\u001b[0;31mKeyboardInterrupt\u001b[0m: "
     ]
    }
   ],
   "source": [
    "from googletrans import Translator\n",
    "\n",
    "translator = Translator()\n",
    "translated_text = []\n",
    "for i in tqdm(range(5000)):\n",
    "    image, captions = coco_train[i]\n",
    "    text = captions[0]['caption']\n",
    "    translated_text.append(translator.translate(text, dest=\"ru\", src=\"en\").text)"
   ]
  },
  {
   "cell_type": "code",
   "execution_count": 68,
   "id": "7e285ca7-6157-4007-acd2-387e516fe7d4",
   "metadata": {},
   "outputs": [
    {
     "name": "stderr",
     "output_type": "stream",
     "text": [
      "100%|██████████| 1000/1000 [04:04<00:00,  4.09it/s]\n"
     ]
    }
   ],
   "source": [
    "scores_coco = []\n",
    "for i in tqdm(range(1000)):\n",
    "    image, captions = coco_train[i]\n",
    "    name = str(captions[0]['image_id'])\n",
    "    name = \"0\" * (12 - len(name)) + name\n",
    "    name = f\"coco_dataset/train2017/{name}.jpg\"\n",
    "    text = translated_text[i]\n",
    "    try:\n",
    "        cocoScore = metric(read_image(name), text)\n",
    "        if cocoScore.detach() > 15:\n",
    "            scores_coco.append(cocoScore.detach())\n",
    "    except:\n",
    "        #print(f\"exception on {i}\")\n",
    "        pass\n",
    "mean_coco = sum(scores_coco) / len(scores_coco)"
   ]
  },
  {
   "cell_type": "code",
   "execution_count": 69,
   "id": "9d4a7a51-53eb-4888-9222-a2f06397da11",
   "metadata": {},
   "outputs": [
    {
     "data": {
      "text/plain": [
       "0.913"
      ]
     },
     "execution_count": 69,
     "metadata": {},
     "output_type": "execute_result"
    }
   ],
   "source": [
    "len(scores_coco) / 1000 # процент норм переведенных описаний"
   ]
  },
  {
   "cell_type": "code",
   "execution_count": 67,
   "id": "257d74ac-abcd-4a99-bd79-01c5438ac818",
   "metadata": {},
   "outputs": [
    {
     "data": {
      "text/plain": [
       "tensor(18.9519)"
      ]
     },
     "execution_count": 67,
     "metadata": {},
     "output_type": "execute_result"
    }
   ],
   "source": [
    "mean_coco # оценка переведенного coco"
   ]
  },
  {
   "cell_type": "markdown",
   "id": "cd14af54-e66a-482a-a058-c31a7203b88f",
   "metadata": {},
   "source": [
    "# Перевод coco"
   ]
  },
  {
   "cell_type": "code",
   "execution_count": 19,
   "id": "82baa95d-68dc-493c-a336-f78c2d0f0311",
   "metadata": {},
   "outputs": [],
   "source": [
    "n = 20000\n",
    "coco_translation = []"
   ]
  },
  {
   "cell_type": "code",
   "execution_count": 25,
   "id": "632c243b-9f78-4446-8b87-52667eff2fbf",
   "metadata": {},
   "outputs": [
    {
     "data": {
      "text/plain": [
       "11218"
      ]
     },
     "execution_count": 25,
     "metadata": {},
     "output_type": "execute_result"
    }
   ],
   "source": [
    "len(coco_translation)"
   ]
  },
  {
   "cell_type": "code",
   "execution_count": 27,
   "id": "a9ce2937-2445-447f-a1a2-2ca3fd59e696",
   "metadata": {
    "tags": []
   },
   "outputs": [
    {
     "name": "stderr",
     "output_type": "stream",
     "text": [
      "\n",
      "  0%|          | 0/8781 [00:00<?, ?it/s]\u001b[A\n",
      "  0%|          | 1/8781 [00:04<12:05:57,  4.96s/it]\u001b[A\n",
      "  0%|          | 2/8781 [00:11<15:01:25,  6.16s/it]\u001b[A\n",
      "  0%|          | 3/8781 [00:17<14:41:45,  6.03s/it]\u001b[A\n",
      "  0%|          | 4/8781 [00:26<16:55:30,  6.94s/it]\u001b[A\n",
      "  0%|          | 5/8781 [00:40<23:15:59,  9.54s/it]\u001b[A\n",
      "  0%|          | 6/8781 [00:58<30:07:40, 12.36s/it]\u001b[A\n",
      "  0%|          | 7/8781 [01:06<26:37:27, 10.92s/it]\u001b[A\n",
      "  0%|          | 8/8781 [01:14<24:31:35, 10.06s/it]\u001b[A\n",
      "  0%|          | 9/8781 [01:19<20:48:35,  8.54s/it]\u001b[A\n",
      "  0%|          | 10/8781 [01:24<18:12:22,  7.47s/it]\u001b[A\n",
      "  0%|          | 11/8781 [01:31<17:29:03,  7.18s/it]\u001b[A\n",
      "  0%|          | 12/8781 [01:38<17:47:27,  7.30s/it]\u001b[A\n",
      "  0%|          | 13/8781 [01:46<18:10:13,  7.46s/it]\u001b[A\n",
      "  0%|          | 14/8781 [01:52<17:10:48,  7.05s/it]\u001b[A\n",
      "  0%|          | 15/8781 [01:58<16:00:59,  6.58s/it]\u001b[A\n",
      "  0%|          | 16/8781 [02:03<15:29:04,  6.36s/it]\u001b[A\n",
      "  0%|          | 17/8781 [02:13<17:35:20,  7.23s/it]\u001b[A\n",
      "  0%|          | 18/8781 [02:19<17:09:29,  7.05s/it]\u001b[A\n",
      "  0%|          | 19/8781 [02:25<16:08:58,  6.64s/it]\u001b[A\n",
      "  0%|          | 20/8781 [02:43<24:21:06, 10.01s/it]\u001b[A\n",
      "  0%|          | 21/8781 [02:50<22:08:06,  9.10s/it]\u001b[A\n",
      "  0%|          | 22/8781 [02:58<21:22:56,  8.79s/it]\u001b[A\n",
      "  0%|          | 23/8781 [03:05<19:51:57,  8.17s/it]\u001b[A\n",
      "  0%|          | 24/8781 [03:14<20:26:23,  8.40s/it]\u001b[A\n",
      "  0%|          | 25/8781 [03:21<19:47:55,  8.14s/it]\u001b[A\n",
      "  0%|          | 26/8781 [03:37<25:36:53, 10.53s/it]\u001b[A\n",
      "  0%|          | 27/8781 [04:01<35:13:43, 14.49s/it]\u001b[A\n",
      "  0%|          | 28/8781 [04:23<40:59:26, 16.86s/it]\u001b[A\n",
      "  0%|          | 29/8781 [04:47<24:07:34,  9.92s/it]\u001b[A\n",
      "\n",
      "KeyboardInterrupt\n",
      "\n"
     ]
    }
   ],
   "source": [
    "from googletrans import Translator\n",
    "import json\n",
    "\n",
    "translator = Translator()\n",
    "for i in tqdm(range(len(coco_translation), n)):\n",
    "    image, captions = coco_train[i]\n",
    "    name = str(captions[0]['image_id'])\n",
    "    name = \"0\" * (12 - len(name)) + name\n",
    "    name = f\"coco_dataset/train2017/{name}.jpg\"\n",
    "    translated_captions = []\n",
    "    for cur_cap in captions:\n",
    "        text = translator.translate(cur_cap['caption'], dest=\"ru\", src=\"en\").text\n",
    "        try:\n",
    "            cocoScore = metric(read_image(name), text)\n",
    "            if cocoScore.detach() > 15:\n",
    "                translated_captions.append(text)\n",
    "        except:\n",
    "            #print(f\"exception on {i}\")\n",
    "            pass\n",
    "    coco_translation.append(translated_captions)\n",
    "    if i % 1000 == 0:\n",
    "        with open('coco_dataset/coco_captions_russian.json', 'w', encoding='utf-8') as f:\n",
    "            json.dump(coco_translation, f, ensure_ascii=False, indent=4)"
   ]
  },
  {
   "cell_type": "code",
   "execution_count": 24,
   "id": "db84a3da-f865-42bc-86bc-8ed832eef8b7",
   "metadata": {},
   "outputs": [],
   "source": [
    "with open('coco_dataset/coco_captions_russian.json', 'w', encoding='utf-8') as f:\n",
    "    json.dump(coco_translation, f, ensure_ascii=False, indent=4)"
   ]
  },
  {
   "cell_type": "code",
   "execution_count": 74,
   "id": "377a682b-d48a-44fd-a29d-6e39f2edb2b3",
   "metadata": {
    "tags": []
   },
   "outputs": [],
   "source": [
    "# images = torch.load('wiki_img_tensor.pt')\n",
    "# '''images = []\n",
    "# exceptions = []\n",
    "# captions = df.caption_reference_description\n",
    "# for i in tqdm(df.index.tolist()):\n",
    "#     try:\n",
    "#         images.append(read_image(\"wiki_dataset/images/image_\" + str(i) + \".jpg\"))\n",
    "#     except KeyboardInterrupt:\n",
    "#         print(\"stop\")\n",
    "#         break\n",
    "#     except:\n",
    "#         exceptions.append(i)\n",
    "#         print(f\"exception on {i}\")\n",
    "# torch.save(images, 'wiki_img_tensor.pt')'''"
   ]
  },
  {
   "cell_type": "code",
   "execution_count": 21,
   "id": "002fa22c-7a79-4f17-9c4a-6f8d881b055d",
   "metadata": {},
   "outputs": [
    {
     "data": {
      "text/plain": [
       "9275"
      ]
     },
     "execution_count": 21,
     "metadata": {},
     "output_type": "execute_result"
    }
   ],
   "source": [
    "# captions = [captions[i] for i in captions.index if i not in [18358, 19767, 24105]]\n",
    "# len(captions)"
   ]
  },
  {
   "cell_type": "code",
   "execution_count": null,
   "id": "f607b8d0-68c3-4674-bb19-9ceb9a7e3189",
   "metadata": {},
   "outputs": [],
   "source": []
  }
 ],
 "metadata": {
  "kernelspec": {
   "display_name": "Python 3 (ipykernel)",
   "language": "python",
   "name": "python3"
  },
  "language_info": {
   "codemirror_mode": {
    "name": "ipython",
    "version": 3
   },
   "file_extension": ".py",
   "mimetype": "text/x-python",
   "name": "python",
   "nbconvert_exporter": "python",
   "pygments_lexer": "ipython3",
   "version": "3.8.10"
  }
 },
 "nbformat": 4,
 "nbformat_minor": 5
}
