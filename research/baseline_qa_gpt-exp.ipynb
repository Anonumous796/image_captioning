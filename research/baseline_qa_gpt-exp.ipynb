{
 "cells": [
  {
   "cell_type": "code",
   "execution_count": 1,
   "metadata": {},
   "outputs": [
    {
     "data": {
      "text/plain": [
       "31.74853515625"
      ]
     },
     "execution_count": 1,
     "metadata": {},
     "output_type": "execute_result"
    }
   ],
   "source": [
    "import torch\n",
    "torch.cuda.mem_get_info()[1] / 1024**3"
   ]
  },
  {
   "cell_type": "markdown",
   "metadata": {
    "id": "Sr02cZy9qruB",
    "jp-MarkdownHeadingCollapsed": true,
    "tags": []
   },
   "source": [
    "# Установим все что нужно"
   ]
  },
  {
   "cell_type": "code",
   "execution_count": 2,
   "metadata": {
    "id": "Lfqn0JUzp_mq"
   },
   "outputs": [],
   "source": [
    "%%capture\n",
    "!pip install wandb\n",
    "!pip install transformers==4.26.1\n",
    "!pip install git+https://github.com/openai/CLIP.git\n",
    "!pip install nltk\n",
    "!pip install git+https://github.com/PytorchLightning/pytorch-lightning-bolts.git@master --upgrade"
   ]
  },
  {
   "cell_type": "code",
   "execution_count": 3,
   "metadata": {
    "id": "qN1_9NDBgNY3"
   },
   "outputs": [
    {
     "name": "stderr",
     "output_type": "stream",
     "text": [
      "[nltk_data] Downloading package wordnet to /home/alexw/nltk_data...\n",
      "[nltk_data]   Package wordnet is already up-to-date!\n",
      "[nltk_data] Downloading package omw-1.4 to /home/alexw/nltk_data...\n",
      "[nltk_data]   Package omw-1.4 is already up-to-date!\n"
     ]
    },
    {
     "data": {
      "text/plain": [
       "True"
      ]
     },
     "execution_count": 3,
     "metadata": {},
     "output_type": "execute_result"
    }
   ],
   "source": [
    "import nltk\n",
    "\n",
    "nltk.download('wordnet')\n",
    "nltk.download('omw-1.4')"
   ]
  },
  {
   "cell_type": "code",
   "execution_count": 4,
   "metadata": {
    "colab": {
     "base_uri": "https://localhost:8080/"
    },
    "id": "ntv7bT5CuArw",
    "outputId": "6cf60016-359b-4a9a-cfc3-ea5ac2ec2ec2"
   },
   "outputs": [
    {
     "name": "stdout",
     "output_type": "stream",
     "text": [
      "Looking in indexes: https://pypi.org/simple, https://pypi.ngc.nvidia.com\n",
      "Requirement already satisfied: bitsandbytes in /home/alexw/.local/lib/python3.8/site-packages (0.34.0)\n"
     ]
    }
   ],
   "source": [
    "!pip install bitsandbytes"
   ]
  },
  {
   "cell_type": "markdown",
   "metadata": {
    "id": "9OF4wBSprQrn",
    "jp-MarkdownHeadingCollapsed": true,
    "tags": []
   },
   "source": [
    "# setup loger"
   ]
  },
  {
   "cell_type": "code",
   "execution_count": 5,
   "metadata": {},
   "outputs": [
    {
     "name": "stderr",
     "output_type": "stream",
     "text": [
      "Failed to detect the name of this notebook, you can set it manually with the WANDB_NOTEBOOK_NAME environment variable to enable code saving.\n",
      "\u001b[34m\u001b[1mwandb\u001b[0m: Currently logged in as: \u001b[33malexwortega\u001b[0m. Use \u001b[1m`wandb login --relogin`\u001b[0m to force relogin\n"
     ]
    },
    {
     "data": {
      "text/plain": [
       "True"
      ]
     },
     "execution_count": 5,
     "metadata": {},
     "output_type": "execute_result"
    }
   ],
   "source": [
    "import wandb\n",
    "wandb.login()"
   ]
  },
  {
   "cell_type": "markdown",
   "metadata": {
    "id": "cuJHJbAD5SJB",
    "jp-MarkdownHeadingCollapsed": true,
    "tags": []
   },
   "source": [
    "# Загрузим данные"
   ]
  },
  {
   "cell_type": "markdown",
   "metadata": {
    "jp-MarkdownHeadingCollapsed": true,
    "tags": []
   },
   "source": [
    "## wiki data"
   ]
  },
  {
   "cell_type": "code",
   "execution_count": 6,
   "metadata": {
    "colab": {
     "background_save": true
    },
    "id": "MDb2vpSfujFA",
    "tags": []
   },
   "outputs": [
    {
     "data": {
      "text/plain": [
       "Int64Index([    0,     5,     8,    15,    16,    22,    23,    30,    32,\n",
       "               33,\n",
       "            ...\n",
       "            27527, 27528, 27531, 27532, 27534, 27535, 27539, 27540, 27541,\n",
       "            27545],\n",
       "           dtype='int64', name='Unnamed: 0', length=9278)"
      ]
     },
     "execution_count": 6,
     "metadata": {},
     "output_type": "execute_result"
    }
   ],
   "source": [
    "import pandas as pd\n",
    "\n",
    "df = pd.read_csv('data/wiki_dataset/rus_wikitext_10k_caption_reference_description_train.csv', index_col=0)\n",
    "\n",
    "df.index"
   ]
  },
  {
   "cell_type": "markdown",
   "metadata": {
    "jp-MarkdownHeadingCollapsed": true,
    "tags": []
   },
   "source": [
    "## coco data"
   ]
  },
  {
   "cell_type": "code",
   "execution_count": 5,
   "metadata": {},
   "outputs": [],
   "source": [
    "import torchvision.datasets as dset"
   ]
  },
  {
   "cell_type": "code",
   "execution_count": 6,
   "metadata": {},
   "outputs": [
    {
     "name": "stdout",
     "output_type": "stream",
     "text": [
      "loading annotations into memory...\n",
      "Done (t=0.61s)\n",
      "creating index...\n",
      "index created!\n"
     ]
    }
   ],
   "source": [
    "coco_train = dset.CocoDetection(root = \"data/coco_dataset/train2014\",\n",
    "                                annFile = \"data/coco_dataset/annotations/captions_train2014.json\")"
   ]
  },
  {
   "cell_type": "code",
   "execution_count": 7,
   "metadata": {},
   "outputs": [],
   "source": [
    "import json\n",
    "with open('data/coco_dataset/captions_ru_train.json', 'r') as f:\n",
    "    coco_captions_train = json.load(f)"
   ]
  },
  {
   "cell_type": "code",
   "execution_count": 8,
   "metadata": {},
   "outputs": [
    {
     "data": {
      "text/plain": [
       "82783"
      ]
     },
     "execution_count": 8,
     "metadata": {},
     "output_type": "execute_result"
    }
   ],
   "source": [
    "len(coco_train)"
   ]
  },
  {
   "cell_type": "code",
   "execution_count": 9,
   "metadata": {},
   "outputs": [
    {
     "data": {
      "text/plain": [
       "82783"
      ]
     },
     "execution_count": 9,
     "metadata": {},
     "output_type": "execute_result"
    }
   ],
   "source": [
    "len(coco_captions_train)"
   ]
  },
  {
   "cell_type": "markdown",
   "metadata": {
    "id": "3aw6fIYF5tqm",
    "jp-MarkdownHeadingCollapsed": true,
    "tags": []
   },
   "source": [
    "# Код модели"
   ]
  },
  {
   "cell_type": "code",
   "execution_count": 5,
   "metadata": {},
   "outputs": [],
   "source": [
    "gpt_model_name = 'sberbank-ai/rugpt3medium_based_on_gpt2'"
   ]
  },
  {
   "cell_type": "code",
   "execution_count": 6,
   "metadata": {
    "id": "HMJmWwopulkH"
   },
   "outputs": [],
   "source": [
    "import torch\n",
    "import torch.nn as nn\n",
    "from torch.nn import functional as nnf\n",
    "from torch.utils.data import Dataset, DataLoader\n",
    "from transformers import GPT2Tokenizer, GPT2LMHeadModel\n",
    "from transformers import AdamW, get_linear_schedule_with_warmup\n",
    "from tqdm import tqdm, trange\n",
    "import os\n",
    "import pickle\n",
    "import sys\n",
    "import argparse\n",
    "import json\n",
    "from typing import Tuple, Optional, Union\n",
    "from torch.cuda.amp import autocast\n",
    "from multilingual_clip import pt_multilingual_clip\n",
    "\n",
    "\n",
    "import clip, open_clip\n",
    "\n",
    "\n",
    "class MLP(nn.Module):\n",
    "    def __init__(self, sizes: Tuple[int, ...], bias=True, act=nn.Tanh):\n",
    "        super(MLP, self).__init__()\n",
    "        layers = []\n",
    "        for i in range(len(sizes) - 1):\n",
    "            layers.append(nn.Linear(sizes[i], sizes[i + 1], bias=bias))\n",
    "            if i < len(sizes) - 2:\n",
    "                layers.append(act())\n",
    "        self.model = nn.Sequential(*layers)\n",
    "    \n",
    "    @autocast()  \n",
    "    def forward(self, x: torch.Tensor) -> torch.Tensor:\n",
    "        return self.model(x)\n",
    "\n",
    "    \n",
    "def freeze(\n",
    "    model,\n",
    "    freeze_emb=False,\n",
    "    freeze_ln=False,\n",
    "    freeze_attn=True,\n",
    "    freeze_ff=True,\n",
    "    freeze_other=False,\n",
    "):\n",
    "    \n",
    "    for name, p in model.named_parameters():\n",
    "    # freeze all parameters except the layernorm and positional embeddings\n",
    "        name = name.lower()\n",
    "        if 'ln' in name or 'norm' in name:\n",
    "            p.requires_grad = not freeze_ln\n",
    "        elif 'embeddings' in name:\n",
    "            p.requires_grad = not freeze_emb\n",
    "        elif 'mlp' in name:\n",
    "            p.requires_grad = not freeze_ff\n",
    "        elif 'attn' in name:\n",
    "            p.requires_grad = not freeze_attn\n",
    "        else:\n",
    "            p.requires_grad = not freeze_other\n",
    "           \n",
    "    return model\n",
    "\n",
    "class ClipCaptionModel(nn.Module):\n",
    "    def __init__(self, prefix_length: int, prefix_size: int = 640):\n",
    "        super(ClipCaptionModel, self).__init__()\n",
    "        self.prefix_length = prefix_length\n",
    "        \"\"\"\n",
    "        ru gpts shit\n",
    "\n",
    "        \"\"\"\n",
    "        self.gpt = GPT2LMHeadModel.from_pretrained(gpt_model_name)\n",
    "\n",
    "        self.gpt_embedding_size = self.gpt.transformer.wte.weight.shape[1]\n",
    "        self.clip_project = MLP((prefix_size, (self.gpt_embedding_size * prefix_length) // 2,\n",
    "                              self.gpt_embedding_size * prefix_length))\n",
    "        \n",
    "    def get_dummy_token(self, batch_size: int, device: torch.device) -> torch.Tensor:\n",
    "        return torch.zeros(batch_size, self.prefix_length, dtype=torch.int64, device=device)\n",
    "    \n",
    "    @autocast() \n",
    "    def forward(self, tokens: torch.Tensor, prefix: torch.Tensor, mask: Optional[torch.Tensor] = None,\n",
    "                labels: Optional[torch.Tensor] = None):\n",
    "        embedding_text = self.gpt.transformer.wte(tokens)\n",
    "        \n",
    "        prefix_projections = self.clip_project(prefix.float()).view(-1, self.prefix_length, self.gpt_embedding_size)\n",
    "\n",
    "        embedding_cat = torch.cat((prefix_projections, embedding_text), dim=1)\n",
    "        if labels is not None:\n",
    "            dummy_token = self.get_dummy_token(tokens.shape[0], tokens.device)\n",
    "            labels = torch.cat((dummy_token, tokens), dim=1)\n",
    "        out = self.gpt(inputs_embeds=embedding_cat, labels=labels, attention_mask=mask)\n",
    "        \n",
    "        return out\n",
    "\n",
    "\n",
    "class ClipCaptionPrefix(ClipCaptionModel):\n",
    "    def parameters(self, recurse: bool = True):\n",
    "        return self.clip_project.parameters()\n",
    "\n",
    "    def train(self, mode: bool = True):\n",
    "        super(ClipCaptionPrefix, self).train(mode)\n",
    "        self.gpt.eval()\n",
    "        return self\n"
   ]
  },
  {
   "cell_type": "code",
   "execution_count": 7,
   "metadata": {
    "colab": {
     "background_save": true,
     "base_uri": "https://localhost:8080/",
     "height": 178,
     "referenced_widgets": [
      "e79cd3ed7e594b878fed850889aef498",
      "2d71ebf4fab64597b0e68f66bd483612",
      "d86b19053ecf458e94eaefb05d1e7888"
     ]
    },
    "id": "3fH4sAdJuqYO",
    "outputId": "4c47d541-257c-43d2-e184-9e7c0978e786"
   },
   "outputs": [],
   "source": [
    "device = 'cuda:1'\n",
    "\n",
    "tokenizer = GPT2Tokenizer.from_pretrained(gpt_model_name)"
   ]
  },
  {
   "cell_type": "code",
   "execution_count": 8,
   "metadata": {},
   "outputs": [],
   "source": [
    "clip_model, _, preprocess = open_clip.create_model_and_transforms('ViT-B-16-plus-240', pretrained=\"laion400m_e32\")\n",
    "clip_model.to(device)\n",
    "None"
   ]
  },
  {
   "cell_type": "markdown",
   "metadata": {
    "id": "ZJSkdN-4us_I",
    "jp-MarkdownHeadingCollapsed": true,
    "tags": []
   },
   "source": [
    "# Подготовим данные"
   ]
  },
  {
   "cell_type": "markdown",
   "metadata": {
    "jp-MarkdownHeadingCollapsed": true,
    "tags": []
   },
   "source": [
    "## Считываем изображения"
   ]
  },
  {
   "cell_type": "code",
   "execution_count": 48,
   "metadata": {},
   "outputs": [],
   "source": [
    "import io\n",
    "import os\n",
    "import PIL\n",
    "import random\n",
    "import numpy as np\n",
    "import torch\n",
    "import torchvision\n",
    "import transformers\n",
    "import more_itertools\n",
    "import numpy as np\n",
    "import matplotlib.pyplot as plt\n",
    "from tqdm import tqdm\n",
    "import pandas as pd\n",
    "from torch.utils.data import Dataset\n",
    "from tqdm import tqdm\n",
    "from dataclasses import dataclass, field\n",
    "import torchvision.transforms as T\n",
    "import torchvision.transforms.functional as TF\n",
    "import cv2\n",
    "from PIL import Image\n",
    "import pickle\n",
    "from tqdm.contrib import tzip\n",
    "\n",
    "def read_image(path, size=(196, 196)):\n",
    "    image = cv2.imread(path)\n",
    "    \n",
    "    # size = 196, 196\n",
    "    image = Image.fromarray(cv2.cvtColor(image, cv2.COLOR_BGR2RGB))\n",
    "    image.thumbnail(size, Image.Resampling.LANCZOS)\n",
    "    \n",
    "    return image"
   ]
  },
  {
   "cell_type": "code",
   "execution_count": 49,
   "metadata": {},
   "outputs": [
    {
     "data": {
      "image/png": "[encoded data removed]",
      "text/plain": [
       "<PIL.Image.Image image mode=RGB size=196x147>"
      ]
     },
     "execution_count": 49,
     "metadata": {},
     "output_type": "execute_result"
    }
   ],
   "source": [
    "read_image('data/coco_dataset/train2014/COCO_train2014_000000000009.jpg')"
   ]
  },
  {
   "cell_type": "markdown",
   "metadata": {
    "jp-MarkdownHeadingCollapsed": true,
    "tags": []
   },
   "source": [
    "## Считаем эмбеддинги"
   ]
  },
  {
   "cell_type": "code",
   "execution_count": 13,
   "metadata": {},
   "outputs": [],
   "source": [
    "out_path = f\"Features_train_coco_ru_vitb16_82783.pkl\""
   ]
  },
  {
   "cell_type": "markdown",
   "metadata": {
    "jp-MarkdownHeadingCollapsed": true,
    "tags": []
   },
   "source": [
    "### COCO"
   ]
  },
  {
   "cell_type": "markdown",
   "metadata": {},
   "source": [
    "3 запуска по n/3 итераций каждый, чтобы ядро не упало"
   ]
  },
  {
   "cell_type": "code",
   "execution_count": 14,
   "metadata": {},
   "outputs": [
    {
     "data": {
      "text/plain": [
       "(27594, 55188, 82783)"
      ]
     },
     "execution_count": 14,
     "metadata": {},
     "output_type": "execute_result"
    }
   ],
   "source": [
    "len(coco_train)//3, 2*len(coco_train)//3, len(coco_train)"
   ]
  },
  {
   "cell_type": "code",
   "execution_count": 15,
   "metadata": {},
   "outputs": [],
   "source": [
    "all_embeddings = []\n",
    "all_captions = []"
   ]
  },
  {
   "cell_type": "code",
   "execution_count": 16,
   "metadata": {
    "colab": {
     "background_save": true,
     "base_uri": "https://localhost:8080/",
     "height": 84,
     "referenced_widgets": [
      "654c446c626548d69142237a117a932e"
     ]
    },
    "id": "_a6h3-90wayq",
    "outputId": "dfd9c3ea-03f6-41fe-a680-3ba82fcd9282"
   },
   "outputs": [
    {
     "name": "stderr",
     "output_type": "stream",
     "text": [
      "100%|██████████| 27595/27595 [13:31<00:00, 34.01it/s]\n"
     ]
    }
   ],
   "source": [
    "# for coco dataset\n",
    "\n",
    "# for i in tqdm(range(27594)):\n",
    "# for i in tqdm(range(27594, 55188)):\n",
    "for i in tqdm(range(55188, 82783)):\n",
    "# for i in tqdm(range(len(coco_train))):\n",
    "    image = coco_train[i][0]\n",
    "    captions = coco_captions_train[i]\n",
    "    name = str(coco_train[i][1][0]['image_id'])\n",
    "    name = \"0\" * (12 - len(name)) + name\n",
    "    name = f\"data/coco_dataset/train2014/COCO_train2014_{name}.jpg\"\n",
    "    image = read_image(path = name)\n",
    "\n",
    "    image = preprocess(image).unsqueeze(0).to(device)\n",
    "    with torch.no_grad():\n",
    "        prefix = clip_model.encode_image(image).detach().to(device)\n",
    "    for caption in captions:\n",
    "        text = f\"Вопрос: что происходит на изображении? Ответ: {caption['caption']}\"\n",
    "        # TODO: более аккуратный вопрос\n",
    "        all_captions.append(text)\n",
    "        all_embeddings.append(prefix)"
   ]
  },
  {
   "cell_type": "code",
   "execution_count": 17,
   "metadata": {},
   "outputs": [
    {
     "data": {
      "text/plain": [
       "138039"
      ]
     },
     "execution_count": 17,
     "metadata": {},
     "output_type": "execute_result"
    }
   ],
   "source": [
    "len(all_embeddings)"
   ]
  },
  {
   "cell_type": "markdown",
   "metadata": {
    "jp-MarkdownHeadingCollapsed": true,
    "tags": []
   },
   "source": [
    "### Wiki"
   ]
  },
  {
   "cell_type": "code",
   "execution_count": null,
   "metadata": {},
   "outputs": [],
   "source": [
    "# for image_index, caption in tzip(df.index, df.caption_reference_description):\n",
    "#     name = f'data/images/image_{image_index}.jpg'\n",
    "#     text = f\"Вопрос: что изображено на этой картинке? Ответ: {caption}\"\n",
    "#     # TODO: более аккуратный вопрос\n",
    "#     if os.path.exists(name):\n",
    "#         image = read_image(path = name)\n",
    "\n",
    "#         image = preprocess(image).unsqueeze(0).to(device)\n",
    "#         with torch.no_grad():\n",
    "#             prefix = clip_model.encode_image(image).cpu()\n",
    "#         all_embeddings.append(prefix)\n",
    "#         all_captions.append(text)"
   ]
  },
  {
   "cell_type": "code",
   "execution_count": 17,
   "metadata": {},
   "outputs": [
    {
     "name": "stdout",
     "output_type": "stream",
     "text": [
      "Done\n",
      "138038 embeddings saved \n"
     ]
    }
   ],
   "source": [
    "with open(out_path, 'wb') as f:\n",
    "    pickle.dump({\"clip_embedding\": torch.cat(all_embeddings, dim=0), \"captions\": all_captions}, f)\n",
    "\n",
    "print('Done')\n",
    "print(\"%0d embeddings saved \" % len(all_embeddings))"
   ]
  },
  {
   "cell_type": "markdown",
   "metadata": {
    "jp-MarkdownHeadingCollapsed": true,
    "tags": []
   },
   "source": [
    "### Save all COCO"
   ]
  },
  {
   "cell_type": "code",
   "execution_count": 16,
   "metadata": {},
   "outputs": [],
   "source": [
    "path_1 = f\"Features_train_coco_ru_vitb16_27594.pkl\"\n",
    "path_2 = f\"Features_train_coco_ru_vitb16_55188.pkl\"\n",
    "path_3 = f\"Features_train_coco_ru_vitb16_82783.pkl\""
   ]
  },
  {
   "cell_type": "code",
   "execution_count": 17,
   "metadata": {},
   "outputs": [],
   "source": [
    "with open(path_1, 'rb') as f:\n",
    "    data_1 = pickle.load(f)\n",
    "with open(path_2, 'rb') as f:\n",
    "    data_2 = pickle.load(f)\n",
    "with open(path_2, 'rb') as f:\n",
    "    data_3 = pickle.load(f)"
   ]
  },
  {
   "cell_type": "code",
   "execution_count": 18,
   "metadata": {},
   "outputs": [
    {
     "data": {
      "text/plain": [
       "414114"
      ]
     },
     "execution_count": 18,
     "metadata": {},
     "output_type": "execute_result"
    }
   ],
   "source": [
    "import copy\n",
    "\n",
    "data = copy.deepcopy(data_1)\n",
    "data['captions'] += data_2['captions']\n",
    "data['captions'] += data_3['captions']\n",
    "len(data['captions'])"
   ]
  },
  {
   "cell_type": "code",
   "execution_count": 19,
   "metadata": {},
   "outputs": [
    {
     "data": {
      "text/plain": [
       "414114"
      ]
     },
     "execution_count": 19,
     "metadata": {},
     "output_type": "execute_result"
    }
   ],
   "source": [
    "data['clip_embedding'] = torch.cat((data['clip_embedding'], data_2['clip_embedding']))\n",
    "data['clip_embedding'] = torch.cat((data['clip_embedding'], data_3['clip_embedding']))\n",
    "len(data['clip_embedding'])"
   ]
  },
  {
   "cell_type": "code",
   "execution_count": 20,
   "metadata": {},
   "outputs": [],
   "source": [
    "out_path = f\"Features_train_coco_ru_vitb16.pkl\"\n",
    "with open(out_path, 'wb') as f:\n",
    "    pickle.dump(data, f)"
   ]
  },
  {
   "cell_type": "markdown",
   "metadata": {
    "id": "8Z21qx8sE95o",
    "jp-MarkdownHeadingCollapsed": true,
    "tags": []
   },
   "source": [
    "# Класс датасета"
   ]
  },
  {
   "cell_type": "code",
   "execution_count": 6,
   "metadata": {
    "id": "t9Kk0s6DFAIU"
   },
   "outputs": [],
   "source": [
    "class ClipCocoDataset(Dataset):\n",
    "    def __init__(self, data_path: str,  prefix_length=30, model_type = gpt_model_name,\n",
    "                 normalize_prefix=False):\n",
    "        self.tokenizer = GPT2Tokenizer.from_pretrained(model_type)\n",
    "        self.prefix_length = prefix_length\n",
    "        self.normalize_prefix = normalize_prefix\n",
    "        with open(data_path, 'rb') as f:\n",
    "            all_data = pickle.load(f)\n",
    "        print(\"Data size is %0d\" % len(all_data[\"clip_embedding\"]))\n",
    "        sys.stdout.flush()\n",
    "        self.prefixes = all_data[\"clip_embedding\"]\n",
    "        captions_raw = all_data[\"captions\"]\n",
    "        \n",
    "        self.captions = captions_raw\n",
    "        \n",
    "        self.captions_tokens = []\n",
    "        self.caption2embedding = []\n",
    "        max_seq_len = 0\n",
    "        i = 0\n",
    "        for caption in tqdm(captions_raw):\n",
    "                self.captions_tokens.append(torch.tensor(self.tokenizer.encode(caption), dtype=torch.int64))\n",
    "                self.caption2embedding.append(self.prefixes[i])\n",
    "                i += 1\n",
    "                max_seq_len = max(max_seq_len, self.captions_tokens[-1].shape[0])\n",
    "    \n",
    "        all_len = torch.tensor([len(self.captions_tokens[i]) for i in range(len(self))]).float()\n",
    "        self.max_seq_len = min(int(all_len.mean() + all_len.std() * 10), int(all_len.max()))\n",
    "\n",
    "    def pad_tokens(self, item: int):\n",
    "        tokens = self.captions_tokens[item]\n",
    "        padding = self.max_seq_len - tokens.shape[0]\n",
    "        if padding > 0:\n",
    "            tokens = torch.cat((tokens, torch.zeros(padding, dtype=torch.int64) - 1))\n",
    "            self.captions_tokens[item] = tokens\n",
    "        elif padding < 0:\n",
    "            tokens = tokens[:self.max_seq_len]\n",
    "            self.captions_tokens[item] = tokens\n",
    "        mask = tokens.ge(0)  # mask is zero where we out of sequence\n",
    "        tokens[~mask] = 0\n",
    "        mask = mask.float()\n",
    "        mask = torch.cat((torch.ones(self.prefix_length), mask), dim=0)  # adding prefix mask\n",
    "        return tokens, mask\n",
    "    \n",
    "    def __len__(self) -> int:\n",
    "        return len(self.captions_tokens)\n",
    "\n",
    "    def __getitem__(self, item):\n",
    "        tokens, mask = self.pad_tokens(item)\n",
    "        prefix = self.prefixes[item]\n",
    "        if self.normalize_prefix:\n",
    "            prefix = prefix.float()\n",
    "            prefix = prefix / prefix.norm(2, -1)\n",
    "        return tokens, mask, prefix"
   ]
  },
  {
   "cell_type": "markdown",
   "metadata": {
    "id": "LWNbhxVbFTen",
    "jp-MarkdownHeadingCollapsed": true,
    "tags": []
   },
   "source": [
    "# Обучение"
   ]
  },
  {
   "cell_type": "code",
   "execution_count": 7,
   "metadata": {},
   "outputs": [
    {
     "data": {
      "text/plain": [
       "'Tesla V100-SXM2-32GB'"
      ]
     },
     "execution_count": 7,
     "metadata": {},
     "output_type": "execute_result"
    }
   ],
   "source": [
    "torch.cuda.get_device_name(0)"
   ]
  },
  {
   "cell_type": "code",
   "execution_count": 8,
   "metadata": {},
   "outputs": [
    {
     "data": {
      "text/plain": [
       "31.74853515625"
      ]
     },
     "execution_count": 8,
     "metadata": {},
     "output_type": "execute_result"
    }
   ],
   "source": [
    "torch.cuda.mem_get_info()[1] / 1024**3"
   ]
  },
  {
   "cell_type": "code",
   "execution_count": 11,
   "metadata": {
    "colab": {
     "background_save": true,
     "base_uri": "https://localhost:8080/"
    },
    "id": "R9NmdW5cO86e",
    "outputId": "fb76f2d5-58b0-47bf-f693-1ba543306b8f"
   },
   "outputs": [],
   "source": [
    "import bitsandbytes as bnb\n",
    "# при первом импорте будет ошибка, дальше все будет хорошо"
   ]
  },
  {
   "cell_type": "code",
   "execution_count": 10,
   "metadata": {},
   "outputs": [
    {
     "data": {
      "text/html": [
       "wandb version 0.15.0 is available!  To upgrade, please run:\n",
       " $ pip install wandb --upgrade"
      ],
      "text/plain": [
       "<IPython.core.display.HTML object>"
      ]
     },
     "metadata": {},
     "output_type": "display_data"
    },
    {
     "data": {
      "text/html": [
       "Tracking run with wandb version 0.13.10"
      ],
      "text/plain": [
       "<IPython.core.display.HTML object>"
      ]
     },
     "metadata": {},
     "output_type": "display_data"
    },
    {
     "data": {
      "text/html": [
       "Run data is saved locally in <code>/mnt/opt/alexw/Project_Spring/wandb/run-20230423_153448-aq5a4r26</code>"
      ],
      "text/plain": [
       "<IPython.core.display.HTML object>"
      ]
     },
     "metadata": {},
     "output_type": "display_data"
    },
    {
     "data": {
      "text/html": [
       "Syncing run <strong><a href='https://wandb.ai/alexwortega/hse_image_captioning_spring_project/runs/aq5a4r26' target=\"_blank\">misty-rain-66</a></strong> to <a href='https://wandb.ai/alexwortega/hse_image_captioning_spring_project' target=\"_blank\">Weights & Biases</a> (<a href='https://wandb.me/run' target=\"_blank\">docs</a>)<br/>"
      ],
      "text/plain": [
       "<IPython.core.display.HTML object>"
      ]
     },
     "metadata": {},
     "output_type": "display_data"
    },
    {
     "data": {
      "text/html": [
       " View project at <a href='https://wandb.ai/alexwortega/hse_image_captioning_spring_project' target=\"_blank\">https://wandb.ai/alexwortega/hse_image_captioning_spring_project</a>"
      ],
      "text/plain": [
       "<IPython.core.display.HTML object>"
      ]
     },
     "metadata": {},
     "output_type": "display_data"
    },
    {
     "data": {
      "text/html": [
       " View run at <a href='https://wandb.ai/alexwortega/hse_image_captioning_spring_project/runs/aq5a4r26' target=\"_blank\">https://wandb.ai/alexwortega/hse_image_captioning_spring_project/runs/aq5a4r26</a>"
      ],
      "text/plain": [
       "<IPython.core.display.HTML object>"
      ]
     },
     "metadata": {},
     "output_type": "display_data"
    },
    {
     "data": {
      "text/html": [
       "<button onClick=\"this.nextSibling.style.display='block';this.style.display='none';\">Display W&B run</button><iframe src='https://wandb.ai/alexwortega/hse_image_captioning_spring_project/runs/aq5a4r26?jupyter=true' style='border:none;width:100%;height:420px;display:none;'></iframe>"
      ],
      "text/plain": [
       "<wandb.sdk.wandb_run.Run at 0x7f4ad9510a60>"
      ]
     },
     "execution_count": 10,
     "metadata": {},
     "output_type": "execute_result"
    }
   ],
   "source": [
    "import wandb\n",
    "\n",
    "wandb.init(project=\"hse_image_captioning_spring_project\")"
   ]
  },
  {
   "cell_type": "code",
   "execution_count": 12,
   "metadata": {
    "colab": {
     "base_uri": "https://localhost:8080/",
     "height": 655
    },
    "id": "HGP58tNkFCXk",
    "outputId": "b3fbd67a-7585-4150-9744-e799a412da14"
   },
   "outputs": [],
   "source": [
    "import torch\n",
    "import torch.nn as nn\n",
    "from torch.nn import functional as nnf\n",
    "from torch.utils.data import Dataset, DataLoader\n",
    "from transformers import GPT2Tokenizer, GPT2LMHeadModel\n",
    "from transformers import AdamW, get_linear_schedule_with_warmup\n",
    "from transformers.optimization import Adafactor, AdafactorSchedule\n",
    "from tqdm import tqdm\n",
    "import os\n",
    "import pickle\n",
    "import sys\n",
    "import argparse\n",
    "import json\n",
    "from typing import Tuple, Optional, Union\n",
    "from torch.cuda.amp import autocast\n",
    "import bitsandbytes as bnb\n",
    "\n",
    "def train(dataset: ClipCocoDataset, model: ClipCaptionModel, args,\n",
    "          warmup_steps: int = 2000, output_dir: str = \".\", output_prefix: str = \"\"):\n",
    "\n",
    "    device = torch.device('cuda:0')\n",
    "    #\n",
    "    batch_size = args.bs\n",
    "    epochs = args.epochs\n",
    "    if not os.path.exists(output_dir):\n",
    "        os.makedirs(output_dir)\n",
    "    model = freeze(model)\n",
    "    model = model.to(device)\n",
    "\n",
    "    model.train()\n",
    "    optimizer = Adafactor(model.parameters(), lr=args.lr,\n",
    "                         relative_step=False # for adafactor\n",
    "                         )\n",
    "\n",
    "\n",
    "    train_dataloader = DataLoader(dataset, batch_size=batch_size, shuffle=True, drop_last=True)\n",
    "    scheduler = get_linear_schedule_with_warmup(\n",
    "        optimizer, num_warmup_steps=warmup_steps, num_training_steps=epochs * len(train_dataloader)\n",
    "    )\n",
    "    # TODO: add Adafactor scheduler\n",
    "\n",
    "    for epoch in range(epochs):\n",
    "        print(f\">>> Training epoch {epoch}\")\n",
    "        sys.stdout.flush()\n",
    "        progress = tqdm(total=len(train_dataloader), desc=output_prefix)\n",
    "        step=0\n",
    "        for idx, (tokens, mask, prefix) in enumerate(train_dataloader):\n",
    "            model.zero_grad()\n",
    "            step += 1\n",
    "            tokens, mask, prefix = tokens.to(device), mask.to(device), prefix.to(device, dtype=torch.bfloat16)\n",
    "            \n",
    "            outputs = model(tokens, prefix, mask)\n",
    "            logits = outputs.logits[:, dataset.prefix_length - 1: -1]\n",
    "\n",
    "            loss = nnf.cross_entropy(logits.reshape(-1, logits.shape[-1]), tokens.flatten().to(torch.int64), ignore_index=0)\n",
    "\n",
    "            loss.backward()\n",
    "            optimizer.step()\n",
    "            scheduler.step()\n",
    "            optimizer.zero_grad()\n",
    "            progress.set_postfix({\"loss\": loss.item()})\n",
    "            \n",
    "            wandb.log({\"loss\":  loss.item()})\n",
    "            progress.update()\n",
    "\n",
    "            \n",
    "            if (idx + 1) % 7000 == 0:\n",
    "                torch.save(\n",
    "                    model.state_dict(),\n",
    "                    \n",
    "                    os.path.join(output_dir, f\"{output_prefix}_latest_gpt2_medium.pt\"),\n",
    "                )\n",
    "        progress.close()\n",
    "        if epoch % args.save_every == 0:\n",
    "            torch.save(\n",
    "                model.state_dict(),\n",
    "                os.path.join(output_dir, f\"{output_prefix}-{epoch:03d}_gpt2_medium.pt\"),\n",
    "            )\n",
    "    return model\n",
    "\n",
    "class Args():\n",
    "    def __init__(self):\n",
    "        self.backbone = gpt_model_name\n",
    "        self.data = 'Features_train_coco_ru_vitb16.pkl'\n",
    "        self.out_dir = 'checkpoints'\n",
    "        self.prefix = 'prefix_small'\n",
    "        self.epochs = 3\n",
    "        self.save_every = 1\n",
    "        self.prefix_length = 30\n",
    "        self.bs = 2\n",
    "        self.only_prefix = False\n",
    "        self.lr = 2e-5\n",
    "\n",
    "def main():\n",
    "    args = Args()\n",
    "    wandb.config = {\n",
    "      \"learning_rate\": args.lr,\n",
    "      \"epochs\": args.epochs,\n",
    "      \"batch_size\": args.bs\n",
    "    }\n",
    "\n",
    "    prefix_length = args.prefix_length\n",
    "\n",
    "    dataset = ClipCocoDataset(args.data, prefix_length)\n",
    "    \n",
    "    model = ClipCaptionModel(prefix_length)\n",
    "    \n",
    "    print(\"Train both prefix and GPT2\")\n",
    "    sys.stdout.flush()\n",
    "    train(dataset, model, args, output_dir=args.out_dir, output_prefix=args.prefix)"
   ]
  },
  {
   "cell_type": "code",
   "execution_count": null,
   "metadata": {},
   "outputs": [
    {
     "name": "stdout",
     "output_type": "stream",
     "text": [
      "Data size is 414114\n"
     ]
    },
    {
     "name": "stderr",
     "output_type": "stream",
     "text": [
      "100%|██████████| 414114/414114 [02:02<00:00, 3389.13it/s]\n"
     ]
    },
    {
     "name": "stdout",
     "output_type": "stream",
     "text": [
      "Train both prefix and GPT2\n",
      ">>> Training epoch 0\n"
     ]
    },
    {
     "name": "stderr",
     "output_type": "stream",
     "text": [
      "prefix_small:  55%|█████▌    | 114107/207057 [5:59:09<4:51:06,  5.32it/s, loss=1.01]  "
     ]
    }
   ],
   "source": [
    "main()"
   ]
  },
  {
   "cell_type": "markdown",
   "metadata": {
    "id": "MS7Jxgt49xs3",
    "tags": []
   },
   "source": [
    "# Inference"
   ]
  },
  {
   "cell_type": "code",
   "execution_count": 11,
   "metadata": {
    "id": "spzJswyvOaGy"
   },
   "outputs": [
    {
     "name": "stdout",
     "output_type": "stream",
     "text": [
      "CLIP loaded.\n",
      "GPT2 loaded.\n"
     ]
    }
   ],
   "source": [
    "import open_clip\n",
    "from transformers import GPT2Tokenizer\n",
    "device = 'cuda:1'\n",
    "clip_model, _, preprocess = open_clip.create_model_and_transforms('ViT-B-16-plus-240', pretrained=\"laion400m_e32\")\n",
    "clip_model.to(device)\n",
    "print(\"CLIP loaded.\")\n",
    "tokenizer = GPT2Tokenizer.from_pretrained('sberbank-ai/rugpt3medium_based_on_gpt2')\n",
    "prefix_length = 30\n",
    "model_path = 'checkpoints/prefix_small_latest_gpt2_medium.pt'\n",
    "model = ClipCaptionPrefix(prefix_length)\n",
    "model.load_state_dict(torch.load(model_path, map_location='cpu')) \n",
    "model.to(device)\n",
    "model.eval()\n",
    "print(\"GPT2 loaded.\")"
   ]
  },
  {
   "cell_type": "code",
   "execution_count": 12,
   "metadata": {
    "id": "zeoc7DDE962F"
   },
   "outputs": [],
   "source": [
    "def filter_ngrams(output_text):\n",
    "    a_pos = output_text.find(' Ответ:')\n",
    "    sec_a_pos = output_text.find(' Ответ:', a_pos + 1)\n",
    "    return output_text[:sec_a_pos]"
   ]
  },
  {
   "cell_type": "code",
   "execution_count": 13,
   "metadata": {
    "id": "3N4JhHQI-Bhk"
   },
   "outputs": [],
   "source": [
    "def generate2(\n",
    "        model,\n",
    "        tokenizer,\n",
    "        tokens=None,\n",
    "        prompt='',\n",
    "        embed=None,\n",
    "        entry_count=1,\n",
    "        entry_length=67,  # maximum number of words\n",
    "        top_p=0.98,\n",
    "        temperature=1.,\n",
    "        stop_token = '.',\n",
    "):\n",
    "    model.eval()\n",
    "    generated_num = 0\n",
    "    generated_list = []\n",
    "    stop_token_index = tokenizer.encode(stop_token)[0]\n",
    "    filter_value = -float(\"Inf\")\n",
    "    device = next(model.parameters()).device\n",
    "\n",
    "    with torch.no_grad():\n",
    "        for entry_idx in range(entry_count):\n",
    "            if not tokens:\n",
    "                tokens = torch.tensor(tokenizer.encode(prompt))\n",
    "                #print('tokens',tokens)\n",
    "                tokens = tokens.unsqueeze(0).to(device)\n",
    "                    \n",
    "            emb_tokens = model.gpt.transformer.wte(tokens)\n",
    "            \n",
    "            if embed is not None:\n",
    "                generated = torch.cat((embed, emb_tokens), dim=1)\n",
    "            else:\n",
    "                generated = emb_tokens\n",
    "            \n",
    "            for i in range(entry_length):\n",
    "                outputs = model.gpt(inputs_embeds=generated)\n",
    "\n",
    "                logits = outputs.logits\n",
    "                logits = logits[:, -1, :] / (temperature if temperature > 0 else 1.0)\n",
    "                sorted_logits, sorted_indices = torch.sort(logits, descending=True)\n",
    "                cumulative_probs = torch.cumsum(nnf.softmax(sorted_logits, dim=-1), dim=-1)\n",
    "                sorted_indices_to_remove = cumulative_probs > top_p\n",
    "                sorted_indices_to_remove[..., 1:] = sorted_indices_to_remove[..., :-1].clone()\n",
    "                sorted_indices_to_remove[..., 0] = 0\n",
    "\n",
    "                indices_to_remove = sorted_indices[sorted_indices_to_remove]\n",
    "                logits[:, indices_to_remove] = filter_value\n",
    "                \n",
    "                top_k = 2000 \n",
    "                top_p = 0.98\n",
    "                next_token = torch.argmax(logits, -1).unsqueeze(0)\n",
    "                next_token_embed = model.gpt.transformer.wte(next_token)\n",
    "                if tokens is None:\n",
    "                    tokens = next_token\n",
    "                else:\n",
    "                    tokens = torch.cat((tokens, next_token), dim=1)\n",
    "                generated = torch.cat((generated, next_token_embed), dim=1)\n",
    "               \n",
    "                if stop_token_index == next_token.item():\n",
    "                    break\n",
    "                \n",
    "                decoder_inputs_embeds = next_token_embed\n",
    "            \n",
    "            output_list = list(tokens.squeeze().cpu().numpy())\n",
    "            \n",
    "            output_text = tokenizer.decode(output_list)\n",
    "            output_text = filter_ngrams(output_text)\n",
    "            generated_list.append(output_text)\n",
    "\n",
    "    return generated_list[0]"
   ]
  },
  {
   "cell_type": "markdown",
   "metadata": {
    "id": "nSsGl7QcDren",
    "tags": []
   },
   "source": [
    "# Генерируем ответы"
   ]
  },
  {
   "cell_type": "code",
   "execution_count": 51,
   "metadata": {
    "id": "4ap04FvKA2gp"
   },
   "outputs": [
    {
     "name": "stdout",
     "output_type": "stream",
     "text": [
      "loading annotations into memory...\n",
      "Done (t=0.28s)\n",
      "creating index...\n",
      "index created!\n"
     ]
    }
   ],
   "source": [
    "import pandas as pd\n",
    "import torchvision.datasets as dset\n",
    "\n",
    "coco_val = dset.CocoDetection(root = \"data/coco_dataset/val2014\",\n",
    "                                annFile = \"data/coco_dataset/annotations/captions_val2014.json\")"
   ]
  },
  {
   "cell_type": "code",
   "execution_count": 101,
   "metadata": {
    "colab": {
     "background_save": true,
     "base_uri": "https://localhost:8080/"
    },
    "id": "5oop5AwrDuZM",
    "outputId": "3cb15ec6-a879-40f0-ce79-0d0b6e851a62"
   },
   "outputs": [
    {
     "name": "stderr",
     "output_type": "stream",
     "text": [
      "100%|██████████| 5000/5000 [02:07<00:00, 39.27it/s]"
     ]
    },
    {
     "name": "stdout",
     "output_type": "stream",
     "text": [
      "Done\n",
      "5000 embeddings saved \n"
     ]
    },
    {
     "name": "stderr",
     "output_type": "stream",
     "text": [
      "\n"
     ]
    }
   ],
   "source": [
    "out_path = 'Features_val_coco_ru_vitb16.pkl'\n",
    "val_embeddings = []\n",
    "val_captions = []\n",
    "device = 'cuda:1'\n",
    "\n",
    "# for i in tqdm(df_eval.index[:5]):\n",
    "#     text = \"Question: What is happening in this image? Answer: \"\n",
    "#     path = f'data/wiki_dataset/images/image_{i}.jpg'\n",
    "#     # try:\n",
    "#     image = read_image(path)\n",
    "\n",
    "#     image = preprocess(image).unsqueeze(0).to(device)\n",
    "#     with torch.no_grad():\n",
    "#         prefix = clip_model.encode_image(image).to(device, dtype=torch.float32)\n",
    "#         prefix_embed = model.clip_project(prefix).reshape(1, prefix_length, -1)\n",
    "#     val_embeddings.append(prefix)\n",
    "#     val_captions.append(text)\n",
    "#     # except:\n",
    "#     #     pass\n",
    "\n",
    "for i in tqdm(range(5000)):\n",
    "    image, captions = coco_val[i]\n",
    "    name = str(captions[0]['image_id'])\n",
    "    name = \"0\" * (12 - len(name)) + name\n",
    "    name = f\"data/coco_dataset/val2014/COCO_val2014_{name}.jpg\"\n",
    "    image = read_image(name)\n",
    "\n",
    "    image = preprocess(image).unsqueeze(0).to(device)\n",
    "    with torch.no_grad():\n",
    "        prefix = clip_model.encode_image(image).to(device, dtype=torch.float32)\n",
    "    text = f\"Вопрос: что происходит на изображении? Ответ:  \"\n",
    "    # TODO: более аккуратный вопрос\n",
    "    val_captions.append(text)\n",
    "    val_embeddings.append(prefix)\n",
    "    \n",
    "with open(out_path, 'wb') as f:\n",
    "     pickle.dump({'clip_emb': torch.cat(val_embeddings, dim=0), 'captions': val_captions}, f)\n",
    "\n",
    "print('Done')\n",
    "print(\"%0d embeddings saved \" % len(val_embeddings))"
   ]
  },
  {
   "cell_type": "code",
   "execution_count": 102,
   "metadata": {},
   "outputs": [],
   "source": [
    "with open('Features_val_coco_ru_vitb16.pkl', 'rb') as f:\n",
    "     all_data = pickle.load(f)\n",
    "val_embeddings = all_data['clip_emb']\n",
    "val_captions = all_data['captions']"
   ]
  },
  {
   "cell_type": "code",
   "execution_count": 103,
   "metadata": {
    "colab": {
     "background_save": true
    },
    "id": "ECDlVXUXEKGs"
   },
   "outputs": [],
   "source": [
    "def get_caption(prefix, prompt=''):\n",
    "    prefix = prefix.to(device)\n",
    "    with torch.no_grad():\n",
    "        prefix_embed = model.clip_project(prefix).reshape(1, prefix_length, -1)\n",
    "        if prompt:\n",
    "            generated_text_prefix = generate2(model, tokenizer, prompt=prompt, embed=prefix_embed)\n",
    "        else:\n",
    "            generated_text_prefix = generate2(model, tokenizer, embed=prefix_embed)\n",
    "    return generated_text_prefix.replace('\\n',' ')"
   ]
  },
  {
   "cell_type": "code",
   "execution_count": 104,
   "metadata": {
    "colab": {
     "background_save": true
    },
    "id": "RQ9mEO4FD2Cd"
   },
   "outputs": [],
   "source": [
    "def get_ans(clip_emb, prompt):\n",
    "    output = get_caption(clip_emb, prompt=prompt)\n",
    "    ans = output[len(prompt):].strip()\n",
    "    return ans"
   ]
  },
  {
   "cell_type": "code",
   "execution_count": 146,
   "metadata": {},
   "outputs": [
    {
     "data": {
      "image/png": "[encoded data removed]",
      "text/plain": [
       "<PIL.Image.Image image mode=RGB size=196x171>"
      ]
     },
     "execution_count": 146,
     "metadata": {},
     "output_type": "execute_result"
    }
   ],
   "source": [
    "i = 1341\n",
    "name = str(coco_val[i][1][0]['image_id'])\n",
    "name = \"0\" * (12 - len(name)) + name\n",
    "name = f\"data/coco_dataset/val2014/COCO_val2014_{name}.jpg\"\n",
    "read_image(name)"
   ]
  },
  {
   "cell_type": "code",
   "execution_count": 147,
   "metadata": {},
   "outputs": [],
   "source": [
    "# read_image(name, size=(640, 480))"
   ]
  },
  {
   "cell_type": "code",
   "execution_count": 148,
   "metadata": {},
   "outputs": [
    {
     "data": {
      "text/plain": [
       "'Маленький мальчик, стоящий перед печью'"
      ]
     },
     "execution_count": 148,
     "metadata": {},
     "output_type": "execute_result"
    }
   ],
   "source": [
    "emb = val_embeddings[i]\n",
    "cap = val_captions[i]\n",
    "ans = get_ans(emb, cap)\n",
    "ans"
   ]
  },
  {
   "cell_type": "code",
   "execution_count": 100,
   "metadata": {},
   "outputs": [
    {
     "data": {
      "text/plain": [
       "'Сковорода с бутербродом и сыром на ней'"
      ]
     },
     "execution_count": 100,
     "metadata": {},
     "output_type": "execute_result"
    }
   ],
   "source": [
    "# name = f\"data/some experiments and tests/burger.jpg\"\n",
    "# image = read_image(name)\n",
    "\n",
    "# image = preprocess(image).unsqueeze(0).to(device)\n",
    "# with torch.no_grad():\n",
    "#     prefix = clip_model.encode_image(image).to(device, dtype=torch.float32)\n",
    "# text = f\"Вопрос: что происходит на изображении? Ответ:  \"\n",
    "\n",
    "# get_ans(prefix, text)"
   ]
  },
  {
   "cell_type": "code",
   "execution_count": 87,
   "metadata": {
    "colab": {
     "background_save": true
    },
    "id": "-inu57X8D7kc",
    "outputId": "5545f60f-68e5-45a4-b070-db78a3c7cbd0"
   },
   "outputs": [
    {
     "name": "stderr",
     "output_type": "stream",
     "text": [
      "  0%|          | 10/5000 [00:03<25:06,  3.31it/s]\n"
     ]
    },
    {
     "ename": "IndexError",
     "evalue": "list index out of range",
     "output_type": "error",
     "traceback": [
      "\u001b[0;31m---------------------------------------------------------------------------\u001b[0m",
      "\u001b[0;31mIndexError\u001b[0m                                Traceback (most recent call last)",
      "Cell \u001b[0;32mIn[87], line 3\u001b[0m\n\u001b[1;32m      1\u001b[0m answers \u001b[38;5;241m=\u001b[39m []\n\u001b[1;32m      2\u001b[0m \u001b[38;5;28;01mfor\u001b[39;00m i \u001b[38;5;129;01min\u001b[39;00m tqdm(\u001b[38;5;28mrange\u001b[39m(\u001b[38;5;241m5000\u001b[39m)):\n\u001b[0;32m----> 3\u001b[0m     emb \u001b[38;5;241m=\u001b[39m \u001b[43mval_embeddings\u001b[49m\u001b[43m[\u001b[49m\u001b[43mi\u001b[49m\u001b[43m]\u001b[49m\n\u001b[1;32m      4\u001b[0m     cap \u001b[38;5;241m=\u001b[39m val_captions[i]\n\u001b[1;32m      5\u001b[0m     ans \u001b[38;5;241m=\u001b[39m get_ans(emb, cap)\n",
      "\u001b[0;31mIndexError\u001b[0m: list index out of range"
     ]
    }
   ],
   "source": [
    "answers = []\n",
    "for i in tqdm(range(5000)):\n",
    "    emb = val_embeddings[i]\n",
    "    cap = val_captions[i]\n",
    "    ans = get_ans(emb, cap)\n",
    "    answers.append(ans)"
   ]
  },
  {
   "cell_type": "code",
   "execution_count": 68,
   "metadata": {},
   "outputs": [],
   "source": [
    "# answers[: 30]"
   ]
  },
  {
   "cell_type": "code",
   "execution_count": 69,
   "metadata": {
    "id": "QoxPwiL8fhY-"
   },
   "outputs": [],
   "source": [
    "import json\n",
    "with open('results_by_pictures_gpt2_medium_coco_vitb16.json', 'w') as fp:\n",
    "    json.dump(answers, fp)"
   ]
  },
  {
   "cell_type": "code",
   "execution_count": 70,
   "metadata": {
    "id": "A7PEBtu1fvqQ"
   },
   "outputs": [],
   "source": [
    "import json\n",
    "from tqdm.notebook import tqdm\n",
    "import random\n",
    "import pandas as pd\n",
    "import re\n",
    "import nltk.translate.bleu_score as bleu"
   ]
  },
  {
   "cell_type": "code",
   "execution_count": 71,
   "metadata": {
    "id": "3w-OL0CsfznY"
   },
   "outputs": [],
   "source": [
    "with open('results_by_pictures_gpt2_medium_coco_vitb16.json', 'r') as f:\n",
    "    ru_ans = json.load(f)"
   ]
  },
  {
   "cell_type": "code",
   "execution_count": 72,
   "metadata": {
    "id": "wukjNXsQf3Yh"
   },
   "outputs": [],
   "source": [
    "def lus(string):\n",
    "      \n",
    "    # Creating a set to store the last positions of occurrence\n",
    "    seen = {}\n",
    "    maximum_length = 0\n",
    "    max_end = 0\n",
    "    max_start = 0\n",
    "  \n",
    "    # starting the initial point of window to index 0\n",
    "    start = 0\n",
    "      \n",
    "    for end in range(len(string)):\n",
    "  \n",
    "        # Checking if we have already seen the element or not\n",
    "        if string[end] in seen:\n",
    " \n",
    "            # If we have seen the number, move the start pointer\n",
    "            # to position after the last occurrence\n",
    "            start = max(start, seen[string[end]] + 1)\n",
    "  \n",
    "        # Updating the last seen value of the character\n",
    "        seen[string[end]] = end\n",
    "        if end - start + 1 > maximum_length:\n",
    "            maximum_length = end - start + 1\n",
    "            max_end = end + 1\n",
    "            max_start = start\n",
    "        #maximum_length = max(maximum_length, end-start + 2)\n",
    "        \n",
    "    return maximum_length, max_start, max_end\n",
    "\n",
    "def clean_str(string):\n",
    "    maxlen, start, end = lus(string)\n",
    "    #print(maxlen, start, end)\n",
    "    substr = string[start:end]\n",
    "    #print(substr)\n",
    "    first_pos = string.find(substr)\n",
    "    sec_pos = string.find(substr, first_pos + 1)\n",
    "    ans = string[:sec_pos].strip()\n",
    "    if sec_pos == -1:\n",
    "        ans = string[:first_pos + len(substr)].strip()\n",
    "    punto = ans.find('.')\n",
    "    if punto != -1:\n",
    "        ans = ans[:punto]\n",
    "    return ans"
   ]
  },
  {
   "cell_type": "code",
   "execution_count": 73,
   "metadata": {
    "id": "WlHCsWGsf5WD"
   },
   "outputs": [],
   "source": [
    "def lrs(str):\n",
    " \n",
    "    n = len(str)\n",
    "    LCSRe = [[0 for x in range(n + 1)]\n",
    "                for y in range(n + 1)]\n",
    " \n",
    "    res = \"\" # To store result\n",
    "    res_length = 0 # To store length of result\n",
    " \n",
    "    # building table in bottom-up manner\n",
    "    index = 0\n",
    "    for i in range(1, n + 1):\n",
    "        for j in range(i + 1, n + 1):\n",
    "             \n",
    "            # (j-i) > LCSRe[i-1][j-1] to remove\n",
    "            # overlapping\n",
    "            if (str[i - 1] == str[j - 1] and\n",
    "                LCSRe[i - 1][j - 1] < (j - i)):\n",
    "                LCSRe[i][j] = LCSRe[i - 1][j - 1] + 1\n",
    " \n",
    "                # updating maximum length of the\n",
    "                # substring and updating the finishing\n",
    "                # index of the suffix\n",
    "                if (LCSRe[i][j] > res_length):\n",
    "                    res_length = LCSRe[i][j]\n",
    "                    index = max(i, index)\n",
    "                 \n",
    "            else:\n",
    "                LCSRe[i][j] = 0\n",
    " \n",
    "    # If we have non-empty result, then insert\n",
    "    # all characters from first character to\n",
    "    # last character of string\n",
    "    if (res_length > 0):\n",
    "        for i in range(index - res_length + 1,\n",
    "                                    index + 1):\n",
    "            res = res + str[i - 1]\n",
    " \n",
    "    return res\n",
    "\n",
    "\n",
    "def is_b2b(full, sub):\n",
    "    first_oc = full.find(sub)\n",
    "    sec_oc = full.find(sub, first_oc + 1)\n",
    "    if sub == full or sec_oc == (first_oc + len(sub)) or sec_oc == (first_oc + len(sub) + 1):\n",
    "        return True\n",
    "    return False\n",
    "\n",
    "\n",
    "def find_sub(string):\n",
    "    #string = re.sub(' ', '', re_string)\n",
    "    new_res = string\n",
    "    results = [new_res]\n",
    "    while new_res != '':\n",
    "        new_res = lrs(new_res)\n",
    "        results.append(new_res)\n",
    "    i = len(results) - 1\n",
    "    ans = results[i]\n",
    "    while not is_b2b(string, ans) or not len(ans) > 1:\n",
    "        i -= 1\n",
    "        ans = results[i] \n",
    "    return ans\n",
    "    \n",
    "\n",
    "\n",
    "def clean_str_lrs(string):\n",
    "    if len(string) <= 1:\n",
    "        return string\n",
    "    prev_res = find_sub(string)\n",
    "    \n",
    "    pos_sub = string.find(prev_res)\n",
    "    right_pos_sub = string.rfind(prev_res)\n",
    "    \n",
    "    cand_ans_one = string[:pos_sub + len(prev_res)]\n",
    "    cand_ans_two = string[right_pos_sub:]\n",
    "    if len(set(cand_ans_one)) >= len(set(cand_ans_two)):\n",
    "        ans = cand_ans_one\n",
    "    else:\n",
    "        ans = cand_ans_two\n",
    "        \n",
    "    punto_sub = ans.find('.')\n",
    "    if punto_sub != -1:\n",
    "        ans = ans[:punto_sub]\n",
    "    return ans.strip()"
   ]
  },
  {
   "cell_type": "code",
   "execution_count": 74,
   "metadata": {
    "id": "3HJWc7cmf7SA"
   },
   "outputs": [
    {
     "data": {
      "application/vnd.jupyter.widget-view+json": {
       "model_id": "fc9bbe7e448f483882ac5cc58470f9de",
       "version_major": 2,
       "version_minor": 0
      },
      "text/plain": [
       "  0%|          | 0/5000 [00:00<?, ?it/s]"
      ]
     },
     "metadata": {},
     "output_type": "display_data"
    }
   ],
   "source": [
    "for i in tqdm(range(len(ru_ans))):\n",
    "    ans = ru_ans[i]\n",
    "    ans = clean_str_lrs(ans)\n",
    "    ru_ans[i] = ans"
   ]
  },
  {
   "cell_type": "code",
   "execution_count": 75,
   "metadata": {},
   "outputs": [],
   "source": [
    "ru_ans = ru_ans[: 5000]"
   ]
  },
  {
   "cell_type": "code",
   "execution_count": 76,
   "metadata": {
    "id": "4wp_Ji05f9Rn"
   },
   "outputs": [],
   "source": [
    "with open('cleaned_results_gpt_medium_coco.json', 'w') as fp:\n",
    "    json.dump(ru_ans, fp)"
   ]
  },
  {
   "cell_type": "code",
   "execution_count": 77,
   "metadata": {
    "colab": {
     "base_uri": "https://localhost:8080/",
     "height": 219
    },
    "id": "mZ_oWRP_f-l_",
    "outputId": "0606d12c-1b31-491e-974c-92a620159f65"
   },
   "outputs": [
    {
     "name": "stdout",
     "output_type": "stream",
     "text": [
      "0\n"
     ]
    }
   ],
   "source": [
    "counter = 0\n",
    "for i in range(len(ru_ans)):\n",
    "    if ru_ans[i] == '':\n",
    "        counter += 1\n",
    "print(counter)"
   ]
  },
  {
   "cell_type": "code",
   "execution_count": 78,
   "metadata": {},
   "outputs": [],
   "source": [
    "import json\n",
    "with open('data/coco_dataset/captions_ru_val.json', 'r') as f:\n",
    "    coco_captions_val = json.load(f)"
   ]
  },
  {
   "cell_type": "code",
   "execution_count": 79,
   "metadata": {},
   "outputs": [
    {
     "data": {
      "application/vnd.jupyter.widget-view+json": {
       "model_id": "b5939d246ba74e3f901f83fd924362eb",
       "version_major": 2,
       "version_minor": 0
      },
      "text/plain": [
       "  0%|          | 0/5000 [00:00<?, ?it/s]"
      ]
     },
     "metadata": {},
     "output_type": "display_data"
    }
   ],
   "source": [
    "results = []\n",
    "exceptions = []\n",
    "for i in tqdm(range(len(coco_val))[:5000]):\n",
    "    captions = coco_captions_val[i]\n",
    "    if len(captions) == 0:\n",
    "        exceptions.append(i)\n",
    "        continue\n",
    "    results.append(captions[0]['caption'])"
   ]
  },
  {
   "cell_type": "code",
   "execution_count": 80,
   "metadata": {},
   "outputs": [
    {
     "data": {
      "text/plain": [
       "3779"
      ]
     },
     "execution_count": 80,
     "metadata": {},
     "output_type": "execute_result"
    }
   ],
   "source": [
    "len(results)"
   ]
  },
  {
   "cell_type": "code",
   "execution_count": 81,
   "metadata": {},
   "outputs": [],
   "source": [
    "with open('captions_coco_val.json', 'w') as fp:\n",
    "    json.dump(results, fp)"
   ]
  },
  {
   "cell_type": "code",
   "execution_count": 82,
   "metadata": {
    "id": "hR2Prk4tgAdL"
   },
   "outputs": [],
   "source": [
    "import torch\n",
    "import transformers\n",
    "\n",
    "from torchmetrics.text.bert import BERTScore\n",
    "from torchmetrics.text.rouge import ROUGEScore\n",
    "\n",
    "import json\n",
    "import nltk\n",
    "\n",
    "def eval(preds, results):\n",
    "    print(\"Calculating BLEU...\")\n",
    "    preds_tokens = list(map(lambda x: x.split(' '), preds))\n",
    "    results_tokens = list(map(lambda x: x.split(' '), results))\n",
    "    bleu_score = nltk.translate.bleu_score.corpus_bleu(preds_tokens, results_tokens, weights = [1])\n",
    "    print(\"Calculating BERTScore...\")\n",
    "    bertscore_func = BERTScore()\n",
    "    bert_score = bertscore_func(preds, results)\n",
    "    print(\"Calculating ROUGEScore...\")\n",
    "    rouge_func = ROUGEScore()\n",
    "    rouge_score = rouge_func(preds, results)\n",
    "    \n",
    "    return bleu_score, bert_score, rouge_score\n",
    "\n",
    "def output(bleu_score, bert_score, rouge_score):\n",
    "    print(\"BLEU\")\n",
    "    print(f\" Score: {bleu_score}\")\n",
    "    print(\"BERT score\")\n",
    "    print(f\" Mean precision score: {sum(bert_score['precision']) / len(bert_score['precision'])}\")\n",
    "    print(f\" Mean recall score: {sum(bert_score['recall']) / len(bert_score['recall'])}\")\n",
    "    print(f\" Mean f1 score: {sum(bert_score['f1']) / len(bert_score['f1'])}\")\n",
    "    print(\"ROUGE score\")\n",
    "    for metrics in rouge_score:\n",
    "        print(f\" {metrics}: {rouge_score[metrics]}\")\n",
    "    "
   ]
  },
  {
   "cell_type": "code",
   "execution_count": 83,
   "metadata": {
    "id": "_vMDv6cqgEpv"
   },
   "outputs": [],
   "source": [
    "gt_file = 'captions_coco_val.json'\n",
    "pred_file = 'cleaned_results_gpt_medium_coco.json'"
   ]
  },
  {
   "cell_type": "code",
   "execution_count": 84,
   "metadata": {
    "id": "jvfzuE2BgJDD"
   },
   "outputs": [],
   "source": [
    "with open(pred_file, 'r') as f:\n",
    "    preds = json.load(f)\n",
    "    \n",
    "with open(gt_file, 'r') as f:\n",
    "    results = json.load(f)"
   ]
  },
  {
   "cell_type": "code",
   "execution_count": 85,
   "metadata": {},
   "outputs": [],
   "source": [
    "preds = [preds[i] for i in range(len(preds)) if i not in exceptions]"
   ]
  },
  {
   "cell_type": "code",
   "execution_count": 86,
   "metadata": {},
   "outputs": [
    {
     "name": "stdout",
     "output_type": "stream",
     "text": [
      "Calculating BLEU...\n",
      "Calculating BERTScore...\n"
     ]
    },
    {
     "name": "stderr",
     "output_type": "stream",
     "text": [
      "/home/alexw/.local/lib/python3.8/site-packages/torchmetrics/text/bert.py:179: UserWarning: The argument `model_name_or_path` was not specified while it is required when the default `transformers` model is used. It will use the default recommended model - 'roberta-large'.\n",
      "  warn(\n"
     ]
    },
    {
     "data": {
      "application/vnd.jupyter.widget-view+json": {
       "model_id": "f8a64343687146e6a834944bb46639f9",
       "version_major": 2,
       "version_minor": 0
      },
      "text/plain": [
       "Downloading (…)lve/main/config.json:   0%|          | 0.00/482 [00:00<?, ?B/s]"
      ]
     },
     "metadata": {},
     "output_type": "display_data"
    },
    {
     "data": {
      "application/vnd.jupyter.widget-view+json": {
       "model_id": "d4a3da5fac4c4950b617dd3011cde2ec",
       "version_major": 2,
       "version_minor": 0
      },
      "text/plain": [
       "Downloading (…)olve/main/vocab.json:   0%|          | 0.00/899k [00:00<?, ?B/s]"
      ]
     },
     "metadata": {},
     "output_type": "display_data"
    },
    {
     "data": {
      "application/vnd.jupyter.widget-view+json": {
       "model_id": "ebcb691da5314486807fe973b5882ccb",
       "version_major": 2,
       "version_minor": 0
      },
      "text/plain": [
       "Downloading (…)olve/main/merges.txt:   0%|          | 0.00/456k [00:00<?, ?B/s]"
      ]
     },
     "metadata": {},
     "output_type": "display_data"
    },
    {
     "data": {
      "application/vnd.jupyter.widget-view+json": {
       "model_id": "59363674494a437a9c66bdb2ea8a60db",
       "version_major": 2,
       "version_minor": 0
      },
      "text/plain": [
       "Downloading (…)/main/tokenizer.json:   0%|          | 0.00/1.36M [00:00<?, ?B/s]"
      ]
     },
     "metadata": {},
     "output_type": "display_data"
    },
    {
     "data": {
      "application/vnd.jupyter.widget-view+json": {
       "model_id": "620d898568804903a8fca3c8120e8a1f",
       "version_major": 2,
       "version_minor": 0
      },
      "text/plain": [
       "Downloading (…)\"pytorch_model.bin\";:   0%|          | 0.00/1.43G [00:00<?, ?B/s]"
      ]
     },
     "metadata": {},
     "output_type": "display_data"
    },
    {
     "name": "stderr",
     "output_type": "stream",
     "text": [
      "Some weights of the model checkpoint at roberta-large were not used when initializing RobertaModel: ['lm_head.layer_norm.bias', 'lm_head.bias', 'lm_head.dense.weight', 'lm_head.layer_norm.weight', 'lm_head.dense.bias', 'lm_head.decoder.weight']\n",
      "- This IS expected if you are initializing RobertaModel from the checkpoint of a model trained on another task or with another architecture (e.g. initializing a BertForSequenceClassification model from a BertForPreTraining model).\n",
      "- This IS NOT expected if you are initializing RobertaModel from the checkpoint of a model that you expect to be exactly identical (initializing a BertForSequenceClassification model from a BertForSequenceClassification model).\n"
     ]
    },
    {
     "name": "stdout",
     "output_type": "stream",
     "text": [
      "huggingface/tokenizers: The current process just got forked, after parallelism has already been used. Disabling parallelism to avoid deadlocks...\n",
      "To disable this warning, you can either:\n",
      "\t- Avoid using `tokenizers` before the fork if possible\n",
      "\t- Explicitly set the environment variable TOKENIZERS_PARALLELISM=(true | false)\n",
      "huggingface/tokenizers: The current process just got forked, after parallelism has already been used. Disabling parallelism to avoid deadlocks...\n",
      "To disable this warning, you can either:\n",
      "\t- Avoid using `tokenizers` before the fork if possible\n",
      "\t- Explicitly set the environment variable TOKENIZERS_PARALLELISM=(true | false)\n",
      "huggingface/tokenizers: The current process just got forked, after parallelism has already been used. Disabling parallelism to avoid deadlocks...\n",
      "To disable this warning, you can either:\n",
      "\t- Avoid using `tokenizers` before the fork if possible\n",
      "\t- Explicitly set the environment variable TOKENIZERS_PARALLELISM=(true | false)\n",
      "huggingface/tokenizers: The current process just got forked, after parallelism has already been used. Disabling parallelism to avoid deadlocks...\n",
      "To disable this warning, you can either:\n",
      "\t- Avoid using `tokenizers` before the fork if possible\n",
      "\t- Explicitly set the environment variable TOKENIZERS_PARALLELISM=(true | false)\n",
      "huggingface/tokenizers: The current process just got forked, after parallelism has already been used. Disabling parallelism to avoid deadlocks...\n",
      "To disable this warning, you can either:\n",
      "\t- Avoid using `tokenizers` before the fork if possible\n",
      "\t- Explicitly set the environment variable TOKENIZERS_PARALLELISM=(true | false)\n",
      "huggingface/tokenizers: The current process just got forked, after parallelism has already been used. Disabling parallelism to avoid deadlocks...\n",
      "To disable this warning, you can either:\n",
      "\t- Avoid using `tokenizers` before the fork if possible\n",
      "\t- Explicitly set the environment variable TOKENIZERS_PARALLELISM=(true | false)\n",
      "huggingface/tokenizers: The current process just got forked, after parallelism has already been used. Disabling parallelism to avoid deadlocks...\n",
      "To disable this warning, you can either:\n",
      "\t- Avoid using `tokenizers` before the fork if possible\n",
      "\t- Explicitly set the environment variable TOKENIZERS_PARALLELISM=(true | false)\n",
      "huggingface/tokenizers: The current process just got forked, after parallelism has already been used. Disabling parallelism to avoid deadlocks...\n",
      "To disable this warning, you can either:\n",
      "\t- Avoid using `tokenizers` before the fork if possible\n",
      "\t- Explicitly set the environment variable TOKENIZERS_PARALLELISM=(true | false)\n",
      "huggingface/tokenizers: The current process just got forked, after parallelism has already been used. Disabling parallelism to avoid deadlocks...\n",
      "To disable this warning, you can either:\n",
      "\t- Avoid using `tokenizers` before the fork if possible\n",
      "To disable this warning, you can either:\n",
      "\t- Avoid using `tokenizers` before the fork if possible\n",
      "\t- Explicitly set the environment variable TOKENIZERS_PARALLELISM=(true | false)\n",
      "Calculating ROUGEScore...\n"
     ]
    }
   ],
   "source": [
    "bleu_score, bert_score, rouge_score = eval(preds, results)"
   ]
  },
  {
   "cell_type": "code",
   "execution_count": 87,
   "metadata": {},
   "outputs": [
    {
     "name": "stdout",
     "output_type": "stream",
     "text": [
      "BLEU\n",
      " Score: 0.09628318584070795\n",
      "BERT score\n",
      " Mean precision score: 0.9769925806345086\n",
      " Mean recall score: 0.9755164410551252\n",
      " Mean f1 score: 0.9762526021081955\n",
      "ROUGE score\n",
      " rouge1_fmeasure: 0.0005821646191179752\n",
      " rouge1_precision: 0.0010584810515865684\n",
      " rouge1_recall: 0.0004263326700311154\n",
      " rouge2_fmeasure: 0.0\n",
      " rouge2_precision: 0.0\n",
      " rouge2_recall: 0.0\n",
      " rougeL_fmeasure: 0.0005821646191179752\n",
      " rougeL_precision: 0.0010584810515865684\n",
      " rougeL_recall: 0.0004263326700311154\n",
      " rougeLsum_fmeasure: 0.0005821646191179752\n",
      " rougeLsum_precision: 0.0010584810515865684\n",
      " rougeLsum_recall: 0.0004263326700311154\n"
     ]
    }
   ],
   "source": [
    "output(bleu_score, bert_score, rouge_score)"
   ]
  }
 ],
 "metadata": {
  "accelerator": "GPU",
  "colab": {
   "provenance": []
  },
  "kernelspec": {
   "display_name": "Python 3 (ipykernel)",
   "language": "python",
   "name": "python3"
  },
  "language_info": {
   "codemirror_mode": {
    "name": "ipython",
    "version": 3
   },
   "file_extension": ".py",
   "mimetype": "text/x-python",
   "name": "python",
   "nbconvert_exporter": "python",
   "pygments_lexer": "ipython3",
   "version": "3.8.10"
  }
 },
 "nbformat": 4,
 "nbformat_minor": 4
}
